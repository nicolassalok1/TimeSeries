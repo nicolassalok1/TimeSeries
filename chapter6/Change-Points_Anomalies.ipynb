{
 "cells": [
  {
   "cell_type": "markdown",
   "metadata": {},
   "source": [
    "<a href=\"https://colab.research.google.com/github/PacktPublishing/Machine-Learning-for-Time-Series-with-Python/blob/master/chapter6/Change-Points_Anomalies.ipynb\" target=\"_parent\\\"><img src=\"https://colab.research.google.com/assets/colab-badge.svg\" alt=\"Open In Colab\"/></a>"
   ]
  },
  {
   "cell_type": "markdown",
   "metadata": {},
   "source": [
    "# Anomaly detection"
   ]
  },
  {
   "cell_type": "code",
   "metadata": {
    "ExecuteTime": {
     "end_time": "2025-05-30T11:16:26.376208Z",
     "start_time": "2025-05-30T11:16:26.373583Z"
    }
   },
   "source": "#!pip install alibi_detect",
   "outputs": [],
   "execution_count": 1
  },
  {
   "cell_type": "code",
   "metadata": {
    "ExecuteTime": {
     "end_time": "2025-05-30T11:16:30.382542Z",
     "start_time": "2025-05-30T11:16:26.446408Z"
    }
   },
   "source": [
    "from alibi_detect.datasets import fetch_kdd\n",
    "\n",
    "intrusions = fetch_kdd()"
   ],
   "outputs": [
    {
     "name": "stderr",
     "output_type": "stream",
     "text": [
      "2025-05-30 13:16:26.599612: I tensorflow/core/util/port.cc:153] oneDNN custom operations are on. You may see slightly different numerical results due to floating-point round-off errors from different computation orders. To turn them off, set the environment variable `TF_ENABLE_ONEDNN_OPTS=0`.\n",
      "2025-05-30 13:16:26.606885: E external/local_xla/xla/stream_executor/cuda/cuda_fft.cc:467] Unable to register cuFFT factory: Attempting to register factory for plugin cuFFT when one has already been registered\n",
      "WARNING: All log messages before absl::InitializeLog() is called are written to STDERR\n",
      "E0000 00:00:1748603786.615008  206044 cuda_dnn.cc:8579] Unable to register cuDNN factory: Attempting to register factory for plugin cuDNN when one has already been registered\n",
      "E0000 00:00:1748603786.617330  206044 cuda_blas.cc:1407] Unable to register cuBLAS factory: Attempting to register factory for plugin cuBLAS when one has already been registered\n",
      "W0000 00:00:1748603786.623629  206044 computation_placer.cc:177] computation placer already registered. Please check linkage and avoid linking the same target more than once.\n",
      "W0000 00:00:1748603786.623639  206044 computation_placer.cc:177] computation placer already registered. Please check linkage and avoid linking the same target more than once.\n",
      "W0000 00:00:1748603786.623640  206044 computation_placer.cc:177] computation placer already registered. Please check linkage and avoid linking the same target more than once.\n",
      "W0000 00:00:1748603786.623641  206044 computation_placer.cc:177] computation placer already registered. Please check linkage and avoid linking the same target more than once.\n",
      "2025-05-30 13:16:26.626217: I tensorflow/core/platform/cpu_feature_guard.cc:210] This TensorFlow binary is optimized to use available CPU instructions in performance-critical operations.\n",
      "To enable the following instructions: AVX2 AVX_VNNI FMA, in other operations, rebuild TensorFlow with the appropriate compiler flags.\n"
     ]
    }
   ],
   "execution_count": 2
  },
  {
   "cell_type": "code",
   "metadata": {
    "ExecuteTime": {
     "end_time": "2025-05-30T11:16:30.394206Z",
     "start_time": "2025-05-30T11:16:30.388973Z"
    }
   },
   "source": [
    "intrusions[\"target\"].sum() / len(intrusions[\"target\"])"
   ],
   "outputs": [
    {
     "data": {
      "text/plain": [
       "0.8030893423558918"
      ]
     },
     "execution_count": 3,
     "metadata": {},
     "output_type": "execute_result"
    }
   ],
   "execution_count": 3
  },
  {
   "cell_type": "code",
   "metadata": {
    "ExecuteTime": {
     "end_time": "2025-05-30T11:16:30.457433Z",
     "start_time": "2025-05-30T11:16:30.453045Z"
    }
   },
   "source": [
    "intrusions[\"feature_names\"]"
   ],
   "outputs": [
    {
     "data": {
      "text/plain": [
       "['srv_count',\n",
       " 'serror_rate',\n",
       " 'srv_serror_rate',\n",
       " 'rerror_rate',\n",
       " 'srv_rerror_rate',\n",
       " 'same_srv_rate',\n",
       " 'diff_srv_rate',\n",
       " 'srv_diff_host_rate',\n",
       " 'dst_host_count',\n",
       " 'dst_host_srv_count',\n",
       " 'dst_host_same_srv_rate',\n",
       " 'dst_host_diff_srv_rate',\n",
       " 'dst_host_same_src_port_rate',\n",
       " 'dst_host_srv_diff_host_rate',\n",
       " 'dst_host_serror_rate',\n",
       " 'dst_host_srv_serror_rate',\n",
       " 'dst_host_rerror_rate',\n",
       " 'dst_host_srv_rerror_rate']"
      ]
     },
     "execution_count": 4,
     "metadata": {},
     "output_type": "execute_result"
    }
   ],
   "execution_count": 4
  },
  {
   "cell_type": "code",
   "metadata": {
    "ExecuteTime": {
     "end_time": "2025-05-30T11:36:02.017948Z",
     "start_time": "2025-05-30T11:26:20.641947Z"
    }
   },
   "source": [
    "from pyod.models.knn import KNN\n",
    "\n",
    "X_col = intrusions[\"data\"][:, 0]\n",
    "\n",
    "od = KNN()\n",
    "od.fit(X_col.reshape(-1, 1))\n",
    "\n",
    "scores = od.decision_function(X_col.reshape(-1, 1))  # score d'anomalie\n",
    "labels = od.predict(X_col.reshape(-1, 1))  # 0 = normal, 1 = anomalie\n"
   ],
   "outputs": [],
   "execution_count": 6
  },
  {
   "cell_type": "code",
   "execution_count": null,
   "metadata": {},
   "outputs": [],
   "source": [
    "import pandas as pd\n",
    "\n",
    "pd.Series(intrusions[\"data\"][:, 0]).plot();"
   ]
  },
  {
   "cell_type": "code",
   "execution_count": null,
   "metadata": {},
   "outputs": [],
   "source": [
    "from alibi_detect.od import SpectralResidual\n",
    "\n",
    "od = SpectralResidual(\n",
    "    threshold=1.0, window_amp=20, window_local=20, n_est_points=10, n_grad_points=5\n",
    ")\n",
    "intrusion_outliers = od.predict(intrusions[\"data\"][:,0])"
   ]
  },
  {
   "cell_type": "code",
   "execution_count": null,
   "metadata": {},
   "outputs": [],
   "source": [
    "import matplotlib\n",
    "\n",
    "ax = pd.Series(intrusions[\"data\"][:, 0], name=\"data\").plot(\n",
    "    legend=False, figsize=(12, 6)\n",
    ")\n",
    "ax2 = ax.twinx()\n",
    "ax = pd.Series(scores, name=\"scores\").plot(\n",
    "    ax=ax2, legend=False, color=\"r\", marker=matplotlib.markers.CARETDOWNBASE\n",
    ")\n",
    "ax.figure.legend(bbox_to_anchor=(1, 1), loc=\"upper left\");"
   ]
  },
  {
   "cell_type": "markdown",
   "metadata": {},
   "source": [
    "# Change point detection"
   ]
  },
  {
   "cell_type": "code",
   "execution_count": null,
   "metadata": {},
   "outputs": [],
   "source": [
    "!pip install ruptures"
   ]
  },
  {
   "cell_type": "code",
   "execution_count": null,
   "metadata": {},
   "outputs": [],
   "source": [
    "import matplotlib.pyplot as plt\n",
    "import numpy as np\n",
    "import ruptures as rpt\n",
    "\n",
    "plt.style.use(\"seaborn-whitegrid\")\n",
    "plt.rcParams[\"font.family\"] = \"Times New Roman\"\n",
    "plt.rcParams[\"font.size\"] = \"17\""
   ]
  },
  {
   "cell_type": "code",
   "execution_count": null,
   "metadata": {},
   "outputs": [],
   "source": [
    "signal, bkps = rpt.pw_constant(\n",
    "    n_samples=500, n_features=3, n_bkps=2, noise_std=5.0, delta=(1, 20)\n",
    ")"
   ]
  },
  {
   "cell_type": "code",
   "execution_count": null,
   "metadata": {},
   "outputs": [],
   "source": [
    "rpt.display(signal, bkps)"
   ]
  },
  {
   "cell_type": "code",
   "execution_count": null,
   "metadata": {},
   "outputs": [],
   "source": [
    "signal.shape"
   ]
  },
  {
   "cell_type": "code",
   "execution_count": null,
   "metadata": {},
   "outputs": [],
   "source": [
    "bkps"
   ]
  },
  {
   "cell_type": "code",
   "execution_count": null,
   "metadata": {},
   "outputs": [],
   "source": [
    "# \"l1\", \"rbf\", \"linear\", \"normal\", \"ar\"\n",
    "algo = rpt.Binseg(model=\"l1\").fit(signal)\n",
    "my_bkps = algo.predict(n_bkps=3)\n",
    "\n",
    "# show results\n",
    "rpt.show.display(signal, bkps, my_bkps, figsize=(10, 6))"
   ]
  }
 ],
 "metadata": {
  "kernelspec": {
   "display_name": "Python 3",
   "language": "python",
   "name": "python3"
  },
  "language_info": {
   "codemirror_mode": {
    "name": "ipython",
    "version": 3
   },
   "file_extension": ".py",
   "mimetype": "text/x-python",
   "name": "python",
   "nbconvert_exporter": "python",
   "pygments_lexer": "ipython3",
   "version": "3.8.8"
  }
 },
 "nbformat": 4,
 "nbformat_minor": 4
}

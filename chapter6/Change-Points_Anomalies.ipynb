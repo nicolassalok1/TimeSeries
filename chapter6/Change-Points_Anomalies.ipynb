{
 "cells": [
  {
   "cell_type": "markdown",
   "metadata": {},
   "source": [
    "<a href=\"https://colab.research.google.com/github/PacktPublishing/Machine-Learning-for-Time-Series-with-Python/blob/master/chapter6/Change-Points_Anomalies.ipynb\" target=\"_parent\\\"><img src=\"https://colab.research.google.com/assets/colab-badge.svg\" alt=\"Open In Colab\"/></a>"
   ]
  },
  {
   "cell_type": "markdown",
   "metadata": {},
   "source": [
    "# Anomaly detection"
   ]
  },
  {
   "cell_type": "code",
   "metadata": {
    "ExecuteTime": {
     "end_time": "2025-05-30T08:29:05.993696Z",
     "start_time": "2025-05-30T08:29:05.192020Z"
    }
   },
   "source": [
    "!pip install alibi_detect"
   ],
   "outputs": [
    {
     "name": "stdout",
     "output_type": "stream",
     "text": [
      "/bin/bash: warning: setlocale: LC_ALL: cannot change locale (en_US.UTF-8)\r\n",
      "Requirement already satisfied: alibi_detect in /root/miniconda3/envs/TimeSeries/lib/python3.12/site-packages (0.12.0)\r\n",
      "Requirement already satisfied: matplotlib<4.0.0,>=3.0.0 in /root/miniconda3/envs/TimeSeries/lib/python3.12/site-packages (from alibi_detect) (3.10.1)\r\n",
      "Requirement already satisfied: numpy<2.0.0,>=1.16.2 in /root/miniconda3/envs/TimeSeries/lib/python3.12/site-packages (from alibi_detect) (1.26.0)\r\n",
      "Requirement already satisfied: pandas<3.0.0,>=1.0.0 in /root/.local/lib/python3.12/site-packages (from alibi_detect) (2.2.3)\r\n",
      "Requirement already satisfied: Pillow<11.0.0,>=5.4.1 in /root/miniconda3/envs/TimeSeries/lib/python3.12/site-packages (from alibi_detect) (10.4.0)\r\n",
      "Requirement already satisfied: opencv-python<5.0.0,>=3.2.0 in /root/miniconda3/envs/TimeSeries/lib/python3.12/site-packages (from alibi_detect) (4.11.0.86)\r\n",
      "Requirement already satisfied: scipy<2.0.0,>=1.3.0 in /root/miniconda3/envs/TimeSeries/lib/python3.12/site-packages (from alibi_detect) (1.15.1)\r\n",
      "Requirement already satisfied: scikit-image<0.23,>=0.19 in /root/miniconda3/envs/TimeSeries/lib/python3.12/site-packages (from alibi_detect) (0.22.0)\r\n",
      "Requirement already satisfied: scikit-learn<2.0.0,>=0.20.2 in /root/miniconda3/envs/TimeSeries/lib/python3.12/site-packages (from alibi_detect) (1.3.1)\r\n",
      "Requirement already satisfied: transformers<5.0.0,>=4.0.0 in /root/miniconda3/envs/TimeSeries/lib/python3.12/site-packages (from alibi_detect) (4.51.3)\r\n",
      "Requirement already satisfied: dill<0.4.0,>=0.3.0 in /root/miniconda3/envs/TimeSeries/lib/python3.12/site-packages (from alibi_detect) (0.3.9)\r\n",
      "Requirement already satisfied: tqdm<5.0.0,>=4.28.1 in /root/.local/lib/python3.12/site-packages (from alibi_detect) (4.67.1)\r\n",
      "Requirement already satisfied: requests<3.0.0,>=2.21.0 in /root/.local/lib/python3.12/site-packages (from alibi_detect) (2.32.3)\r\n",
      "Requirement already satisfied: pydantic<3.0.0,>=1.8.0 in /root/miniconda3/envs/TimeSeries/lib/python3.12/site-packages (from alibi_detect) (2.11.4)\r\n",
      "Requirement already satisfied: toml<1.0.0,>=0.10.1 in /root/miniconda3/envs/TimeSeries/lib/python3.12/site-packages (from alibi_detect) (0.10.2)\r\n",
      "Requirement already satisfied: catalogue<3.0.0,>=2.0.0 in /root/miniconda3/envs/TimeSeries/lib/python3.12/site-packages (from alibi_detect) (2.0.10)\r\n",
      "Requirement already satisfied: numba!=0.54.0,<0.60.0,>=0.50.0 in /root/miniconda3/envs/TimeSeries/lib/python3.12/site-packages (from alibi_detect) (0.59.1)\r\n",
      "Requirement already satisfied: typing-extensions>=3.7.4.3 in /root/.local/lib/python3.12/site-packages (from alibi_detect) (4.13.2)\r\n",
      "Requirement already satisfied: contourpy>=1.0.1 in /root/miniconda3/envs/TimeSeries/lib/python3.12/site-packages (from matplotlib<4.0.0,>=3.0.0->alibi_detect) (1.3.1)\r\n",
      "Requirement already satisfied: cycler>=0.10 in /root/miniconda3/envs/TimeSeries/lib/python3.12/site-packages (from matplotlib<4.0.0,>=3.0.0->alibi_detect) (0.11.0)\r\n",
      "Requirement already satisfied: fonttools>=4.22.0 in /root/miniconda3/envs/TimeSeries/lib/python3.12/site-packages (from matplotlib<4.0.0,>=3.0.0->alibi_detect) (4.55.3)\r\n",
      "Requirement already satisfied: kiwisolver>=1.3.1 in /root/miniconda3/envs/TimeSeries/lib/python3.12/site-packages (from matplotlib<4.0.0,>=3.0.0->alibi_detect) (1.4.8)\r\n",
      "Requirement already satisfied: packaging>=20.0 in /root/.local/lib/python3.12/site-packages (from matplotlib<4.0.0,>=3.0.0->alibi_detect) (25.0)\r\n",
      "Requirement already satisfied: pyparsing>=2.3.1 in /root/miniconda3/envs/TimeSeries/lib/python3.12/site-packages (from matplotlib<4.0.0,>=3.0.0->alibi_detect) (3.2.0)\r\n",
      "Requirement already satisfied: python-dateutil>=2.7 in /root/miniconda3/envs/TimeSeries/lib/python3.12/site-packages (from matplotlib<4.0.0,>=3.0.0->alibi_detect) (2.9.0.post0)\r\n",
      "Requirement already satisfied: llvmlite<0.43,>=0.42.0dev0 in /root/miniconda3/envs/TimeSeries/lib/python3.12/site-packages (from numba!=0.54.0,<0.60.0,>=0.50.0->alibi_detect) (0.42.0)\r\n",
      "Requirement already satisfied: pytz>=2020.1 in /root/.local/lib/python3.12/site-packages (from pandas<3.0.0,>=1.0.0->alibi_detect) (2025.2)\r\n",
      "Requirement already satisfied: tzdata>=2022.7 in /root/.local/lib/python3.12/site-packages (from pandas<3.0.0,>=1.0.0->alibi_detect) (2025.2)\r\n",
      "Requirement already satisfied: annotated-types>=0.6.0 in /root/miniconda3/envs/TimeSeries/lib/python3.12/site-packages (from pydantic<3.0.0,>=1.8.0->alibi_detect) (0.7.0)\r\n",
      "Requirement already satisfied: pydantic-core==2.33.2 in /root/miniconda3/envs/TimeSeries/lib/python3.12/site-packages (from pydantic<3.0.0,>=1.8.0->alibi_detect) (2.33.2)\r\n",
      "Requirement already satisfied: typing-inspection>=0.4.0 in /root/miniconda3/envs/TimeSeries/lib/python3.12/site-packages (from pydantic<3.0.0,>=1.8.0->alibi_detect) (0.4.0)\r\n",
      "Requirement already satisfied: charset-normalizer<4,>=2 in /root/.local/lib/python3.12/site-packages (from requests<3.0.0,>=2.21.0->alibi_detect) (3.4.2)\r\n",
      "Requirement already satisfied: idna<4,>=2.5 in /root/.local/lib/python3.12/site-packages (from requests<3.0.0,>=2.21.0->alibi_detect) (3.10)\r\n",
      "Requirement already satisfied: urllib3<3,>=1.21.1 in /root/.local/lib/python3.12/site-packages (from requests<3.0.0,>=2.21.0->alibi_detect) (2.4.0)\r\n",
      "Requirement already satisfied: certifi>=2017.4.17 in /root/.local/lib/python3.12/site-packages (from requests<3.0.0,>=2.21.0->alibi_detect) (2025.4.26)\r\n",
      "Requirement already satisfied: networkx>=2.8 in /root/miniconda3/envs/TimeSeries/lib/python3.12/site-packages (from scikit-image<0.23,>=0.19->alibi_detect) (3.4.2)\r\n",
      "Requirement already satisfied: imageio>=2.27 in /root/miniconda3/envs/TimeSeries/lib/python3.12/site-packages (from scikit-image<0.23,>=0.19->alibi_detect) (2.37.0)\r\n",
      "Requirement already satisfied: tifffile>=2022.8.12 in /root/miniconda3/envs/TimeSeries/lib/python3.12/site-packages (from scikit-image<0.23,>=0.19->alibi_detect) (2025.3.30)\r\n",
      "Requirement already satisfied: lazy_loader>=0.3 in /root/miniconda3/envs/TimeSeries/lib/python3.12/site-packages (from scikit-image<0.23,>=0.19->alibi_detect) (0.4)\r\n",
      "Requirement already satisfied: joblib>=1.1.1 in /root/miniconda3/envs/TimeSeries/lib/python3.12/site-packages (from scikit-learn<2.0.0,>=0.20.2->alibi_detect) (1.4.2)\r\n",
      "Requirement already satisfied: threadpoolctl>=2.0.0 in /root/miniconda3/envs/TimeSeries/lib/python3.12/site-packages (from scikit-learn<2.0.0,>=0.20.2->alibi_detect) (3.5.0)\r\n",
      "Requirement already satisfied: filelock in /root/miniconda3/envs/TimeSeries/lib/python3.12/site-packages (from transformers<5.0.0,>=4.0.0->alibi_detect) (3.18.0)\r\n",
      "Requirement already satisfied: huggingface-hub<1.0,>=0.30.0 in /root/miniconda3/envs/TimeSeries/lib/python3.12/site-packages (from transformers<5.0.0,>=4.0.0->alibi_detect) (0.31.1)\r\n",
      "Requirement already satisfied: pyyaml>=5.1 in /root/miniconda3/envs/TimeSeries/lib/python3.12/site-packages (from transformers<5.0.0,>=4.0.0->alibi_detect) (6.0.2)\r\n",
      "Requirement already satisfied: regex!=2019.12.17 in /root/miniconda3/envs/TimeSeries/lib/python3.12/site-packages (from transformers<5.0.0,>=4.0.0->alibi_detect) (2024.11.6)\r\n",
      "Requirement already satisfied: tokenizers<0.22,>=0.21 in /root/miniconda3/envs/TimeSeries/lib/python3.12/site-packages (from transformers<5.0.0,>=4.0.0->alibi_detect) (0.21.1)\r\n",
      "Requirement already satisfied: safetensors>=0.4.3 in /root/miniconda3/envs/TimeSeries/lib/python3.12/site-packages (from transformers<5.0.0,>=4.0.0->alibi_detect) (0.5.3)\r\n",
      "Requirement already satisfied: fsspec>=2023.5.0 in /root/miniconda3/envs/TimeSeries/lib/python3.12/site-packages (from huggingface-hub<1.0,>=0.30.0->transformers<5.0.0,>=4.0.0->alibi_detect) (2025.3.2)\r\n",
      "Requirement already satisfied: hf-xet<2.0.0,>=1.1.0 in /root/miniconda3/envs/TimeSeries/lib/python3.12/site-packages (from huggingface-hub<1.0,>=0.30.0->transformers<5.0.0,>=4.0.0->alibi_detect) (1.1.0)\r\n",
      "Requirement already satisfied: six>=1.5 in /root/.local/lib/python3.12/site-packages (from python-dateutil>=2.7->matplotlib<4.0.0,>=3.0.0->alibi_detect) (1.17.0)\r\n",
      "\u001B[33mWARNING: Running pip as the 'root' user can result in broken permissions and conflicting behaviour with the system package manager, possibly rendering your system unusable. It is recommended to use a virtual environment instead: https://pip.pypa.io/warnings/venv. Use the --root-user-action option if you know what you are doing and want to suppress this warning.\u001B[0m\u001B[33m\r\n",
      "\u001B[0m"
     ]
    }
   ],
   "execution_count": 1
  },
  {
   "cell_type": "code",
   "metadata": {
    "ExecuteTime": {
     "end_time": "2025-05-30T08:29:14.135179Z",
     "start_time": "2025-05-30T08:29:05.998344Z"
    }
   },
   "source": [
    "from alibi_detect.datasets import fetch_kdd\n",
    "\n",
    "intrusions = fetch_kdd()"
   ],
   "outputs": [
    {
     "name": "stderr",
     "output_type": "stream",
     "text": [
      "2025-05-30 10:29:06.585789: I tensorflow/core/util/port.cc:153] oneDNN custom operations are on. You may see slightly different numerical results due to floating-point round-off errors from different computation orders. To turn them off, set the environment variable `TF_ENABLE_ONEDNN_OPTS=0`.\n",
      "2025-05-30 10:29:06.863878: E external/local_xla/xla/stream_executor/cuda/cuda_fft.cc:467] Unable to register cuFFT factory: Attempting to register factory for plugin cuFFT when one has already been registered\n",
      "WARNING: All log messages before absl::InitializeLog() is called are written to STDERR\n",
      "E0000 00:00:1748593746.967084   28469 cuda_dnn.cc:8579] Unable to register cuDNN factory: Attempting to register factory for plugin cuDNN when one has already been registered\n",
      "E0000 00:00:1748593746.991892   28469 cuda_blas.cc:1407] Unable to register cuBLAS factory: Attempting to register factory for plugin cuBLAS when one has already been registered\n",
      "W0000 00:00:1748593747.189667   28469 computation_placer.cc:177] computation placer already registered. Please check linkage and avoid linking the same target more than once.\n",
      "W0000 00:00:1748593747.189733   28469 computation_placer.cc:177] computation placer already registered. Please check linkage and avoid linking the same target more than once.\n",
      "W0000 00:00:1748593747.189736   28469 computation_placer.cc:177] computation placer already registered. Please check linkage and avoid linking the same target more than once.\n",
      "W0000 00:00:1748593747.189738   28469 computation_placer.cc:177] computation placer already registered. Please check linkage and avoid linking the same target more than once.\n",
      "2025-05-30 10:29:07.212329: I tensorflow/core/platform/cpu_feature_guard.cc:210] This TensorFlow binary is optimized to use available CPU instructions in performance-critical operations.\n",
      "To enable the following instructions: AVX2 AVX_VNNI FMA, in other operations, rebuild TensorFlow with the appropriate compiler flags.\n",
      "/root/miniconda3/envs/TimeSeries/lib/python3.12/site-packages/alibi_detect/datasets.py:98: FutureWarning: ChainedAssignmentError: behaviour will change in pandas 3.0!\n",
      "You are setting values through chained assignment. Currently this works in certain cases, but when using Copy-on-Write (which will become the default behaviour in pandas 3.0) this will never work to update the original DataFrame or Series, because the intermediate object on which we are setting values will behave as a copy.\n",
      "A typical example is when you are setting values in a column of a DataFrame, like:\n",
      "\n",
      "df[\"col\"][row_indexer] = value\n",
      "\n",
      "Use `df.loc[row_indexer, \"col\"] = values` instead, to perform the assignment in a single step and ensure this keeps updating the original `df`.\n",
      "\n",
      "See the caveats in the documentation: https://pandas.pydata.org/pandas-docs/stable/user_guide/indexing.html#returning-a-view-versus-a-copy\n",
      "\n",
      "  data['attack_category'][data['attack_type'] == k] = v\n",
      "/root/miniconda3/envs/TimeSeries/lib/python3.12/site-packages/alibi_detect/datasets.py:98: FutureWarning: ChainedAssignmentError: behaviour will change in pandas 3.0!\n",
      "You are setting values through chained assignment. Currently this works in certain cases, but when using Copy-on-Write (which will become the default behaviour in pandas 3.0) this will never work to update the original DataFrame or Series, because the intermediate object on which we are setting values will behave as a copy.\n",
      "A typical example is when you are setting values in a column of a DataFrame, like:\n",
      "\n",
      "df[\"col\"][row_indexer] = value\n",
      "\n",
      "Use `df.loc[row_indexer, \"col\"] = values` instead, to perform the assignment in a single step and ensure this keeps updating the original `df`.\n",
      "\n",
      "See the caveats in the documentation: https://pandas.pydata.org/pandas-docs/stable/user_guide/indexing.html#returning-a-view-versus-a-copy\n",
      "\n",
      "  data['attack_category'][data['attack_type'] == k] = v\n",
      "/root/miniconda3/envs/TimeSeries/lib/python3.12/site-packages/alibi_detect/datasets.py:98: FutureWarning: ChainedAssignmentError: behaviour will change in pandas 3.0!\n",
      "You are setting values through chained assignment. Currently this works in certain cases, but when using Copy-on-Write (which will become the default behaviour in pandas 3.0) this will never work to update the original DataFrame or Series, because the intermediate object on which we are setting values will behave as a copy.\n",
      "A typical example is when you are setting values in a column of a DataFrame, like:\n",
      "\n",
      "df[\"col\"][row_indexer] = value\n",
      "\n",
      "Use `df.loc[row_indexer, \"col\"] = values` instead, to perform the assignment in a single step and ensure this keeps updating the original `df`.\n",
      "\n",
      "See the caveats in the documentation: https://pandas.pydata.org/pandas-docs/stable/user_guide/indexing.html#returning-a-view-versus-a-copy\n",
      "\n",
      "  data['attack_category'][data['attack_type'] == k] = v\n",
      "/root/miniconda3/envs/TimeSeries/lib/python3.12/site-packages/alibi_detect/datasets.py:98: FutureWarning: ChainedAssignmentError: behaviour will change in pandas 3.0!\n",
      "You are setting values through chained assignment. Currently this works in certain cases, but when using Copy-on-Write (which will become the default behaviour in pandas 3.0) this will never work to update the original DataFrame or Series, because the intermediate object on which we are setting values will behave as a copy.\n",
      "A typical example is when you are setting values in a column of a DataFrame, like:\n",
      "\n",
      "df[\"col\"][row_indexer] = value\n",
      "\n",
      "Use `df.loc[row_indexer, \"col\"] = values` instead, to perform the assignment in a single step and ensure this keeps updating the original `df`.\n",
      "\n",
      "See the caveats in the documentation: https://pandas.pydata.org/pandas-docs/stable/user_guide/indexing.html#returning-a-view-versus-a-copy\n",
      "\n",
      "  data['attack_category'][data['attack_type'] == k] = v\n",
      "/root/miniconda3/envs/TimeSeries/lib/python3.12/site-packages/alibi_detect/datasets.py:98: FutureWarning: ChainedAssignmentError: behaviour will change in pandas 3.0!\n",
      "You are setting values through chained assignment. Currently this works in certain cases, but when using Copy-on-Write (which will become the default behaviour in pandas 3.0) this will never work to update the original DataFrame or Series, because the intermediate object on which we are setting values will behave as a copy.\n",
      "A typical example is when you are setting values in a column of a DataFrame, like:\n",
      "\n",
      "df[\"col\"][row_indexer] = value\n",
      "\n",
      "Use `df.loc[row_indexer, \"col\"] = values` instead, to perform the assignment in a single step and ensure this keeps updating the original `df`.\n",
      "\n",
      "See the caveats in the documentation: https://pandas.pydata.org/pandas-docs/stable/user_guide/indexing.html#returning-a-view-versus-a-copy\n",
      "\n",
      "  data['attack_category'][data['attack_type'] == k] = v\n",
      "/root/miniconda3/envs/TimeSeries/lib/python3.12/site-packages/alibi_detect/datasets.py:98: FutureWarning: ChainedAssignmentError: behaviour will change in pandas 3.0!\n",
      "You are setting values through chained assignment. Currently this works in certain cases, but when using Copy-on-Write (which will become the default behaviour in pandas 3.0) this will never work to update the original DataFrame or Series, because the intermediate object on which we are setting values will behave as a copy.\n",
      "A typical example is when you are setting values in a column of a DataFrame, like:\n",
      "\n",
      "df[\"col\"][row_indexer] = value\n",
      "\n",
      "Use `df.loc[row_indexer, \"col\"] = values` instead, to perform the assignment in a single step and ensure this keeps updating the original `df`.\n",
      "\n",
      "See the caveats in the documentation: https://pandas.pydata.org/pandas-docs/stable/user_guide/indexing.html#returning-a-view-versus-a-copy\n",
      "\n",
      "  data['attack_category'][data['attack_type'] == k] = v\n",
      "/root/miniconda3/envs/TimeSeries/lib/python3.12/site-packages/alibi_detect/datasets.py:98: FutureWarning: ChainedAssignmentError: behaviour will change in pandas 3.0!\n",
      "You are setting values through chained assignment. Currently this works in certain cases, but when using Copy-on-Write (which will become the default behaviour in pandas 3.0) this will never work to update the original DataFrame or Series, because the intermediate object on which we are setting values will behave as a copy.\n",
      "A typical example is when you are setting values in a column of a DataFrame, like:\n",
      "\n",
      "df[\"col\"][row_indexer] = value\n",
      "\n",
      "Use `df.loc[row_indexer, \"col\"] = values` instead, to perform the assignment in a single step and ensure this keeps updating the original `df`.\n",
      "\n",
      "See the caveats in the documentation: https://pandas.pydata.org/pandas-docs/stable/user_guide/indexing.html#returning-a-view-versus-a-copy\n",
      "\n",
      "  data['attack_category'][data['attack_type'] == k] = v\n",
      "/root/miniconda3/envs/TimeSeries/lib/python3.12/site-packages/alibi_detect/datasets.py:98: FutureWarning: ChainedAssignmentError: behaviour will change in pandas 3.0!\n",
      "You are setting values through chained assignment. Currently this works in certain cases, but when using Copy-on-Write (which will become the default behaviour in pandas 3.0) this will never work to update the original DataFrame or Series, because the intermediate object on which we are setting values will behave as a copy.\n",
      "A typical example is when you are setting values in a column of a DataFrame, like:\n",
      "\n",
      "df[\"col\"][row_indexer] = value\n",
      "\n",
      "Use `df.loc[row_indexer, \"col\"] = values` instead, to perform the assignment in a single step and ensure this keeps updating the original `df`.\n",
      "\n",
      "See the caveats in the documentation: https://pandas.pydata.org/pandas-docs/stable/user_guide/indexing.html#returning-a-view-versus-a-copy\n",
      "\n",
      "  data['attack_category'][data['attack_type'] == k] = v\n",
      "/root/miniconda3/envs/TimeSeries/lib/python3.12/site-packages/alibi_detect/datasets.py:98: FutureWarning: ChainedAssignmentError: behaviour will change in pandas 3.0!\n",
      "You are setting values through chained assignment. Currently this works in certain cases, but when using Copy-on-Write (which will become the default behaviour in pandas 3.0) this will never work to update the original DataFrame or Series, because the intermediate object on which we are setting values will behave as a copy.\n",
      "A typical example is when you are setting values in a column of a DataFrame, like:\n",
      "\n",
      "df[\"col\"][row_indexer] = value\n",
      "\n",
      "Use `df.loc[row_indexer, \"col\"] = values` instead, to perform the assignment in a single step and ensure this keeps updating the original `df`.\n",
      "\n",
      "See the caveats in the documentation: https://pandas.pydata.org/pandas-docs/stable/user_guide/indexing.html#returning-a-view-versus-a-copy\n",
      "\n",
      "  data['attack_category'][data['attack_type'] == k] = v\n",
      "/root/miniconda3/envs/TimeSeries/lib/python3.12/site-packages/alibi_detect/datasets.py:98: FutureWarning: ChainedAssignmentError: behaviour will change in pandas 3.0!\n",
      "You are setting values through chained assignment. Currently this works in certain cases, but when using Copy-on-Write (which will become the default behaviour in pandas 3.0) this will never work to update the original DataFrame or Series, because the intermediate object on which we are setting values will behave as a copy.\n",
      "A typical example is when you are setting values in a column of a DataFrame, like:\n",
      "\n",
      "df[\"col\"][row_indexer] = value\n",
      "\n",
      "Use `df.loc[row_indexer, \"col\"] = values` instead, to perform the assignment in a single step and ensure this keeps updating the original `df`.\n",
      "\n",
      "See the caveats in the documentation: https://pandas.pydata.org/pandas-docs/stable/user_guide/indexing.html#returning-a-view-versus-a-copy\n",
      "\n",
      "  data['attack_category'][data['attack_type'] == k] = v\n",
      "/root/miniconda3/envs/TimeSeries/lib/python3.12/site-packages/alibi_detect/datasets.py:98: FutureWarning: ChainedAssignmentError: behaviour will change in pandas 3.0!\n",
      "You are setting values through chained assignment. Currently this works in certain cases, but when using Copy-on-Write (which will become the default behaviour in pandas 3.0) this will never work to update the original DataFrame or Series, because the intermediate object on which we are setting values will behave as a copy.\n",
      "A typical example is when you are setting values in a column of a DataFrame, like:\n",
      "\n",
      "df[\"col\"][row_indexer] = value\n",
      "\n",
      "Use `df.loc[row_indexer, \"col\"] = values` instead, to perform the assignment in a single step and ensure this keeps updating the original `df`.\n",
      "\n",
      "See the caveats in the documentation: https://pandas.pydata.org/pandas-docs/stable/user_guide/indexing.html#returning-a-view-versus-a-copy\n",
      "\n",
      "  data['attack_category'][data['attack_type'] == k] = v\n",
      "/root/miniconda3/envs/TimeSeries/lib/python3.12/site-packages/alibi_detect/datasets.py:98: FutureWarning: ChainedAssignmentError: behaviour will change in pandas 3.0!\n",
      "You are setting values through chained assignment. Currently this works in certain cases, but when using Copy-on-Write (which will become the default behaviour in pandas 3.0) this will never work to update the original DataFrame or Series, because the intermediate object on which we are setting values will behave as a copy.\n",
      "A typical example is when you are setting values in a column of a DataFrame, like:\n",
      "\n",
      "df[\"col\"][row_indexer] = value\n",
      "\n",
      "Use `df.loc[row_indexer, \"col\"] = values` instead, to perform the assignment in a single step and ensure this keeps updating the original `df`.\n",
      "\n",
      "See the caveats in the documentation: https://pandas.pydata.org/pandas-docs/stable/user_guide/indexing.html#returning-a-view-versus-a-copy\n",
      "\n",
      "  data['attack_category'][data['attack_type'] == k] = v\n",
      "/root/miniconda3/envs/TimeSeries/lib/python3.12/site-packages/alibi_detect/datasets.py:98: FutureWarning: ChainedAssignmentError: behaviour will change in pandas 3.0!\n",
      "You are setting values through chained assignment. Currently this works in certain cases, but when using Copy-on-Write (which will become the default behaviour in pandas 3.0) this will never work to update the original DataFrame or Series, because the intermediate object on which we are setting values will behave as a copy.\n",
      "A typical example is when you are setting values in a column of a DataFrame, like:\n",
      "\n",
      "df[\"col\"][row_indexer] = value\n",
      "\n",
      "Use `df.loc[row_indexer, \"col\"] = values` instead, to perform the assignment in a single step and ensure this keeps updating the original `df`.\n",
      "\n",
      "See the caveats in the documentation: https://pandas.pydata.org/pandas-docs/stable/user_guide/indexing.html#returning-a-view-versus-a-copy\n",
      "\n",
      "  data['attack_category'][data['attack_type'] == k] = v\n",
      "/root/miniconda3/envs/TimeSeries/lib/python3.12/site-packages/alibi_detect/datasets.py:98: FutureWarning: ChainedAssignmentError: behaviour will change in pandas 3.0!\n",
      "You are setting values through chained assignment. Currently this works in certain cases, but when using Copy-on-Write (which will become the default behaviour in pandas 3.0) this will never work to update the original DataFrame or Series, because the intermediate object on which we are setting values will behave as a copy.\n",
      "A typical example is when you are setting values in a column of a DataFrame, like:\n",
      "\n",
      "df[\"col\"][row_indexer] = value\n",
      "\n",
      "Use `df.loc[row_indexer, \"col\"] = values` instead, to perform the assignment in a single step and ensure this keeps updating the original `df`.\n",
      "\n",
      "See the caveats in the documentation: https://pandas.pydata.org/pandas-docs/stable/user_guide/indexing.html#returning-a-view-versus-a-copy\n",
      "\n",
      "  data['attack_category'][data['attack_type'] == k] = v\n",
      "/root/miniconda3/envs/TimeSeries/lib/python3.12/site-packages/alibi_detect/datasets.py:98: FutureWarning: ChainedAssignmentError: behaviour will change in pandas 3.0!\n",
      "You are setting values through chained assignment. Currently this works in certain cases, but when using Copy-on-Write (which will become the default behaviour in pandas 3.0) this will never work to update the original DataFrame or Series, because the intermediate object on which we are setting values will behave as a copy.\n",
      "A typical example is when you are setting values in a column of a DataFrame, like:\n",
      "\n",
      "df[\"col\"][row_indexer] = value\n",
      "\n",
      "Use `df.loc[row_indexer, \"col\"] = values` instead, to perform the assignment in a single step and ensure this keeps updating the original `df`.\n",
      "\n",
      "See the caveats in the documentation: https://pandas.pydata.org/pandas-docs/stable/user_guide/indexing.html#returning-a-view-versus-a-copy\n",
      "\n",
      "  data['attack_category'][data['attack_type'] == k] = v\n",
      "/root/miniconda3/envs/TimeSeries/lib/python3.12/site-packages/alibi_detect/datasets.py:98: FutureWarning: ChainedAssignmentError: behaviour will change in pandas 3.0!\n",
      "You are setting values through chained assignment. Currently this works in certain cases, but when using Copy-on-Write (which will become the default behaviour in pandas 3.0) this will never work to update the original DataFrame or Series, because the intermediate object on which we are setting values will behave as a copy.\n",
      "A typical example is when you are setting values in a column of a DataFrame, like:\n",
      "\n",
      "df[\"col\"][row_indexer] = value\n",
      "\n",
      "Use `df.loc[row_indexer, \"col\"] = values` instead, to perform the assignment in a single step and ensure this keeps updating the original `df`.\n",
      "\n",
      "See the caveats in the documentation: https://pandas.pydata.org/pandas-docs/stable/user_guide/indexing.html#returning-a-view-versus-a-copy\n",
      "\n",
      "  data['attack_category'][data['attack_type'] == k] = v\n",
      "/root/miniconda3/envs/TimeSeries/lib/python3.12/site-packages/alibi_detect/datasets.py:98: FutureWarning: ChainedAssignmentError: behaviour will change in pandas 3.0!\n",
      "You are setting values through chained assignment. Currently this works in certain cases, but when using Copy-on-Write (which will become the default behaviour in pandas 3.0) this will never work to update the original DataFrame or Series, because the intermediate object on which we are setting values will behave as a copy.\n",
      "A typical example is when you are setting values in a column of a DataFrame, like:\n",
      "\n",
      "df[\"col\"][row_indexer] = value\n",
      "\n",
      "Use `df.loc[row_indexer, \"col\"] = values` instead, to perform the assignment in a single step and ensure this keeps updating the original `df`.\n",
      "\n",
      "See the caveats in the documentation: https://pandas.pydata.org/pandas-docs/stable/user_guide/indexing.html#returning-a-view-versus-a-copy\n",
      "\n",
      "  data['attack_category'][data['attack_type'] == k] = v\n",
      "/root/miniconda3/envs/TimeSeries/lib/python3.12/site-packages/alibi_detect/datasets.py:98: FutureWarning: ChainedAssignmentError: behaviour will change in pandas 3.0!\n",
      "You are setting values through chained assignment. Currently this works in certain cases, but when using Copy-on-Write (which will become the default behaviour in pandas 3.0) this will never work to update the original DataFrame or Series, because the intermediate object on which we are setting values will behave as a copy.\n",
      "A typical example is when you are setting values in a column of a DataFrame, like:\n",
      "\n",
      "df[\"col\"][row_indexer] = value\n",
      "\n",
      "Use `df.loc[row_indexer, \"col\"] = values` instead, to perform the assignment in a single step and ensure this keeps updating the original `df`.\n",
      "\n",
      "See the caveats in the documentation: https://pandas.pydata.org/pandas-docs/stable/user_guide/indexing.html#returning-a-view-versus-a-copy\n",
      "\n",
      "  data['attack_category'][data['attack_type'] == k] = v\n",
      "/root/miniconda3/envs/TimeSeries/lib/python3.12/site-packages/alibi_detect/datasets.py:98: FutureWarning: ChainedAssignmentError: behaviour will change in pandas 3.0!\n",
      "You are setting values through chained assignment. Currently this works in certain cases, but when using Copy-on-Write (which will become the default behaviour in pandas 3.0) this will never work to update the original DataFrame or Series, because the intermediate object on which we are setting values will behave as a copy.\n",
      "A typical example is when you are setting values in a column of a DataFrame, like:\n",
      "\n",
      "df[\"col\"][row_indexer] = value\n",
      "\n",
      "Use `df.loc[row_indexer, \"col\"] = values` instead, to perform the assignment in a single step and ensure this keeps updating the original `df`.\n",
      "\n",
      "See the caveats in the documentation: https://pandas.pydata.org/pandas-docs/stable/user_guide/indexing.html#returning-a-view-versus-a-copy\n",
      "\n",
      "  data['attack_category'][data['attack_type'] == k] = v\n",
      "/root/miniconda3/envs/TimeSeries/lib/python3.12/site-packages/alibi_detect/datasets.py:98: FutureWarning: ChainedAssignmentError: behaviour will change in pandas 3.0!\n",
      "You are setting values through chained assignment. Currently this works in certain cases, but when using Copy-on-Write (which will become the default behaviour in pandas 3.0) this will never work to update the original DataFrame or Series, because the intermediate object on which we are setting values will behave as a copy.\n",
      "A typical example is when you are setting values in a column of a DataFrame, like:\n",
      "\n",
      "df[\"col\"][row_indexer] = value\n",
      "\n",
      "Use `df.loc[row_indexer, \"col\"] = values` instead, to perform the assignment in a single step and ensure this keeps updating the original `df`.\n",
      "\n",
      "See the caveats in the documentation: https://pandas.pydata.org/pandas-docs/stable/user_guide/indexing.html#returning-a-view-versus-a-copy\n",
      "\n",
      "  data['attack_category'][data['attack_type'] == k] = v\n",
      "/root/miniconda3/envs/TimeSeries/lib/python3.12/site-packages/alibi_detect/datasets.py:98: FutureWarning: ChainedAssignmentError: behaviour will change in pandas 3.0!\n",
      "You are setting values through chained assignment. Currently this works in certain cases, but when using Copy-on-Write (which will become the default behaviour in pandas 3.0) this will never work to update the original DataFrame or Series, because the intermediate object on which we are setting values will behave as a copy.\n",
      "A typical example is when you are setting values in a column of a DataFrame, like:\n",
      "\n",
      "df[\"col\"][row_indexer] = value\n",
      "\n",
      "Use `df.loc[row_indexer, \"col\"] = values` instead, to perform the assignment in a single step and ensure this keeps updating the original `df`.\n",
      "\n",
      "See the caveats in the documentation: https://pandas.pydata.org/pandas-docs/stable/user_guide/indexing.html#returning-a-view-versus-a-copy\n",
      "\n",
      "  data['attack_category'][data['attack_type'] == k] = v\n",
      "/root/miniconda3/envs/TimeSeries/lib/python3.12/site-packages/alibi_detect/datasets.py:98: FutureWarning: ChainedAssignmentError: behaviour will change in pandas 3.0!\n",
      "You are setting values through chained assignment. Currently this works in certain cases, but when using Copy-on-Write (which will become the default behaviour in pandas 3.0) this will never work to update the original DataFrame or Series, because the intermediate object on which we are setting values will behave as a copy.\n",
      "A typical example is when you are setting values in a column of a DataFrame, like:\n",
      "\n",
      "df[\"col\"][row_indexer] = value\n",
      "\n",
      "Use `df.loc[row_indexer, \"col\"] = values` instead, to perform the assignment in a single step and ensure this keeps updating the original `df`.\n",
      "\n",
      "See the caveats in the documentation: https://pandas.pydata.org/pandas-docs/stable/user_guide/indexing.html#returning-a-view-versus-a-copy\n",
      "\n",
      "  data['attack_category'][data['attack_type'] == k] = v\n",
      "/root/miniconda3/envs/TimeSeries/lib/python3.12/site-packages/alibi_detect/datasets.py:98: FutureWarning: ChainedAssignmentError: behaviour will change in pandas 3.0!\n",
      "You are setting values through chained assignment. Currently this works in certain cases, but when using Copy-on-Write (which will become the default behaviour in pandas 3.0) this will never work to update the original DataFrame or Series, because the intermediate object on which we are setting values will behave as a copy.\n",
      "A typical example is when you are setting values in a column of a DataFrame, like:\n",
      "\n",
      "df[\"col\"][row_indexer] = value\n",
      "\n",
      "Use `df.loc[row_indexer, \"col\"] = values` instead, to perform the assignment in a single step and ensure this keeps updating the original `df`.\n",
      "\n",
      "See the caveats in the documentation: https://pandas.pydata.org/pandas-docs/stable/user_guide/indexing.html#returning-a-view-versus-a-copy\n",
      "\n",
      "  data['attack_category'][data['attack_type'] == k] = v\n",
      "/root/miniconda3/envs/TimeSeries/lib/python3.12/site-packages/alibi_detect/datasets.py:103: FutureWarning: ChainedAssignmentError: behaviour will change in pandas 3.0!\n",
      "You are setting values through chained assignment. Currently this works in certain cases, but when using Copy-on-Write (which will become the default behaviour in pandas 3.0) this will never work to update the original DataFrame or Series, because the intermediate object on which we are setting values will behave as a copy.\n",
      "A typical example is when you are setting values in a column of a DataFrame, like:\n",
      "\n",
      "df[\"col\"][row_indexer] = value\n",
      "\n",
      "Use `df.loc[row_indexer, \"col\"] = values` instead, to perform the assignment in a single step and ensure this keeps updating the original `df`.\n",
      "\n",
      "See the caveats in the documentation: https://pandas.pydata.org/pandas-docs/stable/user_guide/indexing.html#returning-a-view-versus-a-copy\n",
      "\n",
      "  data['target'][data['attack_category'] == t] = 1\n",
      "/root/miniconda3/envs/TimeSeries/lib/python3.12/site-packages/alibi_detect/datasets.py:103: FutureWarning: ChainedAssignmentError: behaviour will change in pandas 3.0!\n",
      "You are setting values through chained assignment. Currently this works in certain cases, but when using Copy-on-Write (which will become the default behaviour in pandas 3.0) this will never work to update the original DataFrame or Series, because the intermediate object on which we are setting values will behave as a copy.\n",
      "A typical example is when you are setting values in a column of a DataFrame, like:\n",
      "\n",
      "df[\"col\"][row_indexer] = value\n",
      "\n",
      "Use `df.loc[row_indexer, \"col\"] = values` instead, to perform the assignment in a single step and ensure this keeps updating the original `df`.\n",
      "\n",
      "See the caveats in the documentation: https://pandas.pydata.org/pandas-docs/stable/user_guide/indexing.html#returning-a-view-versus-a-copy\n",
      "\n",
      "  data['target'][data['attack_category'] == t] = 1\n",
      "/root/miniconda3/envs/TimeSeries/lib/python3.12/site-packages/alibi_detect/datasets.py:103: FutureWarning: ChainedAssignmentError: behaviour will change in pandas 3.0!\n",
      "You are setting values through chained assignment. Currently this works in certain cases, but when using Copy-on-Write (which will become the default behaviour in pandas 3.0) this will never work to update the original DataFrame or Series, because the intermediate object on which we are setting values will behave as a copy.\n",
      "A typical example is when you are setting values in a column of a DataFrame, like:\n",
      "\n",
      "df[\"col\"][row_indexer] = value\n",
      "\n",
      "Use `df.loc[row_indexer, \"col\"] = values` instead, to perform the assignment in a single step and ensure this keeps updating the original `df`.\n",
      "\n",
      "See the caveats in the documentation: https://pandas.pydata.org/pandas-docs/stable/user_guide/indexing.html#returning-a-view-versus-a-copy\n",
      "\n",
      "  data['target'][data['attack_category'] == t] = 1\n",
      "/root/miniconda3/envs/TimeSeries/lib/python3.12/site-packages/alibi_detect/datasets.py:103: FutureWarning: ChainedAssignmentError: behaviour will change in pandas 3.0!\n",
      "You are setting values through chained assignment. Currently this works in certain cases, but when using Copy-on-Write (which will become the default behaviour in pandas 3.0) this will never work to update the original DataFrame or Series, because the intermediate object on which we are setting values will behave as a copy.\n",
      "A typical example is when you are setting values in a column of a DataFrame, like:\n",
      "\n",
      "df[\"col\"][row_indexer] = value\n",
      "\n",
      "Use `df.loc[row_indexer, \"col\"] = values` instead, to perform the assignment in a single step and ensure this keeps updating the original `df`.\n",
      "\n",
      "See the caveats in the documentation: https://pandas.pydata.org/pandas-docs/stable/user_guide/indexing.html#returning-a-view-versus-a-copy\n",
      "\n",
      "  data['target'][data['attack_category'] == t] = 1\n"
     ]
    }
   ],
   "execution_count": 2
  },
  {
   "cell_type": "code",
   "metadata": {
    "ExecuteTime": {
     "end_time": "2025-05-30T08:29:14.218646Z",
     "start_time": "2025-05-30T08:29:14.214116Z"
    }
   },
   "source": [
    "intrusions[\"target\"].sum() / len(intrusions[\"target\"])"
   ],
   "outputs": [
    {
     "data": {
      "text/plain": [
       "0.8030893423558918"
      ]
     },
     "execution_count": 3,
     "metadata": {},
     "output_type": "execute_result"
    }
   ],
   "execution_count": 3
  },
  {
   "cell_type": "code",
   "metadata": {
    "ExecuteTime": {
     "end_time": "2025-05-30T08:29:14.269535Z",
     "start_time": "2025-05-30T08:29:14.266044Z"
    }
   },
   "source": [
    "intrusions[\"feature_names\"]"
   ],
   "outputs": [
    {
     "data": {
      "text/plain": [
       "['srv_count',\n",
       " 'serror_rate',\n",
       " 'srv_serror_rate',\n",
       " 'rerror_rate',\n",
       " 'srv_rerror_rate',\n",
       " 'same_srv_rate',\n",
       " 'diff_srv_rate',\n",
       " 'srv_diff_host_rate',\n",
       " 'dst_host_count',\n",
       " 'dst_host_srv_count',\n",
       " 'dst_host_same_srv_rate',\n",
       " 'dst_host_diff_srv_rate',\n",
       " 'dst_host_same_src_port_rate',\n",
       " 'dst_host_srv_diff_host_rate',\n",
       " 'dst_host_serror_rate',\n",
       " 'dst_host_srv_serror_rate',\n",
       " 'dst_host_rerror_rate',\n",
       " 'dst_host_srv_rerror_rate']"
      ]
     },
     "execution_count": 4,
     "metadata": {},
     "output_type": "execute_result"
    }
   ],
   "execution_count": 4
  },
  {
   "cell_type": "code",
   "metadata": {
    "ExecuteTime": {
     "end_time": "2025-05-30T08:29:14.619722Z",
     "start_time": "2025-05-30T08:29:14.309766Z"
    }
   },
   "source": [
    "scores = od.score(intrusions[\"data\"][:, 0])"
   ],
   "outputs": [
    {
     "ename": "NameError",
     "evalue": "name 'od' is not defined",
     "output_type": "error",
     "traceback": [
      "\u001B[31m---------------------------------------------------------------------------\u001B[39m",
      "\u001B[31mNameError\u001B[39m                                 Traceback (most recent call last)",
      "\u001B[36mCell\u001B[39m\u001B[36m \u001B[39m\u001B[32mIn[5]\u001B[39m\u001B[32m, line 1\u001B[39m\n\u001B[32m----> \u001B[39m\u001B[32m1\u001B[39m scores = od.score(intrusions[\u001B[33m\"\u001B[39m\u001B[33mdata\u001B[39m\u001B[33m\"\u001B[39m][:, \u001B[32m0\u001B[39m])\n",
      "\u001B[31mNameError\u001B[39m: name 'od' is not defined"
     ]
    }
   ],
   "execution_count": 5
  },
  {
   "cell_type": "code",
   "execution_count": null,
   "metadata": {},
   "outputs": [],
   "source": [
    "import pandas as pd\n",
    "\n",
    "pd.Series(intrusions[\"data\"][:, 0]).plot();"
   ]
  },
  {
   "cell_type": "code",
   "execution_count": null,
   "metadata": {},
   "outputs": [],
   "source": [
    "from alibi_detect.od import SpectralResidual\n",
    "\n",
    "od = SpectralResidual(\n",
    "    threshold=1.0, window_amp=20, window_local=20, n_est_points=10, n_grad_points=5\n",
    ")\n",
    "intrusion_outliers = od.predict(intrusions[\"data\"][:,0])"
   ]
  },
  {
   "cell_type": "code",
   "execution_count": null,
   "metadata": {},
   "outputs": [],
   "source": [
    "import matplotlib\n",
    "\n",
    "ax = pd.Series(intrusions[\"data\"][:, 0], name=\"data\").plot(\n",
    "    legend=False, figsize=(12, 6)\n",
    ")\n",
    "ax2 = ax.twinx()\n",
    "ax = pd.Series(scores, name=\"scores\").plot(\n",
    "    ax=ax2, legend=False, color=\"r\", marker=matplotlib.markers.CARETDOWNBASE\n",
    ")\n",
    "ax.figure.legend(bbox_to_anchor=(1, 1), loc=\"upper left\");"
   ]
  },
  {
   "cell_type": "markdown",
   "metadata": {},
   "source": [
    "# Change point detection"
   ]
  },
  {
   "cell_type": "code",
   "execution_count": null,
   "metadata": {},
   "outputs": [],
   "source": [
    "!pip install ruptures"
   ]
  },
  {
   "cell_type": "code",
   "execution_count": null,
   "metadata": {},
   "outputs": [],
   "source": [
    "import matplotlib.pyplot as plt\n",
    "import numpy as np\n",
    "import ruptures as rpt\n",
    "\n",
    "plt.style.use(\"seaborn-whitegrid\")\n",
    "plt.rcParams[\"font.family\"] = \"Times New Roman\"\n",
    "plt.rcParams[\"font.size\"] = \"17\""
   ]
  },
  {
   "cell_type": "code",
   "execution_count": null,
   "metadata": {},
   "outputs": [],
   "source": [
    "signal, bkps = rpt.pw_constant(\n",
    "    n_samples=500, n_features=3, n_bkps=2, noise_std=5.0, delta=(1, 20)\n",
    ")"
   ]
  },
  {
   "cell_type": "code",
   "execution_count": null,
   "metadata": {},
   "outputs": [],
   "source": [
    "rpt.display(signal, bkps)"
   ]
  },
  {
   "cell_type": "code",
   "execution_count": null,
   "metadata": {},
   "outputs": [],
   "source": [
    "signal.shape"
   ]
  },
  {
   "cell_type": "code",
   "execution_count": null,
   "metadata": {},
   "outputs": [],
   "source": [
    "bkps"
   ]
  },
  {
   "cell_type": "code",
   "execution_count": null,
   "metadata": {},
   "outputs": [],
   "source": [
    "# \"l1\", \"rbf\", \"linear\", \"normal\", \"ar\"\n",
    "algo = rpt.Binseg(model=\"l1\").fit(signal)\n",
    "my_bkps = algo.predict(n_bkps=3)\n",
    "\n",
    "# show results\n",
    "rpt.show.display(signal, bkps, my_bkps, figsize=(10, 6))"
   ]
  }
 ],
 "metadata": {
  "kernelspec": {
   "display_name": "Python 3",
   "language": "python",
   "name": "python3"
  },
  "language_info": {
   "codemirror_mode": {
    "name": "ipython",
    "version": 3
   },
   "file_extension": ".py",
   "mimetype": "text/x-python",
   "name": "python",
   "nbconvert_exporter": "python",
   "pygments_lexer": "ipython3",
   "version": "3.8.8"
  }
 },
 "nbformat": 4,
 "nbformat_minor": 4
}

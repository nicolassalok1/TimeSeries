{
 "cells": [
  {
   "cell_type": "markdown",
   "id": "7ea3881f-ddfc-475b-bfa9-bb46456ffee4",
   "metadata": {},
   "source": [
    "<a href=\"https://colab.research.google.com/github/PacktPublishing/Machine-Learning-for-Time-Series-with-Python/blob/master/chapter7/Kats.ipynb\" target=\"_parent\\\"><img src=\"https://colab.research.google.com/assets/colab-badge.svg\" alt=\"Open In Colab\"/></a>"
   ]
  },
  {
   "cell_type": "code",
   "id": "bde1b68e-20b6-42e1-a5a8-81824e365545",
   "metadata": {
    "colab": {
     "base_uri": "https://localhost:8080/"
    },
    "id": "bde1b68e-20b6-42e1-a5a8-81824e365545",
    "outputId": "f290afb2-8026-4792-e11f-2b5572336c3a",
    "ExecuteTime": {
     "end_time": "2025-05-30T09:52:02.162807Z",
     "start_time": "2025-05-30T09:51:59.746715Z"
    }
   },
   "source": "!MINIMAL=1 pip install kats",
   "outputs": [
    {
     "name": "stdout",
     "output_type": "stream",
     "text": [
      "/bin/bash: warning: setlocale: LC_ALL: cannot change locale (en_US.UTF-8)\r\n",
      "Collecting kats\r\n",
      "  Using cached kats-0.2.0-py3-none-any.whl.metadata (9.4 kB)\r\n",
      "Requirement already satisfied: attrs>=21.2.0 in /root/miniconda3/envs/TimeSeries_clone/lib/python3.12/site-packages (from kats) (24.3.0)\r\n",
      "Requirement already satisfied: deprecated>=1.2.12 in /root/.local/lib/python3.12/site-packages (from kats) (1.2.18)\r\n",
      "Requirement already satisfied: matplotlib>=2.0.0 in /root/miniconda3/envs/TimeSeries_clone/lib/python3.12/site-packages (from kats) (3.10.3)\r\n",
      "Collecting numpy<1.22,>=1.21 (from kats)\r\n",
      "  Using cached numpy-1.21.1.zip (10.3 MB)\r\n",
      "  Installing build dependencies ... \u001B[?25ldone\r\n",
      "\u001B[?25h  Getting requirements to build wheel ... \u001B[?25ldone\r\n",
      "\u001B[31mERROR: Exception:\r\n",
      "Traceback (most recent call last):\r\n",
      "  File \"/root/miniconda3/envs/TimeSeries_clone/lib/python3.12/site-packages/pip/_internal/cli/base_command.py\", line 105, in _run_wrapper\r\n",
      "    status = _inner_run()\r\n",
      "             ^^^^^^^^^^^^\r\n",
      "  File \"/root/miniconda3/envs/TimeSeries_clone/lib/python3.12/site-packages/pip/_internal/cli/base_command.py\", line 96, in _inner_run\r\n",
      "    return self.run(options, args)\r\n",
      "           ^^^^^^^^^^^^^^^^^^^^^^^\r\n",
      "  File \"/root/miniconda3/envs/TimeSeries_clone/lib/python3.12/site-packages/pip/_internal/cli/req_command.py\", line 68, in wrapper\r\n",
      "    return func(self, options, args)\r\n",
      "           ^^^^^^^^^^^^^^^^^^^^^^^^^\r\n",
      "  File \"/root/miniconda3/envs/TimeSeries_clone/lib/python3.12/site-packages/pip/_internal/commands/install.py\", line 387, in run\r\n",
      "    requirement_set = resolver.resolve(\r\n",
      "                      ^^^^^^^^^^^^^^^^^\r\n",
      "  File \"/root/miniconda3/envs/TimeSeries_clone/lib/python3.12/site-packages/pip/_internal/resolution/resolvelib/resolver.py\", line 96, in resolve\r\n",
      "    result = self._result = resolver.resolve(\r\n",
      "                            ^^^^^^^^^^^^^^^^^\r\n",
      "  File \"/root/miniconda3/envs/TimeSeries_clone/lib/python3.12/site-packages/pip/_vendor/resolvelib/resolvers/resolution.py\", line 515, in resolve\r\n",
      "    state = resolution.resolve(requirements, max_rounds=max_rounds)\r\n",
      "            ^^^^^^^^^^^^^^^^^^^^^^^^^^^^^^^^^^^^^^^^^^^^^^^^^^^^^^^\r\n",
      "  File \"/root/miniconda3/envs/TimeSeries_clone/lib/python3.12/site-packages/pip/_vendor/resolvelib/resolvers/resolution.py\", line 444, in resolve\r\n",
      "    failure_criterion = self._attempt_to_pin_criterion(name)\r\n",
      "                        ^^^^^^^^^^^^^^^^^^^^^^^^^^^^^^^^^^^^\r\n",
      "  File \"/root/miniconda3/envs/TimeSeries_clone/lib/python3.12/site-packages/pip/_vendor/resolvelib/resolvers/resolution.py\", line 211, in _attempt_to_pin_criterion\r\n",
      "    criteria = self._get_updated_criteria(candidate)\r\n",
      "               ^^^^^^^^^^^^^^^^^^^^^^^^^^^^^^^^^^^^^\r\n",
      "  File \"/root/miniconda3/envs/TimeSeries_clone/lib/python3.12/site-packages/pip/_vendor/resolvelib/resolvers/resolution.py\", line 202, in _get_updated_criteria\r\n",
      "    self._add_to_criteria(criteria, requirement, parent=candidate)\r\n",
      "  File \"/root/miniconda3/envs/TimeSeries_clone/lib/python3.12/site-packages/pip/_vendor/resolvelib/resolvers/resolution.py\", line 141, in _add_to_criteria\r\n",
      "    if not criterion.candidates:\r\n",
      "           ^^^^^^^^^^^^^^^^^^^^\r\n",
      "  File \"/root/miniconda3/envs/TimeSeries_clone/lib/python3.12/site-packages/pip/_vendor/resolvelib/structs.py\", line 194, in __bool__\r\n",
      "    return bool(self._sequence)\r\n",
      "           ^^^^^^^^^^^^^^^^^^^^\r\n",
      "  File \"/root/miniconda3/envs/TimeSeries_clone/lib/python3.12/site-packages/pip/_internal/resolution/resolvelib/found_candidates.py\", line 163, in __bool__\r\n",
      "    self._bool = any(self)\r\n",
      "                 ^^^^^^^^^\r\n",
      "  File \"/root/miniconda3/envs/TimeSeries_clone/lib/python3.12/site-packages/pip/_internal/resolution/resolvelib/found_candidates.py\", line 147, in <genexpr>\r\n",
      "    return (c for c in iterator if id(c) not in self._incompatible_ids)\r\n",
      "                       ^^^^^^^^\r\n",
      "  File \"/root/miniconda3/envs/TimeSeries_clone/lib/python3.12/site-packages/pip/_internal/resolution/resolvelib/found_candidates.py\", line 37, in _iter_built\r\n",
      "    candidate = func()\r\n",
      "                ^^^^^^\r\n",
      "  File \"/root/miniconda3/envs/TimeSeries_clone/lib/python3.12/site-packages/pip/_internal/resolution/resolvelib/factory.py\", line 187, in _make_candidate_from_link\r\n",
      "    base: Optional[BaseCandidate] = self._make_base_candidate_from_link(\r\n",
      "                                    ^^^^^^^^^^^^^^^^^^^^^^^^^^^^^^^^^^^^\r\n",
      "  File \"/root/miniconda3/envs/TimeSeries_clone/lib/python3.12/site-packages/pip/_internal/resolution/resolvelib/factory.py\", line 233, in _make_base_candidate_from_link\r\n",
      "    self._link_candidate_cache[link] = LinkCandidate(\r\n",
      "                                       ^^^^^^^^^^^^^^\r\n",
      "  File \"/root/miniconda3/envs/TimeSeries_clone/lib/python3.12/site-packages/pip/_internal/resolution/resolvelib/candidates.py\", line 306, in __init__\r\n",
      "    super().__init__(\r\n",
      "  File \"/root/miniconda3/envs/TimeSeries_clone/lib/python3.12/site-packages/pip/_internal/resolution/resolvelib/candidates.py\", line 159, in __init__\r\n",
      "    self.dist = self._prepare()\r\n",
      "                ^^^^^^^^^^^^^^^\r\n",
      "  File \"/root/miniconda3/envs/TimeSeries_clone/lib/python3.12/site-packages/pip/_internal/resolution/resolvelib/candidates.py\", line 236, in _prepare\r\n",
      "    dist = self._prepare_distribution()\r\n",
      "           ^^^^^^^^^^^^^^^^^^^^^^^^^^^^\r\n",
      "  File \"/root/miniconda3/envs/TimeSeries_clone/lib/python3.12/site-packages/pip/_internal/resolution/resolvelib/candidates.py\", line 317, in _prepare_distribution\r\n",
      "    return preparer.prepare_linked_requirement(self._ireq, parallel_builds=True)\r\n",
      "           ^^^^^^^^^^^^^^^^^^^^^^^^^^^^^^^^^^^^^^^^^^^^^^^^^^^^^^^^^^^^^^^^^^^^^\r\n",
      "  File \"/root/miniconda3/envs/TimeSeries_clone/lib/python3.12/site-packages/pip/_internal/operations/prepare.py\", line 532, in prepare_linked_requirement\r\n",
      "    return self._prepare_linked_requirement(req, parallel_builds)\r\n",
      "           ^^^^^^^^^^^^^^^^^^^^^^^^^^^^^^^^^^^^^^^^^^^^^^^^^^^^^^\r\n",
      "  File \"/root/miniconda3/envs/TimeSeries_clone/lib/python3.12/site-packages/pip/_internal/operations/prepare.py\", line 647, in _prepare_linked_requirement\r\n",
      "    dist = _get_prepared_distribution(\r\n",
      "           ^^^^^^^^^^^^^^^^^^^^^^^^^^^\r\n",
      "  File \"/root/miniconda3/envs/TimeSeries_clone/lib/python3.12/site-packages/pip/_internal/operations/prepare.py\", line 71, in _get_prepared_distribution\r\n",
      "    abstract_dist.prepare_distribution_metadata(\r\n",
      "  File \"/root/miniconda3/envs/TimeSeries_clone/lib/python3.12/site-packages/pip/_internal/distributions/sdist.py\", line 56, in prepare_distribution_metadata\r\n",
      "    self._install_build_reqs(finder)\r\n",
      "  File \"/root/miniconda3/envs/TimeSeries_clone/lib/python3.12/site-packages/pip/_internal/distributions/sdist.py\", line 126, in _install_build_reqs\r\n",
      "    build_reqs = self._get_build_requires_wheel()\r\n",
      "                 ^^^^^^^^^^^^^^^^^^^^^^^^^^^^^^^^\r\n",
      "  File \"/root/miniconda3/envs/TimeSeries_clone/lib/python3.12/site-packages/pip/_internal/distributions/sdist.py\", line 103, in _get_build_requires_wheel\r\n",
      "    return backend.get_requires_for_build_wheel()\r\n",
      "           ^^^^^^^^^^^^^^^^^^^^^^^^^^^^^^^^^^^^^^\r\n",
      "  File \"/root/miniconda3/envs/TimeSeries_clone/lib/python3.12/site-packages/pip/_internal/utils/misc.py\", line 684, in get_requires_for_build_wheel\r\n",
      "    return super().get_requires_for_build_wheel(config_settings=cs)\r\n",
      "           ^^^^^^^^^^^^^^^^^^^^^^^^^^^^^^^^^^^^^^^^^^^^^^^^^^^^^^^^\r\n",
      "  File \"/root/miniconda3/envs/TimeSeries_clone/lib/python3.12/site-packages/pip/_vendor/pyproject_hooks/_impl.py\", line 196, in get_requires_for_build_wheel\r\n",
      "    return self._call_hook(\r\n",
      "           ^^^^^^^^^^^^^^^^\r\n",
      "  File \"/root/miniconda3/envs/TimeSeries_clone/lib/python3.12/site-packages/pip/_vendor/pyproject_hooks/_impl.py\", line 402, in _call_hook\r\n",
      "    raise BackendUnavailable(\r\n",
      "pip._vendor.pyproject_hooks._impl.BackendUnavailable: Cannot import 'setuptools.build_meta'\u001B[0m\u001B[31m\r\n",
      "\u001B[0m\u001B[?25h"
     ]
    }
   ],
   "execution_count": 1
  },
  {
   "cell_type": "code",
   "id": "Jb7RFf_D-YzN",
   "metadata": {
    "colab": {
     "base_uri": "https://localhost:8080/"
    },
    "id": "Jb7RFf_D-YzN",
    "outputId": "681437c3-35c7-461a-f512-170d929c1a38",
    "ExecuteTime": {
     "end_time": "2025-05-30T09:52:04.186052Z",
     "start_time": "2025-05-30T09:52:02.184319Z"
    }
   },
   "source": "!pip install \"numpy==1.20\"",
   "outputs": [
    {
     "name": "stdout",
     "output_type": "stream",
     "text": [
      "/bin/bash: warning: setlocale: LC_ALL: cannot change locale (en_US.UTF-8)\r\n",
      "Collecting numpy==1.20\r\n",
      "  Using cached numpy-1.20.0.zip (8.0 MB)\r\n",
      "  Installing build dependencies ... \u001B[?25ldone\r\n",
      "\u001B[?25h  Getting requirements to build wheel ... \u001B[?25ldone\r\n",
      "\u001B[31mERROR: Exception:\r\n",
      "Traceback (most recent call last):\r\n",
      "  File \"/root/miniconda3/envs/TimeSeries_clone/lib/python3.12/site-packages/pip/_internal/cli/base_command.py\", line 105, in _run_wrapper\r\n",
      "    status = _inner_run()\r\n",
      "             ^^^^^^^^^^^^\r\n",
      "  File \"/root/miniconda3/envs/TimeSeries_clone/lib/python3.12/site-packages/pip/_internal/cli/base_command.py\", line 96, in _inner_run\r\n",
      "    return self.run(options, args)\r\n",
      "           ^^^^^^^^^^^^^^^^^^^^^^^\r\n",
      "  File \"/root/miniconda3/envs/TimeSeries_clone/lib/python3.12/site-packages/pip/_internal/cli/req_command.py\", line 68, in wrapper\r\n",
      "    return func(self, options, args)\r\n",
      "           ^^^^^^^^^^^^^^^^^^^^^^^^^\r\n",
      "  File \"/root/miniconda3/envs/TimeSeries_clone/lib/python3.12/site-packages/pip/_internal/commands/install.py\", line 387, in run\r\n",
      "    requirement_set = resolver.resolve(\r\n",
      "                      ^^^^^^^^^^^^^^^^^\r\n",
      "  File \"/root/miniconda3/envs/TimeSeries_clone/lib/python3.12/site-packages/pip/_internal/resolution/resolvelib/resolver.py\", line 96, in resolve\r\n",
      "    result = self._result = resolver.resolve(\r\n",
      "                            ^^^^^^^^^^^^^^^^^\r\n",
      "  File \"/root/miniconda3/envs/TimeSeries_clone/lib/python3.12/site-packages/pip/_vendor/resolvelib/resolvers/resolution.py\", line 515, in resolve\r\n",
      "    state = resolution.resolve(requirements, max_rounds=max_rounds)\r\n",
      "            ^^^^^^^^^^^^^^^^^^^^^^^^^^^^^^^^^^^^^^^^^^^^^^^^^^^^^^^\r\n",
      "  File \"/root/miniconda3/envs/TimeSeries_clone/lib/python3.12/site-packages/pip/_vendor/resolvelib/resolvers/resolution.py\", line 388, in resolve\r\n",
      "    self._add_to_criteria(self.state.criteria, r, parent=None)\r\n",
      "  File \"/root/miniconda3/envs/TimeSeries_clone/lib/python3.12/site-packages/pip/_vendor/resolvelib/resolvers/resolution.py\", line 141, in _add_to_criteria\r\n",
      "    if not criterion.candidates:\r\n",
      "           ^^^^^^^^^^^^^^^^^^^^\r\n",
      "  File \"/root/miniconda3/envs/TimeSeries_clone/lib/python3.12/site-packages/pip/_vendor/resolvelib/structs.py\", line 194, in __bool__\r\n",
      "    return bool(self._sequence)\r\n",
      "           ^^^^^^^^^^^^^^^^^^^^\r\n",
      "  File \"/root/miniconda3/envs/TimeSeries_clone/lib/python3.12/site-packages/pip/_internal/resolution/resolvelib/found_candidates.py\", line 163, in __bool__\r\n",
      "    self._bool = any(self)\r\n",
      "                 ^^^^^^^^^\r\n",
      "  File \"/root/miniconda3/envs/TimeSeries_clone/lib/python3.12/site-packages/pip/_internal/resolution/resolvelib/found_candidates.py\", line 147, in <genexpr>\r\n",
      "    return (c for c in iterator if id(c) not in self._incompatible_ids)\r\n",
      "                       ^^^^^^^^\r\n",
      "  File \"/root/miniconda3/envs/TimeSeries_clone/lib/python3.12/site-packages/pip/_internal/resolution/resolvelib/found_candidates.py\", line 37, in _iter_built\r\n",
      "    candidate = func()\r\n",
      "                ^^^^^^\r\n",
      "  File \"/root/miniconda3/envs/TimeSeries_clone/lib/python3.12/site-packages/pip/_internal/resolution/resolvelib/factory.py\", line 187, in _make_candidate_from_link\r\n",
      "    base: Optional[BaseCandidate] = self._make_base_candidate_from_link(\r\n",
      "                                    ^^^^^^^^^^^^^^^^^^^^^^^^^^^^^^^^^^^^\r\n",
      "  File \"/root/miniconda3/envs/TimeSeries_clone/lib/python3.12/site-packages/pip/_internal/resolution/resolvelib/factory.py\", line 233, in _make_base_candidate_from_link\r\n",
      "    self._link_candidate_cache[link] = LinkCandidate(\r\n",
      "                                       ^^^^^^^^^^^^^^\r\n",
      "  File \"/root/miniconda3/envs/TimeSeries_clone/lib/python3.12/site-packages/pip/_internal/resolution/resolvelib/candidates.py\", line 306, in __init__\r\n",
      "    super().__init__(\r\n",
      "  File \"/root/miniconda3/envs/TimeSeries_clone/lib/python3.12/site-packages/pip/_internal/resolution/resolvelib/candidates.py\", line 159, in __init__\r\n",
      "    self.dist = self._prepare()\r\n",
      "                ^^^^^^^^^^^^^^^\r\n",
      "  File \"/root/miniconda3/envs/TimeSeries_clone/lib/python3.12/site-packages/pip/_internal/resolution/resolvelib/candidates.py\", line 236, in _prepare\r\n",
      "    dist = self._prepare_distribution()\r\n",
      "           ^^^^^^^^^^^^^^^^^^^^^^^^^^^^\r\n",
      "  File \"/root/miniconda3/envs/TimeSeries_clone/lib/python3.12/site-packages/pip/_internal/resolution/resolvelib/candidates.py\", line 317, in _prepare_distribution\r\n",
      "    return preparer.prepare_linked_requirement(self._ireq, parallel_builds=True)\r\n",
      "           ^^^^^^^^^^^^^^^^^^^^^^^^^^^^^^^^^^^^^^^^^^^^^^^^^^^^^^^^^^^^^^^^^^^^^\r\n",
      "  File \"/root/miniconda3/envs/TimeSeries_clone/lib/python3.12/site-packages/pip/_internal/operations/prepare.py\", line 532, in prepare_linked_requirement\r\n",
      "    return self._prepare_linked_requirement(req, parallel_builds)\r\n",
      "           ^^^^^^^^^^^^^^^^^^^^^^^^^^^^^^^^^^^^^^^^^^^^^^^^^^^^^^\r\n",
      "  File \"/root/miniconda3/envs/TimeSeries_clone/lib/python3.12/site-packages/pip/_internal/operations/prepare.py\", line 647, in _prepare_linked_requirement\r\n",
      "    dist = _get_prepared_distribution(\r\n",
      "           ^^^^^^^^^^^^^^^^^^^^^^^^^^^\r\n",
      "  File \"/root/miniconda3/envs/TimeSeries_clone/lib/python3.12/site-packages/pip/_internal/operations/prepare.py\", line 71, in _get_prepared_distribution\r\n",
      "    abstract_dist.prepare_distribution_metadata(\r\n",
      "  File \"/root/miniconda3/envs/TimeSeries_clone/lib/python3.12/site-packages/pip/_internal/distributions/sdist.py\", line 56, in prepare_distribution_metadata\r\n",
      "    self._install_build_reqs(finder)\r\n",
      "  File \"/root/miniconda3/envs/TimeSeries_clone/lib/python3.12/site-packages/pip/_internal/distributions/sdist.py\", line 126, in _install_build_reqs\r\n",
      "    build_reqs = self._get_build_requires_wheel()\r\n",
      "                 ^^^^^^^^^^^^^^^^^^^^^^^^^^^^^^^^\r\n",
      "  File \"/root/miniconda3/envs/TimeSeries_clone/lib/python3.12/site-packages/pip/_internal/distributions/sdist.py\", line 103, in _get_build_requires_wheel\r\n",
      "    return backend.get_requires_for_build_wheel()\r\n",
      "           ^^^^^^^^^^^^^^^^^^^^^^^^^^^^^^^^^^^^^^\r\n",
      "  File \"/root/miniconda3/envs/TimeSeries_clone/lib/python3.12/site-packages/pip/_internal/utils/misc.py\", line 684, in get_requires_for_build_wheel\r\n",
      "    return super().get_requires_for_build_wheel(config_settings=cs)\r\n",
      "           ^^^^^^^^^^^^^^^^^^^^^^^^^^^^^^^^^^^^^^^^^^^^^^^^^^^^^^^^\r\n",
      "  File \"/root/miniconda3/envs/TimeSeries_clone/lib/python3.12/site-packages/pip/_vendor/pyproject_hooks/_impl.py\", line 196, in get_requires_for_build_wheel\r\n",
      "    return self._call_hook(\r\n",
      "           ^^^^^^^^^^^^^^^^\r\n",
      "  File \"/root/miniconda3/envs/TimeSeries_clone/lib/python3.12/site-packages/pip/_vendor/pyproject_hooks/_impl.py\", line 402, in _call_hook\r\n",
      "    raise BackendUnavailable(\r\n",
      "pip._vendor.pyproject_hooks._impl.BackendUnavailable: Cannot import 'setuptools.build_meta'\u001B[0m\u001B[31m\r\n",
      "\u001B[0m\u001B[?25h"
     ]
    }
   ],
   "execution_count": 2
  },
  {
   "cell_type": "code",
   "id": "e9f62717-49c6-4a08-bd69-67a4c3ebe2d5",
   "metadata": {
    "id": "e9f62717-49c6-4a08-bd69-67a4c3ebe2d5",
    "ExecuteTime": {
     "end_time": "2025-05-30T09:52:04.643054Z",
     "start_time": "2025-05-30T09:52:04.267027Z"
    }
   },
   "source": [
    "import matplotlib.pyplot as plt\n",
    "import seaborn as sns\n",
    "%matplotlib inline\n",
    "\n",
    "plt.style.use('seaborn-v0_8-whitegrid')\n",
    "\n",
    "plt.rcParams[\"font.family\"] = \"Times New Roman\"\n",
    "plt.rcParams[\"font.size\"] = \"17\""
   ],
   "outputs": [
    {
     "ename": "ModuleNotFoundError",
     "evalue": "No module named 'seaborn'",
     "output_type": "error",
     "traceback": [
      "\u001B[31m---------------------------------------------------------------------------\u001B[39m",
      "\u001B[31mModuleNotFoundError\u001B[39m                       Traceback (most recent call last)",
      "\u001B[36mCell\u001B[39m\u001B[36m \u001B[39m\u001B[32mIn[3]\u001B[39m\u001B[32m, line 2\u001B[39m\n\u001B[32m      1\u001B[39m \u001B[38;5;28;01mimport\u001B[39;00m\u001B[38;5;250m \u001B[39m\u001B[34;01mmatplotlib\u001B[39;00m\u001B[34;01m.\u001B[39;00m\u001B[34;01mpyplot\u001B[39;00m\u001B[38;5;250m \u001B[39m\u001B[38;5;28;01mas\u001B[39;00m\u001B[38;5;250m \u001B[39m\u001B[34;01mplt\u001B[39;00m\n\u001B[32m----> \u001B[39m\u001B[32m2\u001B[39m \u001B[38;5;28;01mimport\u001B[39;00m\u001B[38;5;250m \u001B[39m\u001B[34;01mseaborn\u001B[39;00m\u001B[38;5;250m \u001B[39m\u001B[38;5;28;01mas\u001B[39;00m\u001B[38;5;250m \u001B[39m\u001B[34;01msns\u001B[39;00m\n\u001B[32m      3\u001B[39m get_ipython().run_line_magic(\u001B[33m'\u001B[39m\u001B[33mmatplotlib\u001B[39m\u001B[33m'\u001B[39m, \u001B[33m'\u001B[39m\u001B[33minline\u001B[39m\u001B[33m'\u001B[39m)\n\u001B[32m      5\u001B[39m plt.style.use(\u001B[33m'\u001B[39m\u001B[33mseaborn-v0_8-whitegrid\u001B[39m\u001B[33m'\u001B[39m)\n",
      "\u001B[31mModuleNotFoundError\u001B[39m: No module named 'seaborn'"
     ]
    }
   ],
   "execution_count": 3
  },
  {
   "cell_type": "code",
   "id": "2045898b-51b2-446a-bf30-4102725d36d9",
   "metadata": {
    "id": "2045898b-51b2-446a-bf30-4102725d36d9",
    "ExecuteTime": {
     "end_time": "2025-05-30T09:52:04.644881700Z",
     "start_time": "2025-05-30T09:38:03.279823Z"
    }
   },
   "source": [
    "import pandas as pd\n",
    "\n",
    "owid_covid = pd.read_csv(\"https://covid.ourworldindata.org/data/owid-covid-data.csv\")\n",
    "owid_covid[\"date\"] = pd.to_datetime(owid_covid[\"date\"])\n",
    "df = owid_covid[owid_covid.location == \"France\"].set_index(\"date\", drop=True).resample('D').interpolate(method='linear').reset_index()"
   ],
   "outputs": [
    {
     "name": "stderr",
     "output_type": "stream",
     "text": [
      "/tmp/ipykernel_103847/833221682.py:5: FutureWarning: DataFrame.interpolate with object dtype is deprecated and will raise in a future version. Call obj.infer_objects(copy=False) before interpolating instead.\n",
      "  df = owid_covid[owid_covid.location == \"France\"].set_index(\"date\", drop=True).resample('D').interpolate(method='linear').reset_index()\n"
     ]
    }
   ],
   "execution_count": 14
  },
  {
   "cell_type": "code",
   "id": "d196768c-ccd4-487b-b88a-825f3280f8b8",
   "metadata": {
    "id": "d196768c-ccd4-487b-b88a-825f3280f8b8",
    "ExecuteTime": {
     "end_time": "2025-05-30T09:52:04.646388900Z",
     "start_time": "2025-05-30T09:38:37.296649Z"
    }
   },
   "source": [
    "from kats.models.ensemble.ensemble import EnsembleParams, BaseModelParams\n",
    "from kats.models.ensemble.kats_ensemble import KatsEnsemble\n",
    "from kats.models import (\n",
    "    linear_model,\n",
    "    quadratic_model\n",
    ")\n",
    "\n",
    "\n",
    "model_params = EnsembleParams(\n",
    "            [\n",
    "                BaseModelParams(\"linear\", linear_model.LinearModelParams()),\n",
    "                BaseModelParams(\"quadratic\", quadratic_model.QuadraticModelParams()),\n",
    "            ]\n",
    "        )\n",
    "\n",
    "# create `KatsEnsembleParam` with detailed configurations \n",
    "KatsEnsembleParam = {\n",
    "    \"models\": model_params,\n",
    "    \"aggregation\": \"weightedavg\",\n",
    "    \"seasonality_length\": 30,\n",
    "    \"decomposition_method\": \"additive\",\n",
    "}"
   ],
   "outputs": [
    {
     "ename": "ModuleNotFoundError",
     "evalue": "No module named 'kats'",
     "output_type": "error",
     "traceback": [
      "\u001B[31m---------------------------------------------------------------------------\u001B[39m",
      "\u001B[31mModuleNotFoundError\u001B[39m                       Traceback (most recent call last)",
      "\u001B[36mCell\u001B[39m\u001B[36m \u001B[39m\u001B[32mIn[15]\u001B[39m\u001B[32m, line 1\u001B[39m\n\u001B[32m----> \u001B[39m\u001B[32m1\u001B[39m \u001B[38;5;28;01mfrom\u001B[39;00m\u001B[38;5;250m \u001B[39m\u001B[34;01mkats\u001B[39;00m\u001B[34;01m.\u001B[39;00m\u001B[34;01mmodels\u001B[39;00m\u001B[34;01m.\u001B[39;00m\u001B[34;01mensemble\u001B[39;00m\u001B[34;01m.\u001B[39;00m\u001B[34;01mensemble\u001B[39;00m\u001B[38;5;250m \u001B[39m\u001B[38;5;28;01mimport\u001B[39;00m EnsembleParams, BaseModelParams\n\u001B[32m      2\u001B[39m \u001B[38;5;28;01mfrom\u001B[39;00m\u001B[38;5;250m \u001B[39m\u001B[34;01mkats\u001B[39;00m\u001B[34;01m.\u001B[39;00m\u001B[34;01mmodels\u001B[39;00m\u001B[34;01m.\u001B[39;00m\u001B[34;01mensemble\u001B[39;00m\u001B[34;01m.\u001B[39;00m\u001B[34;01mkats_ensemble\u001B[39;00m\u001B[38;5;250m \u001B[39m\u001B[38;5;28;01mimport\u001B[39;00m KatsEnsemble\n\u001B[32m      3\u001B[39m \u001B[38;5;28;01mfrom\u001B[39;00m\u001B[38;5;250m \u001B[39m\u001B[34;01mkats\u001B[39;00m\u001B[34;01m.\u001B[39;00m\u001B[34;01mmodels\u001B[39;00m\u001B[38;5;250m \u001B[39m\u001B[38;5;28;01mimport\u001B[39;00m (\n\u001B[32m      4\u001B[39m     linear_model,\n\u001B[32m      5\u001B[39m     quadratic_model\n\u001B[32m      6\u001B[39m )\n",
      "\u001B[31mModuleNotFoundError\u001B[39m: No module named 'kats'"
     ]
    }
   ],
   "execution_count": 15
  },
  {
   "cell_type": "code",
   "execution_count": null,
   "id": "8379225b-c620-491f-8357-b4ac822deb50",
   "metadata": {
    "id": "8379225b-c620-491f-8357-b4ac822deb50"
   },
   "outputs": [],
   "source": [
    "from kats.consts import TimeSeriesData\n",
    "TARGET_COL = \"new_cases\"\n",
    "\n",
    "df_ts = TimeSeriesData(\n",
    "    value=df[TARGET_COL], time=df[\"date\"]\n",
    ")"
   ]
  },
  {
   "cell_type": "code",
   "execution_count": null,
   "id": "b03eca14-47e3-4280-a178-3b78e9f4d58f",
   "metadata": {
    "colab": {
     "base_uri": "https://localhost:8080/"
    },
    "id": "b03eca14-47e3-4280-a178-3b78e9f4d58f",
    "outputId": "be5d4373-935c-497c-f706-d2522e37c5c5"
   },
   "outputs": [],
   "source": [
    "m = KatsEnsemble(\n",
    "    data=df_ts, \n",
    "    params=KatsEnsembleParam\n",
    ").fit()"
   ]
  },
  {
   "cell_type": "code",
   "execution_count": null,
   "id": "I-QkTf2kBiRE",
   "metadata": {
    "colab": {
     "base_uri": "https://localhost:8080/",
     "height": 419
    },
    "id": "I-QkTf2kBiRE",
    "outputId": "a42a5154-4f23-466b-cf00-9d9616ab84f4"
   },
   "outputs": [],
   "source": [
    "m.predict(steps=90).aggregate()"
   ]
  },
  {
   "cell_type": "code",
   "execution_count": null,
   "id": "c6c05f39-8e78-40cd-a43c-0ae2eed3c200",
   "metadata": {
    "colab": {
     "base_uri": "https://localhost:8080/",
     "height": 426
    },
    "id": "c6c05f39-8e78-40cd-a43c-0ae2eed3c200",
    "outputId": "f9454627-6e0e-4217-e789-80802cd87d22"
   },
   "outputs": [],
   "source": [
    "m.predict(steps=90)\n",
    "m.aggregate()\n",
    "m.plot()\n",
    "plt.ylabel(TARGET_COL)"
   ]
  },
  {
   "cell_type": "code",
   "execution_count": null,
   "id": "22489efc-329a-43d7-8524-ebc46a7d0494",
   "metadata": {
    "id": "22489efc-329a-43d7-8524-ebc46a7d0494"
   },
   "outputs": [],
   "source": []
  }
 ],
 "metadata": {
  "colab": {
   "collapsed_sections": [],
   "name": "Kats",
   "provenance": []
  },
  "kernelspec": {
   "display_name": "Python 3",
   "language": "python",
   "name": "python3"
  },
  "language_info": {
   "codemirror_mode": {
    "name": "ipython",
    "version": 3
   },
   "file_extension": ".py",
   "mimetype": "text/x-python",
   "name": "python",
   "nbconvert_exporter": "python",
   "pygments_lexer": "ipython3",
   "version": "3.8.8"
  }
 },
 "nbformat": 4,
 "nbformat_minor": 5
}

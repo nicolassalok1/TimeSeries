{
 "cells": [
  {
   "cell_type": "markdown",
   "id": "7ea3881f-ddfc-475b-bfa9-bb46456ffee4",
   "metadata": {},
   "source": [
    "<a href=\"https://colab.research.google.com/github/PacktPublishing/Machine-Learning-for-Time-Series-with-Python/blob/master/chapter7/Kats.ipynb\" target=\"_parent\\\"><img src=\"https://colab.research.google.com/assets/colab-badge.svg\" alt=\"Open In Colab\"/></a>"
   ]
  },
  {
   "cell_type": "code",
   "id": "bde1b68e-20b6-42e1-a5a8-81824e365545",
   "metadata": {
    "colab": {
     "base_uri": "https://localhost:8080/"
    },
    "id": "bde1b68e-20b6-42e1-a5a8-81824e365545",
    "outputId": "f290afb2-8026-4792-e11f-2b5572336c3a",
    "ExecuteTime": {
     "end_time": "2025-05-30T09:21:33.590264Z",
     "start_time": "2025-05-30T09:21:31.686665Z"
    }
   },
   "source": [
    "!MINIMAL=1 pip install kats"
   ],
   "outputs": [
    {
     "name": "stdout",
     "output_type": "stream",
     "text": [
      "/bin/bash: warning: setlocale: LC_ALL: cannot change locale (en_US.UTF-8)\r\n",
      "Collecting kats\r\n",
      "  Using cached kats-0.2.0-py3-none-any.whl.metadata (9.4 kB)\r\n",
      "Requirement already satisfied: attrs>=21.2.0 in /root/miniconda3/envs/TimeSeries/lib/python3.12/site-packages (from kats) (24.3.0)\r\n",
      "Requirement already satisfied: deprecated>=1.2.12 in /root/.local/lib/python3.12/site-packages (from kats) (1.2.18)\r\n",
      "Requirement already satisfied: matplotlib>=2.0.0 in /root/miniconda3/envs/TimeSeries/lib/python3.12/site-packages (from kats) (3.10.1)\r\n",
      "Collecting numpy<1.22,>=1.21 (from kats)\r\n",
      "  Using cached numpy-1.21.1.zip (10.3 MB)\r\n",
      "  Installing build dependencies ... \u001B[?25ldone\r\n",
      "\u001B[?25h  Getting requirements to build wheel ... \u001B[?25ldone\r\n",
      "\u001B[31mERROR: Exception:\r\n",
      "Traceback (most recent call last):\r\n",
      "  File \"/root/miniconda3/envs/TimeSeries/lib/python3.12/site-packages/pip/_internal/cli/base_command.py\", line 105, in _run_wrapper\r\n",
      "    status = _inner_run()\r\n",
      "             ^^^^^^^^^^^^\r\n",
      "  File \"/root/miniconda3/envs/TimeSeries/lib/python3.12/site-packages/pip/_internal/cli/base_command.py\", line 96, in _inner_run\r\n",
      "    return self.run(options, args)\r\n",
      "           ^^^^^^^^^^^^^^^^^^^^^^^\r\n",
      "  File \"/root/miniconda3/envs/TimeSeries/lib/python3.12/site-packages/pip/_internal/cli/req_command.py\", line 68, in wrapper\r\n",
      "    return func(self, options, args)\r\n",
      "           ^^^^^^^^^^^^^^^^^^^^^^^^^\r\n",
      "  File \"/root/miniconda3/envs/TimeSeries/lib/python3.12/site-packages/pip/_internal/commands/install.py\", line 387, in run\r\n",
      "    requirement_set = resolver.resolve(\r\n",
      "                      ^^^^^^^^^^^^^^^^^\r\n",
      "  File \"/root/miniconda3/envs/TimeSeries/lib/python3.12/site-packages/pip/_internal/resolution/resolvelib/resolver.py\", line 96, in resolve\r\n",
      "    result = self._result = resolver.resolve(\r\n",
      "                            ^^^^^^^^^^^^^^^^^\r\n",
      "  File \"/root/miniconda3/envs/TimeSeries/lib/python3.12/site-packages/pip/_vendor/resolvelib/resolvers/resolution.py\", line 515, in resolve\r\n",
      "    state = resolution.resolve(requirements, max_rounds=max_rounds)\r\n",
      "            ^^^^^^^^^^^^^^^^^^^^^^^^^^^^^^^^^^^^^^^^^^^^^^^^^^^^^^^\r\n",
      "  File \"/root/miniconda3/envs/TimeSeries/lib/python3.12/site-packages/pip/_vendor/resolvelib/resolvers/resolution.py\", line 444, in resolve\r\n",
      "    failure_criterion = self._attempt_to_pin_criterion(name)\r\n",
      "                        ^^^^^^^^^^^^^^^^^^^^^^^^^^^^^^^^^^^^\r\n",
      "  File \"/root/miniconda3/envs/TimeSeries/lib/python3.12/site-packages/pip/_vendor/resolvelib/resolvers/resolution.py\", line 211, in _attempt_to_pin_criterion\r\n",
      "    criteria = self._get_updated_criteria(candidate)\r\n",
      "               ^^^^^^^^^^^^^^^^^^^^^^^^^^^^^^^^^^^^^\r\n",
      "  File \"/root/miniconda3/envs/TimeSeries/lib/python3.12/site-packages/pip/_vendor/resolvelib/resolvers/resolution.py\", line 202, in _get_updated_criteria\r\n",
      "    self._add_to_criteria(criteria, requirement, parent=candidate)\r\n",
      "  File \"/root/miniconda3/envs/TimeSeries/lib/python3.12/site-packages/pip/_vendor/resolvelib/resolvers/resolution.py\", line 141, in _add_to_criteria\r\n",
      "    if not criterion.candidates:\r\n",
      "           ^^^^^^^^^^^^^^^^^^^^\r\n",
      "  File \"/root/miniconda3/envs/TimeSeries/lib/python3.12/site-packages/pip/_vendor/resolvelib/structs.py\", line 194, in __bool__\r\n",
      "    return bool(self._sequence)\r\n",
      "           ^^^^^^^^^^^^^^^^^^^^\r\n",
      "  File \"/root/miniconda3/envs/TimeSeries/lib/python3.12/site-packages/pip/_internal/resolution/resolvelib/found_candidates.py\", line 163, in __bool__\r\n",
      "    self._bool = any(self)\r\n",
      "                 ^^^^^^^^^\r\n",
      "  File \"/root/miniconda3/envs/TimeSeries/lib/python3.12/site-packages/pip/_internal/resolution/resolvelib/found_candidates.py\", line 147, in <genexpr>\r\n",
      "    return (c for c in iterator if id(c) not in self._incompatible_ids)\r\n",
      "                       ^^^^^^^^\r\n",
      "  File \"/root/miniconda3/envs/TimeSeries/lib/python3.12/site-packages/pip/_internal/resolution/resolvelib/found_candidates.py\", line 37, in _iter_built\r\n",
      "    candidate = func()\r\n",
      "                ^^^^^^\r\n",
      "  File \"/root/miniconda3/envs/TimeSeries/lib/python3.12/site-packages/pip/_internal/resolution/resolvelib/factory.py\", line 187, in _make_candidate_from_link\r\n",
      "    base: Optional[BaseCandidate] = self._make_base_candidate_from_link(\r\n",
      "                                    ^^^^^^^^^^^^^^^^^^^^^^^^^^^^^^^^^^^^\r\n",
      "  File \"/root/miniconda3/envs/TimeSeries/lib/python3.12/site-packages/pip/_internal/resolution/resolvelib/factory.py\", line 233, in _make_base_candidate_from_link\r\n",
      "    self._link_candidate_cache[link] = LinkCandidate(\r\n",
      "                                       ^^^^^^^^^^^^^^\r\n",
      "  File \"/root/miniconda3/envs/TimeSeries/lib/python3.12/site-packages/pip/_internal/resolution/resolvelib/candidates.py\", line 306, in __init__\r\n",
      "    super().__init__(\r\n",
      "  File \"/root/miniconda3/envs/TimeSeries/lib/python3.12/site-packages/pip/_internal/resolution/resolvelib/candidates.py\", line 159, in __init__\r\n",
      "    self.dist = self._prepare()\r\n",
      "                ^^^^^^^^^^^^^^^\r\n",
      "  File \"/root/miniconda3/envs/TimeSeries/lib/python3.12/site-packages/pip/_internal/resolution/resolvelib/candidates.py\", line 236, in _prepare\r\n",
      "    dist = self._prepare_distribution()\r\n",
      "           ^^^^^^^^^^^^^^^^^^^^^^^^^^^^\r\n",
      "  File \"/root/miniconda3/envs/TimeSeries/lib/python3.12/site-packages/pip/_internal/resolution/resolvelib/candidates.py\", line 317, in _prepare_distribution\r\n",
      "    return preparer.prepare_linked_requirement(self._ireq, parallel_builds=True)\r\n",
      "           ^^^^^^^^^^^^^^^^^^^^^^^^^^^^^^^^^^^^^^^^^^^^^^^^^^^^^^^^^^^^^^^^^^^^^\r\n",
      "  File \"/root/miniconda3/envs/TimeSeries/lib/python3.12/site-packages/pip/_internal/operations/prepare.py\", line 532, in prepare_linked_requirement\r\n",
      "    return self._prepare_linked_requirement(req, parallel_builds)\r\n",
      "           ^^^^^^^^^^^^^^^^^^^^^^^^^^^^^^^^^^^^^^^^^^^^^^^^^^^^^^\r\n",
      "  File \"/root/miniconda3/envs/TimeSeries/lib/python3.12/site-packages/pip/_internal/operations/prepare.py\", line 647, in _prepare_linked_requirement\r\n",
      "    dist = _get_prepared_distribution(\r\n",
      "           ^^^^^^^^^^^^^^^^^^^^^^^^^^^\r\n",
      "  File \"/root/miniconda3/envs/TimeSeries/lib/python3.12/site-packages/pip/_internal/operations/prepare.py\", line 71, in _get_prepared_distribution\r\n",
      "    abstract_dist.prepare_distribution_metadata(\r\n",
      "  File \"/root/miniconda3/envs/TimeSeries/lib/python3.12/site-packages/pip/_internal/distributions/sdist.py\", line 56, in prepare_distribution_metadata\r\n",
      "    self._install_build_reqs(finder)\r\n",
      "  File \"/root/miniconda3/envs/TimeSeries/lib/python3.12/site-packages/pip/_internal/distributions/sdist.py\", line 126, in _install_build_reqs\r\n",
      "    build_reqs = self._get_build_requires_wheel()\r\n",
      "                 ^^^^^^^^^^^^^^^^^^^^^^^^^^^^^^^^\r\n",
      "  File \"/root/miniconda3/envs/TimeSeries/lib/python3.12/site-packages/pip/_internal/distributions/sdist.py\", line 103, in _get_build_requires_wheel\r\n",
      "    return backend.get_requires_for_build_wheel()\r\n",
      "           ^^^^^^^^^^^^^^^^^^^^^^^^^^^^^^^^^^^^^^\r\n",
      "  File \"/root/miniconda3/envs/TimeSeries/lib/python3.12/site-packages/pip/_internal/utils/misc.py\", line 684, in get_requires_for_build_wheel\r\n",
      "    return super().get_requires_for_build_wheel(config_settings=cs)\r\n",
      "           ^^^^^^^^^^^^^^^^^^^^^^^^^^^^^^^^^^^^^^^^^^^^^^^^^^^^^^^^\r\n",
      "  File \"/root/miniconda3/envs/TimeSeries/lib/python3.12/site-packages/pip/_vendor/pyproject_hooks/_impl.py\", line 196, in get_requires_for_build_wheel\r\n",
      "    return self._call_hook(\r\n",
      "           ^^^^^^^^^^^^^^^^\r\n",
      "  File \"/root/miniconda3/envs/TimeSeries/lib/python3.12/site-packages/pip/_vendor/pyproject_hooks/_impl.py\", line 402, in _call_hook\r\n",
      "    raise BackendUnavailable(\r\n",
      "pip._vendor.pyproject_hooks._impl.BackendUnavailable: Cannot import 'setuptools.build_meta'\u001B[0m\u001B[31m\r\n",
      "\u001B[0m\u001B[?25h"
     ]
    }
   ],
   "execution_count": 7
  },
  {
   "cell_type": "code",
   "id": "Jb7RFf_D-YzN",
   "metadata": {
    "colab": {
     "base_uri": "https://localhost:8080/"
    },
    "id": "Jb7RFf_D-YzN",
    "outputId": "681437c3-35c7-461a-f512-170d929c1a38",
    "ExecuteTime": {
     "end_time": "2025-05-30T09:21:35.422479Z",
     "start_time": "2025-05-30T09:21:33.595041Z"
    }
   },
   "source": [
    "!pip install \"numpy==1.20\""
   ],
   "outputs": [
    {
     "name": "stdout",
     "output_type": "stream",
     "text": [
      "/bin/bash: warning: setlocale: LC_ALL: cannot change locale (en_US.UTF-8)\r\n",
      "Collecting numpy==1.20\r\n",
      "  Using cached numpy-1.20.0.zip (8.0 MB)\r\n",
      "  Installing build dependencies ... \u001B[?25ldone\r\n",
      "\u001B[?25h  Getting requirements to build wheel ... \u001B[?25ldone\r\n",
      "\u001B[31mERROR: Exception:\r\n",
      "Traceback (most recent call last):\r\n",
      "  File \"/root/miniconda3/envs/TimeSeries/lib/python3.12/site-packages/pip/_internal/cli/base_command.py\", line 105, in _run_wrapper\r\n",
      "    status = _inner_run()\r\n",
      "             ^^^^^^^^^^^^\r\n",
      "  File \"/root/miniconda3/envs/TimeSeries/lib/python3.12/site-packages/pip/_internal/cli/base_command.py\", line 96, in _inner_run\r\n",
      "    return self.run(options, args)\r\n",
      "           ^^^^^^^^^^^^^^^^^^^^^^^\r\n",
      "  File \"/root/miniconda3/envs/TimeSeries/lib/python3.12/site-packages/pip/_internal/cli/req_command.py\", line 68, in wrapper\r\n",
      "    return func(self, options, args)\r\n",
      "           ^^^^^^^^^^^^^^^^^^^^^^^^^\r\n",
      "  File \"/root/miniconda3/envs/TimeSeries/lib/python3.12/site-packages/pip/_internal/commands/install.py\", line 387, in run\r\n",
      "    requirement_set = resolver.resolve(\r\n",
      "                      ^^^^^^^^^^^^^^^^^\r\n",
      "  File \"/root/miniconda3/envs/TimeSeries/lib/python3.12/site-packages/pip/_internal/resolution/resolvelib/resolver.py\", line 96, in resolve\r\n",
      "    result = self._result = resolver.resolve(\r\n",
      "                            ^^^^^^^^^^^^^^^^^\r\n",
      "  File \"/root/miniconda3/envs/TimeSeries/lib/python3.12/site-packages/pip/_vendor/resolvelib/resolvers/resolution.py\", line 515, in resolve\r\n",
      "    state = resolution.resolve(requirements, max_rounds=max_rounds)\r\n",
      "            ^^^^^^^^^^^^^^^^^^^^^^^^^^^^^^^^^^^^^^^^^^^^^^^^^^^^^^^\r\n",
      "  File \"/root/miniconda3/envs/TimeSeries/lib/python3.12/site-packages/pip/_vendor/resolvelib/resolvers/resolution.py\", line 388, in resolve\r\n",
      "    self._add_to_criteria(self.state.criteria, r, parent=None)\r\n",
      "  File \"/root/miniconda3/envs/TimeSeries/lib/python3.12/site-packages/pip/_vendor/resolvelib/resolvers/resolution.py\", line 141, in _add_to_criteria\r\n",
      "    if not criterion.candidates:\r\n",
      "           ^^^^^^^^^^^^^^^^^^^^\r\n",
      "  File \"/root/miniconda3/envs/TimeSeries/lib/python3.12/site-packages/pip/_vendor/resolvelib/structs.py\", line 194, in __bool__\r\n",
      "    return bool(self._sequence)\r\n",
      "           ^^^^^^^^^^^^^^^^^^^^\r\n",
      "  File \"/root/miniconda3/envs/TimeSeries/lib/python3.12/site-packages/pip/_internal/resolution/resolvelib/found_candidates.py\", line 163, in __bool__\r\n",
      "    self._bool = any(self)\r\n",
      "                 ^^^^^^^^^\r\n",
      "  File \"/root/miniconda3/envs/TimeSeries/lib/python3.12/site-packages/pip/_internal/resolution/resolvelib/found_candidates.py\", line 147, in <genexpr>\r\n",
      "    return (c for c in iterator if id(c) not in self._incompatible_ids)\r\n",
      "                       ^^^^^^^^\r\n",
      "  File \"/root/miniconda3/envs/TimeSeries/lib/python3.12/site-packages/pip/_internal/resolution/resolvelib/found_candidates.py\", line 37, in _iter_built\r\n",
      "    candidate = func()\r\n",
      "                ^^^^^^\r\n",
      "  File \"/root/miniconda3/envs/TimeSeries/lib/python3.12/site-packages/pip/_internal/resolution/resolvelib/factory.py\", line 187, in _make_candidate_from_link\r\n",
      "    base: Optional[BaseCandidate] = self._make_base_candidate_from_link(\r\n",
      "                                    ^^^^^^^^^^^^^^^^^^^^^^^^^^^^^^^^^^^^\r\n",
      "  File \"/root/miniconda3/envs/TimeSeries/lib/python3.12/site-packages/pip/_internal/resolution/resolvelib/factory.py\", line 233, in _make_base_candidate_from_link\r\n",
      "    self._link_candidate_cache[link] = LinkCandidate(\r\n",
      "                                       ^^^^^^^^^^^^^^\r\n",
      "  File \"/root/miniconda3/envs/TimeSeries/lib/python3.12/site-packages/pip/_internal/resolution/resolvelib/candidates.py\", line 306, in __init__\r\n",
      "    super().__init__(\r\n",
      "  File \"/root/miniconda3/envs/TimeSeries/lib/python3.12/site-packages/pip/_internal/resolution/resolvelib/candidates.py\", line 159, in __init__\r\n",
      "    self.dist = self._prepare()\r\n",
      "                ^^^^^^^^^^^^^^^\r\n",
      "  File \"/root/miniconda3/envs/TimeSeries/lib/python3.12/site-packages/pip/_internal/resolution/resolvelib/candidates.py\", line 236, in _prepare\r\n",
      "    dist = self._prepare_distribution()\r\n",
      "           ^^^^^^^^^^^^^^^^^^^^^^^^^^^^\r\n",
      "  File \"/root/miniconda3/envs/TimeSeries/lib/python3.12/site-packages/pip/_internal/resolution/resolvelib/candidates.py\", line 317, in _prepare_distribution\r\n",
      "    return preparer.prepare_linked_requirement(self._ireq, parallel_builds=True)\r\n",
      "           ^^^^^^^^^^^^^^^^^^^^^^^^^^^^^^^^^^^^^^^^^^^^^^^^^^^^^^^^^^^^^^^^^^^^^\r\n",
      "  File \"/root/miniconda3/envs/TimeSeries/lib/python3.12/site-packages/pip/_internal/operations/prepare.py\", line 532, in prepare_linked_requirement\r\n",
      "    return self._prepare_linked_requirement(req, parallel_builds)\r\n",
      "           ^^^^^^^^^^^^^^^^^^^^^^^^^^^^^^^^^^^^^^^^^^^^^^^^^^^^^^\r\n",
      "  File \"/root/miniconda3/envs/TimeSeries/lib/python3.12/site-packages/pip/_internal/operations/prepare.py\", line 647, in _prepare_linked_requirement\r\n",
      "    dist = _get_prepared_distribution(\r\n",
      "           ^^^^^^^^^^^^^^^^^^^^^^^^^^^\r\n",
      "  File \"/root/miniconda3/envs/TimeSeries/lib/python3.12/site-packages/pip/_internal/operations/prepare.py\", line 71, in _get_prepared_distribution\r\n",
      "    abstract_dist.prepare_distribution_metadata(\r\n",
      "  File \"/root/miniconda3/envs/TimeSeries/lib/python3.12/site-packages/pip/_internal/distributions/sdist.py\", line 56, in prepare_distribution_metadata\r\n",
      "    self._install_build_reqs(finder)\r\n",
      "  File \"/root/miniconda3/envs/TimeSeries/lib/python3.12/site-packages/pip/_internal/distributions/sdist.py\", line 126, in _install_build_reqs\r\n",
      "    build_reqs = self._get_build_requires_wheel()\r\n",
      "                 ^^^^^^^^^^^^^^^^^^^^^^^^^^^^^^^^\r\n",
      "  File \"/root/miniconda3/envs/TimeSeries/lib/python3.12/site-packages/pip/_internal/distributions/sdist.py\", line 103, in _get_build_requires_wheel\r\n",
      "    return backend.get_requires_for_build_wheel()\r\n",
      "           ^^^^^^^^^^^^^^^^^^^^^^^^^^^^^^^^^^^^^^\r\n",
      "  File \"/root/miniconda3/envs/TimeSeries/lib/python3.12/site-packages/pip/_internal/utils/misc.py\", line 684, in get_requires_for_build_wheel\r\n",
      "    return super().get_requires_for_build_wheel(config_settings=cs)\r\n",
      "           ^^^^^^^^^^^^^^^^^^^^^^^^^^^^^^^^^^^^^^^^^^^^^^^^^^^^^^^^\r\n",
      "  File \"/root/miniconda3/envs/TimeSeries/lib/python3.12/site-packages/pip/_vendor/pyproject_hooks/_impl.py\", line 196, in get_requires_for_build_wheel\r\n",
      "    return self._call_hook(\r\n",
      "           ^^^^^^^^^^^^^^^^\r\n",
      "  File \"/root/miniconda3/envs/TimeSeries/lib/python3.12/site-packages/pip/_vendor/pyproject_hooks/_impl.py\", line 402, in _call_hook\r\n",
      "    raise BackendUnavailable(\r\n",
      "pip._vendor.pyproject_hooks._impl.BackendUnavailable: Cannot import 'setuptools.build_meta'\u001B[0m\u001B[31m\r\n",
      "\u001B[0m\u001B[?25h"
     ]
    }
   ],
   "execution_count": 8
  },
  {
   "cell_type": "code",
   "id": "e9f62717-49c6-4a08-bd69-67a4c3ebe2d5",
   "metadata": {
    "id": "e9f62717-49c6-4a08-bd69-67a4c3ebe2d5",
    "ExecuteTime": {
     "end_time": "2025-05-30T09:21:35.436116Z",
     "start_time": "2025-05-30T09:21:35.432100Z"
    }
   },
   "source": [
    "import matplotlib.pyplot as plt\n",
    "import seaborn as sns\n",
    "%matplotlib inline\n",
    "\n",
    "plt.style.use('seaborn-v0_8-whitegrid')\n",
    "\n",
    "plt.rcParams[\"font.family\"] = \"Times New Roman\"\n",
    "plt.rcParams[\"font.size\"] = \"17\""
   ],
   "outputs": [],
   "execution_count": 9
  },
  {
   "cell_type": "code",
   "id": "2045898b-51b2-446a-bf30-4102725d36d9",
   "metadata": {
    "id": "2045898b-51b2-446a-bf30-4102725d36d9",
    "ExecuteTime": {
     "end_time": "2025-05-30T09:22:43.481606Z",
     "start_time": "2025-05-30T09:21:35.478128Z"
    }
   },
   "source": [
    "import pandas as pd\n",
    "\n",
    "owid_covid = pd.read_csv(\"https://covid.ourworldindata.org/data/owid-covid-data.csv\")\n",
    "owid_covid[\"date\"] = pd.to_datetime(owid_covid[\"date\"])\n",
    "df = owid_covid[owid_covid.location == \"France\"].set_index(\"date\", drop=True).resample('D').interpolate(method='linear').reset_index()"
   ],
   "outputs": [
    {
     "ename": "IncompleteRead",
     "evalue": "IncompleteRead(102487109 bytes read, 402322 more expected)",
     "output_type": "error",
     "traceback": [
      "\u001B[31m---------------------------------------------------------------------------\u001B[39m",
      "\u001B[31mIncompleteRead\u001B[39m                            Traceback (most recent call last)",
      "\u001B[36mCell\u001B[39m\u001B[36m \u001B[39m\u001B[32mIn[10]\u001B[39m\u001B[32m, line 3\u001B[39m\n\u001B[32m      1\u001B[39m \u001B[38;5;28;01mimport\u001B[39;00m\u001B[38;5;250m \u001B[39m\u001B[34;01mpandas\u001B[39;00m\u001B[38;5;250m \u001B[39m\u001B[38;5;28;01mas\u001B[39;00m\u001B[38;5;250m \u001B[39m\u001B[34;01mpd\u001B[39;00m\n\u001B[32m----> \u001B[39m\u001B[32m3\u001B[39m owid_covid = pd.read_csv(\u001B[33m\"\u001B[39m\u001B[33mhttps://covid.ourworldindata.org/data/owid-covid-data.csv\u001B[39m\u001B[33m\"\u001B[39m)\n\u001B[32m      4\u001B[39m owid_covid[\u001B[33m\"\u001B[39m\u001B[33mdate\u001B[39m\u001B[33m\"\u001B[39m] = pd.to_datetime(owid_covid[\u001B[33m\"\u001B[39m\u001B[33mdate\u001B[39m\u001B[33m\"\u001B[39m])\n\u001B[32m      5\u001B[39m df = owid_covid[owid_covid.location == \u001B[33m\"\u001B[39m\u001B[33mFrance\u001B[39m\u001B[33m\"\u001B[39m].set_index(\u001B[33m\"\u001B[39m\u001B[33mdate\u001B[39m\u001B[33m\"\u001B[39m, drop=\u001B[38;5;28;01mTrue\u001B[39;00m).resample(\u001B[33m'\u001B[39m\u001B[33mD\u001B[39m\u001B[33m'\u001B[39m).interpolate(method=\u001B[33m'\u001B[39m\u001B[33mlinear\u001B[39m\u001B[33m'\u001B[39m).reset_index()\n",
      "\u001B[36mFile \u001B[39m\u001B[32m~/miniconda3/envs/TimeSeries/lib/python3.12/site-packages/pandas/io/parsers/readers.py:1024\u001B[39m, in \u001B[36mread_csv\u001B[39m\u001B[34m(filepath_or_buffer, sep, delimiter, header, names, index_col, usecols, dtype, engine, converters, true_values, false_values, skipinitialspace, skiprows, skipfooter, nrows, na_values, keep_default_na, na_filter, verbose, skip_blank_lines, parse_dates, infer_datetime_format, keep_date_col, date_parser, date_format, dayfirst, cache_dates, iterator, chunksize, compression, thousands, decimal, lineterminator, quotechar, quoting, doublequote, escapechar, comment, encoding, encoding_errors, dialect, on_bad_lines, delim_whitespace, low_memory, memory_map, float_precision, storage_options, dtype_backend)\u001B[39m\n\u001B[32m   1011\u001B[39m \u001B[38;5;28;01mdel\u001B[39;00m kwds[\u001B[33m\"\u001B[39m\u001B[33msep\u001B[39m\u001B[33m\"\u001B[39m]\n\u001B[32m   1013\u001B[39m kwds_defaults = _refine_defaults_read(\n\u001B[32m   1014\u001B[39m     dialect,\n\u001B[32m   1015\u001B[39m     delimiter,\n\u001B[32m   (...)\u001B[39m\u001B[32m   1022\u001B[39m     dtype_backend=dtype_backend,\n\u001B[32m   1023\u001B[39m )\n\u001B[32m-> \u001B[39m\u001B[32m1024\u001B[39m kwds.update(kwds_defaults)\n\u001B[32m   1026\u001B[39m \u001B[38;5;28;01mreturn\u001B[39;00m _read(filepath_or_buffer, kwds)\n",
      "\u001B[36mFile \u001B[39m\u001B[32m~/miniconda3/envs/TimeSeries/lib/python3.12/site-packages/pandas/io/parsers/readers.py:618\u001B[39m, in \u001B[36m_read\u001B[39m\u001B[34m(filepath_or_buffer, kwds)\u001B[39m\n\u001B[32m      0\u001B[39m <Error retrieving source code with stack_data see ipython/ipython#13598>\n",
      "\u001B[36mFile \u001B[39m\u001B[32m~/miniconda3/envs/TimeSeries/lib/python3.12/site-packages/pandas/io/parsers/readers.py:1618\u001B[39m, in \u001B[36m__init__\u001B[39m\u001B[34m(self, f, engine, **kwds)\u001B[39m\n\u001B[32m      0\u001B[39m <Error retrieving source code with stack_data see ipython/ipython#13598>\n",
      "\u001B[36mFile \u001B[39m\u001B[32m~/miniconda3/envs/TimeSeries/lib/python3.12/site-packages/pandas/io/parsers/readers.py:1878\u001B[39m, in \u001B[36m_make_engine\u001B[39m\u001B[34m(self, f, engine)\u001B[39m\n\u001B[32m   1870\u001B[39m \u001B[38;5;28;01melif\u001B[39;00m (\n\u001B[32m   1871\u001B[39m     engine == \u001B[33m\"\u001B[39m\u001B[33mc\u001B[39m\u001B[33m\"\u001B[39m\n\u001B[32m   1872\u001B[39m     \u001B[38;5;129;01mand\u001B[39;00m \u001B[38;5;28mself\u001B[39m.options.get(\u001B[33m\"\u001B[39m\u001B[33mencoding\u001B[39m\u001B[33m\"\u001B[39m, \u001B[33m\"\u001B[39m\u001B[33mutf-8\u001B[39m\u001B[33m\"\u001B[39m) == \u001B[33m\"\u001B[39m\u001B[33mutf-8\u001B[39m\u001B[33m\"\u001B[39m\n\u001B[32m   (...)\u001B[39m\u001B[32m   1875\u001B[39m     \u001B[38;5;66;03m# c engine can decode utf-8 bytes, adding TextIOWrapper makes\u001B[39;00m\n\u001B[32m   1876\u001B[39m     \u001B[38;5;66;03m# the c-engine especially for memory_map=True far slower\u001B[39;00m\n\u001B[32m   1877\u001B[39m     is_text = \u001B[38;5;28;01mFalse\u001B[39;00m\n\u001B[32m-> \u001B[39m\u001B[32m1878\u001B[39m     \u001B[38;5;28;01mif\u001B[39;00m \u001B[33m\"\u001B[39m\u001B[33mb\u001B[39m\u001B[33m\"\u001B[39m \u001B[38;5;129;01mnot\u001B[39;00m \u001B[38;5;129;01min\u001B[39;00m mode:\n\u001B[32m   1879\u001B[39m         mode += \u001B[33m\"\u001B[39m\u001B[33mb\u001B[39m\u001B[33m\"\u001B[39m\n\u001B[32m   1880\u001B[39m \u001B[38;5;28mself\u001B[39m.handles = get_handle(\n\u001B[32m   1881\u001B[39m     f,\n\u001B[32m   1882\u001B[39m     mode,\n\u001B[32m   (...)\u001B[39m\u001B[32m   1888\u001B[39m     storage_options=\u001B[38;5;28mself\u001B[39m.options.get(\u001B[33m\"\u001B[39m\u001B[33mstorage_options\u001B[39m\u001B[33m\"\u001B[39m, \u001B[38;5;28;01mNone\u001B[39;00m),\n\u001B[32m   1889\u001B[39m )\n",
      "\u001B[36mFile \u001B[39m\u001B[32m~/miniconda3/envs/TimeSeries/lib/python3.12/site-packages/pandas/io/common.py:728\u001B[39m, in \u001B[36mget_handle\u001B[39m\u001B[34m(path_or_buf, mode, encoding, compression, memory_map, is_text, errors, storage_options)\u001B[39m\n\u001B[32m    725\u001B[39m     codecs.lookup_error(errors)\n\u001B[32m    727\u001B[39m \u001B[38;5;66;03m# open URLs\u001B[39;00m\n\u001B[32m--> \u001B[39m\u001B[32m728\u001B[39m ioargs = _get_filepath_or_buffer(\n\u001B[32m    729\u001B[39m     path_or_buf,\n\u001B[32m    730\u001B[39m     encoding=encoding,\n\u001B[32m    731\u001B[39m     compression=compression,\n\u001B[32m    732\u001B[39m     mode=mode,\n\u001B[32m    733\u001B[39m     storage_options=storage_options,\n\u001B[32m    734\u001B[39m )\n\u001B[32m    736\u001B[39m handle = ioargs.filepath_or_buffer\n\u001B[32m    737\u001B[39m handles: \u001B[38;5;28mlist\u001B[39m[BaseBuffer]\n",
      "\u001B[36mFile \u001B[39m\u001B[32m~/miniconda3/envs/TimeSeries/lib/python3.12/site-packages/pandas/io/common.py:389\u001B[39m, in \u001B[36m_get_filepath_or_buffer\u001B[39m\u001B[34m(filepath_or_buffer, encoding, compression, mode, storage_options)\u001B[39m\n\u001B[32m    386\u001B[39m         \u001B[38;5;28;01mif\u001B[39;00m content_encoding == \u001B[33m\"\u001B[39m\u001B[33mgzip\u001B[39m\u001B[33m\"\u001B[39m:\n\u001B[32m    387\u001B[39m             \u001B[38;5;66;03m# Override compression based on Content-Encoding header\u001B[39;00m\n\u001B[32m    388\u001B[39m             compression = {\u001B[33m\"\u001B[39m\u001B[33mmethod\u001B[39m\u001B[33m\"\u001B[39m: \u001B[33m\"\u001B[39m\u001B[33mgzip\u001B[39m\u001B[33m\"\u001B[39m}\n\u001B[32m--> \u001B[39m\u001B[32m389\u001B[39m         reader = BytesIO(req.read())\n\u001B[32m    390\u001B[39m     \u001B[38;5;28;01mreturn\u001B[39;00m IOArgs(\n\u001B[32m    391\u001B[39m         filepath_or_buffer=reader,\n\u001B[32m    392\u001B[39m         encoding=encoding,\n\u001B[32m   (...)\u001B[39m\u001B[32m    395\u001B[39m         mode=fsspec_mode,\n\u001B[32m    396\u001B[39m     )\n\u001B[32m    398\u001B[39m \u001B[38;5;28;01mif\u001B[39;00m is_fsspec_url(filepath_or_buffer):\n",
      "\u001B[36mFile \u001B[39m\u001B[32m~/miniconda3/envs/TimeSeries/lib/python3.12/http/client.py:495\u001B[39m, in \u001B[36mHTTPResponse.read\u001B[39m\u001B[34m(self, amt)\u001B[39m\n\u001B[32m    493\u001B[39m \u001B[38;5;28;01melse\u001B[39;00m:\n\u001B[32m    494\u001B[39m     \u001B[38;5;28;01mtry\u001B[39;00m:\n\u001B[32m--> \u001B[39m\u001B[32m495\u001B[39m         s = \u001B[38;5;28mself\u001B[39m._safe_read(\u001B[38;5;28mself\u001B[39m.length)\n\u001B[32m    496\u001B[39m     \u001B[38;5;28;01mexcept\u001B[39;00m IncompleteRead:\n\u001B[32m    497\u001B[39m         \u001B[38;5;28mself\u001B[39m._close_conn()\n",
      "\u001B[36mFile \u001B[39m\u001B[32m~/miniconda3/envs/TimeSeries/lib/python3.12/http/client.py:644\u001B[39m, in \u001B[36mHTTPResponse._safe_read\u001B[39m\u001B[34m(self, amt)\u001B[39m\n\u001B[32m    642\u001B[39m data = \u001B[38;5;28mself\u001B[39m.fp.read(amt)\n\u001B[32m    643\u001B[39m \u001B[38;5;28;01mif\u001B[39;00m \u001B[38;5;28mlen\u001B[39m(data) < amt:\n\u001B[32m--> \u001B[39m\u001B[32m644\u001B[39m     \u001B[38;5;28;01mraise\u001B[39;00m IncompleteRead(data, amt-\u001B[38;5;28mlen\u001B[39m(data))\n\u001B[32m    645\u001B[39m \u001B[38;5;28;01mreturn\u001B[39;00m data\n",
      "\u001B[31mIncompleteRead\u001B[39m: IncompleteRead(102487109 bytes read, 402322 more expected)"
     ]
    }
   ],
   "execution_count": 10
  },
  {
   "cell_type": "code",
   "execution_count": null,
   "id": "d196768c-ccd4-487b-b88a-825f3280f8b8",
   "metadata": {
    "id": "d196768c-ccd4-487b-b88a-825f3280f8b8"
   },
   "outputs": [],
   "source": [
    "from kats.models.ensemble.ensemble import EnsembleParams, BaseModelParams\n",
    "from kats.models.ensemble.kats_ensemble import KatsEnsemble\n",
    "from kats.models import (\n",
    "    linear_model,\n",
    "    quadratic_model\n",
    ")\n",
    "\n",
    "\n",
    "model_params = EnsembleParams(\n",
    "            [\n",
    "                BaseModelParams(\"linear\", linear_model.LinearModelParams()),\n",
    "                BaseModelParams(\"quadratic\", quadratic_model.QuadraticModelParams()),\n",
    "            ]\n",
    "        )\n",
    "\n",
    "# create `KatsEnsembleParam` with detailed configurations \n",
    "KatsEnsembleParam = {\n",
    "    \"models\": model_params,\n",
    "    \"aggregation\": \"weightedavg\",\n",
    "    \"seasonality_length\": 30,\n",
    "    \"decomposition_method\": \"additive\",\n",
    "}"
   ]
  },
  {
   "cell_type": "code",
   "execution_count": null,
   "id": "8379225b-c620-491f-8357-b4ac822deb50",
   "metadata": {
    "id": "8379225b-c620-491f-8357-b4ac822deb50"
   },
   "outputs": [],
   "source": [
    "from kats.consts import TimeSeriesData\n",
    "TARGET_COL = \"new_cases\"\n",
    "\n",
    "df_ts = TimeSeriesData(\n",
    "    value=df[TARGET_COL], time=df[\"date\"]\n",
    ")"
   ]
  },
  {
   "cell_type": "code",
   "execution_count": null,
   "id": "b03eca14-47e3-4280-a178-3b78e9f4d58f",
   "metadata": {
    "colab": {
     "base_uri": "https://localhost:8080/"
    },
    "id": "b03eca14-47e3-4280-a178-3b78e9f4d58f",
    "outputId": "be5d4373-935c-497c-f706-d2522e37c5c5"
   },
   "outputs": [],
   "source": [
    "m = KatsEnsemble(\n",
    "    data=df_ts, \n",
    "    params=KatsEnsembleParam\n",
    ").fit()"
   ]
  },
  {
   "cell_type": "code",
   "execution_count": null,
   "id": "I-QkTf2kBiRE",
   "metadata": {
    "colab": {
     "base_uri": "https://localhost:8080/",
     "height": 419
    },
    "id": "I-QkTf2kBiRE",
    "outputId": "a42a5154-4f23-466b-cf00-9d9616ab84f4"
   },
   "outputs": [],
   "source": [
    "m.predict(steps=90).aggregate()"
   ]
  },
  {
   "cell_type": "code",
   "execution_count": null,
   "id": "c6c05f39-8e78-40cd-a43c-0ae2eed3c200",
   "metadata": {
    "colab": {
     "base_uri": "https://localhost:8080/",
     "height": 426
    },
    "id": "c6c05f39-8e78-40cd-a43c-0ae2eed3c200",
    "outputId": "f9454627-6e0e-4217-e789-80802cd87d22"
   },
   "outputs": [],
   "source": [
    "m.predict(steps=90)\n",
    "m.aggregate()\n",
    "m.plot()\n",
    "plt.ylabel(TARGET_COL)"
   ]
  },
  {
   "cell_type": "code",
   "execution_count": null,
   "id": "22489efc-329a-43d7-8524-ebc46a7d0494",
   "metadata": {
    "id": "22489efc-329a-43d7-8524-ebc46a7d0494"
   },
   "outputs": [],
   "source": []
  }
 ],
 "metadata": {
  "colab": {
   "collapsed_sections": [],
   "name": "Kats",
   "provenance": []
  },
  "kernelspec": {
   "display_name": "Python 3",
   "language": "python",
   "name": "python3"
  },
  "language_info": {
   "codemirror_mode": {
    "name": "ipython",
    "version": 3
   },
   "file_extension": ".py",
   "mimetype": "text/x-python",
   "name": "python",
   "nbconvert_exporter": "python",
   "pygments_lexer": "ipython3",
   "version": "3.8.8"
  }
 },
 "nbformat": 4,
 "nbformat_minor": 5
}

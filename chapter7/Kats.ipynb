{
 "cells": [
  {
   "cell_type": "markdown",
   "id": "7ea3881f-ddfc-475b-bfa9-bb46456ffee4",
   "metadata": {},
   "source": [
    "<a href=\"https://colab.research.google.com/github/PacktPublishing/Machine-Learning-for-Time-Series-with-Python/blob/master/chapter7/Kats.ipynb\" target=\"_parent\\\"><img src=\"https://colab.research.google.com/assets/colab-badge.svg\" alt=\"Open In Colab\"/></a>"
   ]
  },
  {
   "cell_type": "code",
   "id": "bde1b68e-20b6-42e1-a5a8-81824e365545",
   "metadata": {
    "colab": {
     "base_uri": "https://localhost:8080/"
    },
    "id": "bde1b68e-20b6-42e1-a5a8-81824e365545",
    "outputId": "f290afb2-8026-4792-e11f-2b5572336c3a",
    "ExecuteTime": {
     "end_time": "2025-05-31T07:28:29.228561500Z",
     "start_time": "2025-05-31T07:27:23.302777Z"
    }
   },
   "source": "#!MINIMAL=1 pip install kats",
   "outputs": [],
   "execution_count": 1
  },
  {
   "cell_type": "code",
   "id": "Jb7RFf_D-YzN",
   "metadata": {
    "colab": {
     "base_uri": "https://localhost:8080/"
    },
    "id": "Jb7RFf_D-YzN",
    "outputId": "681437c3-35c7-461a-f512-170d929c1a38",
    "ExecuteTime": {
     "end_time": "2025-05-31T07:28:29.229570900Z",
     "start_time": "2025-05-31T07:27:23.330326Z"
    }
   },
   "source": "#!pip install \"numpy==1.20\"",
   "outputs": [],
   "execution_count": 2
  },
  {
   "cell_type": "code",
   "id": "e9f62717-49c6-4a08-bd69-67a4c3ebe2d5",
   "metadata": {
    "id": "e9f62717-49c6-4a08-bd69-67a4c3ebe2d5",
    "ExecuteTime": {
     "end_time": "2025-05-31T07:28:29.235751400Z",
     "start_time": "2025-05-31T07:27:23.390228Z"
    }
   },
   "source": [
    "import matplotlib.pyplot as plt\n",
    "import seaborn as sns\n",
    "%matplotlib inline\n",
    "\n",
    "plt.style.use('seaborn-v0_8-whitegrid')\n",
    "\n",
    "plt.rcParams[\"font.family\"] = \"Times New Roman\"\n",
    "plt.rcParams[\"font.size\"] = \"17\""
   ],
   "outputs": [],
   "execution_count": 3
  },
  {
   "cell_type": "code",
   "id": "2045898b-51b2-446a-bf30-4102725d36d9",
   "metadata": {
    "id": "2045898b-51b2-446a-bf30-4102725d36d9",
    "ExecuteTime": {
     "end_time": "2025-05-31T07:28:28.945902Z",
     "start_time": "2025-05-31T07:27:23.450013Z"
    }
   },
   "source": [
    "import pandas as pd\n",
    "\n",
    "owid_covid = pd.read_csv(\"https://covid.ourworldindata.org/data/owid-covid-data.csv\")\n",
    "owid_covid[\"date\"] = pd.to_datetime(owid_covid[\"date\"])\n",
    "df = owid_covid[owid_covid.location == \"France\"].set_index(\"date\", drop=True).resample('D').interpolate(method='linear').reset_index()"
   ],
   "outputs": [
    {
     "name": "stderr",
     "output_type": "stream",
     "text": [
      "/tmp/ipykernel_5118/833221682.py:5: FutureWarning: DataFrame.interpolate with object dtype is deprecated and will raise in a future version. Call obj.infer_objects(copy=False) before interpolating instead.\n",
      "  df = owid_covid[owid_covid.location == \"France\"].set_index(\"date\", drop=True).resample('D').interpolate(method='linear').reset_index()\n"
     ]
    }
   ],
   "execution_count": 4
  },
  {
   "cell_type": "code",
   "id": "d196768c-ccd4-487b-b88a-825f3280f8b8",
   "metadata": {
    "id": "d196768c-ccd4-487b-b88a-825f3280f8b8",
    "ExecuteTime": {
     "end_time": "2025-05-31T07:28:29.208652Z",
     "start_time": "2025-05-31T07:28:29.003308Z"
    }
   },
   "source": [
    "from kats.models.ensemble.ensemble import EnsembleParams, BaseModelParams\n",
    "from kats.models.ensemble.kats_ensemble import KatsEnsemble\n",
    "from kats.models import (\n",
    "    linear_model,\n",
    "    quadratic_model\n",
    ")\n",
    "\n",
    "\n",
    "model_params = EnsembleParams(\n",
    "            [\n",
    "                BaseModelParams(\"linear\", linear_model.LinearModelParams()),\n",
    "                BaseModelParams(\"quadratic\", quadratic_model.QuadraticModelParams()),\n",
    "            ]\n",
    "        )\n",
    "\n",
    "# create `KatsEnsembleParam` with detailed configurations \n",
    "KatsEnsembleParam = {\n",
    "    \"models\": model_params,\n",
    "    \"aggregation\": \"weightedavg\",\n",
    "    \"seasonality_length\": 30,\n",
    "    \"decomposition_method\": \"additive\",\n",
    "}"
   ],
   "outputs": [
    {
     "ename": "ModuleNotFoundError",
     "evalue": "No module named 'kats'",
     "output_type": "error",
     "traceback": [
      "\u001B[31m---------------------------------------------------------------------------\u001B[39m",
      "\u001B[31mModuleNotFoundError\u001B[39m                       Traceback (most recent call last)",
      "\u001B[36mCell\u001B[39m\u001B[36m \u001B[39m\u001B[32mIn[5]\u001B[39m\u001B[32m, line 1\u001B[39m\n\u001B[32m----> \u001B[39m\u001B[32m1\u001B[39m \u001B[38;5;28;01mfrom\u001B[39;00m\u001B[38;5;250m \u001B[39m\u001B[34;01mkats\u001B[39;00m\u001B[34;01m.\u001B[39;00m\u001B[34;01mmodels\u001B[39;00m\u001B[34;01m.\u001B[39;00m\u001B[34;01mensemble\u001B[39;00m\u001B[34;01m.\u001B[39;00m\u001B[34;01mensemble\u001B[39;00m\u001B[38;5;250m \u001B[39m\u001B[38;5;28;01mimport\u001B[39;00m EnsembleParams, BaseModelParams\n\u001B[32m      2\u001B[39m \u001B[38;5;28;01mfrom\u001B[39;00m\u001B[38;5;250m \u001B[39m\u001B[34;01mkats\u001B[39;00m\u001B[34;01m.\u001B[39;00m\u001B[34;01mmodels\u001B[39;00m\u001B[34;01m.\u001B[39;00m\u001B[34;01mensemble\u001B[39;00m\u001B[34;01m.\u001B[39;00m\u001B[34;01mkats_ensemble\u001B[39;00m\u001B[38;5;250m \u001B[39m\u001B[38;5;28;01mimport\u001B[39;00m KatsEnsemble\n\u001B[32m      3\u001B[39m \u001B[38;5;28;01mfrom\u001B[39;00m\u001B[38;5;250m \u001B[39m\u001B[34;01mkats\u001B[39;00m\u001B[34;01m.\u001B[39;00m\u001B[34;01mmodels\u001B[39;00m\u001B[38;5;250m \u001B[39m\u001B[38;5;28;01mimport\u001B[39;00m (\n\u001B[32m      4\u001B[39m     linear_model,\n\u001B[32m      5\u001B[39m     quadratic_model\n\u001B[32m      6\u001B[39m )\n",
      "\u001B[31mModuleNotFoundError\u001B[39m: No module named 'kats'"
     ]
    }
   ],
   "execution_count": 5
  },
  {
   "cell_type": "code",
   "execution_count": null,
   "id": "8379225b-c620-491f-8357-b4ac822deb50",
   "metadata": {
    "id": "8379225b-c620-491f-8357-b4ac822deb50"
   },
   "outputs": [],
   "source": [
    "from kats.consts import TimeSeriesData\n",
    "TARGET_COL = \"new_cases\"\n",
    "\n",
    "df_ts = TimeSeriesData(\n",
    "    value=df[TARGET_COL], time=df[\"date\"]\n",
    ")"
   ]
  },
  {
   "cell_type": "code",
   "execution_count": null,
   "id": "b03eca14-47e3-4280-a178-3b78e9f4d58f",
   "metadata": {
    "colab": {
     "base_uri": "https://localhost:8080/"
    },
    "id": "b03eca14-47e3-4280-a178-3b78e9f4d58f",
    "outputId": "be5d4373-935c-497c-f706-d2522e37c5c5"
   },
   "outputs": [],
   "source": [
    "m = KatsEnsemble(\n",
    "    data=df_ts, \n",
    "    params=KatsEnsembleParam\n",
    ").fit()"
   ]
  },
  {
   "cell_type": "code",
   "execution_count": null,
   "id": "I-QkTf2kBiRE",
   "metadata": {
    "colab": {
     "base_uri": "https://localhost:8080/",
     "height": 419
    },
    "id": "I-QkTf2kBiRE",
    "outputId": "a42a5154-4f23-466b-cf00-9d9616ab84f4"
   },
   "outputs": [],
   "source": [
    "m.predict(steps=90).aggregate()"
   ]
  },
  {
   "cell_type": "code",
   "execution_count": null,
   "id": "c6c05f39-8e78-40cd-a43c-0ae2eed3c200",
   "metadata": {
    "colab": {
     "base_uri": "https://localhost:8080/",
     "height": 426
    },
    "id": "c6c05f39-8e78-40cd-a43c-0ae2eed3c200",
    "outputId": "f9454627-6e0e-4217-e789-80802cd87d22"
   },
   "outputs": [],
   "source": [
    "m.predict(steps=90)\n",
    "m.aggregate()\n",
    "m.plot()\n",
    "plt.ylabel(TARGET_COL)"
   ]
  },
  {
   "cell_type": "code",
   "execution_count": null,
   "id": "22489efc-329a-43d7-8524-ebc46a7d0494",
   "metadata": {
    "id": "22489efc-329a-43d7-8524-ebc46a7d0494"
   },
   "outputs": [],
   "source": []
  }
 ],
 "metadata": {
  "colab": {
   "collapsed_sections": [],
   "name": "Kats",
   "provenance": []
  },
  "kernelspec": {
   "display_name": "Python 3",
   "language": "python",
   "name": "python3"
  },
  "language_info": {
   "codemirror_mode": {
    "name": "ipython",
    "version": 3
   },
   "file_extension": ".py",
   "mimetype": "text/x-python",
   "name": "python",
   "nbconvert_exporter": "python",
   "pygments_lexer": "ipython3",
   "version": "3.8.8"
  }
 },
 "nbformat": 4,
 "nbformat_minor": 5
}

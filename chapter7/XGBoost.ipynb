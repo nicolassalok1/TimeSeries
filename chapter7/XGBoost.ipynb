{
 "cells": [
  {
   "cell_type": "markdown",
   "metadata": {},
   "source": [
    "<a href=\"https://colab.research.google.com/github/PacktPublishing/Machine-Learning-for-Time-Series-with-Python/blob/master/chapter7/XGBoost.ipynb\" target=\"_parent\\\"><img src=\"https://colab.research.google.com/assets/colab-badge.svg\" alt=\"Open In Colab\"/></a>"
   ]
  },
  {
   "cell_type": "code",
   "metadata": {
    "id": "cjiXyuy5e2Fj",
    "outputId": "26e9d719-07e0-4a60-8005-c05a24e1e009",
    "ExecuteTime": {
     "end_time": "2025-05-30T11:01:46.660003Z",
     "start_time": "2025-05-30T11:01:46.087269Z"
    }
   },
   "source": [
    "!pip install xgboost"
   ],
   "outputs": [
    {
     "name": "stdout",
     "output_type": "stream",
     "text": [
      "/bin/bash: warning: setlocale: LC_ALL: cannot change locale (en_US.UTF-8)\r\n",
      "Requirement already satisfied: xgboost in /root/miniconda3/envs/TimeSeries/lib/python3.12/site-packages (3.0.0)\r\n",
      "Requirement already satisfied: numpy in /root/miniconda3/envs/TimeSeries/lib/python3.12/site-packages (from xgboost) (1.26.0)\r\n",
      "Requirement already satisfied: nvidia-nccl-cu12 in /root/miniconda3/envs/TimeSeries/lib/python3.12/site-packages (from xgboost) (2.26.5)\r\n",
      "Requirement already satisfied: scipy in /root/miniconda3/envs/TimeSeries/lib/python3.12/site-packages (from xgboost) (1.15.1)\r\n",
      "\u001B[33mWARNING: Running pip as the 'root' user can result in broken permissions and conflicting behaviour with the system package manager, possibly rendering your system unusable. It is recommended to use a virtual environment instead: https://pip.pypa.io/warnings/venv. Use the --root-user-action option if you know what you are doing and want to suppress this warning.\u001B[0m\u001B[33m\r\n",
      "\u001B[0m"
     ]
    }
   ],
   "execution_count": 1
  },
  {
   "cell_type": "code",
   "metadata": {
    "id": "3CaAZqSGe2Fi",
    "ExecuteTime": {
     "end_time": "2025-05-30T11:01:46.741439Z",
     "start_time": "2025-05-30T11:01:46.735985Z"
    }
   },
   "source": [
    "import matplotlib.pyplot as plt\n",
    "import seaborn as sns\n",
    "%matplotlib inline\n",
    "\n",
    "plt.style.use('seaborn-v0_8-whitegrid')\n",
    "\n",
    "plt.rcParams[\"font.family\"] = \"Times New Roman\"\n",
    "plt.rcParams[\"font.size\"] = \"17\""
   ],
   "outputs": [],
   "execution_count": 2
  },
  {
   "cell_type": "code",
   "metadata": {
    "id": "UpEJozDdyizN",
    "ExecuteTime": {
     "end_time": "2025-05-30T11:02:42.154125Z",
     "start_time": "2025-05-30T11:01:46.794147Z"
    }
   },
   "source": [
    "import pandas as pd\n",
    "import requests\n",
    "from io import StringIO\n",
    "\n",
    "url = \"https://covid.ourworldindata.org/data/owid-covid-data.csv\"\n",
    "response = requests.get(url)\n",
    "response.raise_for_status()  # lèvera une exception claire en cas d'échec\n",
    "csv_data = StringIO(response.text)\n",
    "\n",
    "owid_covid = pd.read_csv(csv_data)\n",
    "owid_covid[\"date\"] = pd.to_datetime(owid_covid[\"date\"])\n",
    "df = (\n",
    "    owid_covid[owid_covid.location == \"France\"]\n",
    "    .set_index(\"date\", drop=True)\n",
    "    .resample(\"D\")\n",
    "    .interpolate(method=\"linear\")\n",
    "    .reset_index()\n",
    ")\n"
   ],
   "outputs": [
    {
     "name": "stderr",
     "output_type": "stream",
     "text": [
      "/tmp/ipykernel_199334/3488084180.py:16: FutureWarning: DataFrame.interpolate with object dtype is deprecated and will raise in a future version. Call obj.infer_objects(copy=False) before interpolating instead.\n",
      "  .interpolate(method=\"linear\")\n"
     ]
    }
   ],
   "execution_count": 3
  },
  {
   "cell_type": "code",
   "metadata": {
    "id": "WqB6Vwn3e2Fj",
    "ExecuteTime": {
     "end_time": "2025-05-30T11:02:42.243632Z",
     "start_time": "2025-05-30T11:02:42.205056Z"
    }
   },
   "source": [
    "from sklearn.base import TransformerMixin, BaseEstimator\n",
    "from typing import List\n",
    "\n",
    "class DateFeatures(TransformerMixin, BaseEstimator):\n",
    "    \"\"\"DateFeatures transformer.\"\"\"\n",
    "    features = [\n",
    "        \"hour\",\n",
    "        \"year\",\n",
    "        \"day\",\n",
    "        \"weekday\",\n",
    "        \"month\",\n",
    "        \"quarter\",\n",
    "    ]\n",
    "    \n",
    "    def __init__(self):\n",
    "        \"\"\"Nothing much to do.\"\"\"\n",
    "        super().__init__()\n",
    "        self.feature_names: List[str] = []\n",
    "\n",
    "    def get_feature_names(self):\n",
    "        \"\"\"Feature names.\"\"\"\n",
    "        return self.feature_names\n",
    "        \n",
    "    def transform(self, df: pd.DataFrame):\n",
    "        \"\"\"Annotate date features.\"\"\"\n",
    "        Xt = []\n",
    "        for col in df.columns:\n",
    "            for feature in self.features:\n",
    "                date_feature = getattr(\n",
    "                    getattr(\n",
    "                        df[col], \"dt\"\n",
    "                    ), feature\n",
    "                )\n",
    "                date_feature.name = f\"{col}_{feature}\"\n",
    "                Xt.append(date_feature)\n",
    "        \n",
    "        df2 = pd.concat(Xt, axis=1)\n",
    "        self.feature_names = list(df2.columns)\n",
    "        return df2\n",
    "\n",
    "    def fit(self, df: pd.DataFrame, y=None, **fit_params):\n",
    "        \"\"\"No fitting needed.\"\"\"\n",
    "        return self"
   ],
   "outputs": [],
   "execution_count": 4
  },
  {
   "cell_type": "code",
   "metadata": {
    "id": "IhEkSi5azUrM",
    "ExecuteTime": {
     "end_time": "2025-05-30T11:02:42.257271Z",
     "start_time": "2025-05-30T11:02:42.253606Z"
    }
   },
   "source": [
    "import numpy as np\n",
    "from sklearn.base import TransformerMixin, BaseEstimator\n",
    "from typing import Dict\n",
    "\n",
    "class CyclicalFeatures(TransformerMixin, BaseEstimator):\n",
    "    \"\"\"CyclicalFeatures transformer.\"\"\"\n",
    "    \n",
    "    def __init__(self, max_vals: Dict[str, float] = {}):\n",
    "        \"\"\"Nothing much to do.\"\"\"\n",
    "        super().__init__()\n",
    "        self.feature_names: List[str] = []\n",
    "        self.max_vals = max_vals\n",
    "\n",
    "    def get_feature_names(self):\n",
    "        \"\"\"Feature names.\"\"\"\n",
    "        return self.feature_names\n",
    "        \n",
    "    def transform(self, df: pd.DataFrame):\n",
    "        \"\"\"Annotate date features.\"\"\"\n",
    "        Xt = []\n",
    "        for col in df.columns:\n",
    "            if col in self.max_vals:\n",
    "                max_val = self.max_vals[col]\n",
    "            else:\n",
    "                max_val = df[col].max()\n",
    "            for fun_name, fun in [(\"cos\", np.cos), (\"sin\", np.sin)]:\n",
    "                date_feature = fun(2 * np.pi * df[col] / max_val)\n",
    "                date_feature.name = f\"{col}_{fun_name}\"\n",
    "                Xt.append(date_feature)\n",
    "        \n",
    "        df2 = pd.concat(Xt, axis=1)\n",
    "        self.feature_names = list(df2.columns)\n",
    "        return df2\n",
    "\n",
    "    def fit(self, df: pd.DataFrame, y=None, **fit_params):\n",
    "        \"\"\"No fitting needed.\"\"\"\n",
    "        return self"
   ],
   "outputs": [],
   "execution_count": 5
  },
  {
   "cell_type": "code",
   "metadata": {
    "id": "87bELgcAziFi",
    "ExecuteTime": {
     "end_time": "2025-05-30T11:02:42.313087Z",
     "start_time": "2025-05-30T11:02:42.304076Z"
    }
   },
   "source": [
    "from sklearn.compose import ColumnTransformer\n",
    "from sklearn.pipeline import Pipeline, make_pipeline\n",
    "#from sklearn import linear_model\n",
    "\n",
    "\n",
    "preprocessor = ColumnTransformer(\n",
    "    transformers=[(\n",
    "        \"date\",\n",
    "        make_pipeline(\n",
    "            DateFeatures(),\n",
    "            ColumnTransformer(transformers=[\n",
    "                (\"cyclical\", CyclicalFeatures(),\n",
    "                  [\"date_day\", \"date_weekday\", \"date_month\"]\n",
    "                )\n",
    "            ], remainder=\"passthrough\")\n",
    "        ), [\"date\"],\n",
    "  ),], remainder=\"passthrough\"\n",
    ")\n",
    "\n",
    "pipeline = Pipeline(\n",
    "    [\n",
    "        (\"preprocessing\", preprocessor),\n",
    "        #(\"clf\", linear_model.LinearRegression(),),\n",
    "    ]\n",
    ")"
   ],
   "outputs": [],
   "execution_count": 6
  },
  {
   "cell_type": "code",
   "metadata": {
    "colab": {
     "base_uri": "https://localhost:8080/"
    },
    "id": "UvhfdtVre2Fj",
    "outputId": "453afa7a-c3f5-4a51-f693-55d2b7698282",
    "ExecuteTime": {
     "end_time": "2025-05-30T11:02:42.361518Z",
     "start_time": "2025-05-30T11:02:42.354055Z"
    }
   },
   "source": [
    "FEATURE_COLS = [\"date\"]\n",
    "date_features = pipeline.fit_transform(df[FEATURE_COLS])\n",
    "date_features"
   ],
   "outputs": [
    {
     "data": {
      "text/plain": [
       "array([[ 5.28964010e-01,  8.48644257e-01,  1.00000000e+00, ...,\n",
       "         0.00000000e+00,  2.02000000e+03,  1.00000000e+00],\n",
       "       [ 3.47305253e-01,  9.37752132e-01,  1.00000000e+00, ...,\n",
       "         0.00000000e+00,  2.02000000e+03,  1.00000000e+00],\n",
       "       [ 1.51427778e-01,  9.88468324e-01,  5.00000000e-01, ...,\n",
       "         0.00000000e+00,  2.02000000e+03,  1.00000000e+00],\n",
       "       ...,\n",
       "       [ 9.18957812e-01,  3.94355855e-01, -5.00000000e-01, ...,\n",
       "         0.00000000e+00,  2.02400000e+03,  3.00000000e+00],\n",
       "       [ 8.20763441e-01,  5.71268215e-01,  5.00000000e-01, ...,\n",
       "         0.00000000e+00,  2.02400000e+03,  3.00000000e+00],\n",
       "       [ 6.88966919e-01,  7.24792787e-01,  1.00000000e+00, ...,\n",
       "         0.00000000e+00,  2.02400000e+03,  3.00000000e+00]])"
      ]
     },
     "execution_count": 7,
     "metadata": {},
     "output_type": "execute_result"
    }
   ],
   "execution_count": 7
  },
  {
   "cell_type": "code",
   "metadata": {
    "id": "WmhAZE-Me2Fk",
    "ExecuteTime": {
     "end_time": "2025-05-30T11:02:42.463850Z",
     "start_time": "2025-05-30T11:02:42.460854Z"
    }
   },
   "source": [
    "TRAIN_SIZE = int(len(df) * 0.9)\n",
    "HORIZON = 1\n",
    "TARGET_COL = \"new_cases\"\n",
    "\n",
    "X_train, X_test = df.iloc[HORIZON:TRAIN_SIZE], df.iloc[TRAIN_SIZE+HORIZON:]\n",
    "y_train = df.shift(periods=HORIZON).iloc[HORIZON:TRAIN_SIZE][TARGET_COL]\n",
    "y_test = df.shift(periods=HORIZON).iloc[TRAIN_SIZE+HORIZON:][TARGET_COL]"
   ],
   "outputs": [],
   "execution_count": 8
  },
  {
   "cell_type": "code",
   "metadata": {
    "colab": {
     "base_uri": "https://localhost:8080/"
    },
    "id": "aA7GL52je2Fl",
    "outputId": "d19d55fd-a683-4eea-a087-5676a4333077",
    "ExecuteTime": {
     "end_time": "2025-05-30T11:03:13.941851Z",
     "start_time": "2025-05-30T11:02:42.505890Z"
    }
   },
   "source": [
    "from xgboost import XGBRegressor\n",
    "\n",
    "pipeline = Pipeline(\n",
    "    [\n",
    "        (\"preprocessing\", preprocessor),\n",
    "        (\"xgb\", XGBRegressor(objective=\"reg:squarederror\", n_estimators=1000))\n",
    "    ]\n",
    ")\n",
    "pipeline.fit(X_train[FEATURE_COLS], y_train)"
   ],
   "outputs": [
    {
     "data": {
      "text/plain": [
       "Pipeline(steps=[('preprocessing',\n",
       "                 ColumnTransformer(remainder='passthrough',\n",
       "                                   transformers=[('date',\n",
       "                                                  Pipeline(steps=[('datefeatures',\n",
       "                                                                   DateFeatures()),\n",
       "                                                                  ('columntransformer',\n",
       "                                                                   ColumnTransformer(remainder='passthrough',\n",
       "                                                                                     transformers=[('cyclical',\n",
       "                                                                                                    CyclicalFeatures(),\n",
       "                                                                                                    ['date_day',\n",
       "                                                                                                     'date_weekday',\n",
       "                                                                                                     'date_month'])]))]),\n",
       "                                                  ['date'])])),\n",
       "                ('xgb',\n",
       "                 XGBRegressor(base_score=None, b...\n",
       "                              feature_types=None, feature_weights=None,\n",
       "                              gamma=None, grow_policy=None,\n",
       "                              importance_type=None,\n",
       "                              interaction_constraints=None, learning_rate=None,\n",
       "                              max_bin=None, max_cat_threshold=None,\n",
       "                              max_cat_to_onehot=None, max_delta_step=None,\n",
       "                              max_depth=None, max_leaves=None,\n",
       "                              min_child_weight=None, missing=nan,\n",
       "                              monotone_constraints=None, multi_strategy=None,\n",
       "                              n_estimators=1000, n_jobs=None,\n",
       "                              num_parallel_tree=None, ...))])"
      ],
      "text/html": [
       "<style>#sk-container-id-1 {color: black;}#sk-container-id-1 pre{padding: 0;}#sk-container-id-1 div.sk-toggleable {background-color: white;}#sk-container-id-1 label.sk-toggleable__label {cursor: pointer;display: block;width: 100%;margin-bottom: 0;padding: 0.3em;box-sizing: border-box;text-align: center;}#sk-container-id-1 label.sk-toggleable__label-arrow:before {content: \"▸\";float: left;margin-right: 0.25em;color: #696969;}#sk-container-id-1 label.sk-toggleable__label-arrow:hover:before {color: black;}#sk-container-id-1 div.sk-estimator:hover label.sk-toggleable__label-arrow:before {color: black;}#sk-container-id-1 div.sk-toggleable__content {max-height: 0;max-width: 0;overflow: hidden;text-align: left;background-color: #f0f8ff;}#sk-container-id-1 div.sk-toggleable__content pre {margin: 0.2em;color: black;border-radius: 0.25em;background-color: #f0f8ff;}#sk-container-id-1 input.sk-toggleable__control:checked~div.sk-toggleable__content {max-height: 200px;max-width: 100%;overflow: auto;}#sk-container-id-1 input.sk-toggleable__control:checked~label.sk-toggleable__label-arrow:before {content: \"▾\";}#sk-container-id-1 div.sk-estimator input.sk-toggleable__control:checked~label.sk-toggleable__label {background-color: #d4ebff;}#sk-container-id-1 div.sk-label input.sk-toggleable__control:checked~label.sk-toggleable__label {background-color: #d4ebff;}#sk-container-id-1 input.sk-hidden--visually {border: 0;clip: rect(1px 1px 1px 1px);clip: rect(1px, 1px, 1px, 1px);height: 1px;margin: -1px;overflow: hidden;padding: 0;position: absolute;width: 1px;}#sk-container-id-1 div.sk-estimator {font-family: monospace;background-color: #f0f8ff;border: 1px dotted black;border-radius: 0.25em;box-sizing: border-box;margin-bottom: 0.5em;}#sk-container-id-1 div.sk-estimator:hover {background-color: #d4ebff;}#sk-container-id-1 div.sk-parallel-item::after {content: \"\";width: 100%;border-bottom: 1px solid gray;flex-grow: 1;}#sk-container-id-1 div.sk-label:hover label.sk-toggleable__label {background-color: #d4ebff;}#sk-container-id-1 div.sk-serial::before {content: \"\";position: absolute;border-left: 1px solid gray;box-sizing: border-box;top: 0;bottom: 0;left: 50%;z-index: 0;}#sk-container-id-1 div.sk-serial {display: flex;flex-direction: column;align-items: center;background-color: white;padding-right: 0.2em;padding-left: 0.2em;position: relative;}#sk-container-id-1 div.sk-item {position: relative;z-index: 1;}#sk-container-id-1 div.sk-parallel {display: flex;align-items: stretch;justify-content: center;background-color: white;position: relative;}#sk-container-id-1 div.sk-item::before, #sk-container-id-1 div.sk-parallel-item::before {content: \"\";position: absolute;border-left: 1px solid gray;box-sizing: border-box;top: 0;bottom: 0;left: 50%;z-index: -1;}#sk-container-id-1 div.sk-parallel-item {display: flex;flex-direction: column;z-index: 1;position: relative;background-color: white;}#sk-container-id-1 div.sk-parallel-item:first-child::after {align-self: flex-end;width: 50%;}#sk-container-id-1 div.sk-parallel-item:last-child::after {align-self: flex-start;width: 50%;}#sk-container-id-1 div.sk-parallel-item:only-child::after {width: 0;}#sk-container-id-1 div.sk-dashed-wrapped {border: 1px dashed gray;margin: 0 0.4em 0.5em 0.4em;box-sizing: border-box;padding-bottom: 0.4em;background-color: white;}#sk-container-id-1 div.sk-label label {font-family: monospace;font-weight: bold;display: inline-block;line-height: 1.2em;}#sk-container-id-1 div.sk-label-container {text-align: center;}#sk-container-id-1 div.sk-container {/* jupyter's `normalize.less` sets `[hidden] { display: none; }` but bootstrap.min.css set `[hidden] { display: none !important; }` so we also need the `!important` here to be able to override the default hidden behavior on the sphinx rendered scikit-learn.org. See: https://github.com/scikit-learn/scikit-learn/issues/21755 */display: inline-block !important;position: relative;}#sk-container-id-1 div.sk-text-repr-fallback {display: none;}</style><div id=\"sk-container-id-1\" class=\"sk-top-container\"><div class=\"sk-text-repr-fallback\"><pre>Pipeline(steps=[(&#x27;preprocessing&#x27;,\n",
       "                 ColumnTransformer(remainder=&#x27;passthrough&#x27;,\n",
       "                                   transformers=[(&#x27;date&#x27;,\n",
       "                                                  Pipeline(steps=[(&#x27;datefeatures&#x27;,\n",
       "                                                                   DateFeatures()),\n",
       "                                                                  (&#x27;columntransformer&#x27;,\n",
       "                                                                   ColumnTransformer(remainder=&#x27;passthrough&#x27;,\n",
       "                                                                                     transformers=[(&#x27;cyclical&#x27;,\n",
       "                                                                                                    CyclicalFeatures(),\n",
       "                                                                                                    [&#x27;date_day&#x27;,\n",
       "                                                                                                     &#x27;date_weekday&#x27;,\n",
       "                                                                                                     &#x27;date_month&#x27;])]))]),\n",
       "                                                  [&#x27;date&#x27;])])),\n",
       "                (&#x27;xgb&#x27;,\n",
       "                 XGBRegressor(base_score=None, b...\n",
       "                              feature_types=None, feature_weights=None,\n",
       "                              gamma=None, grow_policy=None,\n",
       "                              importance_type=None,\n",
       "                              interaction_constraints=None, learning_rate=None,\n",
       "                              max_bin=None, max_cat_threshold=None,\n",
       "                              max_cat_to_onehot=None, max_delta_step=None,\n",
       "                              max_depth=None, max_leaves=None,\n",
       "                              min_child_weight=None, missing=nan,\n",
       "                              monotone_constraints=None, multi_strategy=None,\n",
       "                              n_estimators=1000, n_jobs=None,\n",
       "                              num_parallel_tree=None, ...))])</pre><b>In a Jupyter environment, please rerun this cell to show the HTML representation or trust the notebook. <br />On GitHub, the HTML representation is unable to render, please try loading this page with nbviewer.org.</b></div><div class=\"sk-container\" hidden><div class=\"sk-item sk-dashed-wrapped\"><div class=\"sk-label-container\"><div class=\"sk-label sk-toggleable\"><input class=\"sk-toggleable__control sk-hidden--visually\" id=\"sk-estimator-id-1\" type=\"checkbox\" ><label for=\"sk-estimator-id-1\" class=\"sk-toggleable__label sk-toggleable__label-arrow\">Pipeline</label><div class=\"sk-toggleable__content\"><pre>Pipeline(steps=[(&#x27;preprocessing&#x27;,\n",
       "                 ColumnTransformer(remainder=&#x27;passthrough&#x27;,\n",
       "                                   transformers=[(&#x27;date&#x27;,\n",
       "                                                  Pipeline(steps=[(&#x27;datefeatures&#x27;,\n",
       "                                                                   DateFeatures()),\n",
       "                                                                  (&#x27;columntransformer&#x27;,\n",
       "                                                                   ColumnTransformer(remainder=&#x27;passthrough&#x27;,\n",
       "                                                                                     transformers=[(&#x27;cyclical&#x27;,\n",
       "                                                                                                    CyclicalFeatures(),\n",
       "                                                                                                    [&#x27;date_day&#x27;,\n",
       "                                                                                                     &#x27;date_weekday&#x27;,\n",
       "                                                                                                     &#x27;date_month&#x27;])]))]),\n",
       "                                                  [&#x27;date&#x27;])])),\n",
       "                (&#x27;xgb&#x27;,\n",
       "                 XGBRegressor(base_score=None, b...\n",
       "                              feature_types=None, feature_weights=None,\n",
       "                              gamma=None, grow_policy=None,\n",
       "                              importance_type=None,\n",
       "                              interaction_constraints=None, learning_rate=None,\n",
       "                              max_bin=None, max_cat_threshold=None,\n",
       "                              max_cat_to_onehot=None, max_delta_step=None,\n",
       "                              max_depth=None, max_leaves=None,\n",
       "                              min_child_weight=None, missing=nan,\n",
       "                              monotone_constraints=None, multi_strategy=None,\n",
       "                              n_estimators=1000, n_jobs=None,\n",
       "                              num_parallel_tree=None, ...))])</pre></div></div></div><div class=\"sk-serial\"><div class=\"sk-item sk-dashed-wrapped\"><div class=\"sk-label-container\"><div class=\"sk-label sk-toggleable\"><input class=\"sk-toggleable__control sk-hidden--visually\" id=\"sk-estimator-id-2\" type=\"checkbox\" ><label for=\"sk-estimator-id-2\" class=\"sk-toggleable__label sk-toggleable__label-arrow\">preprocessing: ColumnTransformer</label><div class=\"sk-toggleable__content\"><pre>ColumnTransformer(remainder=&#x27;passthrough&#x27;,\n",
       "                  transformers=[(&#x27;date&#x27;,\n",
       "                                 Pipeline(steps=[(&#x27;datefeatures&#x27;,\n",
       "                                                  DateFeatures()),\n",
       "                                                 (&#x27;columntransformer&#x27;,\n",
       "                                                  ColumnTransformer(remainder=&#x27;passthrough&#x27;,\n",
       "                                                                    transformers=[(&#x27;cyclical&#x27;,\n",
       "                                                                                   CyclicalFeatures(),\n",
       "                                                                                   [&#x27;date_day&#x27;,\n",
       "                                                                                    &#x27;date_weekday&#x27;,\n",
       "                                                                                    &#x27;date_month&#x27;])]))]),\n",
       "                                 [&#x27;date&#x27;])])</pre></div></div></div><div class=\"sk-parallel\"><div class=\"sk-parallel-item\"><div class=\"sk-item\"><div class=\"sk-label-container\"><div class=\"sk-label sk-toggleable\"><input class=\"sk-toggleable__control sk-hidden--visually\" id=\"sk-estimator-id-3\" type=\"checkbox\" ><label for=\"sk-estimator-id-3\" class=\"sk-toggleable__label sk-toggleable__label-arrow\">date</label><div class=\"sk-toggleable__content\"><pre>[&#x27;date&#x27;]</pre></div></div></div><div class=\"sk-serial\"><div class=\"sk-item\"><div class=\"sk-serial\"><div class=\"sk-item\"><div class=\"sk-estimator sk-toggleable\"><input class=\"sk-toggleable__control sk-hidden--visually\" id=\"sk-estimator-id-4\" type=\"checkbox\" ><label for=\"sk-estimator-id-4\" class=\"sk-toggleable__label sk-toggleable__label-arrow\">DateFeatures</label><div class=\"sk-toggleable__content\"><pre>DateFeatures()</pre></div></div></div><div class=\"sk-item sk-dashed-wrapped\"><div class=\"sk-label-container\"><div class=\"sk-label sk-toggleable\"><input class=\"sk-toggleable__control sk-hidden--visually\" id=\"sk-estimator-id-5\" type=\"checkbox\" ><label for=\"sk-estimator-id-5\" class=\"sk-toggleable__label sk-toggleable__label-arrow\">columntransformer: ColumnTransformer</label><div class=\"sk-toggleable__content\"><pre>ColumnTransformer(remainder=&#x27;passthrough&#x27;,\n",
       "                  transformers=[(&#x27;cyclical&#x27;, CyclicalFeatures(),\n",
       "                                 [&#x27;date_day&#x27;, &#x27;date_weekday&#x27;, &#x27;date_month&#x27;])])</pre></div></div></div><div class=\"sk-parallel\"><div class=\"sk-parallel-item\"><div class=\"sk-item\"><div class=\"sk-label-container\"><div class=\"sk-label sk-toggleable\"><input class=\"sk-toggleable__control sk-hidden--visually\" id=\"sk-estimator-id-6\" type=\"checkbox\" ><label for=\"sk-estimator-id-6\" class=\"sk-toggleable__label sk-toggleable__label-arrow\">cyclical</label><div class=\"sk-toggleable__content\"><pre>[&#x27;date_day&#x27;, &#x27;date_weekday&#x27;, &#x27;date_month&#x27;]</pre></div></div></div><div class=\"sk-serial\"><div class=\"sk-item\"><div class=\"sk-estimator sk-toggleable\"><input class=\"sk-toggleable__control sk-hidden--visually\" id=\"sk-estimator-id-7\" type=\"checkbox\" ><label for=\"sk-estimator-id-7\" class=\"sk-toggleable__label sk-toggleable__label-arrow\">CyclicalFeatures</label><div class=\"sk-toggleable__content\"><pre>CyclicalFeatures()</pre></div></div></div></div></div></div><div class=\"sk-parallel-item\"><div class=\"sk-item\"><div class=\"sk-label-container\"><div class=\"sk-label sk-toggleable\"><input class=\"sk-toggleable__control sk-hidden--visually\" id=\"sk-estimator-id-8\" type=\"checkbox\" ><label for=\"sk-estimator-id-8\" class=\"sk-toggleable__label sk-toggleable__label-arrow\">remainder</label><div class=\"sk-toggleable__content\"><pre></pre></div></div></div><div class=\"sk-serial\"><div class=\"sk-item\"><div class=\"sk-estimator sk-toggleable\"><input class=\"sk-toggleable__control sk-hidden--visually\" id=\"sk-estimator-id-9\" type=\"checkbox\" ><label for=\"sk-estimator-id-9\" class=\"sk-toggleable__label sk-toggleable__label-arrow\">passthrough</label><div class=\"sk-toggleable__content\"><pre>passthrough</pre></div></div></div></div></div></div></div></div></div></div></div></div></div><div class=\"sk-parallel-item\"><div class=\"sk-item\"><div class=\"sk-label-container\"><div class=\"sk-label sk-toggleable\"><input class=\"sk-toggleable__control sk-hidden--visually\" id=\"sk-estimator-id-10\" type=\"checkbox\" ><label for=\"sk-estimator-id-10\" class=\"sk-toggleable__label sk-toggleable__label-arrow\">remainder</label><div class=\"sk-toggleable__content\"><pre>[]</pre></div></div></div><div class=\"sk-serial\"><div class=\"sk-item\"><div class=\"sk-estimator sk-toggleable\"><input class=\"sk-toggleable__control sk-hidden--visually\" id=\"sk-estimator-id-11\" type=\"checkbox\" ><label for=\"sk-estimator-id-11\" class=\"sk-toggleable__label sk-toggleable__label-arrow\">passthrough</label><div class=\"sk-toggleable__content\"><pre>passthrough</pre></div></div></div></div></div></div></div></div><div class=\"sk-item\"><div class=\"sk-estimator sk-toggleable\"><input class=\"sk-toggleable__control sk-hidden--visually\" id=\"sk-estimator-id-12\" type=\"checkbox\" ><label for=\"sk-estimator-id-12\" class=\"sk-toggleable__label sk-toggleable__label-arrow\">XGBRegressor</label><div class=\"sk-toggleable__content\"><pre>XGBRegressor(base_score=None, booster=None, callbacks=None,\n",
       "             colsample_bylevel=None, colsample_bynode=None,\n",
       "             colsample_bytree=None, device=None, early_stopping_rounds=None,\n",
       "             enable_categorical=False, eval_metric=None, feature_types=None,\n",
       "             feature_weights=None, gamma=None, grow_policy=None,\n",
       "             importance_type=None, interaction_constraints=None,\n",
       "             learning_rate=None, max_bin=None, max_cat_threshold=None,\n",
       "             max_cat_to_onehot=None, max_delta_step=None, max_depth=None,\n",
       "             max_leaves=None, min_child_weight=None, missing=nan,\n",
       "             monotone_constraints=None, multi_strategy=None, n_estimators=1000,\n",
       "             n_jobs=None, num_parallel_tree=None, ...)</pre></div></div></div></div></div></div></div>"
      ]
     },
     "execution_count": 9,
     "metadata": {},
     "output_type": "execute_result"
    }
   ],
   "execution_count": 9
  },
  {
   "cell_type": "code",
   "metadata": {
    "id": "6b3PUD4CH5Gx",
    "ExecuteTime": {
     "end_time": "2025-05-30T11:03:14.003112Z",
     "start_time": "2025-05-30T11:03:13.999359Z"
    }
   },
   "source": [
    "MAX_HORIZON = 90\n",
    "X_test_horizon = pd.Series(pd.date_range(\n",
    "    start=df.date.min(), \n",
    "    periods=len(df) + MAX_HORIZON,\n",
    "    name=\"date\"\n",
    ")).reset_index()"
   ],
   "outputs": [],
   "execution_count": 10
  },
  {
   "cell_type": "code",
   "metadata": {
    "id": "t8VoXOzCe2Fl",
    "ExecuteTime": {
     "end_time": "2025-05-30T11:03:14.138616Z",
     "start_time": "2025-05-30T11:03:14.085118Z"
    }
   },
   "source": [
    "forecasted = pd.concat(\n",
    "    [pd.Series(pipeline.predict(X_test_horizon[FEATURE_COLS])), pd.Series(X_test_horizon.date)],\n",
    "    axis=1\n",
    ")\n",
    "forecasted.columns = [TARGET_COL, \"date\"]"
   ],
   "outputs": [],
   "execution_count": 11
  },
  {
   "cell_type": "code",
   "metadata": {
    "id": "7FGnoSbre2Fl",
    "ExecuteTime": {
     "end_time": "2025-05-30T11:03:14.144676Z",
     "start_time": "2025-05-30T11:03:14.141516Z"
    }
   },
   "source": [
    "actual = pd.concat(\n",
    "    [pd.Series(df[TARGET_COL]), pd.Series(df.date)],\n",
    "    axis=1\n",
    ")\n",
    "actual.columns = [TARGET_COL, \"date\"]"
   ],
   "outputs": [],
   "execution_count": 12
  },
  {
   "cell_type": "code",
   "metadata": {
    "colab": {
     "base_uri": "https://localhost:8080/",
     "height": 443
    },
    "id": "XtTKGkoTe2Fm",
    "outputId": "4c3c830f-3df9-4c5b-ad06-41cd623e5e70",
    "ExecuteTime": {
     "end_time": "2025-05-30T11:03:14.504052Z",
     "start_time": "2025-05-30T11:03:14.189991Z"
    }
   },
   "source": [
    "fig, ax = plt.subplots(figsize=(12, 6))\n",
    "forecasted.set_index(\"date\").plot(linestyle='--', ax=ax)\n",
    "actual.set_index(\"date\").plot(linestyle='-.', ax=ax)\n",
    "plt.legend([\"forecast\", \"actual\"])"
   ],
   "outputs": [
    {
     "ename": "ImportError",
     "evalue": "matplotlib is required for plotting when the default backend \"matplotlib\" is selected.",
     "output_type": "error",
     "traceback": [
      "\u001B[31m---------------------------------------------------------------------------\u001B[39m",
      "\u001B[31mImportError\u001B[39m                               Traceback (most recent call last)",
      "\u001B[36mCell\u001B[39m\u001B[36m \u001B[39m\u001B[32mIn[13]\u001B[39m\u001B[32m, line 2\u001B[39m\n\u001B[32m      1\u001B[39m fig, ax = plt.subplots(figsize=(\u001B[32m12\u001B[39m, \u001B[32m6\u001B[39m))\n\u001B[32m----> \u001B[39m\u001B[32m2\u001B[39m forecasted.set_index(\u001B[33m\"\u001B[39m\u001B[33mdate\u001B[39m\u001B[33m\"\u001B[39m).plot(linestyle=\u001B[33m'\u001B[39m\u001B[33m--\u001B[39m\u001B[33m'\u001B[39m, ax=ax)\n\u001B[32m      3\u001B[39m actual.set_index(\u001B[33m\"\u001B[39m\u001B[33mdate\u001B[39m\u001B[33m\"\u001B[39m).plot(linestyle=\u001B[33m'\u001B[39m\u001B[33m-.\u001B[39m\u001B[33m'\u001B[39m, ax=ax)\n\u001B[32m      4\u001B[39m plt.legend([\u001B[33m\"\u001B[39m\u001B[33mforecast\u001B[39m\u001B[33m\"\u001B[39m, \u001B[33m\"\u001B[39m\u001B[33mactual\u001B[39m\u001B[33m\"\u001B[39m])\n",
      "\u001B[36mFile \u001B[39m\u001B[32m~/miniconda3/envs/TimeSeries/lib/python3.12/site-packages/pandas/plotting/_core.py:947\u001B[39m, in \u001B[36m__call__\u001B[39m\u001B[34m(self, *args, **kwargs)\u001B[39m\n\u001B[32m    945\u001B[39m         \u001B[38;5;28;01mreturn\u001B[39;00m plot_backend.plot(data, x=x, y=y, kind=kind, **kwargs)\n\u001B[32m    946\u001B[39m     \u001B[38;5;28;01melse\u001B[39;00m:\n\u001B[32m--> \u001B[39m\u001B[32m947\u001B[39m         \u001B[38;5;28;01mraise\u001B[39;00m \u001B[38;5;167;01mValueError\u001B[39;00m(\u001B[33mf\u001B[39m\u001B[33m\"\u001B[39m\u001B[33mplot kind \u001B[39m\u001B[38;5;132;01m{\u001B[39;00mkind\u001B[38;5;132;01m}\u001B[39;00m\u001B[33m can only be used for data frames\u001B[39m\u001B[33m\"\u001B[39m)\n\u001B[32m    948\u001B[39m \u001B[38;5;28;01melif\u001B[39;00m kind \u001B[38;5;129;01min\u001B[39;00m \u001B[38;5;28mself\u001B[39m._series_kinds:\n\u001B[32m    949\u001B[39m     \u001B[38;5;28;01mif\u001B[39;00m \u001B[38;5;28misinstance\u001B[39m(data, ABCDataFrame):\n",
      "\u001B[36mFile \u001B[39m\u001B[32m~/miniconda3/envs/TimeSeries/lib/python3.12/site-packages/pandas/plotting/_core.py:1944\u001B[39m, in \u001B[36m_get_plot_backend\u001B[39m\u001B[34m(backend)\u001B[39m\n\u001B[32m      0\u001B[39m <Error retrieving source code with stack_data see ipython/ipython#13598>\n",
      "\u001B[36mFile \u001B[39m\u001B[32m~/miniconda3/envs/TimeSeries/lib/python3.12/site-packages/pandas/plotting/_core.py:1874\u001B[39m, in \u001B[36m_load_backend\u001B[39m\u001B[34m(backend)\u001B[39m\n\u001B[32m   1862\u001B[39m \u001B[38;5;28;01mdef\u001B[39;00m\u001B[38;5;250m \u001B[39m\u001B[34m_get_plot_backend\u001B[39m(backend: \u001B[38;5;28mstr\u001B[39m | \u001B[38;5;28;01mNone\u001B[39;00m = \u001B[38;5;28;01mNone\u001B[39;00m):\n\u001B[32m   1863\u001B[39m \u001B[38;5;250m    \u001B[39m\u001B[33;03m\"\"\"\u001B[39;00m\n\u001B[32m   1864\u001B[39m \u001B[33;03m    Return the plotting backend to use (e.g. `pandas.plotting._matplotlib`).\u001B[39;00m\n\u001B[32m   1865\u001B[39m \n\u001B[32m   1866\u001B[39m \u001B[33;03m    The plotting system of pandas uses matplotlib by default, but the idea here\u001B[39;00m\n\u001B[32m   1867\u001B[39m \u001B[33;03m    is that it can also work with other third-party backends. This function\u001B[39;00m\n\u001B[32m   1868\u001B[39m \u001B[33;03m    returns the module which provides a top-level `.plot` method that will\u001B[39;00m\n\u001B[32m   1869\u001B[39m \u001B[33;03m    actually do the plotting. The backend is specified from a string, which\u001B[39;00m\n\u001B[32m   1870\u001B[39m \u001B[33;03m    either comes from the keyword argument `backend`, or, if not specified, from\u001B[39;00m\n\u001B[32m   1871\u001B[39m \u001B[33;03m    the option `pandas.options.plotting.backend`. All the rest of the code in\u001B[39;00m\n\u001B[32m   1872\u001B[39m \u001B[33;03m    this file uses the backend specified there for the plotting.\u001B[39;00m\n\u001B[32m   1873\u001B[39m \n\u001B[32m-> \u001B[39m\u001B[32m1874\u001B[39m \u001B[33;03m    The backend is imported lazily, as matplotlib is a soft dependency, and\u001B[39;00m\n\u001B[32m   1875\u001B[39m \u001B[33;03m    pandas can be used without it being installed.\u001B[39;00m\n\u001B[32m   1876\u001B[39m \n\u001B[32m   1877\u001B[39m \u001B[33;03m    Notes\u001B[39;00m\n\u001B[32m   1878\u001B[39m \u001B[33;03m    -----\u001B[39;00m\n\u001B[32m   1879\u001B[39m \u001B[33;03m    Modifies `_backends` with imported backend as a side effect.\u001B[39;00m\n\u001B[32m   1880\u001B[39m \u001B[33;03m    \"\"\"\u001B[39;00m\n\u001B[32m   1881\u001B[39m     backend_str: \u001B[38;5;28mstr\u001B[39m = backend \u001B[38;5;129;01mor\u001B[39;00m get_option(\u001B[33m\"\u001B[39m\u001B[33mplotting.backend\u001B[39m\u001B[33m\"\u001B[39m)\n\u001B[32m   1883\u001B[39m     \u001B[38;5;28;01mif\u001B[39;00m backend_str \u001B[38;5;129;01min\u001B[39;00m _backends:\n",
      "\u001B[31mImportError\u001B[39m: matplotlib is required for plotting when the default backend \"matplotlib\" is selected."
     ]
    }
   ],
   "execution_count": 13
  },
  {
   "cell_type": "code",
   "metadata": {
    "colab": {
     "base_uri": "https://localhost:8080/"
    },
    "id": "B4oPSOTse2F1",
    "outputId": "ad6760a9-e9a8-4cd8-812f-39fce7c4e636",
    "ExecuteTime": {
     "end_time": "2025-05-30T11:03:15.262747900Z",
     "start_time": "2025-05-30T09:23:32.391925Z"
    }
   },
   "source": [
    "from sklearn.metrics import mean_squared_error\n",
    "\n",
    "test_data = actual.merge(forecasted, on=\"date\", suffixes=(\"_actual\", \"_predicted\"))\n",
    "\n",
    "mse = mean_squared_error(test_data.new_cases_actual, test_data.new_cases_predicted, squared=False)  # RMSE\n",
    "print(\"The root mean squared error (RMSE) on test set: {:.2f}\".format(mse))"
   ],
   "outputs": [
    {
     "name": "stdout",
     "output_type": "stream",
     "text": [
      "The root mean squared error (RMSE) on test set: 201683.34\n"
     ]
    }
   ],
   "execution_count": 28
  },
  {
   "cell_type": "code",
   "metadata": {
    "id": "HU1DQT1o5Vpn",
    "ExecuteTime": {
     "end_time": "2025-05-30T11:03:15.262747900Z",
     "start_time": "2025-05-30T09:23:32.438703Z"
    }
   },
   "source": [],
   "outputs": [],
   "execution_count": null
  }
 ],
 "metadata": {
  "colab": {
   "collapsed_sections": [],
   "name": "XGBoost",
   "provenance": []
  },
  "kernelspec": {
   "display_name": "Python 3",
   "language": "python",
   "name": "python3"
  },
  "language_info": {
   "codemirror_mode": {
    "name": "ipython",
    "version": 3
   },
   "file_extension": ".py",
   "mimetype": "text/x-python",
   "name": "python",
   "nbconvert_exporter": "python",
   "pygments_lexer": "ipython3",
   "version": "3.8.8"
  }
 },
 "nbformat": 4,
 "nbformat_minor": 4
}

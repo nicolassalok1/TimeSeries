{
 "cells": [
  {
   "cell_type": "markdown",
   "metadata": {},
   "source": [
    "<a href=\"https://colab.research.google.com/github/PacktPublishing/Machine-Learning-for-Time-Series-with-Python/blob/master/chapter7/Silverkite.ipynb\" target=\"_parent\\\"><img src=\"https://colab.research.google.com/assets/colab-badge.svg\" alt=\"Open In Colab\"/></a>"
   ]
  },
  {
   "cell_type": "code",
   "execution_count": null,
   "metadata": {
    "colab": {
     "base_uri": "https://localhost:8080/"
    },
    "id": "ZQ3Ym1YDe2FQ",
    "outputId": "0be39c08-a455-4902-b876-9228b6a0eb42"
   },
   "outputs": [],
   "source": [
    "!pip install greykite"
   ]
  },
  {
   "cell_type": "code",
   "execution_count": null,
   "metadata": {
    "id": "1gEv7oq8e2FY"
   },
   "outputs": [],
   "source": [
    "import matplotlib.pyplot as plt\n",
    "import seaborn as sns\n",
    "%matplotlib inline\n",
    "\n",
    "plt.style.use('seaborn-whitegrid')\n",
    "plt.rcParams[\"font.family\"] = \"Times New Roman\"\n",
    "plt.rcParams[\"font.size\"] = \"17\""
   ]
  },
  {
   "cell_type": "code",
   "execution_count": null,
   "metadata": {
    "id": "TECK_SIde2FX"
   },
   "outputs": [],
   "source": [
    "import pandas as pd\n",
    "\n",
    "owid_covid = pd.read_csv(\"https://covid.ourworldindata.org/data/owid-covid-data.csv\")\n",
    "owid_covid[\"date\"] = pd.to_datetime(owid_covid[\"date\"])"
   ]
  },
  {
   "cell_type": "code",
   "execution_count": null,
   "metadata": {
    "colab": {
     "base_uri": "https://localhost:8080/"
    },
    "id": "ezjWoCAxfZfX",
    "outputId": "60fb7d72-bed1-481d-96f9-97e86bd79f84"
   },
   "outputs": [],
   "source": [
    "owid_covid.location.unique()"
   ]
  },
  {
   "cell_type": "code",
   "execution_count": null,
   "metadata": {
    "colab": {
     "base_uri": "https://localhost:8080/",
     "height": 309
    },
    "id": "mtiFkfn9hEgV",
    "outputId": "6f198322-c183-4936-d2af-688dfb9316a0"
   },
   "outputs": [],
   "source": [
    "owid_covid.head()"
   ]
  },
  {
   "cell_type": "code",
   "execution_count": null,
   "metadata": {
    "id": "JslH5iW-gthQ"
   },
   "outputs": [],
   "source": [
    "df = owid_covid[owid_covid.location == \"France\"].set_index(\"date\", drop=True).resample('D').interpolate(method='linear')"
   ]
  },
  {
   "cell_type": "code",
   "execution_count": null,
   "metadata": {
    "id": "lPBBQ8eLe2Fb"
   },
   "outputs": [],
   "source": [
    "from greykite.framework.templates.autogen.forecast_config import (\n",
    "    ForecastConfig, MetadataParam\n",
    ")\n",
    "\n",
    "metadata = MetadataParam(\n",
    "    time_col=\"date\",\n",
    "    value_col=\"new_cases\",\n",
    "    freq=\"D\"\n",
    ")"
   ]
  },
  {
   "cell_type": "code",
   "execution_count": null,
   "metadata": {
    "colab": {
     "base_uri": "https://localhost:8080/"
    },
    "id": "Bv40xaJde2Fc",
    "outputId": "8305ef45-89f0-4067-e2c5-96f3d9b7dfc6"
   },
   "outputs": [],
   "source": [
    "import warnings\n",
    "from greykite.framework.templates.forecaster import Forecaster\n",
    "from greykite.framework.templates.model_templates import ModelTemplateEnum\n",
    "\n",
    "forecaster = Forecaster()\n",
    "\n",
    "warnings.filterwarnings(\"ignore\", category=UserWarning)\n",
    "result = forecaster.run_forecast_config(\n",
    "    df=df.reset_index(),\n",
    "    config=ForecastConfig(\n",
    "        model_template=ModelTemplateEnum.SILVERKITE_DAILY_90.name,\n",
    "        forecast_horizon=90,\n",
    "        coverage=0.95,\n",
    "        metadata_param=metadata,\n",
    "    )\n",
    ")"
   ]
  },
  {
   "cell_type": "code",
   "execution_count": null,
   "metadata": {
    "colab": {
     "base_uri": "https://localhost:8080/",
     "height": 542
    },
    "id": "Djt_cYAPqdES",
    "outputId": "e22d6805-d3a5-4500-d923-3ea1e9778657"
   },
   "outputs": [],
   "source": [
    "forecast = result.forecast\n",
    "forecast.plot().show(renderer=\"colab\")  # leave out the renderer argument if you are not on google colab!"
   ]
  },
  {
   "cell_type": "code",
   "execution_count": null,
   "metadata": {
    "colab": {
     "base_uri": "https://localhost:8080/",
     "height": 204
    },
    "id": "6MGAevXyvEyA",
    "outputId": "132fb3e9-be00-485b-badb-05547f65a13b"
   },
   "outputs": [],
   "source": [
    "forecast.df.head().round(2)"
   ]
  },
  {
   "cell_type": "code",
   "execution_count": null,
   "metadata": {
    "colab": {
     "base_uri": "https://localhost:8080/",
     "height": 204
    },
    "id": "El0vJRace2Fe",
    "outputId": "816da56c-de9b-458b-bcd1-3956e3331169"
   },
   "outputs": [],
   "source": [
    "from collections import defaultdict\n",
    "\n",
    "backtest = result.backtest\n",
    "backtest_eval = defaultdict(list)\n",
    "for metric, value in backtest.train_evaluation.items():\n",
    "    backtest_eval[metric].append(value)\n",
    "    backtest_eval[metric].append(backtest.test_evaluation[metric])\n",
    "metrics = pd.DataFrame(backtest_eval, index=[\"train\", \"test\"]).T\n",
    "metrics.head()"
   ]
  },
  {
   "cell_type": "code",
   "execution_count": null,
   "metadata": {
    "colab": {
     "base_uri": "https://localhost:8080/",
     "height": 241
    },
    "id": "oL9GMtJgtHGO",
    "outputId": "f7555d36-66b9-4f7d-a4f8-fdced9397806"
   },
   "outputs": [],
   "source": [
    "model = result.model\n",
    "future_df = result.timeseries.make_future_dataframe(\n",
    "    periods=4,\n",
    "    include_history=False\n",
    ")\n",
    "model.predict(future_df)"
   ]
  },
  {
   "cell_type": "code",
   "execution_count": null,
   "metadata": {
    "colab": {
     "base_uri": "https://localhost:8080/",
     "height": 241
    },
    "id": "uIclGJzatLl9",
    "outputId": "ae1832c4-10df-4cae-c5f3-3ac9066f8745"
   },
   "outputs": [],
   "source": [
    "model.predict(future_df)"
   ]
  },
  {
   "cell_type": "code",
   "execution_count": null,
   "metadata": {},
   "outputs": [],
   "source": []
  }
 ],
 "metadata": {
  "colab": {
   "collapsed_sections": [
    "JHuPMCuAe2Ff",
    "xJe34gyie2Fi",
    "B9u12G4ne2Fm"
   ],
   "name": "Silverkite",
   "provenance": []
  },
  "kernelspec": {
   "display_name": "Python 3",
   "language": "python",
   "name": "python3"
  },
  "language_info": {
   "codemirror_mode": {
    "name": "ipython",
    "version": 3
   },
   "file_extension": ".py",
   "mimetype": "text/x-python",
   "name": "python",
   "nbconvert_exporter": "python",
   "pygments_lexer": "ipython3",
   "version": "3.8.8"
  }
 },
 "nbformat": 4,
 "nbformat_minor": 4
}

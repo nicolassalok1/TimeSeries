{
 "cells": [
  {
   "cell_type": "markdown",
   "metadata": {},
   "source": [
    "<a href=\"https://colab.research.google.com/github/PacktPublishing/Machine-Learning-for-Time-Series-with-Python/blob/master/chapter7/Silverkite.ipynb\" target=\"_parent\\\"><img src=\"https://colab.research.google.com/assets/colab-badge.svg\" alt=\"Open In Colab\"/></a>"
   ]
  },
  {
   "cell_type": "code",
   "metadata": {
    "colab": {
     "base_uri": "https://localhost:8080/"
    },
    "id": "ZQ3Ym1YDe2FQ",
    "outputId": "0be39c08-a455-4902-b876-9228b6a0eb42",
    "ExecuteTime": {
     "end_time": "2025-05-30T08:29:17.000674Z",
     "start_time": "2025-05-30T08:29:12.891097Z"
    }
   },
   "source": [
    "!pip install greykite"
   ],
   "outputs": [
    {
     "name": "stdout",
     "output_type": "stream",
     "text": [
      "/bin/bash: warning: setlocale: LC_ALL: cannot change locale (en_US.UTF-8)\r\n",
      "Requirement already satisfied: greykite in /root/miniconda3/envs/TimeSeries/lib/python3.12/site-packages (1.1.0)\r\n",
      "Requirement already satisfied: cvxpy>=1.2.1 in /root/miniconda3/envs/TimeSeries/lib/python3.12/site-packages (from greykite) (1.6.5)\r\n",
      "Requirement already satisfied: dill>=0.3.6 in /root/miniconda3/envs/TimeSeries/lib/python3.12/site-packages (from greykite) (0.3.9)\r\n",
      "Collecting holidays==0.13 (from greykite)\r\n",
      "  Using cached holidays-0.13-py3-none-any.whl.metadata (11 kB)\r\n",
      "Requirement already satisfied: holidays-ext==0.0.8 in /root/miniconda3/envs/TimeSeries/lib/python3.12/site-packages (from greykite) (0.0.8)\r\n",
      "Requirement already satisfied: ipython>=7.31.1 in /root/miniconda3/envs/TimeSeries/lib/python3.12/site-packages (from greykite) (9.1.0)\r\n",
      "Requirement already satisfied: matplotlib>=3.4.1 in /root/miniconda3/envs/TimeSeries/lib/python3.12/site-packages (from greykite) (3.10.1)\r\n",
      "Requirement already satisfied: numpy==1.26.0 in /root/miniconda3/envs/TimeSeries/lib/python3.12/site-packages (from greykite) (1.26.0)\r\n",
      "Requirement already satisfied: osqp>=0.6.2 in /root/miniconda3/envs/TimeSeries/lib/python3.12/site-packages (from greykite) (1.0.3)\r\n",
      "Requirement already satisfied: overrides>=2.8.0 in /root/miniconda3/envs/TimeSeries/lib/python3.12/site-packages (from greykite) (7.4.0)\r\n",
      "Collecting pandas<2.0.0,>=1.5.0 (from greykite)\r\n",
      "  Using cached pandas-1.5.3-cp312-cp312-linux_x86_64.whl\r\n",
      "Requirement already satisfied: patsy>=0.5.2 in /root/miniconda3/envs/TimeSeries/lib/python3.12/site-packages (from greykite) (1.0.1)\r\n",
      "Requirement already satisfied: plotly>=4.12.0 in /root/miniconda3/envs/TimeSeries/lib/python3.12/site-packages (from greykite) (6.0.1)\r\n",
      "Requirement already satisfied: pytest==8.3.4 in /root/miniconda3/envs/TimeSeries/lib/python3.12/site-packages (from greykite) (8.3.4)\r\n",
      "Requirement already satisfied: scipy<1.15.2,>=1.15.0 in /root/miniconda3/envs/TimeSeries/lib/python3.12/site-packages (from greykite) (1.15.1)\r\n",
      "Requirement already satisfied: six>=1.15.0 in /root/.local/lib/python3.12/site-packages (from greykite) (1.17.0)\r\n",
      "Requirement already satisfied: scikit-learn==1.3.1 in /root/miniconda3/envs/TimeSeries/lib/python3.12/site-packages (from greykite) (1.3.1)\r\n",
      "Requirement already satisfied: statsmodels>=0.13.5 in /root/miniconda3/envs/TimeSeries/lib/python3.12/site-packages (from greykite) (0.14.4)\r\n",
      "Requirement already satisfied: testfixtures>=6.14.2 in /root/miniconda3/envs/TimeSeries/lib/python3.12/site-packages (from greykite) (8.3.0)\r\n",
      "Requirement already satisfied: tqdm>=4.52.0 in /root/.local/lib/python3.12/site-packages (from greykite) (4.67.1)\r\n",
      "Requirement already satisfied: convertdate>=2.3.0 in /root/miniconda3/envs/TimeSeries/lib/python3.12/site-packages (from holidays==0.13->greykite) (2.4.0)\r\n",
      "Requirement already satisfied: hijri-converter in /root/miniconda3/envs/TimeSeries/lib/python3.12/site-packages (from holidays==0.13->greykite) (2.3.1)\r\n",
      "Requirement already satisfied: korean-lunar-calendar in /root/miniconda3/envs/TimeSeries/lib/python3.12/site-packages (from holidays==0.13->greykite) (0.3.1)\r\n",
      "Requirement already satisfied: python-dateutil in /root/miniconda3/envs/TimeSeries/lib/python3.12/site-packages (from holidays==0.13->greykite) (2.9.0.post0)\r\n",
      "Requirement already satisfied: LunarCalendar-ext>=0.0.1 in /root/miniconda3/envs/TimeSeries/lib/python3.12/site-packages (from holidays-ext==0.0.8->greykite) (0.0.1)\r\n",
      "Requirement already satisfied: iniconfig in /root/miniconda3/envs/TimeSeries/lib/python3.12/site-packages (from pytest==8.3.4->greykite) (2.1.0)\r\n",
      "Requirement already satisfied: packaging in /root/.local/lib/python3.12/site-packages (from pytest==8.3.4->greykite) (25.0)\r\n",
      "Requirement already satisfied: pluggy<2,>=1.5 in /root/miniconda3/envs/TimeSeries/lib/python3.12/site-packages (from pytest==8.3.4->greykite) (1.5.0)\r\n",
      "Requirement already satisfied: joblib>=1.1.1 in /root/miniconda3/envs/TimeSeries/lib/python3.12/site-packages (from scikit-learn==1.3.1->greykite) (1.4.2)\r\n",
      "Requirement already satisfied: threadpoolctl>=2.0.0 in /root/miniconda3/envs/TimeSeries/lib/python3.12/site-packages (from scikit-learn==1.3.1->greykite) (3.5.0)\r\n",
      "Requirement already satisfied: pytz>=2020.1 in /root/.local/lib/python3.12/site-packages (from pandas<2.0.0,>=1.5.0->greykite) (2025.2)\r\n",
      "Requirement already satisfied: pymeeus<=1,>=0.3.13 in /root/miniconda3/envs/TimeSeries/lib/python3.12/site-packages (from convertdate>=2.3.0->holidays==0.13->greykite) (0.5.12)\r\n",
      "Requirement already satisfied: clarabel>=0.5.0 in /root/miniconda3/envs/TimeSeries/lib/python3.12/site-packages (from cvxpy>=1.2.1->greykite) (0.10.0)\r\n",
      "Requirement already satisfied: scs>=3.2.4.post1 in /root/miniconda3/envs/TimeSeries/lib/python3.12/site-packages (from cvxpy>=1.2.1->greykite) (3.2.7.post2)\r\n",
      "Requirement already satisfied: decorator in /root/miniconda3/envs/TimeSeries/lib/python3.12/site-packages (from ipython>=7.31.1->greykite) (5.1.1)\r\n",
      "Requirement already satisfied: ipython-pygments-lexers in /root/miniconda3/envs/TimeSeries/lib/python3.12/site-packages (from ipython>=7.31.1->greykite) (1.1.1)\r\n",
      "Requirement already satisfied: jedi>=0.16 in /root/miniconda3/envs/TimeSeries/lib/python3.12/site-packages (from ipython>=7.31.1->greykite) (0.19.2)\r\n",
      "Requirement already satisfied: matplotlib-inline in /root/miniconda3/envs/TimeSeries/lib/python3.12/site-packages (from ipython>=7.31.1->greykite) (0.1.6)\r\n",
      "Requirement already satisfied: pexpect>4.3 in /root/miniconda3/envs/TimeSeries/lib/python3.12/site-packages (from ipython>=7.31.1->greykite) (4.8.0)\r\n",
      "Requirement already satisfied: prompt_toolkit<3.1.0,>=3.0.41 in /root/miniconda3/envs/TimeSeries/lib/python3.12/site-packages (from ipython>=7.31.1->greykite) (3.0.43)\r\n",
      "Requirement already satisfied: pygments>=2.4.0 in /root/.local/lib/python3.12/site-packages (from ipython>=7.31.1->greykite) (2.19.1)\r\n",
      "Requirement already satisfied: stack_data in /root/miniconda3/envs/TimeSeries/lib/python3.12/site-packages (from ipython>=7.31.1->greykite) (0.2.0)\r\n",
      "Requirement already satisfied: traitlets>=5.13.0 in /root/miniconda3/envs/TimeSeries/lib/python3.12/site-packages (from ipython>=7.31.1->greykite) (5.14.3)\r\n",
      "Requirement already satisfied: wcwidth in /root/miniconda3/envs/TimeSeries/lib/python3.12/site-packages (from prompt_toolkit<3.1.0,>=3.0.41->ipython>=7.31.1->greykite) (0.2.5)\r\n",
      "Requirement already satisfied: parso<0.9.0,>=0.8.4 in /root/miniconda3/envs/TimeSeries/lib/python3.12/site-packages (from jedi>=0.16->ipython>=7.31.1->greykite) (0.8.4)\r\n",
      "Requirement already satisfied: ephem>=3.7.5.3 in /root/miniconda3/envs/TimeSeries/lib/python3.12/site-packages (from LunarCalendar-ext>=0.0.1->holidays-ext==0.0.8->greykite) (4.2)\r\n",
      "Requirement already satisfied: contourpy>=1.0.1 in /root/miniconda3/envs/TimeSeries/lib/python3.12/site-packages (from matplotlib>=3.4.1->greykite) (1.3.1)\r\n",
      "Requirement already satisfied: cycler>=0.10 in /root/miniconda3/envs/TimeSeries/lib/python3.12/site-packages (from matplotlib>=3.4.1->greykite) (0.11.0)\r\n",
      "Requirement already satisfied: fonttools>=4.22.0 in /root/miniconda3/envs/TimeSeries/lib/python3.12/site-packages (from matplotlib>=3.4.1->greykite) (4.55.3)\r\n",
      "Requirement already satisfied: kiwisolver>=1.3.1 in /root/miniconda3/envs/TimeSeries/lib/python3.12/site-packages (from matplotlib>=3.4.1->greykite) (1.4.8)\r\n",
      "Requirement already satisfied: pillow>=8 in /root/miniconda3/envs/TimeSeries/lib/python3.12/site-packages (from matplotlib>=3.4.1->greykite) (10.4.0)\r\n",
      "Requirement already satisfied: pyparsing>=2.3.1 in /root/miniconda3/envs/TimeSeries/lib/python3.12/site-packages (from matplotlib>=3.4.1->greykite) (3.2.0)\r\n",
      "Requirement already satisfied: jinja2 in /root/miniconda3/envs/TimeSeries/lib/python3.12/site-packages (from osqp>=0.6.2->greykite) (3.1.6)\r\n",
      "Requirement already satisfied: setuptools in /root/.local/lib/python3.12/site-packages (from osqp>=0.6.2->greykite) (80.3.1)\r\n",
      "Requirement already satisfied: ptyprocess>=0.5 in /root/miniconda3/envs/TimeSeries/lib/python3.12/site-packages (from pexpect>4.3->ipython>=7.31.1->greykite) (0.7.0)\r\n",
      "Requirement already satisfied: narwhals>=1.15.1 in /root/miniconda3/envs/TimeSeries/lib/python3.12/site-packages (from plotly>=4.12.0->greykite) (1.38.0)\r\n",
      "Requirement already satisfied: MarkupSafe>=2.0 in /root/.local/lib/python3.12/site-packages (from jinja2->osqp>=0.6.2->greykite) (3.0.2)\r\n",
      "Requirement already satisfied: executing in /root/miniconda3/envs/TimeSeries/lib/python3.12/site-packages (from stack_data->ipython>=7.31.1->greykite) (0.8.3)\r\n",
      "Requirement already satisfied: asttokens in /root/miniconda3/envs/TimeSeries/lib/python3.12/site-packages (from stack_data->ipython>=7.31.1->greykite) (3.0.0)\r\n",
      "Requirement already satisfied: pure-eval in /root/miniconda3/envs/TimeSeries/lib/python3.12/site-packages (from stack_data->ipython>=7.31.1->greykite) (0.2.2)\r\n",
      "Using cached holidays-0.13-py3-none-any.whl (172 kB)\r\n",
      "Installing collected packages: pandas, holidays\r\n",
      "\u001B[2K  Attempting uninstall: pandas\r\n",
      "\u001B[2K    Found existing installation: pandas 2.2.3\r\n",
      "\u001B[2K    Uninstalling pandas-2.2.3:\r\n",
      "\u001B[2K      Successfully uninstalled pandas-2.2.3\r\n",
      "\u001B[2K  Attempting uninstall: holidays━━━━━━━━━━━━━━━━\u001B[0m \u001B[32m0/2\u001B[0m [pandas]\r\n",
      "\u001B[2K    Found existing installation: holidays 0.720m \u001B[32m0/2\u001B[0m [pandas]\r\n",
      "\u001B[2K    Uninstalling holidays-0.72:━━━━━━━━━━━━━\u001B[0m \u001B[32m0/2\u001B[0m [pandas]\r\n",
      "\u001B[2K      Successfully uninstalled holidays-0.72\u001B[0m \u001B[32m0/2\u001B[0m [pandas]\r\n",
      "\u001B[2K   \u001B[90m━━━━━━━━━━━━━━━━━━━━━━━━━━━━━━━━━━━━━━━━\u001B[0m \u001B[32m2/2\u001B[0m [holidays]\r\n",
      "\u001B[1A\u001B[2K\u001B[31mERROR: pip's dependency resolver does not currently take into account all the packages that are installed. This behaviour is the source of the following dependency conflicts.\r\n",
      "woodwork 0.31.0 requires pandas>=2.0.0, but you have pandas 1.5.3 which is incompatible.\r\n",
      "river 0.22.0 requires pandas<3.0.0,>=2.2.3, but you have pandas 1.5.3 which is incompatible.\r\n",
      "featuretools 1.31.0 requires holidays>=0.17, but you have holidays 0.13 which is incompatible.\r\n",
      "featuretools 1.31.0 requires pandas>=2.0.0, but you have pandas 1.5.3 which is incompatible.\r\n",
      "prophet 1.1.6 requires holidays<1,>=0.25, but you have holidays 0.13 which is incompatible.\u001B[0m\u001B[31m\r\n",
      "\u001B[0mSuccessfully installed holidays-0.13 pandas-2.2.3\r\n",
      "\u001B[33mWARNING: Running pip as the 'root' user can result in broken permissions and conflicting behaviour with the system package manager, possibly rendering your system unusable. It is recommended to use a virtual environment instead: https://pip.pypa.io/warnings/venv. Use the --root-user-action option if you know what you are doing and want to suppress this warning.\u001B[0m\u001B[33m\r\n",
      "\u001B[0m"
     ]
    }
   ],
   "execution_count": 1
  },
  {
   "cell_type": "code",
   "metadata": {
    "id": "1gEv7oq8e2FY",
    "ExecuteTime": {
     "end_time": "2025-05-30T08:35:12.942188Z",
     "start_time": "2025-05-30T08:35:12.938681Z"
    }
   },
   "source": [
    "import matplotlib.pyplot as plt\n",
    "import seaborn as sns\n",
    "%matplotlib inline\n",
    "\n",
    "plt.style.use('seaborn-v0_8-whitegrid')\n",
    "\n",
    "plt.rcParams[\"font.family\"] = \"Times New Roman\"\n",
    "plt.rcParams[\"font.size\"] = \"17\""
   ],
   "outputs": [],
   "execution_count": 3
  },
  {
   "cell_type": "code",
   "metadata": {
    "id": "TECK_SIde2FX",
    "ExecuteTime": {
     "end_time": "2025-05-30T08:39:38.219639Z",
     "start_time": "2025-05-30T08:35:12.957708Z"
    }
   },
   "source": [
    "import pandas as pd\n",
    "\n",
    "owid_covid = pd.read_csv(\"https://covid.ourworldindata.org/data/owid-covid-data.csv\")\n",
    "owid_covid[\"date\"] = pd.to_datetime(owid_covid[\"date\"])"
   ],
   "outputs": [],
   "execution_count": 4
  },
  {
   "cell_type": "code",
   "metadata": {
    "colab": {
     "base_uri": "https://localhost:8080/"
    },
    "id": "ezjWoCAxfZfX",
    "outputId": "60fb7d72-bed1-481d-96f9-97e86bd79f84",
    "ExecuteTime": {
     "end_time": "2025-05-30T08:39:38.301426Z",
     "start_time": "2025-05-30T08:39:38.291055Z"
    }
   },
   "source": [
    "owid_covid.location.unique()"
   ],
   "outputs": [
    {
     "data": {
      "text/plain": [
       "array(['Afghanistan', 'Africa', 'Albania', 'Algeria', 'American Samoa',\n",
       "       'Andorra', 'Angola', 'Anguilla', 'Antigua and Barbuda',\n",
       "       'Argentina', 'Armenia', 'Aruba', 'Asia', 'Australia', 'Austria',\n",
       "       'Azerbaijan', 'Bahamas', 'Bahrain', 'Bangladesh', 'Barbados',\n",
       "       'Belarus', 'Belgium', 'Belize', 'Benin', 'Bermuda', 'Bhutan',\n",
       "       'Bolivia', 'Bonaire Sint Eustatius and Saba',\n",
       "       'Bosnia and Herzegovina', 'Botswana', 'Brazil',\n",
       "       'British Virgin Islands', 'Brunei', 'Bulgaria', 'Burkina Faso',\n",
       "       'Burundi', 'Cambodia', 'Cameroon', 'Canada', 'Cape Verde',\n",
       "       'Cayman Islands', 'Central African Republic', 'Chad', 'Chile',\n",
       "       'China', 'Colombia', 'Comoros', 'Congo', 'Cook Islands',\n",
       "       'Costa Rica', \"Cote d'Ivoire\", 'Croatia', 'Cuba', 'Curacao',\n",
       "       'Cyprus', 'Czechia', 'Democratic Republic of Congo', 'Denmark',\n",
       "       'Djibouti', 'Dominica', 'Dominican Republic', 'East Timor',\n",
       "       'Ecuador', 'Egypt', 'El Salvador', 'England', 'Equatorial Guinea',\n",
       "       'Eritrea', 'Estonia', 'Eswatini', 'Ethiopia', 'Europe',\n",
       "       'European Union (27)', 'Faroe Islands', 'Falkland Islands', 'Fiji',\n",
       "       'Finland', 'France', 'French Guiana', 'French Polynesia', 'Gabon',\n",
       "       'Gambia', 'Georgia', 'Germany', 'Ghana', 'Gibraltar', 'Greece',\n",
       "       'Greenland', 'Grenada', 'Guadeloupe', 'Guam', 'Guatemala',\n",
       "       'Guernsey', 'Guinea', 'Guinea-Bissau', 'Guyana', 'Haiti',\n",
       "       'High-income countries', 'Honduras', 'Hong Kong', 'Hungary',\n",
       "       'Iceland', 'India', 'Indonesia', 'Iran', 'Iraq', 'Ireland',\n",
       "       'Isle of Man', 'Israel', 'Italy', 'Jamaica', 'Japan', 'Jersey',\n",
       "       'Jordan', 'Kazakhstan', 'Kenya', 'Kiribati', 'Kosovo', 'Kuwait',\n",
       "       'Kyrgyzstan', 'Laos', 'Latvia', 'Lebanon', 'Lesotho', 'Liberia',\n",
       "       'Libya', 'Liechtenstein', 'Lithuania', 'Low-income countries',\n",
       "       'Lower-middle-income countries', 'Luxembourg', 'Macao',\n",
       "       'Madagascar', 'Malawi', 'Malaysia', 'Maldives', 'Mali', 'Malta',\n",
       "       'Marshall Islands', 'Martinique', 'Mauritania', 'Mauritius',\n",
       "       'Mayotte', 'Mexico', 'Micronesia (country)', 'Moldova', 'Monaco',\n",
       "       'Mongolia', 'Montenegro', 'Montserrat', 'Morocco', 'Mozambique',\n",
       "       'Myanmar', 'Namibia', 'Nauru', 'Nepal', 'Netherlands',\n",
       "       'New Caledonia', 'New Zealand', 'Nicaragua', 'Niger', 'Nigeria',\n",
       "       'Niue', 'North America', 'North Korea', 'North Macedonia',\n",
       "       'Northern Cyprus', 'Northern Ireland', 'Northern Mariana Islands',\n",
       "       'Norway', 'Oceania', 'Oman', 'Pakistan', 'Palau', 'Palestine',\n",
       "       'Panama', 'Papua New Guinea', 'Paraguay', 'Peru', 'Philippines',\n",
       "       'Pitcairn', 'Poland', 'Portugal', 'Puerto Rico', 'Qatar',\n",
       "       'Reunion', 'Romania', 'Russia', 'Rwanda', 'Saint Barthelemy',\n",
       "       'Saint Helena', 'Saint Kitts and Nevis', 'Saint Lucia',\n",
       "       'Saint Martin (French part)', 'Saint Pierre and Miquelon',\n",
       "       'Saint Vincent and the Grenadines', 'Samoa', 'San Marino',\n",
       "       'Sao Tome and Principe', 'Saudi Arabia', 'Scotland', 'Senegal',\n",
       "       'Serbia', 'Seychelles', 'Sierra Leone', 'Singapore',\n",
       "       'Sint Maarten (Dutch part)', 'Slovakia', 'Slovenia',\n",
       "       'Solomon Islands', 'Somalia', 'South Africa', 'South America',\n",
       "       'South Korea', 'South Sudan', 'Spain', 'Sri Lanka', 'Sudan',\n",
       "       'Suriname', 'Sweden', 'Switzerland', 'Syria', 'Taiwan',\n",
       "       'Tajikistan', 'Tanzania', 'Thailand', 'Togo', 'Tokelau', 'Tonga',\n",
       "       'Trinidad and Tobago', 'Tunisia', 'Turkey', 'Turkmenistan',\n",
       "       'Turks and Caicos Islands', 'Tuvalu', 'Uganda', 'Ukraine',\n",
       "       'United Arab Emirates', 'United Kingdom', 'United States',\n",
       "       'United States Virgin Islands', 'Upper-middle-income countries',\n",
       "       'Uruguay', 'Uzbekistan', 'Vanuatu', 'Vatican', 'Venezuela',\n",
       "       'Vietnam', 'Wales', 'Wallis and Futuna', 'Western Sahara', 'World',\n",
       "       'Yemen', 'Zambia', 'Zimbabwe'], dtype=object)"
      ]
     },
     "execution_count": 5,
     "metadata": {},
     "output_type": "execute_result"
    }
   ],
   "execution_count": 5
  },
  {
   "cell_type": "code",
   "metadata": {
    "colab": {
     "base_uri": "https://localhost:8080/",
     "height": 309
    },
    "id": "mtiFkfn9hEgV",
    "outputId": "6f198322-c183-4936-d2af-688dfb9316a0",
    "ExecuteTime": {
     "end_time": "2025-05-30T08:39:38.452499Z",
     "start_time": "2025-05-30T08:39:38.308220Z"
    }
   },
   "source": [
    "owid_covid.head()"
   ],
   "outputs": [
    {
     "ename": "ModuleNotFoundError",
     "evalue": "No module named 'pandas.io.formats.string'",
     "output_type": "error",
     "traceback": [
      "\u001B[31m---------------------------------------------------------------------------\u001B[39m",
      "\u001B[31mModuleNotFoundError\u001B[39m                       Traceback (most recent call last)",
      "\u001B[36mFile \u001B[39m\u001B[32m~/miniconda3/envs/TimeSeries/lib/python3.12/site-packages/IPython/core/formatters.py:770\u001B[39m, in \u001B[36mPlainTextFormatter.__call__\u001B[39m\u001B[34m(self, obj)\u001B[39m\n\u001B[32m    763\u001B[39m stream = StringIO()\n\u001B[32m    764\u001B[39m printer = pretty.RepresentationPrinter(stream, \u001B[38;5;28mself\u001B[39m.verbose,\n\u001B[32m    765\u001B[39m     \u001B[38;5;28mself\u001B[39m.max_width, \u001B[38;5;28mself\u001B[39m.newline,\n\u001B[32m    766\u001B[39m     max_seq_length=\u001B[38;5;28mself\u001B[39m.max_seq_length,\n\u001B[32m    767\u001B[39m     singleton_pprinters=\u001B[38;5;28mself\u001B[39m.singleton_printers,\n\u001B[32m    768\u001B[39m     type_pprinters=\u001B[38;5;28mself\u001B[39m.type_printers,\n\u001B[32m    769\u001B[39m     deferred_pprinters=\u001B[38;5;28mself\u001B[39m.deferred_printers)\n\u001B[32m--> \u001B[39m\u001B[32m770\u001B[39m printer.pretty(obj)\n\u001B[32m    771\u001B[39m printer.flush()\n\u001B[32m    772\u001B[39m \u001B[38;5;28;01mreturn\u001B[39;00m stream.getvalue()\n",
      "\u001B[36mFile \u001B[39m\u001B[32m~/miniconda3/envs/TimeSeries/lib/python3.12/site-packages/IPython/lib/pretty.py:411\u001B[39m, in \u001B[36mRepresentationPrinter.pretty\u001B[39m\u001B[34m(self, obj)\u001B[39m\n\u001B[32m    400\u001B[39m                         \u001B[38;5;28;01mreturn\u001B[39;00m meth(obj, \u001B[38;5;28mself\u001B[39m, cycle)\n\u001B[32m    401\u001B[39m                 \u001B[38;5;28;01mif\u001B[39;00m (\n\u001B[32m    402\u001B[39m                     \u001B[38;5;28mcls\u001B[39m \u001B[38;5;129;01mis\u001B[39;00m \u001B[38;5;129;01mnot\u001B[39;00m \u001B[38;5;28mobject\u001B[39m\n\u001B[32m    403\u001B[39m                     \u001B[38;5;66;03m# check if cls defines __repr__\u001B[39;00m\n\u001B[32m   (...)\u001B[39m\u001B[32m    409\u001B[39m                     \u001B[38;5;129;01mand\u001B[39;00m \u001B[38;5;28mcallable\u001B[39m(_safe_getattr(\u001B[38;5;28mcls\u001B[39m, \u001B[33m\"\u001B[39m\u001B[33m__repr__\u001B[39m\u001B[33m\"\u001B[39m, \u001B[38;5;28;01mNone\u001B[39;00m))\n\u001B[32m    410\u001B[39m                 ):\n\u001B[32m--> \u001B[39m\u001B[32m411\u001B[39m                     \u001B[38;5;28;01mreturn\u001B[39;00m _repr_pprint(obj, \u001B[38;5;28mself\u001B[39m, cycle)\n\u001B[32m    413\u001B[39m     \u001B[38;5;28;01mreturn\u001B[39;00m _default_pprint(obj, \u001B[38;5;28mself\u001B[39m, cycle)\n\u001B[32m    414\u001B[39m \u001B[38;5;28;01mfinally\u001B[39;00m:\n",
      "\u001B[36mFile \u001B[39m\u001B[32m~/miniconda3/envs/TimeSeries/lib/python3.12/site-packages/IPython/lib/pretty.py:786\u001B[39m, in \u001B[36m_repr_pprint\u001B[39m\u001B[34m(obj, p, cycle)\u001B[39m\n\u001B[32m    784\u001B[39m \u001B[38;5;250m\u001B[39m\u001B[33;03m\"\"\"A pprint that just redirects to the normal repr function.\"\"\"\u001B[39;00m\n\u001B[32m    785\u001B[39m \u001B[38;5;66;03m# Find newlines and replace them with p.break_()\u001B[39;00m\n\u001B[32m--> \u001B[39m\u001B[32m786\u001B[39m output = \u001B[38;5;28mrepr\u001B[39m(obj)\n\u001B[32m    787\u001B[39m lines = output.splitlines()\n\u001B[32m    788\u001B[39m \u001B[38;5;28;01mwith\u001B[39;00m p.group():\n",
      "\u001B[36mFile \u001B[39m\u001B[32m~/.local/lib/python3.12/site-packages/pandas/core/frame.py:1214\u001B[39m, in \u001B[36m__repr__\u001B[39m\u001B[34m(self)\u001B[39m\n",
      "\u001B[36mFile \u001B[39m\u001B[32m~/.local/lib/python3.12/site-packages/pandas/util/_decorators.py:333\u001B[39m, in \u001B[36mwrapper\u001B[39m\u001B[34m(*args, **kwargs)\u001B[39m\n",
      "\u001B[36mFile \u001B[39m\u001B[32m~/.local/lib/python3.12/site-packages/pandas/core/frame.py:1394\u001B[39m, in \u001B[36mto_string\u001B[39m\u001B[34m(self, buf, columns, col_space, header, index, na_rep, formatters, float_format, sparsify, index_names, justify, max_rows, max_cols, show_dimensions, decimal, line_width, min_rows, max_colwidth, encoding)\u001B[39m\n",
      "\u001B[36mFile \u001B[39m\u001B[32m~/.local/lib/python3.12/site-packages/pandas/io/formats/format.py:959\u001B[39m, in \u001B[36mto_string\u001B[39m\u001B[34m(self, buf, encoding, line_width)\u001B[39m\n",
      "\u001B[31mModuleNotFoundError\u001B[39m: No module named 'pandas.io.formats.string'"
     ]
    },
    {
     "ename": "ModuleNotFoundError",
     "evalue": "No module named 'pandas.io.formats.html'",
     "output_type": "error",
     "traceback": [
      "\u001B[31m---------------------------------------------------------------------------\u001B[39m",
      "\u001B[31mModuleNotFoundError\u001B[39m                       Traceback (most recent call last)",
      "\u001B[36mFile \u001B[39m\u001B[32m~/miniconda3/envs/TimeSeries/lib/python3.12/site-packages/IPython/core/formatters.py:406\u001B[39m, in \u001B[36mBaseFormatter.__call__\u001B[39m\u001B[34m(self, obj)\u001B[39m\n\u001B[32m    404\u001B[39m     method = get_real_method(obj, \u001B[38;5;28mself\u001B[39m.print_method)\n\u001B[32m    405\u001B[39m     \u001B[38;5;28;01mif\u001B[39;00m method \u001B[38;5;129;01mis\u001B[39;00m \u001B[38;5;129;01mnot\u001B[39;00m \u001B[38;5;28;01mNone\u001B[39;00m:\n\u001B[32m--> \u001B[39m\u001B[32m406\u001B[39m         \u001B[38;5;28;01mreturn\u001B[39;00m method()\n\u001B[32m    407\u001B[39m     \u001B[38;5;28;01mreturn\u001B[39;00m \u001B[38;5;28;01mNone\u001B[39;00m\n\u001B[32m    408\u001B[39m \u001B[38;5;28;01melse\u001B[39;00m:\n",
      "\u001B[36mFile \u001B[39m\u001B[32m~/.local/lib/python3.12/site-packages/pandas/core/frame.py:1256\u001B[39m, in \u001B[36m_repr_html_\u001B[39m\u001B[34m(self)\u001B[39m\n",
      "\u001B[36mFile \u001B[39m\u001B[32m~/.local/lib/python3.12/site-packages/pandas/io/formats/format.py:922\u001B[39m, in \u001B[36mto_html\u001B[39m\u001B[34m(self, buf, encoding, classes, notebook, border, table_id, render_links)\u001B[39m\n",
      "\u001B[31mModuleNotFoundError\u001B[39m: No module named 'pandas.io.formats.html'"
     ]
    }
   ],
   "execution_count": 6
  },
  {
   "cell_type": "code",
   "metadata": {
    "id": "JslH5iW-gthQ",
    "ExecuteTime": {
     "end_time": "2025-05-30T08:39:38.504278Z",
     "start_time": "2025-05-30T08:39:38.484886Z"
    }
   },
   "source": [
    "df = owid_covid[owid_covid.location == \"France\"].set_index(\"date\", drop=True).resample('D').interpolate(method='linear')"
   ],
   "outputs": [
    {
     "name": "stderr",
     "output_type": "stream",
     "text": [
      "/tmp/ipykernel_28797/2325790796.py:1: FutureWarning: DataFrame.interpolate with object dtype is deprecated and will raise in a future version. Call obj.infer_objects(copy=False) before interpolating instead.\n",
      "  df = owid_covid[owid_covid.location == \"France\"].set_index(\"date\", drop=True).resample('D').interpolate(method='linear')\n"
     ]
    }
   ],
   "execution_count": 7
  },
  {
   "cell_type": "code",
   "metadata": {
    "id": "lPBBQ8eLe2Fb",
    "ExecuteTime": {
     "end_time": "2025-05-30T08:39:38.549074Z",
     "start_time": "2025-05-30T08:39:38.538037Z"
    }
   },
   "source": [
    "from greykite.framework.templates.autogen.forecast_config import (\n",
    "    ForecastConfig, MetadataParam\n",
    ")\n",
    "\n",
    "metadata = MetadataParam(\n",
    "    time_col=\"date\",\n",
    "    value_col=\"new_cases\",\n",
    "    freq=\"D\"\n",
    ")"
   ],
   "outputs": [],
   "execution_count": 8
  },
  {
   "cell_type": "code",
   "metadata": {
    "colab": {
     "base_uri": "https://localhost:8080/"
    },
    "id": "Bv40xaJde2Fc",
    "outputId": "8305ef45-89f0-4067-e2c5-96f3d9b7dfc6",
    "ExecuteTime": {
     "end_time": "2025-05-30T08:39:39.294180Z",
     "start_time": "2025-05-30T08:39:38.597247Z"
    }
   },
   "source": [
    "import warnings\n",
    "from greykite.framework.templates.forecaster import Forecaster\n",
    "from greykite.framework.templates.model_templates import ModelTemplateEnum\n",
    "\n",
    "forecaster = Forecaster()\n",
    "\n",
    "warnings.filterwarnings(\"ignore\", category=UserWarning)\n",
    "result = forecaster.run_forecast_config(\n",
    "    df=df.reset_index(),\n",
    "    config=ForecastConfig(\n",
    "        model_template=ModelTemplateEnum.SILVERKITE_DAILY_90.name,\n",
    "        forecast_horizon=90,\n",
    "        coverage=0.95,\n",
    "        metadata_param=metadata,\n",
    "    )\n",
    ")"
   ],
   "outputs": [
    {
     "ename": "TypeError",
     "evalue": "This is a holidays entity loader class. For entity inheritance purposes please import a class you want to derive from directly: e.g., `from holidays.countries import Entity` or `from holidays.financial import Entity`.",
     "output_type": "error",
     "traceback": [
      "\u001B[31m---------------------------------------------------------------------------\u001B[39m",
      "\u001B[31mTypeError\u001B[39m                                 Traceback (most recent call last)",
      "\u001B[36mCell\u001B[39m\u001B[36m \u001B[39m\u001B[32mIn[9]\u001B[39m\u001B[32m, line 2\u001B[39m\n\u001B[32m      1\u001B[39m \u001B[38;5;28;01mimport\u001B[39;00m\u001B[38;5;250m \u001B[39m\u001B[34;01mwarnings\u001B[39;00m\n\u001B[32m----> \u001B[39m\u001B[32m2\u001B[39m \u001B[38;5;28;01mfrom\u001B[39;00m\u001B[38;5;250m \u001B[39m\u001B[34;01mgreykite\u001B[39;00m\u001B[34;01m.\u001B[39;00m\u001B[34;01mframework\u001B[39;00m\u001B[34;01m.\u001B[39;00m\u001B[34;01mtemplates\u001B[39;00m\u001B[34;01m.\u001B[39;00m\u001B[34;01mforecaster\u001B[39;00m\u001B[38;5;250m \u001B[39m\u001B[38;5;28;01mimport\u001B[39;00m Forecaster\n\u001B[32m      3\u001B[39m \u001B[38;5;28;01mfrom\u001B[39;00m\u001B[38;5;250m \u001B[39m\u001B[34;01mgreykite\u001B[39;00m\u001B[34;01m.\u001B[39;00m\u001B[34;01mframework\u001B[39;00m\u001B[34;01m.\u001B[39;00m\u001B[34;01mtemplates\u001B[39;00m\u001B[34;01m.\u001B[39;00m\u001B[34;01mmodel_templates\u001B[39;00m\u001B[38;5;250m \u001B[39m\u001B[38;5;28;01mimport\u001B[39;00m ModelTemplateEnum\n\u001B[32m      5\u001B[39m forecaster = Forecaster()\n",
      "\u001B[36mFile \u001B[39m\u001B[32m~/miniconda3/envs/TimeSeries/lib/python3.12/site-packages/greykite/framework/templates/forecaster.py:37\u001B[39m\n\u001B[32m     35\u001B[39m \u001B[38;5;28;01mfrom\u001B[39;00m\u001B[38;5;250m \u001B[39m\u001B[34;01mgreykite\u001B[39;00m\u001B[34;01m.\u001B[39;00m\u001B[34;01mcommon\u001B[39;00m\u001B[34;01m.\u001B[39;00m\u001B[34;01mlogging\u001B[39;00m\u001B[38;5;250m \u001B[39m\u001B[38;5;28;01mimport\u001B[39;00m log_message\n\u001B[32m     36\u001B[39m \u001B[38;5;28;01mfrom\u001B[39;00m\u001B[38;5;250m \u001B[39m\u001B[34;01mgreykite\u001B[39;00m\u001B[34;01m.\u001B[39;00m\u001B[34;01mcommon\u001B[39;00m\u001B[34;01m.\u001B[39;00m\u001B[34;01mpython_utils\u001B[39;00m\u001B[38;5;250m \u001B[39m\u001B[38;5;28;01mimport\u001B[39;00m unique_elements_in_list\n\u001B[32m---> \u001B[39m\u001B[32m37\u001B[39m \u001B[38;5;28;01mfrom\u001B[39;00m\u001B[38;5;250m \u001B[39m\u001B[34;01mgreykite\u001B[39;00m\u001B[34;01m.\u001B[39;00m\u001B[34;01mframework\u001B[39;00m\u001B[34;01m.\u001B[39;00m\u001B[34;01mpipeline\u001B[39;00m\u001B[34;01m.\u001B[39;00m\u001B[34;01mpipeline\u001B[39;00m\u001B[38;5;250m \u001B[39m\u001B[38;5;28;01mimport\u001B[39;00m ForecastResult\n\u001B[32m     38\u001B[39m \u001B[38;5;28;01mfrom\u001B[39;00m\u001B[38;5;250m \u001B[39m\u001B[34;01mgreykite\u001B[39;00m\u001B[34;01m.\u001B[39;00m\u001B[34;01mframework\u001B[39;00m\u001B[34;01m.\u001B[39;00m\u001B[34;01mpipeline\u001B[39;00m\u001B[34;01m.\u001B[39;00m\u001B[34;01mpipeline\u001B[39;00m\u001B[38;5;250m \u001B[39m\u001B[38;5;28;01mimport\u001B[39;00m forecast_pipeline\n\u001B[32m     39\u001B[39m \u001B[38;5;28;01mfrom\u001B[39;00m\u001B[38;5;250m \u001B[39m\u001B[34;01mgreykite\u001B[39;00m\u001B[34;01m.\u001B[39;00m\u001B[34;01mframework\u001B[39;00m\u001B[34;01m.\u001B[39;00m\u001B[34;01mpipeline\u001B[39;00m\u001B[34;01m.\u001B[39;00m\u001B[34;01mutils\u001B[39;00m\u001B[38;5;250m \u001B[39m\u001B[38;5;28;01mimport\u001B[39;00m get_basic_pipeline\n",
      "\u001B[36mFile \u001B[39m\u001B[32m~/miniconda3/envs/TimeSeries/lib/python3.12/site-packages/greykite/framework/pipeline/pipeline.py:47\u001B[39m\n\u001B[32m     45\u001B[39m \u001B[38;5;28;01mfrom\u001B[39;00m\u001B[38;5;250m \u001B[39m\u001B[34;01mgreykite\u001B[39;00m\u001B[34;01m.\u001B[39;00m\u001B[34;01mframework\u001B[39;00m\u001B[34;01m.\u001B[39;00m\u001B[34;01mconstants\u001B[39;00m\u001B[38;5;250m \u001B[39m\u001B[38;5;28;01mimport\u001B[39;00m COMPUTATION_N_JOBS\n\u001B[32m     46\u001B[39m \u001B[38;5;28;01mfrom\u001B[39;00m\u001B[38;5;250m \u001B[39m\u001B[34;01mgreykite\u001B[39;00m\u001B[34;01m.\u001B[39;00m\u001B[34;01mframework\u001B[39;00m\u001B[34;01m.\u001B[39;00m\u001B[34;01mconstants\u001B[39;00m\u001B[38;5;250m \u001B[39m\u001B[38;5;28;01mimport\u001B[39;00m CV_REPORT_METRICS_ALL\n\u001B[32m---> \u001B[39m\u001B[32m47\u001B[39m \u001B[38;5;28;01mfrom\u001B[39;00m\u001B[38;5;250m \u001B[39m\u001B[34;01mgreykite\u001B[39;00m\u001B[34;01m.\u001B[39;00m\u001B[34;01mframework\u001B[39;00m\u001B[34;01m.\u001B[39;00m\u001B[34;01minput\u001B[39;00m\u001B[34;01m.\u001B[39;00m\u001B[34;01munivariate_time_series\u001B[39;00m\u001B[38;5;250m \u001B[39m\u001B[38;5;28;01mimport\u001B[39;00m UnivariateTimeSeries\n\u001B[32m     48\u001B[39m \u001B[38;5;28;01mfrom\u001B[39;00m\u001B[38;5;250m \u001B[39m\u001B[34;01mgreykite\u001B[39;00m\u001B[34;01m.\u001B[39;00m\u001B[34;01mframework\u001B[39;00m\u001B[34;01m.\u001B[39;00m\u001B[34;01moutput\u001B[39;00m\u001B[34;01m.\u001B[39;00m\u001B[34;01munivariate_forecast\u001B[39;00m\u001B[38;5;250m \u001B[39m\u001B[38;5;28;01mimport\u001B[39;00m UnivariateForecast\n\u001B[32m     49\u001B[39m \u001B[38;5;28;01mfrom\u001B[39;00m\u001B[38;5;250m \u001B[39m\u001B[34;01mgreykite\u001B[39;00m\u001B[34;01m.\u001B[39;00m\u001B[34;01mframework\u001B[39;00m\u001B[34;01m.\u001B[39;00m\u001B[34;01mpipeline\u001B[39;00m\u001B[34;01m.\u001B[39;00m\u001B[34;01mutils\u001B[39;00m\u001B[38;5;250m \u001B[39m\u001B[38;5;28;01mimport\u001B[39;00m get_basic_pipeline\n",
      "\u001B[36mFile \u001B[39m\u001B[32m~/miniconda3/envs/TimeSeries/lib/python3.12/site-packages/greykite/framework/input/univariate_time_series.py:41\u001B[39m\n\u001B[32m     39\u001B[39m \u001B[38;5;28;01mfrom\u001B[39;00m\u001B[38;5;250m \u001B[39m\u001B[34;01mgreykite\u001B[39;00m\u001B[34;01m.\u001B[39;00m\u001B[34;01mcommon\u001B[39;00m\u001B[34;01m.\u001B[39;00m\u001B[34;01mtime_properties\u001B[39;00m\u001B[38;5;250m \u001B[39m\u001B[38;5;28;01mimport\u001B[39;00m describe_timeseries\n\u001B[32m     40\u001B[39m \u001B[38;5;28;01mfrom\u001B[39;00m\u001B[38;5;250m \u001B[39m\u001B[34;01mgreykite\u001B[39;00m\u001B[34;01m.\u001B[39;00m\u001B[34;01mcommon\u001B[39;00m\u001B[34;01m.\u001B[39;00m\u001B[34;01mtime_properties\u001B[39;00m\u001B[38;5;250m \u001B[39m\u001B[38;5;28;01mimport\u001B[39;00m get_canonical_data\n\u001B[32m---> \u001B[39m\u001B[32m41\u001B[39m \u001B[38;5;28;01mfrom\u001B[39;00m\u001B[38;5;250m \u001B[39m\u001B[34;01mgreykite\u001B[39;00m\u001B[34;01m.\u001B[39;00m\u001B[34;01mcommon\u001B[39;00m\u001B[34;01m.\u001B[39;00m\u001B[34;01mviz\u001B[39;00m\u001B[34;01m.\u001B[39;00m\u001B[34;01mtimeseries_plotting\u001B[39;00m\u001B[38;5;250m \u001B[39m\u001B[38;5;28;01mimport\u001B[39;00m add_groupby_column\n\u001B[32m     42\u001B[39m \u001B[38;5;28;01mfrom\u001B[39;00m\u001B[38;5;250m \u001B[39m\u001B[34;01mgreykite\u001B[39;00m\u001B[34;01m.\u001B[39;00m\u001B[34;01mcommon\u001B[39;00m\u001B[34;01m.\u001B[39;00m\u001B[34;01mviz\u001B[39;00m\u001B[34;01m.\u001B[39;00m\u001B[34;01mtimeseries_plotting\u001B[39;00m\u001B[38;5;250m \u001B[39m\u001B[38;5;28;01mimport\u001B[39;00m flexible_grouping_evaluation\n\u001B[32m     43\u001B[39m \u001B[38;5;28;01mfrom\u001B[39;00m\u001B[38;5;250m \u001B[39m\u001B[34;01mgreykite\u001B[39;00m\u001B[34;01m.\u001B[39;00m\u001B[34;01mcommon\u001B[39;00m\u001B[34;01m.\u001B[39;00m\u001B[34;01mviz\u001B[39;00m\u001B[34;01m.\u001B[39;00m\u001B[34;01mtimeseries_plotting\u001B[39;00m\u001B[38;5;250m \u001B[39m\u001B[38;5;28;01mimport\u001B[39;00m grouping_evaluation\n",
      "\u001B[36mFile \u001B[39m\u001B[32m~/miniconda3/envs/TimeSeries/lib/python3.12/site-packages/greykite/common/viz/timeseries_plotting.py:33\u001B[39m\n\u001B[32m     30\u001B[39m \u001B[38;5;28;01mfrom\u001B[39;00m\u001B[38;5;250m \u001B[39m\u001B[34;01mplotly\u001B[39;00m\u001B[34;01m.\u001B[39;00m\u001B[34;01msubplots\u001B[39;00m\u001B[38;5;250m \u001B[39m\u001B[38;5;28;01mimport\u001B[39;00m make_subplots\n\u001B[32m     32\u001B[39m \u001B[38;5;28;01mfrom\u001B[39;00m\u001B[38;5;250m \u001B[39m\u001B[34;01mgreykite\u001B[39;00m\u001B[34;01m.\u001B[39;00m\u001B[34;01mcommon\u001B[39;00m\u001B[38;5;250m \u001B[39m\u001B[38;5;28;01mimport\u001B[39;00m constants \u001B[38;5;28;01mas\u001B[39;00m cst\n\u001B[32m---> \u001B[39m\u001B[32m33\u001B[39m \u001B[38;5;28;01mfrom\u001B[39;00m\u001B[38;5;250m \u001B[39m\u001B[34;01mgreykite\u001B[39;00m\u001B[34;01m.\u001B[39;00m\u001B[34;01mcommon\u001B[39;00m\u001B[34;01m.\u001B[39;00m\u001B[34;01mfeatures\u001B[39;00m\u001B[34;01m.\u001B[39;00m\u001B[34;01mtimeseries_features\u001B[39;00m\u001B[38;5;250m \u001B[39m\u001B[38;5;28;01mimport\u001B[39;00m build_time_features_df\n\u001B[32m     34\u001B[39m \u001B[38;5;28;01mfrom\u001B[39;00m\u001B[38;5;250m \u001B[39m\u001B[34;01mgreykite\u001B[39;00m\u001B[34;01m.\u001B[39;00m\u001B[34;01mcommon\u001B[39;00m\u001B[34;01m.\u001B[39;00m\u001B[34;01mlogging\u001B[39;00m\u001B[38;5;250m \u001B[39m\u001B[38;5;28;01mimport\u001B[39;00m LoggingLevelEnum\n\u001B[32m     35\u001B[39m \u001B[38;5;28;01mfrom\u001B[39;00m\u001B[38;5;250m \u001B[39m\u001B[34;01mgreykite\u001B[39;00m\u001B[34;01m.\u001B[39;00m\u001B[34;01mcommon\u001B[39;00m\u001B[34;01m.\u001B[39;00m\u001B[34;01mlogging\u001B[39;00m\u001B[38;5;250m \u001B[39m\u001B[38;5;28;01mimport\u001B[39;00m log_message\n",
      "\u001B[36mFile \u001B[39m\u001B[32m~/miniconda3/envs/TimeSeries/lib/python3.12/site-packages/greykite/common/features/timeseries_features.py:33\u001B[39m\n\u001B[32m     31\u001B[39m \u001B[38;5;28;01mimport\u001B[39;00m\u001B[38;5;250m \u001B[39m\u001B[34;01mpandas\u001B[39;00m\u001B[38;5;250m \u001B[39m\u001B[38;5;28;01mas\u001B[39;00m\u001B[38;5;250m \u001B[39m\u001B[34;01mpd\u001B[39;00m\n\u001B[32m     32\u001B[39m \u001B[38;5;28;01mimport\u001B[39;00m\u001B[38;5;250m \u001B[39m\u001B[34;01mpytz\u001B[39;00m\n\u001B[32m---> \u001B[39m\u001B[32m33\u001B[39m \u001B[38;5;28;01mfrom\u001B[39;00m\u001B[38;5;250m \u001B[39m\u001B[34;01mholidays_ext\u001B[39;00m\u001B[38;5;250m \u001B[39m\u001B[38;5;28;01mimport\u001B[39;00m get_holidays \u001B[38;5;28;01mas\u001B[39;00m get_hdays\n\u001B[32m     34\u001B[39m \u001B[38;5;28;01mfrom\u001B[39;00m\u001B[38;5;250m \u001B[39m\u001B[34;01mpandas\u001B[39;00m\u001B[34;01m.\u001B[39;00m\u001B[34;01mtseries\u001B[39;00m\u001B[34;01m.\u001B[39;00m\u001B[34;01mfrequencies\u001B[39;00m\u001B[38;5;250m \u001B[39m\u001B[38;5;28;01mimport\u001B[39;00m to_offset\n\u001B[32m     35\u001B[39m \u001B[38;5;28;01mfrom\u001B[39;00m\u001B[38;5;250m \u001B[39m\u001B[34;01mscipy\u001B[39;00m\u001B[34;01m.\u001B[39;00m\u001B[34;01mspecial\u001B[39;00m\u001B[38;5;250m \u001B[39m\u001B[38;5;28;01mimport\u001B[39;00m expit\n",
      "\u001B[36mFile \u001B[39m\u001B[32m~/miniconda3/envs/TimeSeries/lib/python3.12/site-packages/holidays_ext/get_holidays.py:13\u001B[39m\n\u001B[32m      9\u001B[39m \u001B[38;5;28;01mimport\u001B[39;00m\u001B[38;5;250m \u001B[39m\u001B[34;01mwarnings\u001B[39;00m\n\u001B[32m     11\u001B[39m \u001B[38;5;28;01mimport\u001B[39;00m\u001B[38;5;250m \u001B[39m\u001B[34;01mpandas\u001B[39;00m\u001B[38;5;250m \u001B[39m\u001B[38;5;28;01mas\u001B[39;00m\u001B[38;5;250m \u001B[39m\u001B[34;01mpd\u001B[39;00m\n\u001B[32m---> \u001B[39m\u001B[32m13\u001B[39m \u001B[38;5;28;01mfrom\u001B[39;00m\u001B[38;5;250m \u001B[39m\u001B[34;01mholidays_ext\u001B[39;00m\u001B[38;5;250m \u001B[39m\u001B[38;5;28;01mimport\u001B[39;00m holidays_ext\n\u001B[32m     14\u001B[39m \u001B[38;5;28;01mimport\u001B[39;00m\u001B[38;5;250m \u001B[39m\u001B[34;01mholidays\u001B[39;00m\n\u001B[32m     17\u001B[39m \u001B[38;5;28;01mdef\u001B[39;00m\u001B[38;5;250m \u001B[39m\u001B[34mget_holiday\u001B[39m(\n\u001B[32m     18\u001B[39m         country_list: List[\u001B[38;5;28mstr\u001B[39m],\n\u001B[32m     19\u001B[39m         years: List[\u001B[38;5;28mint\u001B[39m]) -> \u001B[38;5;28mdict\u001B[39m:\n",
      "\u001B[36mFile \u001B[39m\u001B[32m~/miniconda3/envs/TimeSeries/lib/python3.12/site-packages/holidays_ext/holidays_ext.py:1072\u001B[39m\n\u001B[32m   1068\u001B[39m \u001B[38;5;28;01mclass\u001B[39;00m\u001B[38;5;250m \u001B[39m\u001B[34;01mGE\u001B[39;00m(Georgia):\n\u001B[32m   1069\u001B[39m     \u001B[38;5;28;01mpass\u001B[39;00m\n\u001B[32m-> \u001B[39m\u001B[32m1072\u001B[39m \u001B[38;5;28;01mclass\u001B[39;00m\u001B[38;5;250m \u001B[39m\u001B[34;01mUnitedStates\u001B[39;00m(OldUnitedStates):\n\u001B[32m   1073\u001B[39m \u001B[38;5;250m    \u001B[39m\u001B[33;03m\"\"\"Overrides United States by adding Halloween.\"\"\"\u001B[39;00m\n\u001B[32m   1074\u001B[39m     \u001B[38;5;28;01mdef\u001B[39;00m\u001B[38;5;250m \u001B[39m\u001B[34m__init__\u001B[39m(\u001B[38;5;28mself\u001B[39m, **kwargs):\n",
      "\u001B[36mFile \u001B[39m\u001B[32m~/miniconda3/envs/TimeSeries/lib/python3.12/site-packages/holidays/registry.py:226\u001B[39m, in \u001B[36mEntityLoader.__init__\u001B[39m\u001B[34m(self, path, *args, **kwargs)\u001B[39m\n\u001B[32m    224\u001B[39m \u001B[38;5;250m\u001B[39m\u001B[33;03m\"\"\"Set up a lazy loader.\"\"\"\u001B[39;00m\n\u001B[32m    225\u001B[39m \u001B[38;5;28;01mif\u001B[39;00m args:\n\u001B[32m--> \u001B[39m\u001B[32m226\u001B[39m     \u001B[38;5;28;01mraise\u001B[39;00m \u001B[38;5;167;01mTypeError\u001B[39;00m(\n\u001B[32m    227\u001B[39m         \u001B[33m\"\u001B[39m\u001B[33mThis is a holidays entity loader class. \u001B[39m\u001B[33m\"\u001B[39m\n\u001B[32m    228\u001B[39m         \u001B[33m\"\u001B[39m\u001B[33mFor entity inheritance purposes please import a class you \u001B[39m\u001B[33m\"\u001B[39m\n\u001B[32m    229\u001B[39m         \u001B[33m\"\u001B[39m\u001B[33mwant to derive from directly: e.g., \u001B[39m\u001B[33m\"\u001B[39m\n\u001B[32m    230\u001B[39m         \u001B[33m\"\u001B[39m\u001B[33m`from holidays.countries import Entity` or \u001B[39m\u001B[33m\"\u001B[39m\n\u001B[32m    231\u001B[39m         \u001B[33m\"\u001B[39m\u001B[33m`from holidays.financial import Entity`.\u001B[39m\u001B[33m\"\u001B[39m\n\u001B[32m    232\u001B[39m     )\n\u001B[32m    234\u001B[39m entity_path = path.split(\u001B[33m\"\u001B[39m\u001B[33m.\u001B[39m\u001B[33m\"\u001B[39m)\n\u001B[32m    236\u001B[39m \u001B[38;5;28mself\u001B[39m.entity = \u001B[38;5;28;01mNone\u001B[39;00m\n",
      "\u001B[31mTypeError\u001B[39m: This is a holidays entity loader class. For entity inheritance purposes please import a class you want to derive from directly: e.g., `from holidays.countries import Entity` or `from holidays.financial import Entity`."
     ]
    }
   ],
   "execution_count": 9
  },
  {
   "cell_type": "code",
   "execution_count": null,
   "metadata": {
    "colab": {
     "base_uri": "https://localhost:8080/",
     "height": 542
    },
    "id": "Djt_cYAPqdES",
    "outputId": "e22d6805-d3a5-4500-d923-3ea1e9778657"
   },
   "outputs": [],
   "source": [
    "forecast = result.forecast\n",
    "forecast.plot().show(renderer=\"colab\")  # leave out the renderer argument if you are not on google colab!"
   ]
  },
  {
   "cell_type": "code",
   "execution_count": null,
   "metadata": {
    "colab": {
     "base_uri": "https://localhost:8080/",
     "height": 204
    },
    "id": "6MGAevXyvEyA",
    "outputId": "132fb3e9-be00-485b-badb-05547f65a13b"
   },
   "outputs": [],
   "source": [
    "forecast.df.head().round(2)"
   ]
  },
  {
   "cell_type": "code",
   "execution_count": null,
   "metadata": {
    "colab": {
     "base_uri": "https://localhost:8080/",
     "height": 204
    },
    "id": "El0vJRace2Fe",
    "outputId": "816da56c-de9b-458b-bcd1-3956e3331169"
   },
   "outputs": [],
   "source": [
    "from collections import defaultdict\n",
    "\n",
    "backtest = result.backtest\n",
    "backtest_eval = defaultdict(list)\n",
    "for metric, value in backtest.train_evaluation.items():\n",
    "    backtest_eval[metric].append(value)\n",
    "    backtest_eval[metric].append(backtest.test_evaluation[metric])\n",
    "metrics = pd.DataFrame(backtest_eval, index=[\"train\", \"test\"]).T\n",
    "metrics.head()"
   ]
  },
  {
   "cell_type": "code",
   "execution_count": null,
   "metadata": {
    "colab": {
     "base_uri": "https://localhost:8080/",
     "height": 241
    },
    "id": "oL9GMtJgtHGO",
    "outputId": "f7555d36-66b9-4f7d-a4f8-fdced9397806"
   },
   "outputs": [],
   "source": [
    "model = result.model\n",
    "future_df = result.timeseries.make_future_dataframe(\n",
    "    periods=4,\n",
    "    include_history=False\n",
    ")\n",
    "model.predict(future_df)"
   ]
  },
  {
   "cell_type": "code",
   "execution_count": null,
   "metadata": {
    "colab": {
     "base_uri": "https://localhost:8080/",
     "height": 241
    },
    "id": "uIclGJzatLl9",
    "outputId": "ae1832c4-10df-4cae-c5f3-3ac9066f8745"
   },
   "outputs": [],
   "source": [
    "model.predict(future_df)"
   ]
  },
  {
   "cell_type": "code",
   "execution_count": null,
   "metadata": {},
   "outputs": [],
   "source": []
  }
 ],
 "metadata": {
  "colab": {
   "collapsed_sections": [
    "JHuPMCuAe2Ff",
    "xJe34gyie2Fi",
    "B9u12G4ne2Fm"
   ],
   "name": "Silverkite",
   "provenance": []
  },
  "kernelspec": {
   "display_name": "Python 3",
   "language": "python",
   "name": "python3"
  },
  "language_info": {
   "codemirror_mode": {
    "name": "ipython",
    "version": 3
   },
   "file_extension": ".py",
   "mimetype": "text/x-python",
   "name": "python",
   "nbconvert_exporter": "python",
   "pygments_lexer": "ipython3",
   "version": "3.8.8"
  }
 },
 "nbformat": 4,
 "nbformat_minor": 4
}

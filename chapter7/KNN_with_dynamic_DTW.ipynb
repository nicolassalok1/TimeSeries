{
 "cells": [
  {
   "cell_type": "markdown",
   "metadata": {},
   "source": [
    "<a href=\"https://colab.research.google.com/github/PacktPublishing/Machine-Learning-for-Time-Series-with-Python/blob/master/chapter7/KNN_with_dynamic_DTW.ipynb\" target=\"_parent\\\"><img src=\"https://colab.research.google.com/assets/colab-badge.svg\" alt=\"Open In Colab\"/></a>"
   ]
  },
  {
   "cell_type": "code",
   "metadata": {
    "colab": {
     "base_uri": "https://localhost:8080/"
    },
    "id": "r1kjFHY6xlbo",
    "outputId": "4b3f00df-2b21-4b3f-809f-7df77ada4790",
    "ExecuteTime": {
     "end_time": "2025-05-30T08:29:43.775203Z",
     "start_time": "2025-05-30T08:29:10.279386Z"
    }
   },
   "source": [
    "!pip install tsfresh \"statsmodels<=0.12\""
   ],
   "outputs": [
    {
     "name": "stdout",
     "output_type": "stream",
     "text": [
      "/bin/bash: warning: setlocale: LC_ALL: cannot change locale (en_US.UTF-8)\r\n",
      "Requirement already satisfied: tsfresh in /root/miniconda3/envs/TimeSeries/lib/python3.12/site-packages (0.21.0)\r\n",
      "Collecting statsmodels<=0.12\r\n",
      "  Using cached statsmodels-0.12.0.tar.gz (17.5 MB)\r\n",
      "  Installing build dependencies ... \u001B[?25lerror\r\n",
      "  \u001B[1;31merror\u001B[0m: \u001B[1msubprocess-exited-with-error\u001B[0m\r\n",
      "  \r\n",
      "  \u001B[31m×\u001B[0m \u001B[32mpip subprocess to install build dependencies\u001B[0m did not run successfully.\r\n",
      "  \u001B[31m│\u001B[0m exit code: \u001B[1;36m1\u001B[0m\r\n",
      "  \u001B[31m╰─>\u001B[0m \u001B[31m[104 lines of output]\u001B[0m\r\n",
      "  \u001B[31m   \u001B[0m Ignoring numpy: markers 'python_version == \"3.6\"' don't match your environment\r\n",
      "  \u001B[31m   \u001B[0m Ignoring numpy: markers 'python_version == \"3.7\"' don't match your environment\r\n",
      "  \u001B[31m   \u001B[0m Collecting setuptools\r\n",
      "  \u001B[31m   \u001B[0m   Downloading setuptools-80.9.0-py3-none-any.whl.metadata (6.6 kB)\r\n",
      "  \u001B[31m   \u001B[0m Collecting wheel\r\n",
      "  \u001B[31m   \u001B[0m   Using cached wheel-0.45.1-py3-none-any.whl.metadata (2.3 kB)\r\n",
      "  \u001B[31m   \u001B[0m Collecting cython>=0.29.14\r\n",
      "  \u001B[31m   \u001B[0m   Downloading cython-3.1.1-cp312-cp312-manylinux_2_17_x86_64.manylinux2014_x86_64.whl.metadata (3.5 kB)\r\n",
      "  \u001B[31m   \u001B[0m Collecting numpy==1.17.5\r\n",
      "  \u001B[31m   \u001B[0m   Using cached numpy-1.17.5.zip (6.4 MB)\r\n",
      "  \u001B[31m   \u001B[0m   Preparing metadata (setup.py): started\r\n",
      "  \u001B[31m   \u001B[0m   Preparing metadata (setup.py): finished with status 'done'\r\n",
      "  \u001B[31m   \u001B[0m Collecting scipy>=1.2\r\n",
      "  \u001B[31m   \u001B[0m   Downloading scipy-1.15.3-cp312-cp312-manylinux_2_17_x86_64.manylinux2014_x86_64.whl.metadata (61 kB)\r\n",
      "  \u001B[31m   \u001B[0m INFO: pip is looking at multiple versions of scipy to determine which version is compatible with other requirements. This could take a while.\r\n",
      "  \u001B[31m   \u001B[0m   Using cached scipy-1.15.2-cp312-cp312-manylinux_2_17_x86_64.manylinux2014_x86_64.whl.metadata (61 kB)\r\n",
      "  \u001B[31m   \u001B[0m   Using cached scipy-1.15.1-cp312-cp312-manylinux_2_17_x86_64.manylinux2014_x86_64.whl.metadata (61 kB)\r\n",
      "  \u001B[31m   \u001B[0m   Using cached scipy-1.15.0-cp312-cp312-manylinux_2_17_x86_64.manylinux2014_x86_64.whl.metadata (61 kB)\r\n",
      "  \u001B[31m   \u001B[0m   Using cached scipy-1.14.1-cp312-cp312-manylinux_2_17_x86_64.manylinux2014_x86_64.whl.metadata (60 kB)\r\n",
      "  \u001B[31m   \u001B[0m   Using cached scipy-1.14.0-cp312-cp312-manylinux_2_17_x86_64.manylinux2014_x86_64.whl.metadata (60 kB)\r\n",
      "  \u001B[31m   \u001B[0m   Using cached scipy-1.13.1-cp312-cp312-manylinux_2_17_x86_64.manylinux2014_x86_64.whl.metadata (60 kB)\r\n",
      "  \u001B[31m   \u001B[0m   Using cached scipy-1.13.0-cp312-cp312-manylinux_2_17_x86_64.manylinux2014_x86_64.whl.metadata (60 kB)\r\n",
      "  \u001B[31m   \u001B[0m INFO: pip is still looking at multiple versions of scipy to determine which version is compatible with other requirements. This could take a while.\r\n",
      "  \u001B[31m   \u001B[0m   Using cached scipy-1.12.0-cp312-cp312-manylinux_2_17_x86_64.manylinux2014_x86_64.whl.metadata (60 kB)\r\n",
      "  \u001B[31m   \u001B[0m   Using cached scipy-1.11.4-cp312-cp312-manylinux_2_17_x86_64.manylinux2014_x86_64.whl.metadata (60 kB)\r\n",
      "  \u001B[31m   \u001B[0m   Using cached scipy-1.11.3-cp312-cp312-manylinux_2_17_x86_64.manylinux2014_x86_64.whl.metadata (60 kB)\r\n",
      "  \u001B[31m   \u001B[0m   Using cached scipy-1.11.2-cp312-cp312-manylinux_2_17_x86_64.manylinux2014_x86_64.whl.metadata (59 kB)\r\n",
      "  \u001B[31m   \u001B[0m   Using cached scipy-1.11.1.tar.gz (56.0 MB)\r\n",
      "  \u001B[31m   \u001B[0m   Installing build dependencies: started\r\n",
      "  \u001B[31m   \u001B[0m   Installing build dependencies: finished with status 'done'\r\n",
      "  \u001B[31m   \u001B[0m   Getting requirements to build wheel: started\r\n",
      "  \u001B[31m   \u001B[0m   Getting requirements to build wheel: finished with status 'done'\r\n",
      "  \u001B[31m   \u001B[0m   Installing backend dependencies: started\r\n",
      "  \u001B[31m   \u001B[0m   Installing backend dependencies: finished with status 'done'\r\n",
      "  \u001B[31m   \u001B[0m   Preparing metadata (pyproject.toml): started\r\n",
      "  \u001B[31m   \u001B[0m   Preparing metadata (pyproject.toml): finished with status 'error'\r\n",
      "  \u001B[31m   \u001B[0m   \u001B[1;31merror\u001B[0m: \u001B[1msubprocess-exited-with-error\u001B[0m\r\n",
      "  \u001B[31m   \u001B[0m \r\n",
      "  \u001B[31m   \u001B[0m   \u001B[31m×\u001B[0m \u001B[32mPreparing metadata \u001B[0m\u001B[1;32m(\u001B[0m\u001B[32mpyproject.toml\u001B[0m\u001B[1;32m)\u001B[0m did not run successfully.\r\n",
      "  \u001B[31m   \u001B[0m   \u001B[31m│\u001B[0m exit code: \u001B[1;36m1\u001B[0m\r\n",
      "  \u001B[31m   \u001B[0m   \u001B[31m╰─>\u001B[0m \u001B[31m[53 lines of output]\u001B[0m\r\n",
      "  \u001B[31m   \u001B[0m   \u001B[31m   \u001B[0m \u001B[36m\u001B[1m+ meson setup /tmp/pip-install-g5thruhv/scipy_d9243d048851458688a76355684c9f3d /tmp/pip-install-g5thruhv/scipy_d9243d048851458688a76355684c9f3d/.mesonpy-8nsm656v/build -Dbuildtype=release -Db_ndebug=if-release -Db_vscrt=md --native-file=/tmp/pip-install-g5thruhv/scipy_d9243d048851458688a76355684c9f3d/.mesonpy-8nsm656v/build/meson-python-native-file.ini\u001B[0m\r\n",
      "  \u001B[31m   \u001B[0m   \u001B[31m   \u001B[0m The Meson build system\r\n",
      "  \u001B[31m   \u001B[0m   \u001B[31m   \u001B[0m Version: 1.8.1\r\n",
      "  \u001B[31m   \u001B[0m   \u001B[31m   \u001B[0m Source dir: /tmp/pip-install-g5thruhv/scipy_d9243d048851458688a76355684c9f3d\r\n",
      "  \u001B[31m   \u001B[0m   \u001B[31m   \u001B[0m Build dir: /tmp/pip-install-g5thruhv/scipy_d9243d048851458688a76355684c9f3d/.mesonpy-8nsm656v/build\r\n",
      "  \u001B[31m   \u001B[0m   \u001B[31m   \u001B[0m Build type: native build\r\n",
      "  \u001B[31m   \u001B[0m   \u001B[31m   \u001B[0m Project name: SciPy\r\n",
      "  \u001B[31m   \u001B[0m   \u001B[31m   \u001B[0m Project version: 1.11.1\r\n",
      "  \u001B[31m   \u001B[0m   \u001B[31m   \u001B[0m C compiler for the host machine: cc (gcc 13.3.0 \"cc (Ubuntu 13.3.0-6ubuntu2~24.04) 13.3.0\")\r\n",
      "  \u001B[31m   \u001B[0m   \u001B[31m   \u001B[0m C linker for the host machine: cc ld.bfd 2.42\r\n",
      "  \u001B[31m   \u001B[0m   \u001B[31m   \u001B[0m C++ compiler for the host machine: c++ (gcc 13.3.0 \"c++ (Ubuntu 13.3.0-6ubuntu2~24.04) 13.3.0\")\r\n",
      "  \u001B[31m   \u001B[0m   \u001B[31m   \u001B[0m C++ linker for the host machine: c++ ld.bfd 2.42\r\n",
      "  \u001B[31m   \u001B[0m   \u001B[31m   \u001B[0m Cython compiler for the host machine: cython (cython 0.29.37)\r\n",
      "  \u001B[31m   \u001B[0m   \u001B[31m   \u001B[0m Host machine cpu family: x86_64\r\n",
      "  \u001B[31m   \u001B[0m   \u001B[31m   \u001B[0m Host machine cpu: x86_64\r\n",
      "  \u001B[31m   \u001B[0m   \u001B[31m   \u001B[0m Program python found: YES (/root/miniconda3/envs/TimeSeries/bin/python3.12)\r\n",
      "  \u001B[31m   \u001B[0m   \u001B[31m   \u001B[0m Found pkg-config: YES (/usr/bin/pkg-config) 1.8.1\r\n",
      "  \u001B[31m   \u001B[0m   \u001B[31m   \u001B[0m Run-time dependency python found: YES 3.12\r\n",
      "  \u001B[31m   \u001B[0m   \u001B[31m   \u001B[0m Program cython found: YES (/tmp/pip-build-env-w6b74nxt/overlay/bin/cython)\r\n",
      "  \u001B[31m   \u001B[0m   \u001B[31m   \u001B[0m Compiler for C supports arguments -Wno-unused-but-set-variable: YES\r\n",
      "  \u001B[31m   \u001B[0m   \u001B[31m   \u001B[0m Compiler for C supports arguments -Wno-unused-function: YES\r\n",
      "  \u001B[31m   \u001B[0m   \u001B[31m   \u001B[0m Compiler for C supports arguments -Wno-conversion: YES\r\n",
      "  \u001B[31m   \u001B[0m   \u001B[31m   \u001B[0m Compiler for C supports arguments -Wno-misleading-indentation: YES\r\n",
      "  \u001B[31m   \u001B[0m   \u001B[31m   \u001B[0m Library m found: YES\r\n",
      "  \u001B[31m   \u001B[0m   \u001B[31m   \u001B[0m\r\n",
      "  \u001B[31m   \u001B[0m   \u001B[31m   \u001B[0m ../../meson.build:82:0: ERROR: Unknown compiler(s): [['gfortran'], ['flang-new'], ['flang'], ['nvfortran'], ['pgfortran'], ['ifort'], ['ifx'], ['g95']]\r\n",
      "  \u001B[31m   \u001B[0m   \u001B[31m   \u001B[0m The following exception(s) were encountered:\r\n",
      "  \u001B[31m   \u001B[0m   \u001B[31m   \u001B[0m Running `gfortran --help` gave \"[Errno 2] No such file or directory: 'gfortran'\"\r\n",
      "  \u001B[31m   \u001B[0m   \u001B[31m   \u001B[0m Running `gfortran --version` gave \"[Errno 2] No such file or directory: 'gfortran'\"\r\n",
      "  \u001B[31m   \u001B[0m   \u001B[31m   \u001B[0m Running `gfortran -V` gave \"[Errno 2] No such file or directory: 'gfortran'\"\r\n",
      "  \u001B[31m   \u001B[0m   \u001B[31m   \u001B[0m Running `flang-new --help` gave \"[Errno 2] No such file or directory: 'flang-new'\"\r\n",
      "  \u001B[31m   \u001B[0m   \u001B[31m   \u001B[0m Running `flang-new --version` gave \"[Errno 2] No such file or directory: 'flang-new'\"\r\n",
      "  \u001B[31m   \u001B[0m   \u001B[31m   \u001B[0m Running `flang-new -V` gave \"[Errno 2] No such file or directory: 'flang-new'\"\r\n",
      "  \u001B[31m   \u001B[0m   \u001B[31m   \u001B[0m Running `flang --help` gave \"[Errno 2] No such file or directory: 'flang'\"\r\n",
      "  \u001B[31m   \u001B[0m   \u001B[31m   \u001B[0m Running `flang --version` gave \"[Errno 2] No such file or directory: 'flang'\"\r\n",
      "  \u001B[31m   \u001B[0m   \u001B[31m   \u001B[0m Running `flang -V` gave \"[Errno 2] No such file or directory: 'flang'\"\r\n",
      "  \u001B[31m   \u001B[0m   \u001B[31m   \u001B[0m Running `nvfortran --help` gave \"[Errno 2] No such file or directory: 'nvfortran'\"\r\n",
      "  \u001B[31m   \u001B[0m   \u001B[31m   \u001B[0m Running `nvfortran --version` gave \"[Errno 2] No such file or directory: 'nvfortran'\"\r\n",
      "  \u001B[31m   \u001B[0m   \u001B[31m   \u001B[0m Running `nvfortran -V` gave \"[Errno 2] No such file or directory: 'nvfortran'\"\r\n",
      "  \u001B[31m   \u001B[0m   \u001B[31m   \u001B[0m Running `pgfortran --help` gave \"[Errno 2] No such file or directory: 'pgfortran'\"\r\n",
      "  \u001B[31m   \u001B[0m   \u001B[31m   \u001B[0m Running `pgfortran --version` gave \"[Errno 2] No such file or directory: 'pgfortran'\"\r\n",
      "  \u001B[31m   \u001B[0m   \u001B[31m   \u001B[0m Running `pgfortran -V` gave \"[Errno 2] No such file or directory: 'pgfortran'\"\r\n",
      "  \u001B[31m   \u001B[0m   \u001B[31m   \u001B[0m Running `ifort --help` gave \"[Errno 2] No such file or directory: 'ifort'\"\r\n",
      "  \u001B[31m   \u001B[0m   \u001B[31m   \u001B[0m Running `ifort --version` gave \"[Errno 2] No such file or directory: 'ifort'\"\r\n",
      "  \u001B[31m   \u001B[0m   \u001B[31m   \u001B[0m Running `ifort -V` gave \"[Errno 2] No such file or directory: 'ifort'\"\r\n",
      "  \u001B[31m   \u001B[0m   \u001B[31m   \u001B[0m Running `ifx --help` gave \"[Errno 2] No such file or directory: 'ifx'\"\r\n",
      "  \u001B[31m   \u001B[0m   \u001B[31m   \u001B[0m Running `ifx --version` gave \"[Errno 2] No such file or directory: 'ifx'\"\r\n",
      "  \u001B[31m   \u001B[0m   \u001B[31m   \u001B[0m Running `ifx -V` gave \"[Errno 2] No such file or directory: 'ifx'\"\r\n",
      "  \u001B[31m   \u001B[0m   \u001B[31m   \u001B[0m Running `g95 --help` gave \"[Errno 2] No such file or directory: 'g95'\"\r\n",
      "  \u001B[31m   \u001B[0m   \u001B[31m   \u001B[0m Running `g95 --version` gave \"[Errno 2] No such file or directory: 'g95'\"\r\n",
      "  \u001B[31m   \u001B[0m   \u001B[31m   \u001B[0m Running `g95 -V` gave \"[Errno 2] No such file or directory: 'g95'\"\r\n",
      "  \u001B[31m   \u001B[0m   \u001B[31m   \u001B[0m\r\n",
      "  \u001B[31m   \u001B[0m   \u001B[31m   \u001B[0m A full log can be found at /tmp/pip-install-g5thruhv/scipy_d9243d048851458688a76355684c9f3d/.mesonpy-8nsm656v/build/meson-logs/meson-log.txt\r\n",
      "  \u001B[31m   \u001B[0m   \u001B[31m   \u001B[0m \u001B[31m[end of output]\u001B[0m\r\n",
      "  \u001B[31m   \u001B[0m \r\n",
      "  \u001B[31m   \u001B[0m   \u001B[1;35mnote\u001B[0m: This error originates from a subprocess, and is likely not a problem with pip.\r\n",
      "  \u001B[31m   \u001B[0m \u001B[1;31merror\u001B[0m: \u001B[1mmetadata-generation-failed\u001B[0m\r\n",
      "  \u001B[31m   \u001B[0m \r\n",
      "  \u001B[31m   \u001B[0m \u001B[31m×\u001B[0m Encountered error while generating package metadata.\r\n",
      "  \u001B[31m   \u001B[0m \u001B[31m╰─>\u001B[0m See above for output.\r\n",
      "  \u001B[31m   \u001B[0m \r\n",
      "  \u001B[31m   \u001B[0m \u001B[1;35mnote\u001B[0m: This is an issue with the package mentioned above, not pip.\r\n",
      "  \u001B[31m   \u001B[0m \u001B[1;36mhint\u001B[0m: See above for details.\r\n",
      "  \u001B[31m   \u001B[0m \u001B[31m[end of output]\u001B[0m\r\n",
      "  \r\n",
      "  \u001B[1;35mnote\u001B[0m: This error originates from a subprocess, and is likely not a problem with pip.\r\n",
      "\u001B[1;31merror\u001B[0m: \u001B[1msubprocess-exited-with-error\u001B[0m\r\n",
      "\r\n",
      "\u001B[31m×\u001B[0m \u001B[32mpip subprocess to install build dependencies\u001B[0m did not run successfully.\r\n",
      "\u001B[31m│\u001B[0m exit code: \u001B[1;36m1\u001B[0m\r\n",
      "\u001B[31m╰─>\u001B[0m See above for output.\r\n",
      "\r\n",
      "\u001B[1;35mnote\u001B[0m: This error originates from a subprocess, and is likely not a problem with pip.\r\n",
      "\u001B[?25h"
     ]
    }
   ],
   "execution_count": 1
  },
  {
   "cell_type": "code",
   "metadata": {
    "colab": {
     "base_uri": "https://localhost:8080/"
    },
    "id": "Pg0UkW57-VlF",
    "outputId": "8275dc45-501c-40cd-ec9e-19d7d42935ad",
    "ExecuteTime": {
     "end_time": "2025-05-30T08:29:44.533318Z",
     "start_time": "2025-05-30T08:29:43.780348Z"
    }
   },
   "source": [
    "!pip install tslearn"
   ],
   "outputs": [
    {
     "name": "stdout",
     "output_type": "stream",
     "text": [
      "/bin/bash: warning: setlocale: LC_ALL: cannot change locale (en_US.UTF-8)\r\n",
      "Requirement already satisfied: tslearn in /root/miniconda3/envs/TimeSeries/lib/python3.12/site-packages (0.6.3)\r\n",
      "Requirement already satisfied: numpy in /root/miniconda3/envs/TimeSeries/lib/python3.12/site-packages (from tslearn) (1.26.0)\r\n",
      "Requirement already satisfied: scipy in /root/miniconda3/envs/TimeSeries/lib/python3.12/site-packages (from tslearn) (1.15.1)\r\n",
      "Requirement already satisfied: scikit-learn in /root/miniconda3/envs/TimeSeries/lib/python3.12/site-packages (from tslearn) (1.3.1)\r\n",
      "Requirement already satisfied: numba in /root/miniconda3/envs/TimeSeries/lib/python3.12/site-packages (from tslearn) (0.59.1)\r\n",
      "Requirement already satisfied: joblib in /root/miniconda3/envs/TimeSeries/lib/python3.12/site-packages (from tslearn) (1.4.2)\r\n",
      "Requirement already satisfied: llvmlite<0.43,>=0.42.0dev0 in /root/miniconda3/envs/TimeSeries/lib/python3.12/site-packages (from numba->tslearn) (0.42.0)\r\n",
      "Requirement already satisfied: threadpoolctl>=2.0.0 in /root/miniconda3/envs/TimeSeries/lib/python3.12/site-packages (from scikit-learn->tslearn) (3.5.0)\r\n",
      "\u001B[33mWARNING: Running pip as the 'root' user can result in broken permissions and conflicting behaviour with the system package manager, possibly rendering your system unusable. It is recommended to use a virtual environment instead: https://pip.pypa.io/warnings/venv. Use the --root-user-action option if you know what you are doing and want to suppress this warning.\u001B[0m\u001B[33m\r\n",
      "\u001B[0m"
     ]
    }
   ],
   "execution_count": 2
  },
  {
   "cell_type": "code",
   "metadata": {
    "id": "5VtsgQxuzMUt",
    "ExecuteTime": {
     "end_time": "2025-05-30T08:35:02.786369Z",
     "start_time": "2025-05-30T08:35:02.782986Z"
    }
   },
   "source": [
    "import pandas as pd\n",
    "import matplotlib.pyplot as plt\n",
    "\n",
    "plt.style.use('seaborn-v0_8-whitegrid')\n",
    "\n",
    "plt.rcParams[\"font.family\"] = \"Times New Roman\"\n",
    "plt.rcParams[\"font.size\"] = \"17\""
   ],
   "outputs": [],
   "execution_count": 4
  },
  {
   "cell_type": "code",
   "metadata": {
    "colab": {
     "base_uri": "https://localhost:8080/"
    },
    "id": "iPQPBG849jB2",
    "outputId": "13f96036-b472-4445-d0ca-75d02a48016a",
    "ExecuteTime": {
     "end_time": "2025-05-30T08:35:03.729450Z",
     "start_time": "2025-05-30T08:35:02.842288Z"
    }
   },
   "source": [
    "from tsfresh.examples import load_robot_execution_failures\n",
    "from tsfresh.examples.robot_execution_failures import download_robot_execution_failures\n",
    "\n",
    "download_robot_execution_failures()\n",
    "df_ts, y = load_robot_execution_failures()"
   ],
   "outputs": [],
   "execution_count": 5
  },
  {
   "cell_type": "code",
   "metadata": {
    "colab": {
     "base_uri": "https://localhost:8080/"
    },
    "id": "UOHxdjmAWKZc",
    "outputId": "67d575b7-d649-40ab-8edd-2d0c7950a6a2",
    "ExecuteTime": {
     "end_time": "2025-05-30T08:35:06.825084Z",
     "start_time": "2025-05-30T08:35:03.736837Z"
    }
   },
   "source": [
    "from tsfresh import extract_features\n",
    "from tsfresh import select_features\n",
    "from tsfresh.utilities.dataframe_functions import impute\n",
    "\n",
    "extracted_features = impute(extract_features(df_ts, column_id=\"id\", column_sort=\"time\"))\n",
    "features_filtered = select_features(extracted_features, y)"
   ],
   "outputs": [
    {
     "name": "stderr",
     "output_type": "stream",
     "text": [
      "Feature Extraction: 100%|██████████| 66/66 [00:01<00:00, 34.73it/s]\n",
      "/root/miniconda3/envs/TimeSeries/lib/python3.12/site-packages/tsfresh/utilities/dataframe_functions.py:198: RuntimeWarning: The columns ['T_y__partial_autocorrelation__lag_7'\n",
      " 'T_y__partial_autocorrelation__lag_8'\n",
      " 'T_y__partial_autocorrelation__lag_9' ...\n",
      " 'T_x__agg_linear_trend__attr_\"stderr\"__chunk_len_50__f_agg_\"mean\"'\n",
      " 'T_x__agg_linear_trend__attr_\"stderr\"__chunk_len_50__f_agg_\"var\"'\n",
      " 'T_x__query_similarity_count__query_None__threshold_0.0'] did not have any finite values. Filling with zeros.\n",
      "  warnings.warn(\n"
     ]
    }
   ],
   "execution_count": 6
  },
  {
   "cell_type": "code",
   "metadata": {
    "colab": {
     "base_uri": "https://localhost:8080/"
    },
    "id": "7D0JxrCpQL6x",
    "outputId": "b75b4054-afab-4f55-8c61-9a6c7a7f0d8d",
    "ExecuteTime": {
     "end_time": "2025-05-30T08:35:07.886351Z",
     "start_time": "2025-05-30T08:35:06.834150Z"
    }
   },
   "source": [
    "from tsfresh.transformers import RelevantFeatureAugmenter\n",
    "import pandas as pd\n",
    "\n",
    "X = pd.DataFrame(index=y.index)\n",
    "TRAINING_SIZE = (len(X) // 10) * 8\n",
    "augmenter = RelevantFeatureAugmenter(column_id='id', column_sort='time')\n",
    "augmenter.set_timeseries_container(df_ts[:TRAINING_SIZE])\n",
    "augmenter.fit(X[:TRAINING_SIZE], y[:TRAINING_SIZE])\n",
    "X_transformed = augmenter.transform(X)"
   ],
   "outputs": [
    {
     "name": "stderr",
     "output_type": "stream",
     "text": [
      "Feature Extraction: 100%|██████████| 30/30 [00:00<00:00, 198.18it/s]\n",
      "/root/miniconda3/envs/TimeSeries/lib/python3.12/site-packages/tsfresh/utilities/dataframe_functions.py:198: RuntimeWarning: The columns ['T_z__partial_autocorrelation__lag_7'\n",
      " 'T_z__partial_autocorrelation__lag_8'\n",
      " 'T_z__partial_autocorrelation__lag_9' ...\n",
      " 'F_z__agg_linear_trend__attr_\"stderr\"__chunk_len_50__f_agg_\"mean\"'\n",
      " 'F_z__agg_linear_trend__attr_\"stderr\"__chunk_len_50__f_agg_\"var\"'\n",
      " 'F_z__query_similarity_count__query_None__threshold_0.0'] did not have any finite values. Filling with zeros.\n",
      "  warnings.warn(\n",
      "Feature Extraction: 100%|██████████| 30/30 [00:00<00:00, 16739.27it/s]\n"
     ]
    }
   ],
   "execution_count": 7
  },
  {
   "cell_type": "code",
   "metadata": {
    "colab": {
     "base_uri": "https://localhost:8080/"
    },
    "id": "jzaRzQc63Iiv",
    "outputId": "384b8608-39d3-4b52-8e23-4baefd4c05cc",
    "ExecuteTime": {
     "end_time": "2025-05-30T08:35:08.202425Z",
     "start_time": "2025-05-30T08:35:07.898865Z"
    }
   },
   "source": [
    "from sklearn.model_selection import TimeSeriesSplit, GridSearchCV\n",
    "from tslearn.neighbors import KNeighborsTimeSeriesClassifier\n",
    "\n",
    "knn = KNeighborsTimeSeriesClassifier()\n",
    "param_search = {\n",
    "    'metric' : ['dtw'],  # ctw', 'dtw', \"softdtw\"], # TSLEARN_VALID_METRICS}\n",
    "    'n_neighbors': [1, 2, 3]\n",
    "}\n",
    "#  'param_grid': {'metric': ['ctw', 'dtw', 'gak', 'sax', 'softdtw', 'lcss']},\n",
    "tscv = TimeSeriesSplit(n_splits=2)\n",
    "\n",
    "gsearch = GridSearchCV(\n",
    "    estimator=knn,\n",
    "    cv=tscv,\n",
    "    param_grid=param_search\n",
    ")\n",
    "gsearch.fit(\n",
    "    features_filtered,\n",
    "    y\n",
    ")"
   ],
   "outputs": [
    {
     "name": "stderr",
     "output_type": "stream",
     "text": [
      "/root/miniconda3/envs/TimeSeries/lib/python3.12/site-packages/sklearn/model_selection/_validation.py:821: UserWarning: Scoring failed. The score on this train-test partition for these parameters will be set to nan. Details: \n",
      "Traceback (most recent call last):\n",
      "  File \"/root/miniconda3/envs/TimeSeries/lib/python3.12/site-packages/sklearn/model_selection/_validation.py\", line 810, in _score\n",
      "    scores = scorer(estimator, X_test, y_test)\n",
      "             ^^^^^^^^^^^^^^^^^^^^^^^^^^^^^^^^^\n",
      "  File \"/root/miniconda3/envs/TimeSeries/lib/python3.12/site-packages/sklearn/metrics/_scorer.py\", line 527, in __call__\n",
      "    return estimator.score(*args, **kwargs)\n",
      "           ^^^^^^^^^^^^^^^^^^^^^^^^^^^^^^^^\n",
      "  File \"/root/miniconda3/envs/TimeSeries/lib/python3.12/site-packages/sklearn/base.py\", line 706, in score\n",
      "    return accuracy_score(y, self.predict(X), sample_weight=sample_weight)\n",
      "                             ^^^^^^^^^^^^^^^\n",
      "  File \"/root/miniconda3/envs/TimeSeries/lib/python3.12/site-packages/tslearn/neighbors/neighbors.py\", line 517, in predict\n",
      "    X = to_time_series_dataset(X)\n",
      "        ^^^^^^^^^^^^^^^^^^^^^^^^^\n",
      "  File \"/root/miniconda3/envs/TimeSeries/lib/python3.12/site-packages/tslearn/utils/utils.py\", line 209, in to_time_series_dataset\n",
      "    be = instantiate_backend(be, dataset)\n",
      "         ^^^^^^^^^^^^^^^^^^^^^^^^^^^^^^^^\n",
      "  File \"/root/miniconda3/envs/TimeSeries/lib/python3.12/site-packages/tslearn/backend/backend.py\", line 34, in instantiate_backend\n",
      "    if \"numpy\" in f\"{type(arg)}\" or \"numpy\" in f\"{arg}\".lower():\n",
      "                                                 ^^^^^\n",
      "  File \"/root/.local/lib/python3.12/site-packages/pandas/core/frame.py\", line 1214, in __repr__\n",
      "  File \"/root/.local/lib/python3.12/site-packages/pandas/util/_decorators.py\", line 333, in wrapper\n",
      "  File \"/root/.local/lib/python3.12/site-packages/pandas/core/frame.py\", line 1394, in to_string\n",
      "  File \"/root/.local/lib/python3.12/site-packages/pandas/io/formats/format.py\", line 959, in to_string\n",
      "ModuleNotFoundError: No module named 'pandas.io.formats.string'\n",
      "\n",
      "  warnings.warn(\n",
      "/root/miniconda3/envs/TimeSeries/lib/python3.12/site-packages/sklearn/model_selection/_validation.py:821: UserWarning: Scoring failed. The score on this train-test partition for these parameters will be set to nan. Details: \n",
      "Traceback (most recent call last):\n",
      "  File \"/root/miniconda3/envs/TimeSeries/lib/python3.12/site-packages/sklearn/model_selection/_validation.py\", line 810, in _score\n",
      "    scores = scorer(estimator, X_test, y_test)\n",
      "             ^^^^^^^^^^^^^^^^^^^^^^^^^^^^^^^^^\n",
      "  File \"/root/miniconda3/envs/TimeSeries/lib/python3.12/site-packages/sklearn/metrics/_scorer.py\", line 527, in __call__\n",
      "    return estimator.score(*args, **kwargs)\n",
      "           ^^^^^^^^^^^^^^^^^^^^^^^^^^^^^^^^\n",
      "  File \"/root/miniconda3/envs/TimeSeries/lib/python3.12/site-packages/sklearn/base.py\", line 706, in score\n",
      "    return accuracy_score(y, self.predict(X), sample_weight=sample_weight)\n",
      "                             ^^^^^^^^^^^^^^^\n",
      "  File \"/root/miniconda3/envs/TimeSeries/lib/python3.12/site-packages/tslearn/neighbors/neighbors.py\", line 517, in predict\n",
      "    X = to_time_series_dataset(X)\n",
      "        ^^^^^^^^^^^^^^^^^^^^^^^^^\n",
      "  File \"/root/miniconda3/envs/TimeSeries/lib/python3.12/site-packages/tslearn/utils/utils.py\", line 209, in to_time_series_dataset\n",
      "    be = instantiate_backend(be, dataset)\n",
      "         ^^^^^^^^^^^^^^^^^^^^^^^^^^^^^^^^\n",
      "  File \"/root/miniconda3/envs/TimeSeries/lib/python3.12/site-packages/tslearn/backend/backend.py\", line 34, in instantiate_backend\n",
      "    if \"numpy\" in f\"{type(arg)}\" or \"numpy\" in f\"{arg}\".lower():\n",
      "                                                 ^^^^^\n",
      "  File \"/root/.local/lib/python3.12/site-packages/pandas/core/frame.py\", line 1214, in __repr__\n",
      "  File \"/root/.local/lib/python3.12/site-packages/pandas/util/_decorators.py\", line 333, in wrapper\n",
      "  File \"/root/.local/lib/python3.12/site-packages/pandas/core/frame.py\", line 1394, in to_string\n",
      "  File \"/root/.local/lib/python3.12/site-packages/pandas/io/formats/format.py\", line 959, in to_string\n",
      "ModuleNotFoundError: No module named 'pandas.io.formats.string'\n",
      "\n",
      "  warnings.warn(\n",
      "/root/miniconda3/envs/TimeSeries/lib/python3.12/site-packages/sklearn/model_selection/_validation.py:821: UserWarning: Scoring failed. The score on this train-test partition for these parameters will be set to nan. Details: \n",
      "Traceback (most recent call last):\n",
      "  File \"/root/miniconda3/envs/TimeSeries/lib/python3.12/site-packages/sklearn/model_selection/_validation.py\", line 810, in _score\n",
      "    scores = scorer(estimator, X_test, y_test)\n",
      "             ^^^^^^^^^^^^^^^^^^^^^^^^^^^^^^^^^\n",
      "  File \"/root/miniconda3/envs/TimeSeries/lib/python3.12/site-packages/sklearn/metrics/_scorer.py\", line 527, in __call__\n",
      "    return estimator.score(*args, **kwargs)\n",
      "           ^^^^^^^^^^^^^^^^^^^^^^^^^^^^^^^^\n",
      "  File \"/root/miniconda3/envs/TimeSeries/lib/python3.12/site-packages/sklearn/base.py\", line 706, in score\n",
      "    return accuracy_score(y, self.predict(X), sample_weight=sample_weight)\n",
      "                             ^^^^^^^^^^^^^^^\n",
      "  File \"/root/miniconda3/envs/TimeSeries/lib/python3.12/site-packages/tslearn/neighbors/neighbors.py\", line 517, in predict\n",
      "    X = to_time_series_dataset(X)\n",
      "        ^^^^^^^^^^^^^^^^^^^^^^^^^\n",
      "  File \"/root/miniconda3/envs/TimeSeries/lib/python3.12/site-packages/tslearn/utils/utils.py\", line 209, in to_time_series_dataset\n",
      "    be = instantiate_backend(be, dataset)\n",
      "         ^^^^^^^^^^^^^^^^^^^^^^^^^^^^^^^^\n",
      "  File \"/root/miniconda3/envs/TimeSeries/lib/python3.12/site-packages/tslearn/backend/backend.py\", line 34, in instantiate_backend\n",
      "    if \"numpy\" in f\"{type(arg)}\" or \"numpy\" in f\"{arg}\".lower():\n",
      "                                                 ^^^^^\n",
      "  File \"/root/.local/lib/python3.12/site-packages/pandas/core/frame.py\", line 1214, in __repr__\n",
      "  File \"/root/.local/lib/python3.12/site-packages/pandas/util/_decorators.py\", line 333, in wrapper\n",
      "  File \"/root/.local/lib/python3.12/site-packages/pandas/core/frame.py\", line 1394, in to_string\n",
      "  File \"/root/.local/lib/python3.12/site-packages/pandas/io/formats/format.py\", line 959, in to_string\n",
      "ModuleNotFoundError: No module named 'pandas.io.formats.string'\n",
      "\n",
      "  warnings.warn(\n",
      "/root/miniconda3/envs/TimeSeries/lib/python3.12/site-packages/sklearn/model_selection/_validation.py:821: UserWarning: Scoring failed. The score on this train-test partition for these parameters will be set to nan. Details: \n",
      "Traceback (most recent call last):\n",
      "  File \"/root/miniconda3/envs/TimeSeries/lib/python3.12/site-packages/sklearn/model_selection/_validation.py\", line 810, in _score\n",
      "    scores = scorer(estimator, X_test, y_test)\n",
      "             ^^^^^^^^^^^^^^^^^^^^^^^^^^^^^^^^^\n",
      "  File \"/root/miniconda3/envs/TimeSeries/lib/python3.12/site-packages/sklearn/metrics/_scorer.py\", line 527, in __call__\n",
      "    return estimator.score(*args, **kwargs)\n",
      "           ^^^^^^^^^^^^^^^^^^^^^^^^^^^^^^^^\n",
      "  File \"/root/miniconda3/envs/TimeSeries/lib/python3.12/site-packages/sklearn/base.py\", line 706, in score\n",
      "    return accuracy_score(y, self.predict(X), sample_weight=sample_weight)\n",
      "                             ^^^^^^^^^^^^^^^\n",
      "  File \"/root/miniconda3/envs/TimeSeries/lib/python3.12/site-packages/tslearn/neighbors/neighbors.py\", line 517, in predict\n",
      "    X = to_time_series_dataset(X)\n",
      "        ^^^^^^^^^^^^^^^^^^^^^^^^^\n",
      "  File \"/root/miniconda3/envs/TimeSeries/lib/python3.12/site-packages/tslearn/utils/utils.py\", line 209, in to_time_series_dataset\n",
      "    be = instantiate_backend(be, dataset)\n",
      "         ^^^^^^^^^^^^^^^^^^^^^^^^^^^^^^^^\n",
      "  File \"/root/miniconda3/envs/TimeSeries/lib/python3.12/site-packages/tslearn/backend/backend.py\", line 34, in instantiate_backend\n",
      "    if \"numpy\" in f\"{type(arg)}\" or \"numpy\" in f\"{arg}\".lower():\n",
      "                                                 ^^^^^\n",
      "  File \"/root/.local/lib/python3.12/site-packages/pandas/core/frame.py\", line 1214, in __repr__\n",
      "  File \"/root/.local/lib/python3.12/site-packages/pandas/util/_decorators.py\", line 333, in wrapper\n",
      "  File \"/root/.local/lib/python3.12/site-packages/pandas/core/frame.py\", line 1394, in to_string\n",
      "  File \"/root/.local/lib/python3.12/site-packages/pandas/io/formats/format.py\", line 959, in to_string\n",
      "ModuleNotFoundError: No module named 'pandas.io.formats.string'\n",
      "\n",
      "  warnings.warn(\n",
      "/root/miniconda3/envs/TimeSeries/lib/python3.12/site-packages/sklearn/model_selection/_validation.py:821: UserWarning: Scoring failed. The score on this train-test partition for these parameters will be set to nan. Details: \n",
      "Traceback (most recent call last):\n",
      "  File \"/root/miniconda3/envs/TimeSeries/lib/python3.12/site-packages/sklearn/model_selection/_validation.py\", line 810, in _score\n",
      "    scores = scorer(estimator, X_test, y_test)\n",
      "             ^^^^^^^^^^^^^^^^^^^^^^^^^^^^^^^^^\n",
      "  File \"/root/miniconda3/envs/TimeSeries/lib/python3.12/site-packages/sklearn/metrics/_scorer.py\", line 527, in __call__\n",
      "    return estimator.score(*args, **kwargs)\n",
      "           ^^^^^^^^^^^^^^^^^^^^^^^^^^^^^^^^\n",
      "  File \"/root/miniconda3/envs/TimeSeries/lib/python3.12/site-packages/sklearn/base.py\", line 706, in score\n",
      "    return accuracy_score(y, self.predict(X), sample_weight=sample_weight)\n",
      "                             ^^^^^^^^^^^^^^^\n",
      "  File \"/root/miniconda3/envs/TimeSeries/lib/python3.12/site-packages/tslearn/neighbors/neighbors.py\", line 517, in predict\n",
      "    X = to_time_series_dataset(X)\n",
      "        ^^^^^^^^^^^^^^^^^^^^^^^^^\n",
      "  File \"/root/miniconda3/envs/TimeSeries/lib/python3.12/site-packages/tslearn/utils/utils.py\", line 209, in to_time_series_dataset\n",
      "    be = instantiate_backend(be, dataset)\n",
      "         ^^^^^^^^^^^^^^^^^^^^^^^^^^^^^^^^\n",
      "  File \"/root/miniconda3/envs/TimeSeries/lib/python3.12/site-packages/tslearn/backend/backend.py\", line 34, in instantiate_backend\n",
      "    if \"numpy\" in f\"{type(arg)}\" or \"numpy\" in f\"{arg}\".lower():\n",
      "                                                 ^^^^^\n",
      "  File \"/root/.local/lib/python3.12/site-packages/pandas/core/frame.py\", line 1214, in __repr__\n",
      "  File \"/root/.local/lib/python3.12/site-packages/pandas/util/_decorators.py\", line 333, in wrapper\n",
      "  File \"/root/.local/lib/python3.12/site-packages/pandas/core/frame.py\", line 1394, in to_string\n",
      "  File \"/root/.local/lib/python3.12/site-packages/pandas/io/formats/format.py\", line 959, in to_string\n",
      "ModuleNotFoundError: No module named 'pandas.io.formats.string'\n",
      "\n",
      "  warnings.warn(\n",
      "/root/miniconda3/envs/TimeSeries/lib/python3.12/site-packages/sklearn/model_selection/_validation.py:821: UserWarning: Scoring failed. The score on this train-test partition for these parameters will be set to nan. Details: \n",
      "Traceback (most recent call last):\n",
      "  File \"/root/miniconda3/envs/TimeSeries/lib/python3.12/site-packages/sklearn/model_selection/_validation.py\", line 810, in _score\n",
      "    scores = scorer(estimator, X_test, y_test)\n",
      "             ^^^^^^^^^^^^^^^^^^^^^^^^^^^^^^^^^\n",
      "  File \"/root/miniconda3/envs/TimeSeries/lib/python3.12/site-packages/sklearn/metrics/_scorer.py\", line 527, in __call__\n",
      "    return estimator.score(*args, **kwargs)\n",
      "           ^^^^^^^^^^^^^^^^^^^^^^^^^^^^^^^^\n",
      "  File \"/root/miniconda3/envs/TimeSeries/lib/python3.12/site-packages/sklearn/base.py\", line 706, in score\n",
      "    return accuracy_score(y, self.predict(X), sample_weight=sample_weight)\n",
      "                             ^^^^^^^^^^^^^^^\n",
      "  File \"/root/miniconda3/envs/TimeSeries/lib/python3.12/site-packages/tslearn/neighbors/neighbors.py\", line 517, in predict\n",
      "    X = to_time_series_dataset(X)\n",
      "        ^^^^^^^^^^^^^^^^^^^^^^^^^\n",
      "  File \"/root/miniconda3/envs/TimeSeries/lib/python3.12/site-packages/tslearn/utils/utils.py\", line 209, in to_time_series_dataset\n",
      "    be = instantiate_backend(be, dataset)\n",
      "         ^^^^^^^^^^^^^^^^^^^^^^^^^^^^^^^^\n",
      "  File \"/root/miniconda3/envs/TimeSeries/lib/python3.12/site-packages/tslearn/backend/backend.py\", line 34, in instantiate_backend\n",
      "    if \"numpy\" in f\"{type(arg)}\" or \"numpy\" in f\"{arg}\".lower():\n",
      "                                                 ^^^^^\n",
      "  File \"/root/.local/lib/python3.12/site-packages/pandas/core/frame.py\", line 1214, in __repr__\n",
      "  File \"/root/.local/lib/python3.12/site-packages/pandas/util/_decorators.py\", line 333, in wrapper\n",
      "  File \"/root/.local/lib/python3.12/site-packages/pandas/core/frame.py\", line 1394, in to_string\n",
      "  File \"/root/.local/lib/python3.12/site-packages/pandas/io/formats/format.py\", line 959, in to_string\n",
      "ModuleNotFoundError: No module named 'pandas.io.formats.string'\n",
      "\n",
      "  warnings.warn(\n",
      "/root/miniconda3/envs/TimeSeries/lib/python3.12/site-packages/sklearn/model_selection/_search.py:979: UserWarning: One or more of the test scores are non-finite: [nan nan nan]\n",
      "  warnings.warn(\n"
     ]
    },
    {
     "data": {
      "text/plain": [
       "GridSearchCV(cv=TimeSeriesSplit(gap=0, max_train_size=None, n_splits=2, test_size=None),\n",
       "             estimator=KNeighborsTimeSeriesClassifier(),\n",
       "             param_grid={'metric': ['dtw'], 'n_neighbors': [1, 2, 3]})"
      ],
      "text/html": [
       "<style>#sk-container-id-1 {color: black;}#sk-container-id-1 pre{padding: 0;}#sk-container-id-1 div.sk-toggleable {background-color: white;}#sk-container-id-1 label.sk-toggleable__label {cursor: pointer;display: block;width: 100%;margin-bottom: 0;padding: 0.3em;box-sizing: border-box;text-align: center;}#sk-container-id-1 label.sk-toggleable__label-arrow:before {content: \"▸\";float: left;margin-right: 0.25em;color: #696969;}#sk-container-id-1 label.sk-toggleable__label-arrow:hover:before {color: black;}#sk-container-id-1 div.sk-estimator:hover label.sk-toggleable__label-arrow:before {color: black;}#sk-container-id-1 div.sk-toggleable__content {max-height: 0;max-width: 0;overflow: hidden;text-align: left;background-color: #f0f8ff;}#sk-container-id-1 div.sk-toggleable__content pre {margin: 0.2em;color: black;border-radius: 0.25em;background-color: #f0f8ff;}#sk-container-id-1 input.sk-toggleable__control:checked~div.sk-toggleable__content {max-height: 200px;max-width: 100%;overflow: auto;}#sk-container-id-1 input.sk-toggleable__control:checked~label.sk-toggleable__label-arrow:before {content: \"▾\";}#sk-container-id-1 div.sk-estimator input.sk-toggleable__control:checked~label.sk-toggleable__label {background-color: #d4ebff;}#sk-container-id-1 div.sk-label input.sk-toggleable__control:checked~label.sk-toggleable__label {background-color: #d4ebff;}#sk-container-id-1 input.sk-hidden--visually {border: 0;clip: rect(1px 1px 1px 1px);clip: rect(1px, 1px, 1px, 1px);height: 1px;margin: -1px;overflow: hidden;padding: 0;position: absolute;width: 1px;}#sk-container-id-1 div.sk-estimator {font-family: monospace;background-color: #f0f8ff;border: 1px dotted black;border-radius: 0.25em;box-sizing: border-box;margin-bottom: 0.5em;}#sk-container-id-1 div.sk-estimator:hover {background-color: #d4ebff;}#sk-container-id-1 div.sk-parallel-item::after {content: \"\";width: 100%;border-bottom: 1px solid gray;flex-grow: 1;}#sk-container-id-1 div.sk-label:hover label.sk-toggleable__label {background-color: #d4ebff;}#sk-container-id-1 div.sk-serial::before {content: \"\";position: absolute;border-left: 1px solid gray;box-sizing: border-box;top: 0;bottom: 0;left: 50%;z-index: 0;}#sk-container-id-1 div.sk-serial {display: flex;flex-direction: column;align-items: center;background-color: white;padding-right: 0.2em;padding-left: 0.2em;position: relative;}#sk-container-id-1 div.sk-item {position: relative;z-index: 1;}#sk-container-id-1 div.sk-parallel {display: flex;align-items: stretch;justify-content: center;background-color: white;position: relative;}#sk-container-id-1 div.sk-item::before, #sk-container-id-1 div.sk-parallel-item::before {content: \"\";position: absolute;border-left: 1px solid gray;box-sizing: border-box;top: 0;bottom: 0;left: 50%;z-index: -1;}#sk-container-id-1 div.sk-parallel-item {display: flex;flex-direction: column;z-index: 1;position: relative;background-color: white;}#sk-container-id-1 div.sk-parallel-item:first-child::after {align-self: flex-end;width: 50%;}#sk-container-id-1 div.sk-parallel-item:last-child::after {align-self: flex-start;width: 50%;}#sk-container-id-1 div.sk-parallel-item:only-child::after {width: 0;}#sk-container-id-1 div.sk-dashed-wrapped {border: 1px dashed gray;margin: 0 0.4em 0.5em 0.4em;box-sizing: border-box;padding-bottom: 0.4em;background-color: white;}#sk-container-id-1 div.sk-label label {font-family: monospace;font-weight: bold;display: inline-block;line-height: 1.2em;}#sk-container-id-1 div.sk-label-container {text-align: center;}#sk-container-id-1 div.sk-container {/* jupyter's `normalize.less` sets `[hidden] { display: none; }` but bootstrap.min.css set `[hidden] { display: none !important; }` so we also need the `!important` here to be able to override the default hidden behavior on the sphinx rendered scikit-learn.org. See: https://github.com/scikit-learn/scikit-learn/issues/21755 */display: inline-block !important;position: relative;}#sk-container-id-1 div.sk-text-repr-fallback {display: none;}</style><div id=\"sk-container-id-1\" class=\"sk-top-container\"><div class=\"sk-text-repr-fallback\"><pre>GridSearchCV(cv=TimeSeriesSplit(gap=0, max_train_size=None, n_splits=2, test_size=None),\n",
       "             estimator=KNeighborsTimeSeriesClassifier(),\n",
       "             param_grid={&#x27;metric&#x27;: [&#x27;dtw&#x27;], &#x27;n_neighbors&#x27;: [1, 2, 3]})</pre><b>In a Jupyter environment, please rerun this cell to show the HTML representation or trust the notebook. <br />On GitHub, the HTML representation is unable to render, please try loading this page with nbviewer.org.</b></div><div class=\"sk-container\" hidden><div class=\"sk-item sk-dashed-wrapped\"><div class=\"sk-label-container\"><div class=\"sk-label sk-toggleable\"><input class=\"sk-toggleable__control sk-hidden--visually\" id=\"sk-estimator-id-1\" type=\"checkbox\" ><label for=\"sk-estimator-id-1\" class=\"sk-toggleable__label sk-toggleable__label-arrow\">GridSearchCV</label><div class=\"sk-toggleable__content\"><pre>GridSearchCV(cv=TimeSeriesSplit(gap=0, max_train_size=None, n_splits=2, test_size=None),\n",
       "             estimator=KNeighborsTimeSeriesClassifier(),\n",
       "             param_grid={&#x27;metric&#x27;: [&#x27;dtw&#x27;], &#x27;n_neighbors&#x27;: [1, 2, 3]})</pre></div></div></div><div class=\"sk-parallel\"><div class=\"sk-parallel-item\"><div class=\"sk-item\"><div class=\"sk-label-container\"><div class=\"sk-label sk-toggleable\"><input class=\"sk-toggleable__control sk-hidden--visually\" id=\"sk-estimator-id-2\" type=\"checkbox\" ><label for=\"sk-estimator-id-2\" class=\"sk-toggleable__label sk-toggleable__label-arrow\">estimator: KNeighborsTimeSeriesClassifier</label><div class=\"sk-toggleable__content\"><pre>KNeighborsTimeSeriesClassifier()</pre></div></div></div><div class=\"sk-serial\"><div class=\"sk-item\"><div class=\"sk-estimator sk-toggleable\"><input class=\"sk-toggleable__control sk-hidden--visually\" id=\"sk-estimator-id-3\" type=\"checkbox\" ><label for=\"sk-estimator-id-3\" class=\"sk-toggleable__label sk-toggleable__label-arrow\">KNeighborsTimeSeriesClassifier</label><div class=\"sk-toggleable__content\"><pre>KNeighborsTimeSeriesClassifier()</pre></div></div></div></div></div></div></div></div></div></div>"
      ]
     },
     "execution_count": 8,
     "metadata": {},
     "output_type": "execute_result"
    }
   ],
   "execution_count": 8
  },
  {
   "cell_type": "code",
   "metadata": {
    "id": "j7XePgIYK1WQ",
    "ExecuteTime": {
     "end_time": "2025-05-30T08:35:08.216344Z",
     "start_time": "2025-05-30T08:35:08.213201Z"
    }
   },
   "source": [
    "# Adapted from comments on this discussion thread on stackoverflow: https://stackoverflow.com/questions/37161563/how-to-graph-grid-scores-from-gridsearchcv\n",
    "import seaborn as sns\n",
    "import pandas as pd\n",
    "\n",
    "def plot_cv_results(cv_results, param_x, param_z, metric='mean_test_score'):\n",
    "    \"\"\"\n",
    "    cv_results - cv_results_ attribute of a GridSearchCV instance (or similar)\n",
    "    param_x - name of grid search parameter to plot on x axis\n",
    "    param_z - name of grid search parameter to plot by line color\n",
    "    \"\"\"\n",
    "    cv_results = pd.DataFrame(cv_results)\n",
    "    col_x = 'param_' + param_x\n",
    "    col_z = 'param_' + param_z\n",
    "    fig, ax = plt.subplots(1, 1, figsize=(11, 8))\n",
    "    sns.pointplot(x=col_x, y=metric, hue=col_z, data=cv_results, ci=99, n_boot=64, ax=ax)\n",
    "    ax.set_title(\"CV Grid Search Results\")\n",
    "    ax.set_xlabel(param_x)\n",
    "    ax.set_ylabel(metric)\n",
    "    ax.legend(title=param_z)\n",
    "    return fig\n"
   ],
   "outputs": [],
   "execution_count": 9
  },
  {
   "cell_type": "code",
   "metadata": {
    "colab": {
     "base_uri": "https://localhost:8080/",
     "height": 564
    },
    "id": "-mHYRnizXwsz",
    "outputId": "41bb85fe-a2e4-4f51-911d-54630be0645a",
    "ExecuteTime": {
     "end_time": "2025-05-30T08:35:08.620420Z",
     "start_time": "2025-05-30T08:35:08.258396Z"
    }
   },
   "source": [
    "fig = plot_cv_results(gsearch.cv_results_, 'metric', 'n_neighbors')"
   ],
   "outputs": [
    {
     "name": "stderr",
     "output_type": "stream",
     "text": [
      "/tmp/ipykernel_28687/2258186687.py:15: FutureWarning: \n",
      "\n",
      "The `ci` parameter is deprecated. Use `errorbar=('ci', 99)` for the same effect.\n",
      "\n",
      "  sns.pointplot(x=col_x, y=metric, hue=col_z, data=cv_results, ci=99, n_boot=64, ax=ax)\n"
     ]
    },
    {
     "ename": "ModuleNotFoundError",
     "evalue": "No module named 'pandas.core.methods.to_dict'",
     "output_type": "error",
     "traceback": [
      "\u001B[31m---------------------------------------------------------------------------\u001B[39m",
      "\u001B[31mModuleNotFoundError\u001B[39m                       Traceback (most recent call last)",
      "\u001B[36mCell\u001B[39m\u001B[36m \u001B[39m\u001B[32mIn[10]\u001B[39m\u001B[32m, line 1\u001B[39m\n\u001B[32m----> \u001B[39m\u001B[32m1\u001B[39m fig = plot_cv_results(gsearch.cv_results_, \u001B[33m'\u001B[39m\u001B[33mmetric\u001B[39m\u001B[33m'\u001B[39m, \u001B[33m'\u001B[39m\u001B[33mn_neighbors\u001B[39m\u001B[33m'\u001B[39m)\n",
      "\u001B[36mCell\u001B[39m\u001B[36m \u001B[39m\u001B[32mIn[9]\u001B[39m\u001B[32m, line 15\u001B[39m, in \u001B[36mplot_cv_results\u001B[39m\u001B[34m(cv_results, param_x, param_z, metric)\u001B[39m\n\u001B[32m     13\u001B[39m col_z = \u001B[33m'\u001B[39m\u001B[33mparam_\u001B[39m\u001B[33m'\u001B[39m + param_z\n\u001B[32m     14\u001B[39m fig, ax = plt.subplots(\u001B[32m1\u001B[39m, \u001B[32m1\u001B[39m, figsize=(\u001B[32m11\u001B[39m, \u001B[32m8\u001B[39m))\n\u001B[32m---> \u001B[39m\u001B[32m15\u001B[39m sns.pointplot(x=col_x, y=metric, hue=col_z, data=cv_results, ci=\u001B[32m99\u001B[39m, n_boot=\u001B[32m64\u001B[39m, ax=ax)\n\u001B[32m     16\u001B[39m ax.set_title(\u001B[33m\"\u001B[39m\u001B[33mCV Grid Search Results\u001B[39m\u001B[33m\"\u001B[39m)\n\u001B[32m     17\u001B[39m ax.set_xlabel(param_x)\n",
      "\u001B[36mFile \u001B[39m\u001B[32m~/miniconda3/envs/TimeSeries/lib/python3.12/site-packages/seaborn/categorical.py:2479\u001B[39m, in \u001B[36mpointplot\u001B[39m\u001B[34m(data, x, y, hue, order, hue_order, estimator, errorbar, n_boot, seed, units, weights, color, palette, hue_norm, markers, linestyles, dodge, log_scale, native_scale, orient, capsize, formatter, legend, err_kws, ci, errwidth, join, scale, ax, **kwargs)\u001B[39m\n\u001B[32m   2467\u001B[39m \u001B[38;5;28;01mdef\u001B[39;00m\u001B[38;5;250m \u001B[39m\u001B[34mpointplot\u001B[39m(\n\u001B[32m   2468\u001B[39m     data=\u001B[38;5;28;01mNone\u001B[39;00m, *, x=\u001B[38;5;28;01mNone\u001B[39;00m, y=\u001B[38;5;28;01mNone\u001B[39;00m, hue=\u001B[38;5;28;01mNone\u001B[39;00m, order=\u001B[38;5;28;01mNone\u001B[39;00m, hue_order=\u001B[38;5;28;01mNone\u001B[39;00m,\n\u001B[32m   2469\u001B[39m     estimator=\u001B[33m\"\u001B[39m\u001B[33mmean\u001B[39m\u001B[33m\"\u001B[39m, errorbar=(\u001B[33m\"\u001B[39m\u001B[33mci\u001B[39m\u001B[33m\"\u001B[39m, \u001B[32m95\u001B[39m), n_boot=\u001B[32m1000\u001B[39m, seed=\u001B[38;5;28;01mNone\u001B[39;00m, units=\u001B[38;5;28;01mNone\u001B[39;00m,\n\u001B[32m   (...)\u001B[39m\u001B[32m   2474\u001B[39m     ax=\u001B[38;5;28;01mNone\u001B[39;00m, **kwargs,\n\u001B[32m   2475\u001B[39m ):\n\u001B[32m   2477\u001B[39m     errorbar = utils._deprecate_ci(errorbar, ci)\n\u001B[32m-> \u001B[39m\u001B[32m2479\u001B[39m     p = _CategoricalAggPlotter(\n\u001B[32m   2480\u001B[39m         data=data,\n\u001B[32m   2481\u001B[39m         variables=\u001B[38;5;28mdict\u001B[39m(x=x, y=y, hue=hue, units=units, weight=weights),\n\u001B[32m   2482\u001B[39m         order=order,\n\u001B[32m   2483\u001B[39m         orient=orient,\n\u001B[32m   2484\u001B[39m         \u001B[38;5;66;03m# Handle special backwards compatibility where pointplot originally\u001B[39;00m\n\u001B[32m   2485\u001B[39m         \u001B[38;5;66;03m# did *not* default to multi-colored unless a palette was specified.\u001B[39;00m\n\u001B[32m   2486\u001B[39m         color=\u001B[33m\"\u001B[39m\u001B[33mC0\u001B[39m\u001B[33m\"\u001B[39m \u001B[38;5;28;01mif\u001B[39;00m (color \u001B[38;5;129;01mis\u001B[39;00m \u001B[38;5;28;01mNone\u001B[39;00m \u001B[38;5;129;01mand\u001B[39;00m palette \u001B[38;5;129;01mis\u001B[39;00m \u001B[38;5;28;01mNone\u001B[39;00m) \u001B[38;5;28;01melse\u001B[39;00m color,\n\u001B[32m   2487\u001B[39m         legend=legend,\n\u001B[32m   2488\u001B[39m     )\n\u001B[32m   2490\u001B[39m     \u001B[38;5;28;01mif\u001B[39;00m ax \u001B[38;5;129;01mis\u001B[39;00m \u001B[38;5;28;01mNone\u001B[39;00m:\n\u001B[32m   2491\u001B[39m         ax = plt.gca()\n",
      "\u001B[36mFile \u001B[39m\u001B[32m~/miniconda3/envs/TimeSeries/lib/python3.12/site-packages/seaborn/categorical.py:67\u001B[39m, in \u001B[36m_CategoricalPlotter.__init__\u001B[39m\u001B[34m(self, data, variables, order, orient, require_numeric, color, legend)\u001B[39m\n\u001B[32m     56\u001B[39m \u001B[38;5;28;01mdef\u001B[39;00m\u001B[38;5;250m \u001B[39m\u001B[34m__init__\u001B[39m(\n\u001B[32m     57\u001B[39m     \u001B[38;5;28mself\u001B[39m,\n\u001B[32m     58\u001B[39m     data=\u001B[38;5;28;01mNone\u001B[39;00m,\n\u001B[32m   (...)\u001B[39m\u001B[32m     64\u001B[39m     legend=\u001B[33m\"\u001B[39m\u001B[33mauto\u001B[39m\u001B[33m\"\u001B[39m,\n\u001B[32m     65\u001B[39m ):\n\u001B[32m---> \u001B[39m\u001B[32m67\u001B[39m     \u001B[38;5;28msuper\u001B[39m().\u001B[34m__init__\u001B[39m(data=data, variables=variables)\n\u001B[32m     69\u001B[39m     \u001B[38;5;66;03m# This method takes care of some bookkeeping that is necessary because the\u001B[39;00m\n\u001B[32m     70\u001B[39m     \u001B[38;5;66;03m# original categorical plots (prior to the 2021 refactor) had some rules that\u001B[39;00m\n\u001B[32m     71\u001B[39m     \u001B[38;5;66;03m# don't fit exactly into VectorPlotter logic. It may be wise to have a second\u001B[39;00m\n\u001B[32m   (...)\u001B[39m\u001B[32m     76\u001B[39m     \u001B[38;5;66;03m# default VectorPlotter rules. If we do decide to make orient part of the\u001B[39;00m\n\u001B[32m     77\u001B[39m     \u001B[38;5;66;03m# _base variable assignment, we'll want to figure out how to express that.\u001B[39;00m\n\u001B[32m     78\u001B[39m     \u001B[38;5;28;01mif\u001B[39;00m \u001B[38;5;28mself\u001B[39m.input_format == \u001B[33m\"\u001B[39m\u001B[33mwide\u001B[39m\u001B[33m\"\u001B[39m \u001B[38;5;129;01mand\u001B[39;00m orient \u001B[38;5;129;01min\u001B[39;00m [\u001B[33m\"\u001B[39m\u001B[33mh\u001B[39m\u001B[33m\"\u001B[39m, \u001B[33m\"\u001B[39m\u001B[33my\u001B[39m\u001B[33m\"\u001B[39m]:\n",
      "\u001B[36mFile \u001B[39m\u001B[32m~/miniconda3/envs/TimeSeries/lib/python3.12/site-packages/seaborn/_base.py:634\u001B[39m, in \u001B[36mVectorPlotter.__init__\u001B[39m\u001B[34m(self, data, variables)\u001B[39m\n\u001B[32m    629\u001B[39m \u001B[38;5;66;03m# var_ordered is relevant only for categorical axis variables, and may\u001B[39;00m\n\u001B[32m    630\u001B[39m \u001B[38;5;66;03m# be better handled by an internal axis information object that tracks\u001B[39;00m\n\u001B[32m    631\u001B[39m \u001B[38;5;66;03m# such information and is set up by the scale_* methods. The analogous\u001B[39;00m\n\u001B[32m    632\u001B[39m \u001B[38;5;66;03m# information for numeric axes would be information about log scales.\u001B[39;00m\n\u001B[32m    633\u001B[39m \u001B[38;5;28mself\u001B[39m._var_ordered = {\u001B[33m\"\u001B[39m\u001B[33mx\u001B[39m\u001B[33m\"\u001B[39m: \u001B[38;5;28;01mFalse\u001B[39;00m, \u001B[33m\"\u001B[39m\u001B[33my\u001B[39m\u001B[33m\"\u001B[39m: \u001B[38;5;28;01mFalse\u001B[39;00m}  \u001B[38;5;66;03m# alt., used DefaultDict\u001B[39;00m\n\u001B[32m--> \u001B[39m\u001B[32m634\u001B[39m \u001B[38;5;28mself\u001B[39m.assign_variables(data, variables)\n\u001B[32m    636\u001B[39m \u001B[38;5;66;03m# TODO Lots of tests assume that these are called to initialize the\u001B[39;00m\n\u001B[32m    637\u001B[39m \u001B[38;5;66;03m# mappings to default values on class initialization. I'd prefer to\u001B[39;00m\n\u001B[32m    638\u001B[39m \u001B[38;5;66;03m# move away from that and only have a mapping when explicitly called.\u001B[39;00m\n\u001B[32m    639\u001B[39m \u001B[38;5;28;01mfor\u001B[39;00m var \u001B[38;5;129;01min\u001B[39;00m [\u001B[33m\"\u001B[39m\u001B[33mhue\u001B[39m\u001B[33m\"\u001B[39m, \u001B[33m\"\u001B[39m\u001B[33msize\u001B[39m\u001B[33m\"\u001B[39m, \u001B[33m\"\u001B[39m\u001B[33mstyle\u001B[39m\u001B[33m\"\u001B[39m]:\n",
      "\u001B[36mFile \u001B[39m\u001B[32m~/miniconda3/envs/TimeSeries/lib/python3.12/site-packages/seaborn/_base.py:679\u001B[39m, in \u001B[36mVectorPlotter.assign_variables\u001B[39m\u001B[34m(self, data, variables)\u001B[39m\n\u001B[32m    674\u001B[39m \u001B[38;5;28;01melse\u001B[39;00m:\n\u001B[32m    675\u001B[39m     \u001B[38;5;66;03m# When dealing with long-form input, use the newer PlotData\u001B[39;00m\n\u001B[32m    676\u001B[39m     \u001B[38;5;66;03m# object (internal but introduced for the objects interface)\u001B[39;00m\n\u001B[32m    677\u001B[39m     \u001B[38;5;66;03m# to centralize / standardize data consumption logic.\u001B[39;00m\n\u001B[32m    678\u001B[39m     \u001B[38;5;28mself\u001B[39m.input_format = \u001B[33m\"\u001B[39m\u001B[33mlong\u001B[39m\u001B[33m\"\u001B[39m\n\u001B[32m--> \u001B[39m\u001B[32m679\u001B[39m     plot_data = PlotData(data, variables)\n\u001B[32m    680\u001B[39m     frame = plot_data.frame\n\u001B[32m    681\u001B[39m     names = plot_data.names\n",
      "\u001B[36mFile \u001B[39m\u001B[32m~/miniconda3/envs/TimeSeries/lib/python3.12/site-packages/seaborn/_core/data.py:58\u001B[39m, in \u001B[36mPlotData.__init__\u001B[39m\u001B[34m(self, data, variables)\u001B[39m\n\u001B[32m     51\u001B[39m \u001B[38;5;28;01mdef\u001B[39;00m\u001B[38;5;250m \u001B[39m\u001B[34m__init__\u001B[39m(\n\u001B[32m     52\u001B[39m     \u001B[38;5;28mself\u001B[39m,\n\u001B[32m     53\u001B[39m     data: DataSource,\n\u001B[32m     54\u001B[39m     variables: \u001B[38;5;28mdict\u001B[39m[\u001B[38;5;28mstr\u001B[39m, VariableSpec],\n\u001B[32m     55\u001B[39m ):\n\u001B[32m     57\u001B[39m     data = handle_data_source(data)\n\u001B[32m---> \u001B[39m\u001B[32m58\u001B[39m     frame, names, ids = \u001B[38;5;28mself\u001B[39m._assign_variables(data, variables)\n\u001B[32m     60\u001B[39m     \u001B[38;5;28mself\u001B[39m.frame = frame\n\u001B[32m     61\u001B[39m     \u001B[38;5;28mself\u001B[39m.names = names\n",
      "\u001B[36mFile \u001B[39m\u001B[32m~/miniconda3/envs/TimeSeries/lib/python3.12/site-packages/seaborn/_core/data.py:184\u001B[39m, in \u001B[36mPlotData._assign_variables\u001B[39m\u001B[34m(self, data, variables)\u001B[39m\n\u001B[32m    182\u001B[39m \u001B[38;5;66;03m# Variables can also be extracted from the index of a DataFrame\u001B[39;00m\n\u001B[32m    183\u001B[39m \u001B[38;5;28;01mif\u001B[39;00m \u001B[38;5;28misinstance\u001B[39m(source_data, pd.DataFrame):\n\u001B[32m--> \u001B[39m\u001B[32m184\u001B[39m     index = source_data.index.to_frame().to_dict(\u001B[33m\"\u001B[39m\u001B[33mseries\u001B[39m\u001B[33m\"\u001B[39m)\n\u001B[32m    185\u001B[39m \u001B[38;5;28;01melse\u001B[39;00m:\n\u001B[32m    186\u001B[39m     index = {}\n",
      "\u001B[36mFile \u001B[39m\u001B[32m~/.local/lib/python3.12/site-packages/pandas/util/_decorators.py:333\u001B[39m, in \u001B[36mwrapper\u001B[39m\u001B[34m(*args, **kwargs)\u001B[39m\n",
      "\u001B[36mFile \u001B[39m\u001B[32m~/.local/lib/python3.12/site-packages/pandas/core/frame.py:2176\u001B[39m, in \u001B[36mto_dict\u001B[39m\u001B[34m(self, orient, into, index)\u001B[39m\n",
      "\u001B[31mModuleNotFoundError\u001B[39m: No module named 'pandas.core.methods.to_dict'"
     ]
    },
    {
     "name": "stderr",
     "output_type": "stream",
     "text": [
      "findfont: Font family 'Times New Roman' not found.\n",
      "findfont: Font family 'Times New Roman' not found.\n",
      "findfont: Font family 'Times New Roman' not found.\n",
      "findfont: Font family 'Times New Roman' not found.\n",
      "findfont: Font family 'Times New Roman' not found.\n",
      "findfont: Font family 'Times New Roman' not found.\n",
      "findfont: Font family 'Times New Roman' not found.\n",
      "findfont: Font family 'Times New Roman' not found.\n",
      "findfont: Font family 'Times New Roman' not found.\n",
      "findfont: Font family 'Times New Roman' not found.\n",
      "findfont: Font family 'Times New Roman' not found.\n",
      "findfont: Font family 'Times New Roman' not found.\n",
      "findfont: Font family 'Times New Roman' not found.\n",
      "findfont: Font family 'Times New Roman' not found.\n",
      "findfont: Font family 'Times New Roman' not found.\n",
      "findfont: Font family 'Times New Roman' not found.\n",
      "findfont: Font family 'Times New Roman' not found.\n",
      "findfont: Font family 'Times New Roman' not found.\n",
      "findfont: Font family 'Times New Roman' not found.\n",
      "findfont: Font family 'Times New Roman' not found.\n",
      "findfont: Font family 'Times New Roman' not found.\n",
      "findfont: Font family 'Times New Roman' not found.\n",
      "findfont: Font family 'Times New Roman' not found.\n",
      "findfont: Font family 'Times New Roman' not found.\n",
      "findfont: Font family 'Times New Roman' not found.\n",
      "findfont: Font family 'Times New Roman' not found.\n",
      "findfont: Font family 'Times New Roman' not found.\n",
      "findfont: Font family 'Times New Roman' not found.\n",
      "findfont: Font family 'Times New Roman' not found.\n",
      "findfont: Font family 'Times New Roman' not found.\n",
      "findfont: Font family 'Times New Roman' not found.\n",
      "findfont: Font family 'Times New Roman' not found.\n",
      "findfont: Font family 'Times New Roman' not found.\n",
      "findfont: Font family 'Times New Roman' not found.\n",
      "findfont: Font family 'Times New Roman' not found.\n",
      "findfont: Font family 'Times New Roman' not found.\n",
      "findfont: Font family 'Times New Roman' not found.\n",
      "findfont: Font family 'Times New Roman' not found.\n"
     ]
    },
    {
     "data": {
      "text/plain": [
       "<Figure size 1100x800 with 1 Axes>"
      ],
      "image/png": "[encoded data removed]"
     },
     "metadata": {},
     "output_type": "display_data"
    }
   ],
   "execution_count": 10
  }
 ],
 "metadata": {
  "colab": {
   "collapsed_sections": [],
   "name": "KNN with dynamic DTW",
   "provenance": []
  },
  "kernelspec": {
   "display_name": "Python 3",
   "language": "python",
   "name": "python3"
  },
  "language_info": {
   "codemirror_mode": {
    "name": "ipython",
    "version": 3
   },
   "file_extension": ".py",
   "mimetype": "text/x-python",
   "name": "python",
   "nbconvert_exporter": "python",
   "pygments_lexer": "ipython3",
   "version": "3.8.8"
  }
 },
 "nbformat": 4,
 "nbformat_minor": 4
}

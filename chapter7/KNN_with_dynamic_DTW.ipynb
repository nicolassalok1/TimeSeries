{
 "cells": [
  {
   "cell_type": "markdown",
   "metadata": {},
   "source": [
    "<a href=\"https://colab.research.google.com/github/PacktPublishing/Machine-Learning-for-Time-Series-with-Python/blob/master/chapter7/KNN_with_dynamic_DTW.ipynb\" target=\"_parent\\\"><img src=\"https://colab.research.google.com/assets/colab-badge.svg\" alt=\"Open In Colab\"/></a>"
   ]
  },
  {
   "cell_type": "code",
   "metadata": {
    "colab": {
     "base_uri": "https://localhost:8080/"
    },
    "id": "r1kjFHY6xlbo",
    "outputId": "4b3f00df-2b21-4b3f-809f-7df77ada4790",
    "ExecuteTime": {
     "end_time": "2025-05-30T09:03:24.833600Z",
     "start_time": "2025-05-30T09:03:12.725719Z"
    }
   },
   "source": [
    "!pip install tsfresh \"statsmodels<=0.12\""
   ],
   "outputs": [
    {
     "name": "stdout",
     "output_type": "stream",
     "text": [
      "/bin/bash: warning: setlocale: LC_ALL: cannot change locale (en_US.UTF-8)\r\n",
      "Requirement already satisfied: tsfresh in /root/miniconda3/envs/TimeSeries/lib/python3.12/site-packages (0.21.0)\r\n",
      "Collecting statsmodels<=0.12\r\n",
      "  Using cached statsmodels-0.12.0.tar.gz (17.5 MB)\r\n",
      "  Installing build dependencies ... \u001B[?25lerror\r\n",
      "  \u001B[1;31merror\u001B[0m: \u001B[1msubprocess-exited-with-error\u001B[0m\r\n",
      "  \r\n",
      "  \u001B[31m×\u001B[0m \u001B[32mpip subprocess to install build dependencies\u001B[0m did not run successfully.\r\n",
      "  \u001B[31m│\u001B[0m exit code: \u001B[1;36m1\u001B[0m\r\n",
      "  \u001B[31m╰─>\u001B[0m \u001B[31m[104 lines of output]\u001B[0m\r\n",
      "  \u001B[31m   \u001B[0m Ignoring numpy: markers 'python_version == \"3.6\"' don't match your environment\r\n",
      "  \u001B[31m   \u001B[0m Ignoring numpy: markers 'python_version == \"3.7\"' don't match your environment\r\n",
      "  \u001B[31m   \u001B[0m Collecting setuptools\r\n",
      "  \u001B[31m   \u001B[0m   Using cached setuptools-80.9.0-py3-none-any.whl.metadata (6.6 kB)\r\n",
      "  \u001B[31m   \u001B[0m Collecting wheel\r\n",
      "  \u001B[31m   \u001B[0m   Using cached wheel-0.45.1-py3-none-any.whl.metadata (2.3 kB)\r\n",
      "  \u001B[31m   \u001B[0m Collecting cython>=0.29.14\r\n",
      "  \u001B[31m   \u001B[0m   Using cached cython-3.1.1-cp312-cp312-manylinux_2_17_x86_64.manylinux2014_x86_64.whl.metadata (3.5 kB)\r\n",
      "  \u001B[31m   \u001B[0m Collecting numpy==1.17.5\r\n",
      "  \u001B[31m   \u001B[0m   Using cached numpy-1.17.5.zip (6.4 MB)\r\n",
      "  \u001B[31m   \u001B[0m   Preparing metadata (setup.py): started\r\n",
      "  \u001B[31m   \u001B[0m   Preparing metadata (setup.py): finished with status 'done'\r\n",
      "  \u001B[31m   \u001B[0m Collecting scipy>=1.2\r\n",
      "  \u001B[31m   \u001B[0m   Using cached scipy-1.15.3-cp312-cp312-manylinux_2_17_x86_64.manylinux2014_x86_64.whl.metadata (61 kB)\r\n",
      "  \u001B[31m   \u001B[0m INFO: pip is looking at multiple versions of scipy to determine which version is compatible with other requirements. This could take a while.\r\n",
      "  \u001B[31m   \u001B[0m   Using cached scipy-1.15.2-cp312-cp312-manylinux_2_17_x86_64.manylinux2014_x86_64.whl.metadata (61 kB)\r\n",
      "  \u001B[31m   \u001B[0m   Using cached scipy-1.15.1-cp312-cp312-manylinux_2_17_x86_64.manylinux2014_x86_64.whl.metadata (61 kB)\r\n",
      "  \u001B[31m   \u001B[0m   Using cached scipy-1.15.0-cp312-cp312-manylinux_2_17_x86_64.manylinux2014_x86_64.whl.metadata (61 kB)\r\n",
      "  \u001B[31m   \u001B[0m   Using cached scipy-1.14.1-cp312-cp312-manylinux_2_17_x86_64.manylinux2014_x86_64.whl.metadata (60 kB)\r\n",
      "  \u001B[31m   \u001B[0m   Using cached scipy-1.14.0-cp312-cp312-manylinux_2_17_x86_64.manylinux2014_x86_64.whl.metadata (60 kB)\r\n",
      "  \u001B[31m   \u001B[0m   Using cached scipy-1.13.1-cp312-cp312-manylinux_2_17_x86_64.manylinux2014_x86_64.whl.metadata (60 kB)\r\n",
      "  \u001B[31m   \u001B[0m   Using cached scipy-1.13.0-cp312-cp312-manylinux_2_17_x86_64.manylinux2014_x86_64.whl.metadata (60 kB)\r\n",
      "  \u001B[31m   \u001B[0m INFO: pip is still looking at multiple versions of scipy to determine which version is compatible with other requirements. This could take a while.\r\n",
      "  \u001B[31m   \u001B[0m   Using cached scipy-1.12.0-cp312-cp312-manylinux_2_17_x86_64.manylinux2014_x86_64.whl.metadata (60 kB)\r\n",
      "  \u001B[31m   \u001B[0m   Using cached scipy-1.11.4-cp312-cp312-manylinux_2_17_x86_64.manylinux2014_x86_64.whl.metadata (60 kB)\r\n",
      "  \u001B[31m   \u001B[0m   Using cached scipy-1.11.3-cp312-cp312-manylinux_2_17_x86_64.manylinux2014_x86_64.whl.metadata (60 kB)\r\n",
      "  \u001B[31m   \u001B[0m   Using cached scipy-1.11.2-cp312-cp312-manylinux_2_17_x86_64.manylinux2014_x86_64.whl.metadata (59 kB)\r\n",
      "  \u001B[31m   \u001B[0m   Using cached scipy-1.11.1.tar.gz (56.0 MB)\r\n",
      "  \u001B[31m   \u001B[0m   Installing build dependencies: started\r\n",
      "  \u001B[31m   \u001B[0m   Installing build dependencies: finished with status 'done'\r\n",
      "  \u001B[31m   \u001B[0m   Getting requirements to build wheel: started\r\n",
      "  \u001B[31m   \u001B[0m   Getting requirements to build wheel: finished with status 'done'\r\n",
      "  \u001B[31m   \u001B[0m   Installing backend dependencies: started\r\n",
      "  \u001B[31m   \u001B[0m   Installing backend dependencies: finished with status 'done'\r\n",
      "  \u001B[31m   \u001B[0m   Preparing metadata (pyproject.toml): started\r\n",
      "  \u001B[31m   \u001B[0m   Preparing metadata (pyproject.toml): finished with status 'error'\r\n",
      "  \u001B[31m   \u001B[0m   \u001B[1;31merror\u001B[0m: \u001B[1msubprocess-exited-with-error\u001B[0m\r\n",
      "  \u001B[31m   \u001B[0m \r\n",
      "  \u001B[31m   \u001B[0m   \u001B[31m×\u001B[0m \u001B[32mPreparing metadata \u001B[0m\u001B[1;32m(\u001B[0m\u001B[32mpyproject.toml\u001B[0m\u001B[1;32m)\u001B[0m did not run successfully.\r\n",
      "  \u001B[31m   \u001B[0m   \u001B[31m│\u001B[0m exit code: \u001B[1;36m1\u001B[0m\r\n",
      "  \u001B[31m   \u001B[0m   \u001B[31m╰─>\u001B[0m \u001B[31m[53 lines of output]\u001B[0m\r\n",
      "  \u001B[31m   \u001B[0m   \u001B[31m   \u001B[0m \u001B[36m\u001B[1m+ meson setup /tmp/pip-install-8e_kq4hw/scipy_93dfa983ff394791af27c29ab276e80b /tmp/pip-install-8e_kq4hw/scipy_93dfa983ff394791af27c29ab276e80b/.mesonpy-0xs6_0aq/build -Dbuildtype=release -Db_ndebug=if-release -Db_vscrt=md --native-file=/tmp/pip-install-8e_kq4hw/scipy_93dfa983ff394791af27c29ab276e80b/.mesonpy-0xs6_0aq/build/meson-python-native-file.ini\u001B[0m\r\n",
      "  \u001B[31m   \u001B[0m   \u001B[31m   \u001B[0m The Meson build system\r\n",
      "  \u001B[31m   \u001B[0m   \u001B[31m   \u001B[0m Version: 1.8.1\r\n",
      "  \u001B[31m   \u001B[0m   \u001B[31m   \u001B[0m Source dir: /tmp/pip-install-8e_kq4hw/scipy_93dfa983ff394791af27c29ab276e80b\r\n",
      "  \u001B[31m   \u001B[0m   \u001B[31m   \u001B[0m Build dir: /tmp/pip-install-8e_kq4hw/scipy_93dfa983ff394791af27c29ab276e80b/.mesonpy-0xs6_0aq/build\r\n",
      "  \u001B[31m   \u001B[0m   \u001B[31m   \u001B[0m Build type: native build\r\n",
      "  \u001B[31m   \u001B[0m   \u001B[31m   \u001B[0m Project name: SciPy\r\n",
      "  \u001B[31m   \u001B[0m   \u001B[31m   \u001B[0m Project version: 1.11.1\r\n",
      "  \u001B[31m   \u001B[0m   \u001B[31m   \u001B[0m C compiler for the host machine: cc (gcc 13.3.0 \"cc (Ubuntu 13.3.0-6ubuntu2~24.04) 13.3.0\")\r\n",
      "  \u001B[31m   \u001B[0m   \u001B[31m   \u001B[0m C linker for the host machine: cc ld.bfd 2.42\r\n",
      "  \u001B[31m   \u001B[0m   \u001B[31m   \u001B[0m C++ compiler for the host machine: c++ (gcc 13.3.0 \"c++ (Ubuntu 13.3.0-6ubuntu2~24.04) 13.3.0\")\r\n",
      "  \u001B[31m   \u001B[0m   \u001B[31m   \u001B[0m C++ linker for the host machine: c++ ld.bfd 2.42\r\n",
      "  \u001B[31m   \u001B[0m   \u001B[31m   \u001B[0m Cython compiler for the host machine: cython (cython 0.29.37)\r\n",
      "  \u001B[31m   \u001B[0m   \u001B[31m   \u001B[0m Host machine cpu family: x86_64\r\n",
      "  \u001B[31m   \u001B[0m   \u001B[31m   \u001B[0m Host machine cpu: x86_64\r\n",
      "  \u001B[31m   \u001B[0m   \u001B[31m   \u001B[0m Program python found: YES (/root/miniconda3/envs/TimeSeries/bin/python3.12)\r\n",
      "  \u001B[31m   \u001B[0m   \u001B[31m   \u001B[0m Found pkg-config: YES (/usr/bin/pkg-config) 1.8.1\r\n",
      "  \u001B[31m   \u001B[0m   \u001B[31m   \u001B[0m Run-time dependency python found: YES 3.12\r\n",
      "  \u001B[31m   \u001B[0m   \u001B[31m   \u001B[0m Program cython found: YES (/tmp/pip-build-env-voo2rnxl/overlay/bin/cython)\r\n",
      "  \u001B[31m   \u001B[0m   \u001B[31m   \u001B[0m Compiler for C supports arguments -Wno-unused-but-set-variable: YES\r\n",
      "  \u001B[31m   \u001B[0m   \u001B[31m   \u001B[0m Compiler for C supports arguments -Wno-unused-function: YES\r\n",
      "  \u001B[31m   \u001B[0m   \u001B[31m   \u001B[0m Compiler for C supports arguments -Wno-conversion: YES\r\n",
      "  \u001B[31m   \u001B[0m   \u001B[31m   \u001B[0m Compiler for C supports arguments -Wno-misleading-indentation: YES\r\n",
      "  \u001B[31m   \u001B[0m   \u001B[31m   \u001B[0m Library m found: YES\r\n",
      "  \u001B[31m   \u001B[0m   \u001B[31m   \u001B[0m\r\n",
      "  \u001B[31m   \u001B[0m   \u001B[31m   \u001B[0m ../../meson.build:82:0: ERROR: Unknown compiler(s): [['gfortran'], ['flang-new'], ['flang'], ['nvfortran'], ['pgfortran'], ['ifort'], ['ifx'], ['g95']]\r\n",
      "  \u001B[31m   \u001B[0m   \u001B[31m   \u001B[0m The following exception(s) were encountered:\r\n",
      "  \u001B[31m   \u001B[0m   \u001B[31m   \u001B[0m Running `gfortran --help` gave \"[Errno 2] No such file or directory: 'gfortran'\"\r\n",
      "  \u001B[31m   \u001B[0m   \u001B[31m   \u001B[0m Running `gfortran --version` gave \"[Errno 2] No such file or directory: 'gfortran'\"\r\n",
      "  \u001B[31m   \u001B[0m   \u001B[31m   \u001B[0m Running `gfortran -V` gave \"[Errno 2] No such file or directory: 'gfortran'\"\r\n",
      "  \u001B[31m   \u001B[0m   \u001B[31m   \u001B[0m Running `flang-new --help` gave \"[Errno 2] No such file or directory: 'flang-new'\"\r\n",
      "  \u001B[31m   \u001B[0m   \u001B[31m   \u001B[0m Running `flang-new --version` gave \"[Errno 2] No such file or directory: 'flang-new'\"\r\n",
      "  \u001B[31m   \u001B[0m   \u001B[31m   \u001B[0m Running `flang-new -V` gave \"[Errno 2] No such file or directory: 'flang-new'\"\r\n",
      "  \u001B[31m   \u001B[0m   \u001B[31m   \u001B[0m Running `flang --help` gave \"[Errno 2] No such file or directory: 'flang'\"\r\n",
      "  \u001B[31m   \u001B[0m   \u001B[31m   \u001B[0m Running `flang --version` gave \"[Errno 2] No such file or directory: 'flang'\"\r\n",
      "  \u001B[31m   \u001B[0m   \u001B[31m   \u001B[0m Running `flang -V` gave \"[Errno 2] No such file or directory: 'flang'\"\r\n",
      "  \u001B[31m   \u001B[0m   \u001B[31m   \u001B[0m Running `nvfortran --help` gave \"[Errno 2] No such file or directory: 'nvfortran'\"\r\n",
      "  \u001B[31m   \u001B[0m   \u001B[31m   \u001B[0m Running `nvfortran --version` gave \"[Errno 2] No such file or directory: 'nvfortran'\"\r\n",
      "  \u001B[31m   \u001B[0m   \u001B[31m   \u001B[0m Running `nvfortran -V` gave \"[Errno 2] No such file or directory: 'nvfortran'\"\r\n",
      "  \u001B[31m   \u001B[0m   \u001B[31m   \u001B[0m Running `pgfortran --help` gave \"[Errno 2] No such file or directory: 'pgfortran'\"\r\n",
      "  \u001B[31m   \u001B[0m   \u001B[31m   \u001B[0m Running `pgfortran --version` gave \"[Errno 2] No such file or directory: 'pgfortran'\"\r\n",
      "  \u001B[31m   \u001B[0m   \u001B[31m   \u001B[0m Running `pgfortran -V` gave \"[Errno 2] No such file or directory: 'pgfortran'\"\r\n",
      "  \u001B[31m   \u001B[0m   \u001B[31m   \u001B[0m Running `ifort --help` gave \"[Errno 2] No such file or directory: 'ifort'\"\r\n",
      "  \u001B[31m   \u001B[0m   \u001B[31m   \u001B[0m Running `ifort --version` gave \"[Errno 2] No such file or directory: 'ifort'\"\r\n",
      "  \u001B[31m   \u001B[0m   \u001B[31m   \u001B[0m Running `ifort -V` gave \"[Errno 2] No such file or directory: 'ifort'\"\r\n",
      "  \u001B[31m   \u001B[0m   \u001B[31m   \u001B[0m Running `ifx --help` gave \"[Errno 2] No such file or directory: 'ifx'\"\r\n",
      "  \u001B[31m   \u001B[0m   \u001B[31m   \u001B[0m Running `ifx --version` gave \"[Errno 2] No such file or directory: 'ifx'\"\r\n",
      "  \u001B[31m   \u001B[0m   \u001B[31m   \u001B[0m Running `ifx -V` gave \"[Errno 2] No such file or directory: 'ifx'\"\r\n",
      "  \u001B[31m   \u001B[0m   \u001B[31m   \u001B[0m Running `g95 --help` gave \"[Errno 2] No such file or directory: 'g95'\"\r\n",
      "  \u001B[31m   \u001B[0m   \u001B[31m   \u001B[0m Running `g95 --version` gave \"[Errno 2] No such file or directory: 'g95'\"\r\n",
      "  \u001B[31m   \u001B[0m   \u001B[31m   \u001B[0m Running `g95 -V` gave \"[Errno 2] No such file or directory: 'g95'\"\r\n",
      "  \u001B[31m   \u001B[0m   \u001B[31m   \u001B[0m\r\n",
      "  \u001B[31m   \u001B[0m   \u001B[31m   \u001B[0m A full log can be found at /tmp/pip-install-8e_kq4hw/scipy_93dfa983ff394791af27c29ab276e80b/.mesonpy-0xs6_0aq/build/meson-logs/meson-log.txt\r\n",
      "  \u001B[31m   \u001B[0m   \u001B[31m   \u001B[0m \u001B[31m[end of output]\u001B[0m\r\n",
      "  \u001B[31m   \u001B[0m \r\n",
      "  \u001B[31m   \u001B[0m   \u001B[1;35mnote\u001B[0m: This error originates from a subprocess, and is likely not a problem with pip.\r\n",
      "  \u001B[31m   \u001B[0m \u001B[1;31merror\u001B[0m: \u001B[1mmetadata-generation-failed\u001B[0m\r\n",
      "  \u001B[31m   \u001B[0m \r\n",
      "  \u001B[31m   \u001B[0m \u001B[31m×\u001B[0m Encountered error while generating package metadata.\r\n",
      "  \u001B[31m   \u001B[0m \u001B[31m╰─>\u001B[0m See above for output.\r\n",
      "  \u001B[31m   \u001B[0m \r\n",
      "  \u001B[31m   \u001B[0m \u001B[1;35mnote\u001B[0m: This is an issue with the package mentioned above, not pip.\r\n",
      "  \u001B[31m   \u001B[0m \u001B[1;36mhint\u001B[0m: See above for details.\r\n",
      "  \u001B[31m   \u001B[0m \u001B[31m[end of output]\u001B[0m\r\n",
      "  \r\n",
      "  \u001B[1;35mnote\u001B[0m: This error originates from a subprocess, and is likely not a problem with pip.\r\n",
      "\u001B[1;31merror\u001B[0m: \u001B[1msubprocess-exited-with-error\u001B[0m\r\n",
      "\r\n",
      "\u001B[31m×\u001B[0m \u001B[32mpip subprocess to install build dependencies\u001B[0m did not run successfully.\r\n",
      "\u001B[31m│\u001B[0m exit code: \u001B[1;36m1\u001B[0m\r\n",
      "\u001B[31m╰─>\u001B[0m See above for output.\r\n",
      "\r\n",
      "\u001B[1;35mnote\u001B[0m: This error originates from a subprocess, and is likely not a problem with pip.\r\n",
      "\u001B[?25h"
     ]
    }
   ],
   "execution_count": 1
  },
  {
   "cell_type": "code",
   "metadata": {
    "colab": {
     "base_uri": "https://localhost:8080/"
    },
    "id": "Pg0UkW57-VlF",
    "outputId": "8275dc45-501c-40cd-ec9e-19d7d42935ad",
    "ExecuteTime": {
     "end_time": "2025-05-30T09:03:25.512336Z",
     "start_time": "2025-05-30T09:03:24.838346Z"
    }
   },
   "source": [
    "!pip install tslearn"
   ],
   "outputs": [
    {
     "name": "stdout",
     "output_type": "stream",
     "text": [
      "/bin/bash: warning: setlocale: LC_ALL: cannot change locale (en_US.UTF-8)\r\n",
      "Requirement already satisfied: tslearn in /root/miniconda3/envs/TimeSeries/lib/python3.12/site-packages (0.6.3)\r\n",
      "Requirement already satisfied: numpy in /root/miniconda3/envs/TimeSeries/lib/python3.12/site-packages (from tslearn) (1.26.0)\r\n",
      "Requirement already satisfied: scipy in /root/miniconda3/envs/TimeSeries/lib/python3.12/site-packages (from tslearn) (1.15.1)\r\n",
      "Requirement already satisfied: scikit-learn in /root/miniconda3/envs/TimeSeries/lib/python3.12/site-packages (from tslearn) (1.3.1)\r\n",
      "Requirement already satisfied: numba in /root/miniconda3/envs/TimeSeries/lib/python3.12/site-packages (from tslearn) (0.59.1)\r\n",
      "Requirement already satisfied: joblib in /root/miniconda3/envs/TimeSeries/lib/python3.12/site-packages (from tslearn) (1.4.2)\r\n",
      "Requirement already satisfied: llvmlite<0.43,>=0.42.0dev0 in /root/miniconda3/envs/TimeSeries/lib/python3.12/site-packages (from numba->tslearn) (0.42.0)\r\n",
      "Requirement already satisfied: threadpoolctl>=2.0.0 in /root/miniconda3/envs/TimeSeries/lib/python3.12/site-packages (from scikit-learn->tslearn) (3.5.0)\r\n",
      "\u001B[33mWARNING: Running pip as the 'root' user can result in broken permissions and conflicting behaviour with the system package manager, possibly rendering your system unusable. It is recommended to use a virtual environment instead: https://pip.pypa.io/warnings/venv. Use the --root-user-action option if you know what you are doing and want to suppress this warning.\u001B[0m\u001B[33m\r\n",
      "\u001B[0m"
     ]
    }
   ],
   "execution_count": 2
  },
  {
   "cell_type": "code",
   "metadata": {
    "id": "5VtsgQxuzMUt",
    "ExecuteTime": {
     "end_time": "2025-05-30T09:03:25.591937Z",
     "start_time": "2025-05-30T09:03:25.589289Z"
    }
   },
   "source": [
    "import pandas as pd\n",
    "import matplotlib.pyplot as plt\n",
    "\n",
    "plt.style.use('seaborn-v0_8-whitegrid')\n",
    "\n",
    "plt.rcParams[\"font.family\"] = \"Times New Roman\"\n",
    "plt.rcParams[\"font.size\"] = \"17\""
   ],
   "outputs": [],
   "execution_count": 3
  },
  {
   "cell_type": "code",
   "metadata": {
    "colab": {
     "base_uri": "https://localhost:8080/"
    },
    "id": "iPQPBG849jB2",
    "outputId": "13f96036-b472-4445-d0ca-75d02a48016a",
    "ExecuteTime": {
     "end_time": "2025-05-30T09:03:26.669847Z",
     "start_time": "2025-05-30T09:03:25.640792Z"
    }
   },
   "source": [
    "from tsfresh.examples import load_robot_execution_failures\n",
    "from tsfresh.examples.robot_execution_failures import download_robot_execution_failures\n",
    "\n",
    "download_robot_execution_failures()\n",
    "df_ts, y = load_robot_execution_failures()"
   ],
   "outputs": [],
   "execution_count": 4
  },
  {
   "cell_type": "code",
   "metadata": {
    "colab": {
     "base_uri": "https://localhost:8080/"
    },
    "id": "UOHxdjmAWKZc",
    "outputId": "67d575b7-d649-40ab-8edd-2d0c7950a6a2",
    "ExecuteTime": {
     "end_time": "2025-05-30T09:03:29.897803Z",
     "start_time": "2025-05-30T09:03:26.678516Z"
    }
   },
   "source": [
    "from tsfresh import extract_features\n",
    "from tsfresh import select_features\n",
    "from tsfresh.utilities.dataframe_functions import impute\n",
    "\n",
    "extracted_features = impute(extract_features(df_ts, column_id=\"id\", column_sort=\"time\"))\n",
    "features_filtered = select_features(extracted_features, y)"
   ],
   "outputs": [
    {
     "name": "stderr",
     "output_type": "stream",
     "text": [
      "Feature Extraction: 100%|██████████| 66/66 [00:02<00:00, 31.49it/s]\n",
      "/root/miniconda3/envs/TimeSeries/lib/python3.12/site-packages/tsfresh/utilities/dataframe_functions.py:198: RuntimeWarning: The columns ['F_z__partial_autocorrelation__lag_7'\n",
      " 'F_z__partial_autocorrelation__lag_8'\n",
      " 'F_z__partial_autocorrelation__lag_9' ...\n",
      " 'F_y__agg_linear_trend__attr_\"stderr\"__chunk_len_50__f_agg_\"mean\"'\n",
      " 'F_y__agg_linear_trend__attr_\"stderr\"__chunk_len_50__f_agg_\"var\"'\n",
      " 'F_y__query_similarity_count__query_None__threshold_0.0'] did not have any finite values. Filling with zeros.\n",
      "  warnings.warn(\n"
     ]
    }
   ],
   "execution_count": 5
  },
  {
   "cell_type": "code",
   "metadata": {
    "colab": {
     "base_uri": "https://localhost:8080/"
    },
    "id": "7D0JxrCpQL6x",
    "outputId": "b75b4054-afab-4f55-8c61-9a6c7a7f0d8d",
    "ExecuteTime": {
     "end_time": "2025-05-30T09:03:31.127307Z",
     "start_time": "2025-05-30T09:03:29.910967Z"
    }
   },
   "source": [
    "from tsfresh.transformers import RelevantFeatureAugmenter\n",
    "import pandas as pd\n",
    "\n",
    "X = pd.DataFrame(index=y.index)\n",
    "TRAINING_SIZE = (len(X) // 10) * 8\n",
    "augmenter = RelevantFeatureAugmenter(column_id='id', column_sort='time')\n",
    "augmenter.set_timeseries_container(df_ts[:TRAINING_SIZE])\n",
    "augmenter.fit(X[:TRAINING_SIZE], y[:TRAINING_SIZE])\n",
    "X_transformed = augmenter.transform(X)"
   ],
   "outputs": [
    {
     "name": "stderr",
     "output_type": "stream",
     "text": [
      "Feature Extraction: 100%|██████████| 30/30 [00:00<00:00, 196.63it/s]\n",
      "/root/miniconda3/envs/TimeSeries/lib/python3.12/site-packages/tsfresh/utilities/dataframe_functions.py:198: RuntimeWarning: The columns ['T_y__partial_autocorrelation__lag_7'\n",
      " 'T_y__partial_autocorrelation__lag_8'\n",
      " 'T_y__partial_autocorrelation__lag_9' ...\n",
      " 'T_x__agg_linear_trend__attr_\"stderr\"__chunk_len_50__f_agg_\"mean\"'\n",
      " 'T_x__agg_linear_trend__attr_\"stderr\"__chunk_len_50__f_agg_\"var\"'\n",
      " 'T_x__query_similarity_count__query_None__threshold_0.0'] did not have any finite values. Filling with zeros.\n",
      "  warnings.warn(\n",
      "Feature Extraction: 100%|██████████| 30/30 [00:00<00:00, 9634.70it/s]\n"
     ]
    }
   ],
   "execution_count": 6
  },
  {
   "cell_type": "code",
   "metadata": {
    "colab": {
     "base_uri": "https://localhost:8080/"
    },
    "id": "jzaRzQc63Iiv",
    "outputId": "384b8608-39d3-4b52-8e23-4baefd4c05cc",
    "ExecuteTime": {
     "end_time": "2025-05-30T09:03:44.748892Z",
     "start_time": "2025-05-30T09:03:31.147515Z"
    }
   },
   "source": [
    "from sklearn.model_selection import TimeSeriesSplit, GridSearchCV\n",
    "from tslearn.neighbors import KNeighborsTimeSeriesClassifier\n",
    "\n",
    "knn = KNeighborsTimeSeriesClassifier()\n",
    "param_search = {\n",
    "    'metric' : ['dtw'],  # ctw', 'dtw', \"softdtw\"], # TSLEARN_VALID_METRICS}\n",
    "    'n_neighbors': [1, 2, 3]\n",
    "}\n",
    "#  'param_grid': {'metric': ['ctw', 'dtw', 'gak', 'sax', 'softdtw', 'lcss']},\n",
    "tscv = TimeSeriesSplit(n_splits=2)\n",
    "\n",
    "gsearch = GridSearchCV(\n",
    "    estimator=knn,\n",
    "    cv=tscv,\n",
    "    param_grid=param_search\n",
    ")\n",
    "gsearch.fit(\n",
    "    features_filtered,\n",
    "    y\n",
    ")"
   ],
   "outputs": [
    {
     "data": {
      "text/plain": [
       "GridSearchCV(cv=TimeSeriesSplit(gap=0, max_train_size=None, n_splits=2, test_size=None),\n",
       "             estimator=KNeighborsTimeSeriesClassifier(),\n",
       "             param_grid={'metric': ['dtw'], 'n_neighbors': [1, 2, 3]})"
      ],
      "text/html": [
       "<style>#sk-container-id-1 {color: black;}#sk-container-id-1 pre{padding: 0;}#sk-container-id-1 div.sk-toggleable {background-color: white;}#sk-container-id-1 label.sk-toggleable__label {cursor: pointer;display: block;width: 100%;margin-bottom: 0;padding: 0.3em;box-sizing: border-box;text-align: center;}#sk-container-id-1 label.sk-toggleable__label-arrow:before {content: \"▸\";float: left;margin-right: 0.25em;color: #696969;}#sk-container-id-1 label.sk-toggleable__label-arrow:hover:before {color: black;}#sk-container-id-1 div.sk-estimator:hover label.sk-toggleable__label-arrow:before {color: black;}#sk-container-id-1 div.sk-toggleable__content {max-height: 0;max-width: 0;overflow: hidden;text-align: left;background-color: #f0f8ff;}#sk-container-id-1 div.sk-toggleable__content pre {margin: 0.2em;color: black;border-radius: 0.25em;background-color: #f0f8ff;}#sk-container-id-1 input.sk-toggleable__control:checked~div.sk-toggleable__content {max-height: 200px;max-width: 100%;overflow: auto;}#sk-container-id-1 input.sk-toggleable__control:checked~label.sk-toggleable__label-arrow:before {content: \"▾\";}#sk-container-id-1 div.sk-estimator input.sk-toggleable__control:checked~label.sk-toggleable__label {background-color: #d4ebff;}#sk-container-id-1 div.sk-label input.sk-toggleable__control:checked~label.sk-toggleable__label {background-color: #d4ebff;}#sk-container-id-1 input.sk-hidden--visually {border: 0;clip: rect(1px 1px 1px 1px);clip: rect(1px, 1px, 1px, 1px);height: 1px;margin: -1px;overflow: hidden;padding: 0;position: absolute;width: 1px;}#sk-container-id-1 div.sk-estimator {font-family: monospace;background-color: #f0f8ff;border: 1px dotted black;border-radius: 0.25em;box-sizing: border-box;margin-bottom: 0.5em;}#sk-container-id-1 div.sk-estimator:hover {background-color: #d4ebff;}#sk-container-id-1 div.sk-parallel-item::after {content: \"\";width: 100%;border-bottom: 1px solid gray;flex-grow: 1;}#sk-container-id-1 div.sk-label:hover label.sk-toggleable__label {background-color: #d4ebff;}#sk-container-id-1 div.sk-serial::before {content: \"\";position: absolute;border-left: 1px solid gray;box-sizing: border-box;top: 0;bottom: 0;left: 50%;z-index: 0;}#sk-container-id-1 div.sk-serial {display: flex;flex-direction: column;align-items: center;background-color: white;padding-right: 0.2em;padding-left: 0.2em;position: relative;}#sk-container-id-1 div.sk-item {position: relative;z-index: 1;}#sk-container-id-1 div.sk-parallel {display: flex;align-items: stretch;justify-content: center;background-color: white;position: relative;}#sk-container-id-1 div.sk-item::before, #sk-container-id-1 div.sk-parallel-item::before {content: \"\";position: absolute;border-left: 1px solid gray;box-sizing: border-box;top: 0;bottom: 0;left: 50%;z-index: -1;}#sk-container-id-1 div.sk-parallel-item {display: flex;flex-direction: column;z-index: 1;position: relative;background-color: white;}#sk-container-id-1 div.sk-parallel-item:first-child::after {align-self: flex-end;width: 50%;}#sk-container-id-1 div.sk-parallel-item:last-child::after {align-self: flex-start;width: 50%;}#sk-container-id-1 div.sk-parallel-item:only-child::after {width: 0;}#sk-container-id-1 div.sk-dashed-wrapped {border: 1px dashed gray;margin: 0 0.4em 0.5em 0.4em;box-sizing: border-box;padding-bottom: 0.4em;background-color: white;}#sk-container-id-1 div.sk-label label {font-family: monospace;font-weight: bold;display: inline-block;line-height: 1.2em;}#sk-container-id-1 div.sk-label-container {text-align: center;}#sk-container-id-1 div.sk-container {/* jupyter's `normalize.less` sets `[hidden] { display: none; }` but bootstrap.min.css set `[hidden] { display: none !important; }` so we also need the `!important` here to be able to override the default hidden behavior on the sphinx rendered scikit-learn.org. See: https://github.com/scikit-learn/scikit-learn/issues/21755 */display: inline-block !important;position: relative;}#sk-container-id-1 div.sk-text-repr-fallback {display: none;}</style><div id=\"sk-container-id-1\" class=\"sk-top-container\"><div class=\"sk-text-repr-fallback\"><pre>GridSearchCV(cv=TimeSeriesSplit(gap=0, max_train_size=None, n_splits=2, test_size=None),\n",
       "             estimator=KNeighborsTimeSeriesClassifier(),\n",
       "             param_grid={&#x27;metric&#x27;: [&#x27;dtw&#x27;], &#x27;n_neighbors&#x27;: [1, 2, 3]})</pre><b>In a Jupyter environment, please rerun this cell to show the HTML representation or trust the notebook. <br />On GitHub, the HTML representation is unable to render, please try loading this page with nbviewer.org.</b></div><div class=\"sk-container\" hidden><div class=\"sk-item sk-dashed-wrapped\"><div class=\"sk-label-container\"><div class=\"sk-label sk-toggleable\"><input class=\"sk-toggleable__control sk-hidden--visually\" id=\"sk-estimator-id-1\" type=\"checkbox\" ><label for=\"sk-estimator-id-1\" class=\"sk-toggleable__label sk-toggleable__label-arrow\">GridSearchCV</label><div class=\"sk-toggleable__content\"><pre>GridSearchCV(cv=TimeSeriesSplit(gap=0, max_train_size=None, n_splits=2, test_size=None),\n",
       "             estimator=KNeighborsTimeSeriesClassifier(),\n",
       "             param_grid={&#x27;metric&#x27;: [&#x27;dtw&#x27;], &#x27;n_neighbors&#x27;: [1, 2, 3]})</pre></div></div></div><div class=\"sk-parallel\"><div class=\"sk-parallel-item\"><div class=\"sk-item\"><div class=\"sk-label-container\"><div class=\"sk-label sk-toggleable\"><input class=\"sk-toggleable__control sk-hidden--visually\" id=\"sk-estimator-id-2\" type=\"checkbox\" ><label for=\"sk-estimator-id-2\" class=\"sk-toggleable__label sk-toggleable__label-arrow\">estimator: KNeighborsTimeSeriesClassifier</label><div class=\"sk-toggleable__content\"><pre>KNeighborsTimeSeriesClassifier()</pre></div></div></div><div class=\"sk-serial\"><div class=\"sk-item\"><div class=\"sk-estimator sk-toggleable\"><input class=\"sk-toggleable__control sk-hidden--visually\" id=\"sk-estimator-id-3\" type=\"checkbox\" ><label for=\"sk-estimator-id-3\" class=\"sk-toggleable__label sk-toggleable__label-arrow\">KNeighborsTimeSeriesClassifier</label><div class=\"sk-toggleable__content\"><pre>KNeighborsTimeSeriesClassifier()</pre></div></div></div></div></div></div></div></div></div></div>"
      ]
     },
     "execution_count": 7,
     "metadata": {},
     "output_type": "execute_result"
    }
   ],
   "execution_count": 7
  },
  {
   "cell_type": "code",
   "metadata": {
    "id": "j7XePgIYK1WQ",
    "ExecuteTime": {
     "end_time": "2025-05-30T09:03:44.812495Z",
     "start_time": "2025-05-30T09:03:44.808727Z"
    }
   },
   "source": [
    "# Adapted from comments on this discussion thread on stackoverflow: https://stackoverflow.com/questions/37161563/how-to-graph-grid-scores-from-gridsearchcv\n",
    "import seaborn as sns\n",
    "import pandas as pd\n",
    "\n",
    "def plot_cv_results(cv_results, param_x, param_z, metric='mean_test_score'):\n",
    "    \"\"\"\n",
    "    cv_results - cv_results_ attribute of a GridSearchCV instance (or similar)\n",
    "    param_x - name of grid search parameter to plot on x axis\n",
    "    param_z - name of grid search parameter to plot by line color\n",
    "    \"\"\"\n",
    "    cv_results = pd.DataFrame(cv_results)\n",
    "    col_x = 'param_' + param_x\n",
    "    col_z = 'param_' + param_z\n",
    "    fig, ax = plt.subplots(1, 1, figsize=(11, 8))\n",
    "    sns.pointplot(x=col_x, y=metric, hue=col_z, data=cv_results, ci=99, n_boot=64, ax=ax)\n",
    "    ax.set_title(\"CV Grid Search Results\")\n",
    "    ax.set_xlabel(param_x)\n",
    "    ax.set_ylabel(metric)\n",
    "    ax.legend(title=param_z)\n",
    "    return fig\n"
   ],
   "outputs": [],
   "execution_count": 8
  },
  {
   "cell_type": "code",
   "metadata": {
    "colab": {
     "base_uri": "https://localhost:8080/",
     "height": 564
    },
    "id": "-mHYRnizXwsz",
    "outputId": "41bb85fe-a2e4-4f51-911d-54630be0645a",
    "ExecuteTime": {
     "end_time": "2025-05-30T09:03:45.184404Z",
     "start_time": "2025-05-30T09:03:44.914706Z"
    }
   },
   "source": [
    "fig = plot_cv_results(gsearch.cv_results_, 'metric', 'n_neighbors')"
   ],
   "outputs": [
    {
     "name": "stderr",
     "output_type": "stream",
     "text": [
      "/tmp/ipykernel_104804/2258186687.py:15: FutureWarning: \n",
      "\n",
      "The `ci` parameter is deprecated. Use `errorbar=('ci', 99)` for the same effect.\n",
      "\n",
      "  sns.pointplot(x=col_x, y=metric, hue=col_z, data=cv_results, ci=99, n_boot=64, ax=ax)\n"
     ]
    },
    {
     "data": {
      "text/plain": [
       "<Figure size 1100x800 with 1 Axes>"
      ],
      "image/png": "[encoded data removed]"
     },
     "metadata": {},
     "output_type": "display_data"
    }
   ],
   "execution_count": 9
  }
 ],
 "metadata": {
  "colab": {
   "collapsed_sections": [],
   "name": "KNN with dynamic DTW",
   "provenance": []
  },
  "kernelspec": {
   "display_name": "Python 3",
   "language": "python",
   "name": "python3"
  },
  "language_info": {
   "codemirror_mode": {
    "name": "ipython",
    "version": 3
   },
   "file_extension": ".py",
   "mimetype": "text/x-python",
   "name": "python",
   "nbconvert_exporter": "python",
   "pygments_lexer": "ipython3",
   "version": "3.8.8"
  }
 },
 "nbformat": 4,
 "nbformat_minor": 4
}

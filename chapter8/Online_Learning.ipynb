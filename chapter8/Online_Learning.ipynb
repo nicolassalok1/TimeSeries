{
 "cells": [
  {
   "cell_type": "markdown",
   "id": "6d0ec63d-ef95-48fa-b83d-eef4e02733e0",
   "metadata": {},
   "source": [
    "<a href=\"https://colab.research.google.com/github/PacktPublishing/Machine-Learning-for-Time-Series-with-Python/blob/master/chapter8/Online_Learning.ipynb\" target=\"_parent\\\"><img src=\"https://colab.research.google.com/assets/colab-badge.svg\" alt=\"Open In Colab\"/></a>"
   ]
  },
  {
   "cell_type": "code",
   "execution_count": null,
   "id": "514a7acc-81bf-49cb-8fea-632387aa44bf",
   "metadata": {},
   "outputs": [],
   "source": [
    "!pip install river"
   ]
  },
  {
   "cell_type": "markdown",
   "id": "7e34e1a6-2d8d-4347-b96b-6927c210cb85",
   "metadata": {},
   "source": [
    "# Regression"
   ]
  },
  {
   "cell_type": "code",
   "execution_count": null,
   "id": "d410bd23-82aa-4291-b034-16e9dc0cf606",
   "metadata": {},
   "outputs": [],
   "source": [
    "from river import stream\n",
    "from river.datasets import base\n",
    "\n",
    "\n",
    "class SolarFlare(base.FileDataset):\n",
    "    def __init__(self):\n",
    "        super().__init__(\n",
    "            n_samples=1066,\n",
    "            n_features=10,\n",
    "            n_outputs=1,\n",
    "            task=base.MO_REG,\n",
    "            filename=\"solar-flare.csv.zip\",\n",
    "        )\n",
    "\n",
    "    def __iter__(self):\n",
    "        return stream.iter_csv(\n",
    "            self.path,\n",
    "            target=\"m-class-flares\",\n",
    "            converters={\n",
    "                \"zurich-class\": str,\n",
    "                \"largest-spot-size\": str,\n",
    "                \"spot-distribution\": str,\n",
    "                \"activity\": int,\n",
    "                \"evolution\": int,\n",
    "                \"previous-24h-flare-activity\": int,\n",
    "                \"hist-complex\": int,\n",
    "                \"hist-complex-this-pass\": int,\n",
    "                \"area\": int,\n",
    "                \"largest-spot-area\": int,\n",
    "                \"c-class-flares\": int,\n",
    "                \"m-class-flares\": int,\n",
    "                \"x-class-flares\": int,\n",
    "            },\n",
    "        )\n",
    "    "
   ]
  },
  {
   "cell_type": "code",
   "execution_count": null,
   "id": "6a8bdf8c-7a6f-4a47-a035-50ba4861dfd2",
   "metadata": {},
   "outputs": [],
   "source": [
    "from pprint import pprint\n",
    "from river import datasets\n",
    "\n",
    "for x, y in SolarFlare():\n",
    "    pprint(x)\n",
    "    pprint(y)\n",
    "    break"
   ]
  },
  {
   "cell_type": "code",
   "execution_count": null,
   "id": "db7b13ad-4303-443d-840f-00aef7f99f51",
   "metadata": {},
   "outputs": [],
   "source": [
    "import numbers\n",
    "from river import compose\n",
    "from river import datasets\n",
    "from river import evaluate\n",
    "from river import linear_model\n",
    "from river import metrics\n",
    "from river import preprocessing\n",
    "from river import tree\n",
    "\n",
    "dataset = SolarFlare()\n",
    "num = compose.SelectType(numbers.Number) | preprocessing.MinMaxScaler()\n",
    "cat = compose.SelectType(str) | preprocessing.OneHotEncoder(sparse=False)\n",
    "model = tree.HoeffdingTreeRegressor()\n",
    "pipeline = (num + cat) | model\n",
    "metric = metrics.MAE()\n",
    "#evaluate.progressive_val_score(dataset, pipeline, metric)"
   ]
  },
  {
   "cell_type": "code",
   "execution_count": null,
   "id": "3597bf77-9fdb-4358-bb6b-9543a65881c2",
   "metadata": {},
   "outputs": [],
   "source": [
    "import matplotlib.pyplot as plt\n",
    "\n",
    "errors = []\n",
    "for x, y in SolarFlare():\n",
    "    y_pred = pipeline.predict_one(x)\n",
    "    metric = metric.update(y, y_pred)\n",
    "    errors.append(metric.get())\n",
    "    pipeline = pipeline.learn_one(x, y)\n",
    "\n",
    "fig, ax = plt.subplots(figsize=(16, 6))\n",
    "ax.plot(\n",
    "    errors,\n",
    "    \"ro\",\n",
    "    alpha=0.6,\n",
    "    markersize=2,\n",
    "    linewidth=4\n",
    ")"
   ]
  },
  {
   "cell_type": "code",
   "execution_count": null,
   "id": "30f435e0-56ed-448e-ba40-b53c5dcf3ef5",
   "metadata": {},
   "outputs": [],
   "source": [
    "fig, ax = plt.subplots(figsize=(16, 6))\n",
    "ax.plot(\n",
    "    errors,\n",
    "    \"ro\",\n",
    "    alpha=0.6,\n",
    "    markersize=2,\n",
    "    linewidth=4\n",
    ")\n",
    "ax.set_xlabel(\"number of points\")\n",
    "ax.set_ylabel(\"MAE\");"
   ]
  },
  {
   "cell_type": "markdown",
   "id": "7a709167-335a-4968-b8ce-c1faee11af30",
   "metadata": {},
   "source": [
    "# Adaptive Models on a Concept Drift Data Stream"
   ]
  },
  {
   "cell_type": "code",
   "execution_count": null,
   "id": "b0b6a6f8-48d0-478c-825a-d2ed313e7d6b",
   "metadata": {},
   "outputs": [],
   "source": [
    "from river import (\n",
    "    synth, ensemble, tree,\n",
    "    evaluate, metrics\n",
    ")\n",
    "\n",
    "models = [\n",
    "    tree.HoeffdingTreeRegressor(),\n",
    "    tree.HoeffdingAdaptiveTreeRegressor(),\n",
    "    ensemble.AdaptiveRandomForestRegressor(seed=42),\n",
    "]\n",
    "\n",
    "results = {}\n",
    "for model in models:\n",
    "    metric = metrics.MSE()\n",
    "    errors = []\n",
    "    dataset = synth.ConceptDriftStream(\n",
    "        seed=42, position=500, width=40\n",
    "    ).take(1000)    \n",
    "    for i, (x, y) in enumerate(dataset):\n",
    "        y_pred = model.predict_one(x)\n",
    "        metric = metric.update(y, y_pred)\n",
    "        model = model.learn_one(x, y)\n",
    "        if (i % 100) == 0:\n",
    "            errors.append(dict(step=i, error=metric.get()))\n",
    "    results[str(model.__class__).split(\".\")[-1][:-2]] = errors"
   ]
  },
  {
   "cell_type": "code",
   "execution_count": null,
   "id": "3e3a3135-fc1e-4f38-b2f0-97b945bc3ea6",
   "metadata": {},
   "outputs": [],
   "source": [
    "results"
   ]
  },
  {
   "cell_type": "code",
   "execution_count": null,
   "id": "024745ef-b4ef-4ee8-ac08-9c839043ec6d",
   "metadata": {},
   "outputs": [],
   "source": [
    "import pandas as pd\n",
    "import seaborn as sns\n",
    "\n",
    "plt.figure(figsize=(16, 6))\n",
    "styles = [\"-\",\"--\",\"-.\",\":\"]\n",
    "markers = [\n",
    "    '.', ',', 'o', 'v', '^', '<', '>',\n",
    "    '1', '2', '3', '4', '8', 's', 'p',\n",
    "    '*', 'h', 'H', '+', 'x', 'D', 'd',\n",
    "    '|', '_', 'P', 'X', 0, 1, 2, 3, 4,\n",
    "    5, 6, 7, 8, 9, 10, 11\n",
    "]\n",
    "\n",
    "for i, (model, errors) in enumerate(results.items()):\n",
    "    df = pd.DataFrame(errors)\n",
    "    sns.lineplot(\n",
    "        data=df,\n",
    "        x=\"step\",\n",
    "        y=\"error\",\n",
    "        linestyle=styles[i%len(styles)],\n",
    "        alpha=0.5,\n",
    "        markersize=22,\n",
    "        markers=markers[i%len(markers)],        \n",
    "        label=model,\n",
    "        linewidth=4\n",
    "    )\n",
    "    \n",
    "plt.ylabel(\"MSE\")\n",
    "plt.xlabel(\"Step\")\n",
    "sns.set_style(\"ticks\")"
   ]
  },
  {
   "cell_type": "code",
   "execution_count": null,
   "id": "ad7c4902-96ae-4abc-b48b-801929473533",
   "metadata": {},
   "outputs": [],
   "source": []
  }
 ],
 "metadata": {
  "kernelspec": {
   "display_name": "Python 3",
   "language": "python",
   "name": "python3"
  },
  "language_info": {
   "codemirror_mode": {
    "name": "ipython",
    "version": 3
   },
   "file_extension": ".py",
   "mimetype": "text/x-python",
   "name": "python",
   "nbconvert_exporter": "python",
   "pygments_lexer": "ipython3",
   "version": "3.8.8"
  }
 },
 "nbformat": 4,
 "nbformat_minor": 5
}

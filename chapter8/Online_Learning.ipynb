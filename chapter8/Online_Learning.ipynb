{
 "cells": [
  {
   "cell_type": "markdown",
   "id": "6d0ec63d-ef95-48fa-b83d-eef4e02733e0",
   "metadata": {},
   "source": [
    "<a href=\"https://colab.research.google.com/github/PacktPublishing/Machine-Learning-for-Time-Series-with-Python/blob/master/chapter8/Online_Learning.ipynb\" target=\"_parent\\\"><img src=\"https://colab.research.google.com/assets/colab-badge.svg\" alt=\"Open In Colab\"/></a>"
   ]
  },
  {
   "cell_type": "code",
   "id": "514a7acc-81bf-49cb-8fea-632387aa44bf",
   "metadata": {
    "ExecuteTime": {
     "end_time": "2025-05-31T08:38:36.105587Z",
     "start_time": "2025-05-31T08:38:35.164095Z"
    }
   },
   "source": "#!pip install river",
   "outputs": [
    {
     "name": "stdout",
     "output_type": "stream",
     "text": [
      "/bin/bash: warning: setlocale: LC_ALL: cannot change locale (en_US.UTF-8)\r\n",
      "Requirement already satisfied: river in /root/miniconda3/envs/TimeSeries/lib/python3.12/site-packages (0.10.0)\r\n",
      "Requirement already satisfied: numpy>=1.20.0 in /root/miniconda3/envs/TimeSeries/lib/python3.12/site-packages (from river) (1.26.0)\r\n",
      "Requirement already satisfied: scipy>=1.4.1 in /root/miniconda3/envs/TimeSeries/lib/python3.12/site-packages (from river) (1.15.1)\r\n",
      "Requirement already satisfied: pandas>=1.0.1 in /root/miniconda3/envs/TimeSeries/lib/python3.12/site-packages (from river) (2.2.3)\r\n",
      "Requirement already satisfied: python-dateutil>=2.8.2 in /root/miniconda3/envs/TimeSeries/lib/python3.12/site-packages (from pandas>=1.0.1->river) (2.9.0.post0)\r\n",
      "Requirement already satisfied: pytz>=2020.1 in /root/.local/lib/python3.12/site-packages (from pandas>=1.0.1->river) (2025.2)\r\n",
      "Requirement already satisfied: tzdata>=2022.7 in /root/.local/lib/python3.12/site-packages (from pandas>=1.0.1->river) (2025.2)\r\n",
      "Requirement already satisfied: six>=1.5 in /root/.local/lib/python3.12/site-packages (from python-dateutil>=2.8.2->pandas>=1.0.1->river) (1.17.0)\r\n",
      "\u001B[33mWARNING: Running pip as the 'root' user can result in broken permissions and conflicting behaviour with the system package manager, possibly rendering your system unusable. It is recommended to use a virtual environment instead: https://pip.pypa.io/warnings/venv. Use the --root-user-action option if you know what you are doing and want to suppress this warning.\u001B[0m\u001B[33m\r\n",
      "\u001B[0m"
     ]
    }
   ],
   "execution_count": 16
  },
  {
   "cell_type": "markdown",
   "id": "7e34e1a6-2d8d-4347-b96b-6927c210cb85",
   "metadata": {},
   "source": [
    "# Regression"
   ]
  },
  {
   "cell_type": "code",
   "id": "d410bd23-82aa-4291-b034-16e9dc0cf606",
   "metadata": {
    "ExecuteTime": {
     "end_time": "2025-05-31T08:38:36.112814Z",
     "start_time": "2025-05-31T08:38:36.109691Z"
    }
   },
   "source": [
    "from river import stream\n",
    "from river.datasets import base\n",
    "\n",
    "\n",
    "class SolarFlare(base.FileDataset):\n",
    "    def __init__(self):\n",
    "        super().__init__(\n",
    "            n_samples=1066,\n",
    "            n_features=10,\n",
    "            n_outputs=1,\n",
    "            task=base.MO_REG,\n",
    "            filename=\"solar-flare.csv.zip\",\n",
    "        )\n",
    "\n",
    "    def __iter__(self):\n",
    "        return stream.iter_csv(\n",
    "            self.path,\n",
    "            target=\"m-class-flares\",\n",
    "            converters={\n",
    "                \"zurich-class\": str,\n",
    "                \"largest-spot-size\": str,\n",
    "                \"spot-distribution\": str,\n",
    "                \"activity\": int,\n",
    "                \"evolution\": int,\n",
    "                \"previous-24h-flare-activity\": int,\n",
    "                \"hist-complex\": int,\n",
    "                \"hist-complex-this-pass\": int,\n",
    "                \"area\": int,\n",
    "                \"largest-spot-area\": int,\n",
    "                \"c-class-flares\": int,\n",
    "                \"m-class-flares\": int,\n",
    "                \"x-class-flares\": int,\n",
    "            },\n",
    "        )\n",
    "    "
   ],
   "outputs": [],
   "execution_count": 17
  },
  {
   "cell_type": "code",
   "id": "6a8bdf8c-7a6f-4a47-a035-50ba4861dfd2",
   "metadata": {
    "ExecuteTime": {
     "end_time": "2025-05-31T08:38:36.178291Z",
     "start_time": "2025-05-31T08:38:36.174404Z"
    }
   },
   "source": [
    "from pprint import pprint\n",
    "from river import datasets\n",
    "\n",
    "for x, y in SolarFlare():\n",
    "    pprint(x)\n",
    "    pprint(y)\n",
    "    break"
   ],
   "outputs": [
    {
     "name": "stdout",
     "output_type": "stream",
     "text": [
      "{'activity': 1,\n",
      " 'area': 1,\n",
      " 'c-class-flares': 0,\n",
      " 'evolution': 3,\n",
      " 'hist-complex': 1,\n",
      " 'hist-complex-this-pass': 1,\n",
      " 'largest-spot-area': 1,\n",
      " 'largest-spot-size': 'A',\n",
      " 'previous-24h-flare-activity': 1,\n",
      " 'spot-distribution': 'X',\n",
      " 'x-class-flares': 0,\n",
      " 'zurich-class': 'H'}\n",
      "0\n"
     ]
    }
   ],
   "execution_count": 18
  },
  {
   "cell_type": "code",
   "id": "db7b13ad-4303-443d-840f-00aef7f99f51",
   "metadata": {
    "ExecuteTime": {
     "end_time": "2025-05-31T08:38:36.226803Z",
     "start_time": "2025-05-31T08:38:36.224061Z"
    }
   },
   "source": [
    "import pandas as pd\n",
    "import numbers\n",
    "from river import compose\n",
    "from river import datasets\n",
    "from river import evaluate\n",
    "from river import linear_model\n",
    "from river import metrics\n",
    "from river import preprocessing\n",
    "from river import tree\n",
    "\n",
    "dataset = datasets.SolarFlare()\n",
    "num = compose.SelectType(numbers.Number) | preprocessing.MinMaxScaler()\n",
    "cat = compose.SelectType(str) | preprocessing.OneHotEncoder()\n",
    "\n",
    "model = tree.HoeffdingTreeRegressor()\n",
    "pipeline = (num + cat) | model\n",
    "metric = metrics.MAE()\n",
    "\n",
    "# Résultat en streaming\n",
    "# evaluate.progressive_val_score(dataset, pipeline, metric)\n"
   ],
   "outputs": [],
   "execution_count": 19
  },
  {
   "cell_type": "code",
   "id": "3597bf77-9fdb-4358-bb6b-9543a65881c2",
   "metadata": {
    "ExecuteTime": {
     "end_time": "2025-05-31T08:59:15.560939Z",
     "start_time": "2025-05-31T08:59:15.505591Z"
    }
   },
   "source": [
    "import numbers\n",
    "from river import compose, preprocessing, tree, metrics\n",
    "from river.datasets import SolarFlare\n",
    "import matplotlib.pyplot as plt\n",
    "import numpy as np\n",
    "\n",
    "pipeline = (\n",
    "    compose.SelectType(str) | preprocessing.OneHotEncoder()\n",
    "    + compose.SelectType(numbers.Number) | preprocessing.StandardScaler()\n",
    ")\n",
    "pipeline |= tree.HoeffdingTreeRegressor()\n",
    "\n",
    "metric = metrics.MAE()\n",
    "errors = []\n",
    "\n",
    "for x, y in SolarFlare():\n",
    "    y = y[\"m-class-flares\"]\n",
    "    y_pred = pipeline.predict_one(x)\n",
    "\n",
    "    if y_pred is None:\n",
    "        y_pred = 0.0\n",
    "\n",
    "    metric.update(y, y_pred)\n",
    "    errors.append(metric.get())\n",
    "\n",
    "    pipeline.learn_one(x, y)\n",
    "\n",
    "fig, ax = plt.subplots(figsize=(16, 6))\n",
    "ax.plot(errors, \"ro\", alpha=0.6, markersize=2, linewidth=4)\n",
    "plt.title(\"MAE progression with SolarFlare dataset\")\n",
    "plt.xlabel(\"Step\")\n",
    "plt.ylabel(\"MAE\")\n",
    "plt.show()\n"
   ],
   "outputs": [
    {
     "ename": "TypeError",
     "evalue": "unsupported operand type(s) for *: 'float' and 'river.utils.vectordict.VectorDict'",
     "output_type": "error",
     "traceback": [
      "\u001B[31m---------------------------------------------------------------------------\u001B[39m",
      "\u001B[31mTypeError\u001B[39m                                 Traceback (most recent call last)",
      "\u001B[36mCell\u001B[39m\u001B[36m \u001B[39m\u001B[32mIn[21]\u001B[39m\u001B[32m, line 26\u001B[39m\n\u001B[32m     23\u001B[39m     metric.update(y, y_pred)\n\u001B[32m     24\u001B[39m     errors.append(metric.get())\n\u001B[32m---> \u001B[39m\u001B[32m26\u001B[39m     pipeline.learn_one(x, y)\n\u001B[32m     28\u001B[39m fig, ax = plt.subplots(figsize=(\u001B[32m16\u001B[39m, \u001B[32m6\u001B[39m))\n\u001B[32m     29\u001B[39m ax.plot(errors, \u001B[33m\"\u001B[39m\u001B[33mro\u001B[39m\u001B[33m\"\u001B[39m, alpha=\u001B[32m0.6\u001B[39m, markersize=\u001B[32m2\u001B[39m, linewidth=\u001B[32m4\u001B[39m)\n",
      "\u001B[36mFile \u001B[39m\u001B[32m~/miniconda3/envs/TimeSeries/lib/python3.12/site-packages/river/compose/pipeline.py:504\u001B[39m, in \u001B[36mPipeline.learn_one\u001B[39m\u001B[34m(self, x, y, **params)\u001B[39m\n\u001B[32m    502\u001B[39m last_step = \u001B[38;5;28mnext\u001B[39m(steps)\n\u001B[32m    503\u001B[39m \u001B[38;5;28;01mif\u001B[39;00m last_step._supervised:\n\u001B[32m--> \u001B[39m\u001B[32m504\u001B[39m     last_step.learn_one(x=x, y=y, **params)\n\u001B[32m    505\u001B[39m \u001B[38;5;28;01melse\u001B[39;00m:\n\u001B[32m    506\u001B[39m     last_step.learn_one(x, **params)\n",
      "\u001B[36mFile \u001B[39m\u001B[32m~/miniconda3/envs/TimeSeries/lib/python3.12/site-packages/river/tree/hoeffding_tree_regressor.py:252\u001B[39m, in \u001B[36mHoeffdingTreeRegressor.learn_one\u001B[39m\u001B[34m(self, x, y, sample_weight)\u001B[39m\n\u001B[32m    249\u001B[39m     node = \u001B[38;5;28mself\u001B[39m._root\n\u001B[32m    251\u001B[39m \u001B[38;5;28;01mif\u001B[39;00m \u001B[38;5;28misinstance\u001B[39m(node, HTLeaf):\n\u001B[32m--> \u001B[39m\u001B[32m252\u001B[39m     node.learn_one(x, y, sample_weight=sample_weight, tree=\u001B[38;5;28mself\u001B[39m)\n\u001B[32m    253\u001B[39m     \u001B[38;5;28;01mif\u001B[39;00m \u001B[38;5;28mself\u001B[39m._growth_allowed \u001B[38;5;129;01mand\u001B[39;00m node.is_active():\n\u001B[32m    254\u001B[39m         \u001B[38;5;28;01mif\u001B[39;00m node.depth >= \u001B[38;5;28mself\u001B[39m.max_depth:  \u001B[38;5;66;03m# Max depth reached\u001B[39;00m\n",
      "\u001B[36mFile \u001B[39m\u001B[32m~/miniconda3/envs/TimeSeries/lib/python3.12/site-packages/river/tree/nodes/htr_nodes.py:138\u001B[39m, in \u001B[36mLeafModel.learn_one\u001B[39m\u001B[34m(self, x, y, sample_weight, tree)\u001B[39m\n\u001B[32m    135\u001B[39m \u001B[38;5;28msuper\u001B[39m().learn_one(x, y, sample_weight=sample_weight, tree=tree)\n\u001B[32m    137\u001B[39m \u001B[38;5;28;01mif\u001B[39;00m \u001B[38;5;28mself\u001B[39m._model_supports_weights:\n\u001B[32m--> \u001B[39m\u001B[32m138\u001B[39m     \u001B[38;5;28mself\u001B[39m._leaf_model.learn_one(x, y, sample_weight)\n\u001B[32m    139\u001B[39m \u001B[38;5;28;01melse\u001B[39;00m:\n\u001B[32m    140\u001B[39m     \u001B[38;5;28;01mfor\u001B[39;00m _ \u001B[38;5;129;01min\u001B[39;00m \u001B[38;5;28mrange\u001B[39m(\u001B[38;5;28mint\u001B[39m(sample_weight)):\n",
      "\u001B[36mFile \u001B[39m\u001B[32m~/miniconda3/envs/TimeSeries/lib/python3.12/site-packages/river/linear_model/glm.py:99\u001B[39m, in \u001B[36mGLM.learn_one\u001B[39m\u001B[34m(self, x, y, w)\u001B[39m\n\u001B[32m     97\u001B[39m \u001B[38;5;28;01mdef\u001B[39;00m\u001B[38;5;250m \u001B[39m\u001B[34mlearn_one\u001B[39m(\u001B[38;5;28mself\u001B[39m, x, y, w=\u001B[32m1.0\u001B[39m):\n\u001B[32m     98\u001B[39m     \u001B[38;5;28;01mwith\u001B[39;00m \u001B[38;5;28mself\u001B[39m._learn_mode(x):\n\u001B[32m---> \u001B[39m\u001B[32m99\u001B[39m         \u001B[38;5;28;01mreturn\u001B[39;00m \u001B[38;5;28mself\u001B[39m._fit(x, y, w, get_grad=\u001B[38;5;28mself\u001B[39m._eval_gradient_one)\n",
      "\u001B[36mFile \u001B[39m\u001B[32m~/miniconda3/envs/TimeSeries/lib/python3.12/site-packages/river/linear_model/glm.py:69\u001B[39m, in \u001B[36mGLM._fit\u001B[39m\u001B[34m(self, x, y, w, get_grad)\u001B[39m\n\u001B[32m     66\u001B[39m \u001B[38;5;28mself\u001B[39m.optimizer.look_ahead(w=\u001B[38;5;28mself\u001B[39m._weights)\n\u001B[32m     68\u001B[39m \u001B[38;5;66;03m# Calculate the gradient\u001B[39;00m\n\u001B[32m---> \u001B[39m\u001B[32m69\u001B[39m gradient, loss_gradient = get_grad(x, y, w)\n\u001B[32m     71\u001B[39m \u001B[38;5;66;03m# Update the intercept\u001B[39;00m\n\u001B[32m     72\u001B[39m \u001B[38;5;28mself\u001B[39m.intercept -= \u001B[38;5;28mself\u001B[39m._get_intercept_update(loss_gradient)\n",
      "\u001B[36mFile \u001B[39m\u001B[32m~/miniconda3/envs/TimeSeries/lib/python3.12/site-packages/river/linear_model/glm.py:93\u001B[39m, in \u001B[36mGLM._eval_gradient_one\u001B[39m\u001B[34m(self, x, y, w)\u001B[39m\n\u001B[32m     87\u001B[39m loss_gradient *= w\n\u001B[32m     88\u001B[39m loss_gradient = \u001B[38;5;28mfloat\u001B[39m(\n\u001B[32m     89\u001B[39m     utils.math.clamp(loss_gradient, -\u001B[38;5;28mself\u001B[39m.clip_gradient, \u001B[38;5;28mself\u001B[39m.clip_gradient)\n\u001B[32m     90\u001B[39m )\n\u001B[32m     92\u001B[39m \u001B[38;5;28;01mreturn\u001B[39;00m (\n\u001B[32m---> \u001B[39m\u001B[32m93\u001B[39m     loss_gradient * utils.VectorDict(x) + \u001B[38;5;28mself\u001B[39m.l2 * \u001B[38;5;28mself\u001B[39m._weights,\n\u001B[32m     94\u001B[39m     loss_gradient,\n\u001B[32m     95\u001B[39m )\n",
      "\u001B[31mTypeError\u001B[39m: unsupported operand type(s) for *: 'float' and 'river.utils.vectordict.VectorDict'"
     ]
    }
   ],
   "execution_count": 21
  },
  {
   "cell_type": "code",
   "id": "30f435e0-56ed-448e-ba40-b53c5dcf3ef5",
   "metadata": {
    "ExecuteTime": {
     "end_time": "2025-05-31T08:38:36.318906700Z",
     "start_time": "2025-05-31T08:05:29.958810Z"
    }
   },
   "source": [
    "fig, ax = plt.subplots(figsize=(16, 6))\n",
    "ax.plot(\n",
    "    errors,\n",
    "    \"ro\",\n",
    "    alpha=0.6,\n",
    "    markersize=2,\n",
    "    linewidth=4\n",
    ")\n",
    "ax.set_xlabel(\"number of points\")\n",
    "ax.set_ylabel(\"MAE\");"
   ],
   "outputs": [
    {
     "data": {
      "text/plain": [
       "<Figure size 1600x600 with 1 Axes>"
      ],
      "image/png": "[encoded data removed]"
     },
     "metadata": {},
     "output_type": "display_data"
    }
   ],
   "execution_count": 23
  },
  {
   "cell_type": "markdown",
   "id": "7a709167-335a-4968-b8ce-c1faee11af30",
   "metadata": {},
   "source": [
    "# Adaptive Models on a Concept Drift Data Stream"
   ]
  },
  {
   "cell_type": "code",
   "id": "2b4f86ca641c762d",
   "metadata": {
    "ExecuteTime": {
     "end_time": "2025-05-31T08:38:36.320921200Z",
     "start_time": "2025-05-31T08:09:44.931845Z"
    }
   },
   "source": "",
   "outputs": [
    {
     "ename": "ImportError",
     "evalue": "cannot import name 'synth' from 'river' (/root/miniconda3/envs/TimeSeries/lib/python3.12/site-packages/river/__init__.py)",
     "output_type": "error",
     "traceback": [
      "\u001B[31m---------------------------------------------------------------------------\u001B[39m",
      "\u001B[31mImportError\u001B[39m                               Traceback (most recent call last)",
      "\u001B[36mCell\u001B[39m\u001B[36m \u001B[39m\u001B[32mIn[26]\u001B[39m\u001B[32m, line 1\u001B[39m\n\u001B[32m----> \u001B[39m\u001B[32m1\u001B[39m \u001B[38;5;28;01mfrom\u001B[39;00m\u001B[38;5;250m \u001B[39m\u001B[34;01mriver\u001B[39;00m\u001B[38;5;250m \u001B[39m\u001B[38;5;28;01mimport\u001B[39;00m synth\n",
      "\u001B[31mImportError\u001B[39m: cannot import name 'synth' from 'river' (/root/miniconda3/envs/TimeSeries/lib/python3.12/site-packages/river/__init__.py)"
     ]
    }
   ],
   "execution_count": 26
  },
  {
   "metadata": {
    "ExecuteTime": {
     "end_time": "2025-05-31T08:38:36.320921200Z",
     "start_time": "2025-05-31T08:11:31.686020Z"
    }
   },
   "cell_type": "code",
   "source": [
    "from river import (\n",
    "    synth, ensemble, tree,\n",
    "    evaluate, metrics\n",
    ")\n",
    "\n",
    "models = [\n",
    "    tree.HoeffdingTreeRegressor(),\n",
    "    tree.HoeffdingAdaptiveTreeRegressor(),\n",
    "    ensemble.AdaptiveRandomForestRegressor(seed=42),\n",
    "]\n",
    "\n",
    "results = {}\n",
    "for model in models:\n",
    "    metric = metrics.MSE()\n",
    "    errors = []\n",
    "    dataset = synth.ConceptDriftStream(\n",
    "        seed=42, position=500, width=40\n",
    "    ).take(1000)\n",
    "    for i, (x, y) in enumerate(dataset):\n",
    "        y_pred = model.predict_one(x)\n",
    "        metric = metric.update(y, y_pred)\n",
    "        model = model.learn_one(x, y)\n",
    "        if (i % 100) == 0:\n",
    "            errors.append(dict(step=i, error=metric.get()))\n",
    "    results[str(model.__class__).split(\".\")[-1][:-2]] = errors"
   ],
   "id": "b0b6a6f8-48d0-478c-825a-d2ed313e7d6b",
   "outputs": [
    {
     "ename": "ModuleNotFoundError",
     "evalue": "No module named 'river.synth'",
     "output_type": "error",
     "traceback": [
      "\u001B[31m---------------------------------------------------------------------------\u001B[39m",
      "\u001B[31mModuleNotFoundError\u001B[39m                       Traceback (most recent call last)",
      "\u001B[36mCell\u001B[39m\u001B[36m \u001B[39m\u001B[32mIn[27]\u001B[39m\u001B[32m, line 2\u001B[39m\n\u001B[32m      1\u001B[39m \u001B[38;5;28;01mfrom\u001B[39;00m\u001B[38;5;250m \u001B[39m\u001B[34;01mriver\u001B[39;00m\u001B[38;5;250m \u001B[39m\u001B[38;5;28;01mimport\u001B[39;00m ensemble, tree, evaluate, metrics\n\u001B[32m----> \u001B[39m\u001B[32m2\u001B[39m \u001B[38;5;28;01mfrom\u001B[39;00m\u001B[38;5;250m \u001B[39m\u001B[34;01mriver\u001B[39;00m\u001B[34;01m.\u001B[39;00m\u001B[34;01msynth\u001B[39;00m\u001B[38;5;250m \u001B[39m\u001B[38;5;28;01mimport\u001B[39;00m ConceptDriftStream\n\u001B[32m      4\u001B[39m models = [\n\u001B[32m      5\u001B[39m     tree.HoeffdingTreeRegressor(),\n\u001B[32m      6\u001B[39m     tree.HoeffdingAdaptiveTreeRegressor(),\n\u001B[32m      7\u001B[39m     ensemble.AdaptiveRandomForestRegressor(seed=\u001B[32m42\u001B[39m),\n\u001B[32m      8\u001B[39m ]\n\u001B[32m     10\u001B[39m results = {}\n",
      "\u001B[31mModuleNotFoundError\u001B[39m: No module named 'river.synth'"
     ]
    }
   ],
   "execution_count": 27
  },
  {
   "cell_type": "code",
   "execution_count": null,
   "id": "3e3a3135-fc1e-4f38-b2f0-97b945bc3ea6",
   "metadata": {},
   "outputs": [],
   "source": [
    "results"
   ]
  },
  {
   "cell_type": "code",
   "execution_count": null,
   "id": "024745ef-b4ef-4ee8-ac08-9c839043ec6d",
   "metadata": {},
   "outputs": [],
   "source": [
    "import pandas as pd\n",
    "import seaborn as sns\n",
    "\n",
    "plt.figure(figsize=(16, 6))\n",
    "styles = [\"-\",\"--\",\"-.\",\":\"]\n",
    "markers = [\n",
    "    '.', ',', 'o', 'v', '^', '<', '>',\n",
    "    '1', '2', '3', '4', '8', 's', 'p',\n",
    "    '*', 'h', 'H', '+', 'x', 'D', 'd',\n",
    "    '|', '_', 'P', 'X', 0, 1, 2, 3, 4,\n",
    "    5, 6, 7, 8, 9, 10, 11\n",
    "]\n",
    "\n",
    "for i, (model, errors) in enumerate(results.items()):\n",
    "    df = pd.DataFrame(errors)\n",
    "    sns.lineplot(\n",
    "        data=df,\n",
    "        x=\"step\",\n",
    "        y=\"error\",\n",
    "        linestyle=styles[i%len(styles)],\n",
    "        alpha=0.5,\n",
    "        markersize=22,\n",
    "        markers=markers[i%len(markers)],        \n",
    "        label=model,\n",
    "        linewidth=4\n",
    "    )\n",
    "    \n",
    "plt.ylabel(\"MSE\")\n",
    "plt.xlabel(\"Step\")\n",
    "sns.set_style(\"ticks\")"
   ]
  },
  {
   "cell_type": "code",
   "execution_count": null,
   "id": "ad7c4902-96ae-4abc-b48b-801929473533",
   "metadata": {},
   "outputs": [],
   "source": []
  }
 ],
 "metadata": {
  "kernelspec": {
   "display_name": "Python 3",
   "language": "python",
   "name": "python3"
  },
  "language_info": {
   "codemirror_mode": {
    "name": "ipython",
    "version": 3
   },
   "file_extension": ".py",
   "mimetype": "text/x-python",
   "name": "python",
   "nbconvert_exporter": "python",
   "pygments_lexer": "ipython3",
   "version": "3.8.8"
  }
 },
 "nbformat": 4,
 "nbformat_minor": 5
}

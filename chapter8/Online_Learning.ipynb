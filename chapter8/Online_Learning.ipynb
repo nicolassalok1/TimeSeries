{
 "cells": [
  {
   "cell_type": "markdown",
   "id": "6d0ec63d-ef95-48fa-b83d-eef4e02733e0",
   "metadata": {},
   "source": [
    "<a href=\"https://colab.research.google.com/github/PacktPublishing/Machine-Learning-for-Time-Series-with-Python/blob/master/chapter8/Online_Learning.ipynb\" target=\"_parent\\\"><img src=\"https://colab.research.google.com/assets/colab-badge.svg\" alt=\"Open In Colab\"/></a>"
   ]
  },
  {
   "cell_type": "code",
   "id": "514a7acc-81bf-49cb-8fea-632387aa44bf",
   "metadata": {
    "ExecuteTime": {
     "end_time": "2025-05-31T07:27:24.776336Z",
     "start_time": "2025-05-31T07:27:20.937724Z"
    }
   },
   "source": [
    "!pip install river"
   ],
   "outputs": [
    {
     "name": "stdout",
     "output_type": "stream",
     "text": [
      "/bin/bash: warning: setlocale: LC_ALL: cannot change locale (en_US.UTF-8)\r\n",
      "Requirement already satisfied: river in /root/miniconda3/envs/TimeSeries/lib/python3.12/site-packages (0.22.0)\r\n",
      "Requirement already satisfied: numpy>=1.23.0 in /root/miniconda3/envs/TimeSeries/lib/python3.12/site-packages (from river) (1.26.0)\r\n",
      "Collecting pandas<3.0.0,>=2.2.3 (from river)\r\n",
      "  Using cached pandas-2.2.3-cp312-cp312-manylinux_2_17_x86_64.manylinux2014_x86_64.whl.metadata (89 kB)\r\n",
      "Requirement already satisfied: scipy<2.0.0,>=1.14.1 in /root/miniconda3/envs/TimeSeries/lib/python3.12/site-packages (from river) (1.15.1)\r\n",
      "Requirement already satisfied: python-dateutil>=2.8.2 in /root/miniconda3/envs/TimeSeries/lib/python3.12/site-packages (from pandas<3.0.0,>=2.2.3->river) (2.9.0.post0)\r\n",
      "Requirement already satisfied: pytz>=2020.1 in /root/.local/lib/python3.12/site-packages (from pandas<3.0.0,>=2.2.3->river) (2025.2)\r\n",
      "Requirement already satisfied: tzdata>=2022.7 in /root/.local/lib/python3.12/site-packages (from pandas<3.0.0,>=2.2.3->river) (2025.2)\r\n",
      "Requirement already satisfied: six>=1.5 in /root/.local/lib/python3.12/site-packages (from python-dateutil>=2.8.2->pandas<3.0.0,>=2.2.3->river) (1.17.0)\r\n",
      "Using cached pandas-2.2.3-cp312-cp312-manylinux_2_17_x86_64.manylinux2014_x86_64.whl (12.7 MB)\r\n",
      "Installing collected packages: pandas\r\n",
      "  Attempting uninstall: pandas\r\n",
      "    Found existing installation: pandas 1.5.3\r\n",
      "    Uninstalling pandas-1.5.3:\r\n",
      "      Successfully uninstalled pandas-1.5.3\r\n",
      "\u001B[31mERROR: pip's dependency resolver does not currently take into account all the packages that are installed. This behaviour is the source of the following dependency conflicts.\r\n",
      "featuretools 1.31.0 requires holidays>=0.17, but you have holidays 0.13 which is incompatible.\r\n",
      "greykite 1.1.0 requires pandas<2.0.0,>=1.5.0, but you have pandas 2.2.3 which is incompatible.\r\n",
      "tfcausalimpact 0.0.18 requires pandas<=2.2,>=1.3.5, but you have pandas 2.2.3 which is incompatible.\r\n",
      "prophet 1.1.6 requires holidays<1,>=0.25, but you have holidays 0.13 which is incompatible.\u001B[0m\u001B[31m\r\n",
      "\u001B[0mSuccessfully installed pandas-2.2.3\r\n",
      "\u001B[33mWARNING: Running pip as the 'root' user can result in broken permissions and conflicting behaviour with the system package manager, possibly rendering your system unusable. It is recommended to use a virtual environment instead: https://pip.pypa.io/warnings/venv. Use the --root-user-action option if you know what you are doing and want to suppress this warning.\u001B[0m\u001B[33m\r\n",
      "\u001B[0m"
     ]
    }
   ],
   "execution_count": 1
  },
  {
   "cell_type": "markdown",
   "id": "7e34e1a6-2d8d-4347-b96b-6927c210cb85",
   "metadata": {},
   "source": [
    "# Regression"
   ]
  },
  {
   "cell_type": "code",
   "id": "d410bd23-82aa-4291-b034-16e9dc0cf606",
   "metadata": {
    "ExecuteTime": {
     "end_time": "2025-05-31T07:27:24.854236Z",
     "start_time": "2025-05-31T07:27:24.780046Z"
    }
   },
   "source": [
    "from river import stream\n",
    "from river.datasets import base\n",
    "\n",
    "\n",
    "class SolarFlare(base.FileDataset):\n",
    "    def __init__(self):\n",
    "        super().__init__(\n",
    "            n_samples=1066,\n",
    "            n_features=10,\n",
    "            n_outputs=1,\n",
    "            task=base.MO_REG,\n",
    "            filename=\"solar-flare.csv.zip\",\n",
    "        )\n",
    "\n",
    "    def __iter__(self):\n",
    "        return stream.iter_csv(\n",
    "            self.path,\n",
    "            target=\"m-class-flares\",\n",
    "            converters={\n",
    "                \"zurich-class\": str,\n",
    "                \"largest-spot-size\": str,\n",
    "                \"spot-distribution\": str,\n",
    "                \"activity\": int,\n",
    "                \"evolution\": int,\n",
    "                \"previous-24h-flare-activity\": int,\n",
    "                \"hist-complex\": int,\n",
    "                \"hist-complex-this-pass\": int,\n",
    "                \"area\": int,\n",
    "                \"largest-spot-area\": int,\n",
    "                \"c-class-flares\": int,\n",
    "                \"m-class-flares\": int,\n",
    "                \"x-class-flares\": int,\n",
    "            },\n",
    "        )\n",
    "    "
   ],
   "outputs": [],
   "execution_count": 2
  },
  {
   "cell_type": "code",
   "id": "6a8bdf8c-7a6f-4a47-a035-50ba4861dfd2",
   "metadata": {
    "ExecuteTime": {
     "end_time": "2025-05-31T07:27:24.925318Z",
     "start_time": "2025-05-31T07:27:24.922322Z"
    }
   },
   "source": [
    "from pprint import pprint\n",
    "from river import datasets\n",
    "\n",
    "for x, y in SolarFlare():\n",
    "    pprint(x)\n",
    "    pprint(y)\n",
    "    break"
   ],
   "outputs": [
    {
     "name": "stdout",
     "output_type": "stream",
     "text": [
      "{'activity': 1,\n",
      " 'area': 1,\n",
      " 'c-class-flares': 0,\n",
      " 'evolution': 3,\n",
      " 'hist-complex': 1,\n",
      " 'hist-complex-this-pass': 1,\n",
      " 'largest-spot-area': 1,\n",
      " 'largest-spot-size': 'A',\n",
      " 'previous-24h-flare-activity': 1,\n",
      " 'spot-distribution': 'X',\n",
      " 'x-class-flares': 0,\n",
      " 'zurich-class': 'H'}\n",
      "0\n"
     ]
    }
   ],
   "execution_count": 3
  },
  {
   "cell_type": "code",
   "id": "db7b13ad-4303-443d-840f-00aef7f99f51",
   "metadata": {
    "ExecuteTime": {
     "end_time": "2025-05-31T07:27:25.034150Z",
     "start_time": "2025-05-31T07:27:24.970478Z"
    }
   },
   "source": [
    "import pandas as pd\n",
    "import numbers\n",
    "from river import compose\n",
    "from river import datasets\n",
    "from river import evaluate\n",
    "from river import linear_model\n",
    "from river import metrics\n",
    "from river import preprocessing\n",
    "from river import tree\n",
    "\n",
    "dataset = datasets.SolarFlare()\n",
    "num = compose.SelectType(numbers.Number) | preprocessing.MinMaxScaler()\n",
    "cat = compose.SelectType(str) | preprocessing.OneHotEncoder()\n",
    "\n",
    "model = tree.HoeffdingTreeRegressor()\n",
    "pipeline = (num + cat) | model\n",
    "metric = metrics.MAE()\n",
    "\n",
    "# Résultat en streaming\n",
    "# evaluate.progressive_val_score(dataset, pipeline, metric)\n"
   ],
   "outputs": [],
   "execution_count": 4
  },
  {
   "cell_type": "code",
   "id": "3597bf77-9fdb-4358-bb6b-9543a65881c2",
   "metadata": {
    "ExecuteTime": {
     "end_time": "2025-05-31T07:27:25.294046Z",
     "start_time": "2025-05-31T07:27:25.039992Z"
    }
   },
   "source": [
    "from river import metrics\n",
    "from river.datasets import SolarFlare\n",
    "import matplotlib.pyplot as plt\n",
    "\n",
    "metric = metrics.Accuracy()\n",
    "errors = []\n",
    "\n",
    "for x, y in SolarFlare():\n",
    "    y_pred = pipeline.predict_one(x)\n",
    "\n",
    "    # Si y_pred est un dict : choisir la clé avec la probabilité maximale\n",
    "    if isinstance(y_pred, dict):\n",
    "        y_pred = max(y_pred, key=y_pred.get)\n",
    "\n",
    "    metric = metric.update(y, y_pred)\n",
    "    errors.append(float(metric))\n",
    "\n",
    "    pipeline = pipeline.learn_one(x, y)\n",
    "\n",
    "fig, ax = plt.subplots(figsize=(16, 6))\n",
    "ax.plot(\n",
    "    errors,\n",
    "    \"ro\",\n",
    "    alpha=0.6,\n",
    "    markersize=2,\n",
    "    linewidth=4\n",
    ")\n",
    "plt.title(\"Accuracy progression with SolarFlare dataset\")\n",
    "plt.show()\n"
   ],
   "outputs": [
    {
     "ename": "TypeError",
     "evalue": "unhashable type: 'dict'",
     "output_type": "error",
     "traceback": [
      "\u001B[31m---------------------------------------------------------------------------\u001B[39m",
      "\u001B[31mTypeError\u001B[39m                                 Traceback (most recent call last)",
      "\u001B[36mCell\u001B[39m\u001B[36m \u001B[39m\u001B[32mIn[5]\u001B[39m\u001B[32m, line 15\u001B[39m\n\u001B[32m     12\u001B[39m \u001B[38;5;28;01mif\u001B[39;00m \u001B[38;5;28misinstance\u001B[39m(y_pred, \u001B[38;5;28mdict\u001B[39m):\n\u001B[32m     13\u001B[39m     y_pred = \u001B[38;5;28mmax\u001B[39m(y_pred, key=y_pred.get)\n\u001B[32m---> \u001B[39m\u001B[32m15\u001B[39m metric = metric.update(y, y_pred)\n\u001B[32m     16\u001B[39m errors.append(\u001B[38;5;28mfloat\u001B[39m(metric))\n\u001B[32m     18\u001B[39m pipeline = pipeline.learn_one(x, y)\n",
      "\u001B[36mFile \u001B[39m\u001B[32m~/miniconda3/envs/TimeSeries/lib/python3.12/site-packages/river/metrics/base.py:93\u001B[39m, in \u001B[36mClassificationMetric.update\u001B[39m\u001B[34m(self, y_true, y_pred, w)\u001B[39m\n\u001B[32m     92\u001B[39m \u001B[38;5;28;01mdef\u001B[39;00m\u001B[38;5;250m \u001B[39m\u001B[34mupdate\u001B[39m(\u001B[38;5;28mself\u001B[39m, y_true, y_pred, w=\u001B[32m1.0\u001B[39m) -> \u001B[38;5;28;01mNone\u001B[39;00m:\n\u001B[32m---> \u001B[39m\u001B[32m93\u001B[39m     \u001B[38;5;28mself\u001B[39m.cm.update(\n\u001B[32m     94\u001B[39m         y_true,\n\u001B[32m     95\u001B[39m         y_pred,\n\u001B[32m     96\u001B[39m         w=w,\n\u001B[32m     97\u001B[39m     )\n",
      "\u001B[36mFile \u001B[39m\u001B[32m~/miniconda3/envs/TimeSeries/lib/python3.12/site-packages/river/metrics/confusion.py:67\u001B[39m, in \u001B[36mConfusionMatrix.update\u001B[39m\u001B[34m(self, y_true, y_pred, w)\u001B[39m\n\u001B[32m     65\u001B[39m \u001B[38;5;28;01mdef\u001B[39;00m\u001B[38;5;250m \u001B[39m\u001B[34mupdate\u001B[39m(\u001B[38;5;28mself\u001B[39m, y_true, y_pred, w=\u001B[32m1.0\u001B[39m):\n\u001B[32m     66\u001B[39m     \u001B[38;5;28mself\u001B[39m.n_samples += \u001B[32m1\u001B[39m\n\u001B[32m---> \u001B[39m\u001B[32m67\u001B[39m     \u001B[38;5;28mself\u001B[39m._update(y_true, y_pred, w)\n",
      "\u001B[36mFile \u001B[39m\u001B[32m~/miniconda3/envs/TimeSeries/lib/python3.12/site-packages/river/metrics/confusion.py:75\u001B[39m, in \u001B[36mConfusionMatrix._update\u001B[39m\u001B[34m(self, y_true, y_pred, w)\u001B[39m\n\u001B[32m     74\u001B[39m \u001B[38;5;28;01mdef\u001B[39;00m\u001B[38;5;250m \u001B[39m\u001B[34m_update\u001B[39m(\u001B[38;5;28mself\u001B[39m, y_true, y_pred, w):\n\u001B[32m---> \u001B[39m\u001B[32m75\u001B[39m     \u001B[38;5;28mself\u001B[39m.data[y_true][y_pred] += w\n\u001B[32m     76\u001B[39m     \u001B[38;5;28mself\u001B[39m.total_weight += w\n\u001B[32m     77\u001B[39m     \u001B[38;5;28mself\u001B[39m.sum_row[y_true] += w\n",
      "\u001B[31mTypeError\u001B[39m: unhashable type: 'dict'"
     ]
    }
   ],
   "execution_count": 5
  },
  {
   "cell_type": "code",
   "execution_count": null,
   "id": "30f435e0-56ed-448e-ba40-b53c5dcf3ef5",
   "metadata": {},
   "outputs": [],
   "source": [
    "fig, ax = plt.subplots(figsize=(16, 6))\n",
    "ax.plot(\n",
    "    errors,\n",
    "    \"ro\",\n",
    "    alpha=0.6,\n",
    "    markersize=2,\n",
    "    linewidth=4\n",
    ")\n",
    "ax.set_xlabel(\"number of points\")\n",
    "ax.set_ylabel(\"MAE\");"
   ]
  },
  {
   "cell_type": "markdown",
   "id": "7a709167-335a-4968-b8ce-c1faee11af30",
   "metadata": {},
   "source": [
    "# Adaptive Models on a Concept Drift Data Stream"
   ]
  },
  {
   "cell_type": "code",
   "execution_count": null,
   "id": "b0b6a6f8-48d0-478c-825a-d2ed313e7d6b",
   "metadata": {},
   "outputs": [],
   "source": [
    "from river import (\n",
    "    synth, ensemble, tree,\n",
    "    evaluate, metrics\n",
    ")\n",
    "\n",
    "models = [\n",
    "    tree.HoeffdingTreeRegressor(),\n",
    "    tree.HoeffdingAdaptiveTreeRegressor(),\n",
    "    ensemble.AdaptiveRandomForestRegressor(seed=42),\n",
    "]\n",
    "\n",
    "results = {}\n",
    "for model in models:\n",
    "    metric = metrics.MSE()\n",
    "    errors = []\n",
    "    dataset = synth.ConceptDriftStream(\n",
    "        seed=42, position=500, width=40\n",
    "    ).take(1000)    \n",
    "    for i, (x, y) in enumerate(dataset):\n",
    "        y_pred = model.predict_one(x)\n",
    "        metric = metric.update(y, y_pred)\n",
    "        model = model.learn_one(x, y)\n",
    "        if (i % 100) == 0:\n",
    "            errors.append(dict(step=i, error=metric.get()))\n",
    "    results[str(model.__class__).split(\".\")[-1][:-2]] = errors"
   ]
  },
  {
   "cell_type": "code",
   "execution_count": null,
   "id": "3e3a3135-fc1e-4f38-b2f0-97b945bc3ea6",
   "metadata": {},
   "outputs": [],
   "source": [
    "results"
   ]
  },
  {
   "cell_type": "code",
   "execution_count": null,
   "id": "024745ef-b4ef-4ee8-ac08-9c839043ec6d",
   "metadata": {},
   "outputs": [],
   "source": [
    "import pandas as pd\n",
    "import seaborn as sns\n",
    "\n",
    "plt.figure(figsize=(16, 6))\n",
    "styles = [\"-\",\"--\",\"-.\",\":\"]\n",
    "markers = [\n",
    "    '.', ',', 'o', 'v', '^', '<', '>',\n",
    "    '1', '2', '3', '4', '8', 's', 'p',\n",
    "    '*', 'h', 'H', '+', 'x', 'D', 'd',\n",
    "    '|', '_', 'P', 'X', 0, 1, 2, 3, 4,\n",
    "    5, 6, 7, 8, 9, 10, 11\n",
    "]\n",
    "\n",
    "for i, (model, errors) in enumerate(results.items()):\n",
    "    df = pd.DataFrame(errors)\n",
    "    sns.lineplot(\n",
    "        data=df,\n",
    "        x=\"step\",\n",
    "        y=\"error\",\n",
    "        linestyle=styles[i%len(styles)],\n",
    "        alpha=0.5,\n",
    "        markersize=22,\n",
    "        markers=markers[i%len(markers)],        \n",
    "        label=model,\n",
    "        linewidth=4\n",
    "    )\n",
    "    \n",
    "plt.ylabel(\"MSE\")\n",
    "plt.xlabel(\"Step\")\n",
    "sns.set_style(\"ticks\")"
   ]
  },
  {
   "cell_type": "code",
   "execution_count": null,
   "id": "ad7c4902-96ae-4abc-b48b-801929473533",
   "metadata": {},
   "outputs": [],
   "source": []
  }
 ],
 "metadata": {
  "kernelspec": {
   "display_name": "Python 3",
   "language": "python",
   "name": "python3"
  },
  "language_info": {
   "codemirror_mode": {
    "name": "ipython",
    "version": 3
   },
   "file_extension": ".py",
   "mimetype": "text/x-python",
   "name": "python",
   "nbconvert_exporter": "python",
   "pygments_lexer": "ipython3",
   "version": "3.8.8"
  }
 },
 "nbformat": 4,
 "nbformat_minor": 5
}

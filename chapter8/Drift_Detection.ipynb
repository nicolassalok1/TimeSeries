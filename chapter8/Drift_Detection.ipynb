{
 "cells": [
  {
   "cell_type": "markdown",
   "id": "6d73980e-a0c4-4163-8819-1d70e60c8454",
   "metadata": {},
   "source": [
    "<a href=\"https://colab.research.google.com/github/PacktPublishing/Machine-Learning-for-Time-Series-with-Python/blob/master/chapter8/Drift_Detection.ipynb\" target=\"_parent\\\"><img src=\"https://colab.research.google.com/assets/colab-badge.svg\" alt=\"Open In Colab\"/></a>"
   ]
  },
  {
   "cell_type": "code",
   "execution_count": null,
   "id": "4546ab51-c2cb-4261-ae78-fdbd6d6a07ac",
   "metadata": {},
   "outputs": [],
   "source": [
    "!pip install river"
   ]
  },
  {
   "cell_type": "code",
   "execution_count": null,
   "id": "3caf1ccd-709a-49d2-8f0a-36b54bbc9cf9",
   "metadata": {},
   "outputs": [],
   "source": [
    "import numpy as np\n",
    "\n",
    "np.random.seed(12345)\n",
    "data_stream = np.concatenate(\n",
    "    (np.random.randint(2, size=1000), np.random.randint(8, size=1000))\n",
    ")"
   ]
  },
  {
   "cell_type": "code",
   "execution_count": null,
   "id": "c0b2fb45-abc9-4ac4-9e10-78405620c3d3",
   "metadata": {},
   "outputs": [],
   "source": [
    "import matplotlib.pyplot as plt\n",
    "\n",
    "plt.style.use('seaborn-whitegrid')\n",
    "plt.rcParams[\"font.family\"] = \"Times New Roman\"\n",
    "plt.rcParams[\"font.size\"] = \"17\""
   ]
  },
  {
   "cell_type": "code",
   "execution_count": null,
   "id": "d1551a3f-cf55-4269-a1da-c697ccb8a271",
   "metadata": {},
   "outputs": [],
   "source": [
    "plt.figure(figsize=(16, 6))\n",
    "plt.plot(data_stream)"
   ]
  },
  {
   "cell_type": "code",
   "execution_count": null,
   "id": "034a8574-c193-49f3-ab23-44cd7c2e2c2d",
   "metadata": {},
   "outputs": [],
   "source": [
    "def perform_test(drift_detector, data_stream):\n",
    "    detected_indices = []\n",
    "    for i, val in enumerate(data_stream):\n",
    "        in_drift, in_warning = drift_detector.update(val)\n",
    "        if in_drift:\n",
    "            detected_indices.append(i)\n",
    "    return detected_indices"
   ]
  },
  {
   "cell_type": "code",
   "execution_count": null,
   "id": "aa3f4530-72b5-4733-8db7-e6e71de8f292",
   "metadata": {},
   "outputs": [],
   "source": [
    "import matplotlib.pyplot as plt\n",
    "from river.drift import ADWIN, PageHinkley\n",
    "\n",
    "def show_drift(data_stream, indices):\n",
    "    fig, ax = plt.subplots(figsize=(16, 6))\n",
    "    ax.plot(data_stream)\n",
    "    ax.plot(\n",
    "        indices,\n",
    "        data_stream[indices],\n",
    "        \"r\",\n",
    "        alpha=0.6,\n",
    "        marker=r'$\\circ$',\n",
    "        markersize=22,\n",
    "        linewidth=4\n",
    "    )\n",
    "    plt.tight_layout()\n",
    "\n",
    "\n",
    "detected_indices = perform_test(PageHinkley(), data_stream)\n",
    "show_drift(data_stream, detected_indices)\n",
    "plt.title(\"Page-Hinkley Drift Detection\");"
   ]
  },
  {
   "cell_type": "code",
   "execution_count": null,
   "id": "2e19844c-b56f-48cf-8cba-75f2b431804f",
   "metadata": {},
   "outputs": [],
   "source": [
    "detected_indices = perform_test(ADWIN(), data_stream)\n",
    "show_drift(data_stream, detected_indices)\n",
    "plt.title(\"ADWIN Drift Detection\");"
   ]
  },
  {
   "cell_type": "code",
   "execution_count": null,
   "id": "47d3a7da-f866-4192-8c7d-46261312bc15",
   "metadata": {},
   "outputs": [],
   "source": []
  }
 ],
 "metadata": {
  "kernelspec": {
   "display_name": "Python 3",
   "language": "python",
   "name": "python3"
  },
  "language_info": {
   "codemirror_mode": {
    "name": "ipython",
    "version": 3
   },
   "file_extension": ".py",
   "mimetype": "text/x-python",
   "name": "python",
   "nbconvert_exporter": "python",
   "pygments_lexer": "ipython3",
   "version": "3.8.8"
  }
 },
 "nbformat": 4,
 "nbformat_minor": 5
}

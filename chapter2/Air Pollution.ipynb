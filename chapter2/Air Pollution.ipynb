{
 "cells": [
  {
   "cell_type": "markdown",
   "metadata": {},
   "source": [
    "<a href=\"https://colab.research.google.com/github/PacktPublishing/Machine-Learning-for-Time-Series-with-Python/blob/master/chapter2/Air%20Pollution.ipynb\" target=\"_parent\\\"><img src=\"https://colab.research.google.com/assets/colab-badge.svg\" alt=\"Open In Colab\"/></a>"
   ]
  },
  {
   "cell_type": "code",
   "metadata": {
    "ExecuteTime": {
     "end_time": "2025-05-30T11:02:35.892332Z",
     "start_time": "2025-05-30T11:02:35.890795Z"
    }
   },
   "source": [
    "import datetime\n",
    "import pandas as pd\n",
    "import matplotlib.pyplot as plt\n",
    "import seaborn as sns"
   ],
   "outputs": [],
   "execution_count": 1
  },
  {
   "cell_type": "code",
   "metadata": {
    "ExecuteTime": {
     "end_time": "2025-05-30T11:02:36.735573Z",
     "start_time": "2025-05-30T11:02:35.967542Z"
    }
   },
   "source": [
    "# In pandas you can pass the url directly into read_csv()\n",
    "pollution = pd.read_csv(\n",
    "    'https://raw.githubusercontent.com/owid/owid-datasets/master/datasets/Air%20pollution%20by%20city%20-%20Fouquet%20and%20DPCC%20(2011)/Air%20pollution%20by%20city%20-%20Fouquet%20and%20DPCC%20(2011).csv'\n",
    ")"
   ],
   "outputs": [],
   "execution_count": 2
  },
  {
   "cell_type": "code",
   "metadata": {
    "ExecuteTime": {
     "end_time": "2025-05-30T11:02:36.760458Z",
     "start_time": "2025-05-30T11:02:36.756634Z"
    }
   },
   "source": [
    "pollution.columns"
   ],
   "outputs": [
    {
     "data": {
      "text/plain": [
       "Index(['Entity', 'Year', 'Smoke (Fouquet and DPCC (2011))',\n",
       "       'Suspended Particulate Matter (SPM) (Fouquet and DPCC (2011))'],\n",
       "      dtype='object')"
      ]
     },
     "execution_count": 3,
     "metadata": {},
     "output_type": "execute_result"
    }
   ],
   "execution_count": 3
  },
  {
   "cell_type": "code",
   "metadata": {
    "ExecuteTime": {
     "end_time": "2025-05-30T11:02:36.811668Z",
     "start_time": "2025-05-30T11:02:36.806470Z"
    }
   },
   "source": [
    "pollution.head()"
   ],
   "outputs": [
    {
     "data": {
      "text/plain": [
       "  Entity  Year  Smoke (Fouquet and DPCC (2011))  \\\n",
       "0  Delhi  1997                              NaN   \n",
       "1  Delhi  1998                              NaN   \n",
       "2  Delhi  1999                              NaN   \n",
       "3  Delhi  2000                              NaN   \n",
       "4  Delhi  2001                              NaN   \n",
       "\n",
       "   Suspended Particulate Matter (SPM) (Fouquet and DPCC (2011))  \n",
       "0                                              363.0             \n",
       "1                                              378.0             \n",
       "2                                              375.0             \n",
       "3                                              431.0             \n",
       "4                                              382.0             "
      ],
      "text/html": [
       "<div>\n",
       "<style scoped>\n",
       "    .dataframe tbody tr th:only-of-type {\n",
       "        vertical-align: middle;\n",
       "    }\n",
       "\n",
       "    .dataframe tbody tr th {\n",
       "        vertical-align: top;\n",
       "    }\n",
       "\n",
       "    .dataframe thead th {\n",
       "        text-align: right;\n",
       "    }\n",
       "</style>\n",
       "<table border=\"1\" class=\"dataframe\">\n",
       "  <thead>\n",
       "    <tr style=\"text-align: right;\">\n",
       "      <th></th>\n",
       "      <th>Entity</th>\n",
       "      <th>Year</th>\n",
       "      <th>Smoke (Fouquet and DPCC (2011))</th>\n",
       "      <th>Suspended Particulate Matter (SPM) (Fouquet and DPCC (2011))</th>\n",
       "    </tr>\n",
       "  </thead>\n",
       "  <tbody>\n",
       "    <tr>\n",
       "      <th>0</th>\n",
       "      <td>Delhi</td>\n",
       "      <td>1997</td>\n",
       "      <td>NaN</td>\n",
       "      <td>363.0</td>\n",
       "    </tr>\n",
       "    <tr>\n",
       "      <th>1</th>\n",
       "      <td>Delhi</td>\n",
       "      <td>1998</td>\n",
       "      <td>NaN</td>\n",
       "      <td>378.0</td>\n",
       "    </tr>\n",
       "    <tr>\n",
       "      <th>2</th>\n",
       "      <td>Delhi</td>\n",
       "      <td>1999</td>\n",
       "      <td>NaN</td>\n",
       "      <td>375.0</td>\n",
       "    </tr>\n",
       "    <tr>\n",
       "      <th>3</th>\n",
       "      <td>Delhi</td>\n",
       "      <td>2000</td>\n",
       "      <td>NaN</td>\n",
       "      <td>431.0</td>\n",
       "    </tr>\n",
       "    <tr>\n",
       "      <th>4</th>\n",
       "      <td>Delhi</td>\n",
       "      <td>2001</td>\n",
       "      <td>NaN</td>\n",
       "      <td>382.0</td>\n",
       "    </tr>\n",
       "  </tbody>\n",
       "</table>\n",
       "</div>"
      ]
     },
     "execution_count": 4,
     "metadata": {},
     "output_type": "execute_result"
    }
   ],
   "execution_count": 4
  },
  {
   "cell_type": "code",
   "metadata": {
    "ExecuteTime": {
     "end_time": "2025-05-30T11:02:36.872780Z",
     "start_time": "2025-05-30T11:02:36.868812Z"
    }
   },
   "source": [
    "pollution = pollution.rename(\n",
    "    columns={\n",
    "        'Suspended Particulate Matter (SPM) (Fouquet and DPCC (2011))': 'SPM',\n",
    "        'Entity': 'City',\n",
    "        'Smoke (Fouquet and DPCC (2011))' : 'Smoke'\n",
    "    }\n",
    ")\n",
    "\n",
    "pollution.head()"
   ],
   "outputs": [
    {
     "data": {
      "text/plain": [
       "    City  Year  Smoke    SPM\n",
       "0  Delhi  1997    NaN  363.0\n",
       "1  Delhi  1998    NaN  378.0\n",
       "2  Delhi  1999    NaN  375.0\n",
       "3  Delhi  2000    NaN  431.0\n",
       "4  Delhi  2001    NaN  382.0"
      ],
      "text/html": [
       "<div>\n",
       "<style scoped>\n",
       "    .dataframe tbody tr th:only-of-type {\n",
       "        vertical-align: middle;\n",
       "    }\n",
       "\n",
       "    .dataframe tbody tr th {\n",
       "        vertical-align: top;\n",
       "    }\n",
       "\n",
       "    .dataframe thead th {\n",
       "        text-align: right;\n",
       "    }\n",
       "</style>\n",
       "<table border=\"1\" class=\"dataframe\">\n",
       "  <thead>\n",
       "    <tr style=\"text-align: right;\">\n",
       "      <th></th>\n",
       "      <th>City</th>\n",
       "      <th>Year</th>\n",
       "      <th>Smoke</th>\n",
       "      <th>SPM</th>\n",
       "    </tr>\n",
       "  </thead>\n",
       "  <tbody>\n",
       "    <tr>\n",
       "      <th>0</th>\n",
       "      <td>Delhi</td>\n",
       "      <td>1997</td>\n",
       "      <td>NaN</td>\n",
       "      <td>363.0</td>\n",
       "    </tr>\n",
       "    <tr>\n",
       "      <th>1</th>\n",
       "      <td>Delhi</td>\n",
       "      <td>1998</td>\n",
       "      <td>NaN</td>\n",
       "      <td>378.0</td>\n",
       "    </tr>\n",
       "    <tr>\n",
       "      <th>2</th>\n",
       "      <td>Delhi</td>\n",
       "      <td>1999</td>\n",
       "      <td>NaN</td>\n",
       "      <td>375.0</td>\n",
       "    </tr>\n",
       "    <tr>\n",
       "      <th>3</th>\n",
       "      <td>Delhi</td>\n",
       "      <td>2000</td>\n",
       "      <td>NaN</td>\n",
       "      <td>431.0</td>\n",
       "    </tr>\n",
       "    <tr>\n",
       "      <th>4</th>\n",
       "      <td>Delhi</td>\n",
       "      <td>2001</td>\n",
       "      <td>NaN</td>\n",
       "      <td>382.0</td>\n",
       "    </tr>\n",
       "  </tbody>\n",
       "</table>\n",
       "</div>"
      ]
     },
     "execution_count": 5,
     "metadata": {},
     "output_type": "execute_result"
    }
   ],
   "execution_count": 5
  },
  {
   "cell_type": "code",
   "metadata": {
    "ExecuteTime": {
     "end_time": "2025-05-30T11:02:36.920452Z",
     "start_time": "2025-05-30T11:02:36.917162Z"
    }
   },
   "source": [
    "pollution.dtypes"
   ],
   "outputs": [
    {
     "data": {
      "text/plain": [
       "City      object\n",
       "Year       int64\n",
       "Smoke    float64\n",
       "SPM      float64\n",
       "dtype: object"
      ]
     },
     "execution_count": 6,
     "metadata": {},
     "output_type": "execute_result"
    }
   ],
   "execution_count": 6
  },
  {
   "cell_type": "code",
   "metadata": {
    "ExecuteTime": {
     "end_time": "2025-05-30T11:02:37.004615Z",
     "start_time": "2025-05-30T11:02:37.001334Z"
    }
   },
   "source": [
    "pollution['City'].unique()"
   ],
   "outputs": [
    {
     "data": {
      "text/plain": [
       "array(['Delhi', 'London'], dtype=object)"
      ]
     },
     "execution_count": 7,
     "metadata": {},
     "output_type": "execute_result"
    }
   ],
   "execution_count": 7
  },
  {
   "cell_type": "code",
   "metadata": {
    "ExecuteTime": {
     "end_time": "2025-05-30T11:02:37.127676Z",
     "start_time": "2025-05-30T11:02:37.124921Z"
    }
   },
   "source": [
    "pollution.Year.min(), pollution.Year.max()"
   ],
   "outputs": [
    {
     "data": {
      "text/plain": [
       "(1700, 2016)"
      ]
     },
     "execution_count": 8,
     "metadata": {},
     "output_type": "execute_result"
    }
   ],
   "execution_count": 8
  },
  {
   "cell_type": "code",
   "metadata": {
    "ExecuteTime": {
     "end_time": "2025-05-30T11:02:37.167846Z",
     "start_time": "2025-05-30T11:02:37.164756Z"
    }
   },
   "source": [
    "# careful: pollution['Year'] = pd.to_datetime(pollution['Year'])\n",
    "# pandas doesn't handle dates before 1900!\n",
    "pollution['Year'] = pollution['Year'].apply(\n",
    "    lambda x: datetime.datetime.strptime(str(x), '%Y')\n",
    ")"
   ],
   "outputs": [],
   "execution_count": 9
  },
  {
   "cell_type": "code",
   "metadata": {
    "ExecuteTime": {
     "end_time": "2025-05-30T11:02:37.210766Z",
     "start_time": "2025-05-30T11:02:37.207676Z"
    }
   },
   "source": [
    "pollution.Year.min(), pollution.Year.max()"
   ],
   "outputs": [
    {
     "data": {
      "text/plain": [
       "(Timestamp('1700-01-01 00:00:00'), Timestamp('2016-01-01 00:00:00'))"
      ]
     },
     "execution_count": 10,
     "metadata": {},
     "output_type": "execute_result"
    }
   ],
   "execution_count": 10
  },
  {
   "cell_type": "code",
   "metadata": {
    "ExecuteTime": {
     "end_time": "2025-05-30T11:02:37.284655Z",
     "start_time": "2025-05-30T11:02:37.279644Z"
    }
   },
   "source": [
    "pollution.isnull().sum() / len(pollution)"
   ],
   "outputs": [
    {
     "data": {
      "text/plain": [
       "City     0.000000\n",
       "Year     0.000000\n",
       "Smoke    0.090634\n",
       "SPM      0.000000\n",
       "dtype: float64"
      ]
     },
     "execution_count": 11,
     "metadata": {},
     "output_type": "execute_result"
    }
   ],
   "execution_count": 11
  },
  {
   "cell_type": "code",
   "metadata": {
    "ExecuteTime": {
     "end_time": "2025-05-30T11:02:37.356223Z",
     "start_time": "2025-05-30T11:02:37.349586Z"
    }
   },
   "source": [
    "pollution.describe()"
   ],
   "outputs": [
    {
     "data": {
      "text/plain": [
       "            Smoke         SPM\n",
       "count  301.000000  331.000000\n",
       "mean   210.296440  365.970050\n",
       "std     88.543288  172.512674\n",
       "min     13.750000   15.000000\n",
       "25%    168.571429  288.474026\n",
       "50%    208.214286  375.324675\n",
       "75%    291.818182  512.609209\n",
       "max    342.857143  623.376623"
      ],
      "text/html": [
       "<div>\n",
       "<style scoped>\n",
       "    .dataframe tbody tr th:only-of-type {\n",
       "        vertical-align: middle;\n",
       "    }\n",
       "\n",
       "    .dataframe tbody tr th {\n",
       "        vertical-align: top;\n",
       "    }\n",
       "\n",
       "    .dataframe thead th {\n",
       "        text-align: right;\n",
       "    }\n",
       "</style>\n",
       "<table border=\"1\" class=\"dataframe\">\n",
       "  <thead>\n",
       "    <tr style=\"text-align: right;\">\n",
       "      <th></th>\n",
       "      <th>Smoke</th>\n",
       "      <th>SPM</th>\n",
       "    </tr>\n",
       "  </thead>\n",
       "  <tbody>\n",
       "    <tr>\n",
       "      <th>count</th>\n",
       "      <td>301.000000</td>\n",
       "      <td>331.000000</td>\n",
       "    </tr>\n",
       "    <tr>\n",
       "      <th>mean</th>\n",
       "      <td>210.296440</td>\n",
       "      <td>365.970050</td>\n",
       "    </tr>\n",
       "    <tr>\n",
       "      <th>std</th>\n",
       "      <td>88.543288</td>\n",
       "      <td>172.512674</td>\n",
       "    </tr>\n",
       "    <tr>\n",
       "      <th>min</th>\n",
       "      <td>13.750000</td>\n",
       "      <td>15.000000</td>\n",
       "    </tr>\n",
       "    <tr>\n",
       "      <th>25%</th>\n",
       "      <td>168.571429</td>\n",
       "      <td>288.474026</td>\n",
       "    </tr>\n",
       "    <tr>\n",
       "      <th>50%</th>\n",
       "      <td>208.214286</td>\n",
       "      <td>375.324675</td>\n",
       "    </tr>\n",
       "    <tr>\n",
       "      <th>75%</th>\n",
       "      <td>291.818182</td>\n",
       "      <td>512.609209</td>\n",
       "    </tr>\n",
       "    <tr>\n",
       "      <th>max</th>\n",
       "      <td>342.857143</td>\n",
       "      <td>623.376623</td>\n",
       "    </tr>\n",
       "  </tbody>\n",
       "</table>\n",
       "</div>"
      ]
     },
     "execution_count": 12,
     "metadata": {},
     "output_type": "execute_result"
    }
   ],
   "execution_count": 12
  },
  {
   "cell_type": "code",
   "metadata": {
    "ExecuteTime": {
     "end_time": "2025-05-30T11:02:37.490707Z",
     "start_time": "2025-05-30T11:02:37.418400Z"
    }
   },
   "source": [
    "import numpy as np\n",
    "n, bins, patches = plt.hist(\n",
    "    x=pollution['SPM'], bins='auto',\n",
    "    alpha=0.7, rwidth=0.85\n",
    ")\n",
    "plt.grid(axis='y', alpha=0.75)\n",
    "plt.xlabel('SPM')\n",
    "plt.ylabel('Frequency')"
   ],
   "outputs": [
    {
     "data": {
      "text/plain": [
       "Text(0, 0.5, 'Frequency')"
      ]
     },
     "execution_count": 13,
     "metadata": {},
     "output_type": "execute_result"
    },
    {
     "data": {
      "text/plain": [
       "<Figure size 640x480 with 1 Axes>"
      ],
      "image/png": "[encoded data removed]"
     },
     "metadata": {},
     "output_type": "display_data"
    }
   ],
   "execution_count": 13
  },
  {
   "cell_type": "code",
   "metadata": {
    "ExecuteTime": {
     "end_time": "2025-05-30T11:02:37.723848Z",
     "start_time": "2025-05-30T11:02:37.570618Z"
    }
   },
   "source": [
    "plt.figure(figsize=(12, 6))\n",
    "sns.jointplot(\n",
    "    x='Smoke', y='SPM',\n",
    "    edgecolor='white',\n",
    "    data=pollution\n",
    ")\n",
    "plt.xlabel('Smoke')\n",
    "plt.ylabel('SPM');"
   ],
   "outputs": [
    {
     "data": {
      "text/plain": [
       "<Figure size 1200x600 with 0 Axes>"
      ]
     },
     "metadata": {},
     "output_type": "display_data"
    },
    {
     "data": {
      "text/plain": [
       "<Figure size 600x600 with 3 Axes>"
      ],
      "image/png": "[encoded data removed]"
     },
     "metadata": {},
     "output_type": "display_data"
    }
   ],
   "execution_count": 14
  },
  {
   "cell_type": "code",
   "metadata": {
    "ExecuteTime": {
     "end_time": "2025-05-30T11:02:37.793126Z",
     "start_time": "2025-05-30T11:02:37.789156Z"
    }
   },
   "source": [
    "from scipy import stats\n",
    "\n",
    "\n",
    "def ignore_nans(a, b):\n",
    "    index = ~a.isnull() & ~b.isnull()\n",
    "    return a[index], b[index]\n",
    "\n",
    "stats.pearsonr(*ignore_nans(pollution['Smoke'], pollution['SPM']))"
   ],
   "outputs": [
    {
     "data": {
      "text/plain": [
       "PearsonRResult(statistic=0.9999999999999999, pvalue=0.0)"
      ]
     },
     "execution_count": 15,
     "metadata": {},
     "output_type": "execute_result"
    }
   ],
   "execution_count": 15
  },
  {
   "cell_type": "code",
   "metadata": {
    "ExecuteTime": {
     "end_time": "2025-05-30T11:02:37.835863Z",
     "start_time": "2025-05-30T11:02:37.832229Z"
    }
   },
   "source": [
    "pollution.dtypes"
   ],
   "outputs": [
    {
     "data": {
      "text/plain": [
       "City             object\n",
       "Year     datetime64[ns]\n",
       "Smoke           float64\n",
       "SPM             float64\n",
       "dtype: object"
      ]
     },
     "execution_count": 16,
     "metadata": {},
     "output_type": "execute_result"
    }
   ],
   "execution_count": 16
  },
  {
   "cell_type": "code",
   "metadata": {
    "ExecuteTime": {
     "end_time": "2025-05-30T11:02:38.021370Z",
     "start_time": "2025-05-30T11:02:37.922371Z"
    }
   },
   "source": [
    "pollution = pollution.pivot(index=\"Year\", columns=\"City\", values=\"SPM\")\n",
    "plt.figure(figsize=(12, 6))\n",
    "sns.lineplot(data=pollution)\n",
    "plt.ylabel('SPM');"
   ],
   "outputs": [
    {
     "data": {
      "text/plain": [
       "<Figure size 1200x600 with 1 Axes>"
      ],
      "image/png": "[encoded data removed]"
     },
     "metadata": {},
     "output_type": "display_data"
    }
   ],
   "execution_count": 17
  },
  {
   "cell_type": "code",
   "metadata": {
    "ExecuteTime": {
     "end_time": "2025-05-30T11:02:38.097550Z",
     "start_time": "2025-05-30T11:02:38.035915Z"
    }
   },
   "source": [
    "plt.figure(figsize=(12, 6))\n",
    "pd.plotting.autocorrelation_plot(pollution['London']);"
   ],
   "outputs": [
    {
     "data": {
      "text/plain": [
       "<Figure size 1200x600 with 1 Axes>"
      ],
      "image/png": "[encoded data removed]"
     },
     "metadata": {},
     "output_type": "display_data"
    }
   ],
   "execution_count": 18
  },
  {
   "cell_type": "code",
   "metadata": {
    "ExecuteTime": {
     "end_time": "2025-05-30T11:02:38.141443Z",
     "start_time": "2025-05-30T11:02:38.118197Z"
    }
   },
   "source": [
    "from statsmodels.tsa import stattools\n",
    "\n",
    "stattools.adfuller(pollution['London'])"
   ],
   "outputs": [
    {
     "data": {
      "text/plain": [
       "(-0.33721640804243797,\n",
       " 0.9200654843183884,\n",
       " 13,\n",
       " 303,\n",
       " {'1%': -3.4521175397304784,\n",
       "  '5%': -2.8711265007266666,\n",
       "  '10%': -2.571877823851692},\n",
       " 1684.699266349387)"
      ]
     },
     "execution_count": 19,
     "metadata": {},
     "output_type": "execute_result"
    }
   ],
   "execution_count": 19
  },
  {
   "cell_type": "code",
   "metadata": {
    "ExecuteTime": {
     "end_time": "2025-05-30T11:02:38.169771Z",
     "start_time": "2025-05-30T11:02:38.166309Z"
    }
   },
   "source": [
    "from scipy import stats\n",
    "\n",
    "stats.pearsonr(pollution['London'], pollution.index.values.astype(int))"
   ],
   "outputs": [
    {
     "data": {
      "text/plain": [
       "PearsonRResult(statistic=-0.36381292830053846, pvalue=2.352312970699297e-11)"
      ]
     },
     "execution_count": 20,
     "metadata": {},
     "output_type": "execute_result"
    }
   ],
   "execution_count": 20
  },
  {
   "cell_type": "code",
   "metadata": {
    "ExecuteTime": {
     "end_time": "2025-05-30T11:02:38.219517Z",
     "start_time": "2025-05-30T11:02:38.215093Z"
    }
   },
   "source": [
    "stats.spearmanr(pollution['London'][:180], pollution.index.values.astype(int)[:180])"
   ],
   "outputs": [
    {
     "data": {
      "text/plain": [
       "SignificanceResult(statistic=0.9999999999999999, pvalue=0.0)"
      ]
     },
     "execution_count": 21,
     "metadata": {},
     "output_type": "execute_result"
    }
   ],
   "execution_count": 21
  }
 ],
 "metadata": {
  "kernelspec": {
   "display_name": "Python 3",
   "language": "python",
   "name": "python3"
  },
  "language_info": {
   "codemirror_mode": {
    "name": "ipython",
    "version": 3
   },
   "file_extension": ".py",
   "mimetype": "text/x-python",
   "name": "python",
   "nbconvert_exporter": "python",
   "pygments_lexer": "ipython3",
   "version": "3.8.8"
  }
 },
 "nbformat": 4,
 "nbformat_minor": 4
}

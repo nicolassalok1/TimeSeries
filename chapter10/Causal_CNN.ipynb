{
 "cells": [
  {
   "cell_type": "markdown",
   "metadata": {},
   "source": [
    "<a href=\"https://colab.research.google.com/github/PacktPublishing/Machine-Learning-for-Time-Series-with-Python/blob/master/chapter10/Causal_CNN.ipynb\" target=\"_parent\\\"><img src=\"https://colab.research.google.com/assets/colab-badge.svg\" alt=\"Open In Colab\"/></a>"
   ]
  },
  {
   "cell_type": "code",
   "metadata": {
    "id": "bU3tHC0PArEI",
    "tags": [],
    "ExecuteTime": {
     "end_time": "2025-05-30T10:00:57.923150Z",
     "start_time": "2025-05-30T10:00:57.918943Z"
    }
   },
   "source": [
    "import numpy as np\n",
    "import pandas as pd\n",
    "import tensorflow as tf\n",
    "from tensorflow.keras.layers import Conv1D, Input, Add, Activation, Dropout\n",
    "from tensorflow.keras.models import Model\n",
    "from tensorflow.keras.callbacks import EarlyStopping\n",
    "from tensorflow.keras import optimizers\n",
    "\n",
    "# Callback pour arrêt anticipé\n",
    "callback = EarlyStopping(monitor='loss', patience=10)\n",
    "\n",
    "# Bloc DC-CNN\n",
    "def DC_CNN_Block(nb_filter, filter_length, dilation):\n",
    "    def f(input_):\n",
    "        residual = input_\n",
    "        layer_out = Conv1D(\n",
    "            filters=nb_filter, kernel_size=filter_length,\n",
    "            dilation_rate=dilation,\n",
    "            activation='linear', padding='causal', use_bias=False\n",
    "        )(input_)\n",
    "        layer_out = Activation('selu')(layer_out)\n",
    "        skip_out = Conv1D(1, 1, activation='linear', use_bias=False)(layer_out)\n",
    "        network_in = Conv1D(1, 1, activation='linear', use_bias=False)(layer_out)\n",
    "        network_out = Add()([residual, network_in])\n",
    "        return network_out, skip_out\n",
    "    return f\n",
    "\n",
    "# Modèle DC-CNN complet\n",
    "def DC_CNN_Model(length):\n",
    "    input = Input(shape=(length, 1))\n",
    "    l1a, l1b = DC_CNN_Block(32, 2, 1)(input)\n",
    "    l2a, l2b = DC_CNN_Block(32, 2, 2)(l1a)\n",
    "    l3a, l3b = DC_CNN_Block(32, 2, 4)(l2a)\n",
    "    l4a, l4b = DC_CNN_Block(32, 2, 8)(l3a)\n",
    "    l5a, l5b = DC_CNN_Block(32, 2, 16)(l4a)\n",
    "    l6a, l6b = DC_CNN_Block(32, 2, 32)(l5a)\n",
    "    l6b = Dropout(0.8)(l6b)\n",
    "    l7a, l7b = DC_CNN_Block(32, 2, 64)(l6a)\n",
    "    l7b = Dropout(0.8)(l7b)\n",
    "    l8 = Add()([l1b, l2b, l3b, l4b, l5b, l6b, l7b])\n",
    "    l9 = Activation('relu')(l8)\n",
    "    l21 = Conv1D(1, 1, activation='linear', use_bias=False)(l9)\n",
    "    model = Model(inputs=input, outputs=l21)\n",
    "    model.compile(loss='mae', optimizer=optimizers.Adam(), metrics=['mse'])\n",
    "    return model\n"
   ],
   "outputs": [],
   "execution_count": 7
  },
  {
   "cell_type": "code",
   "metadata": {
    "tags": [],
    "ExecuteTime": {
     "end_time": "2025-05-30T10:00:57.936509Z",
     "start_time": "2025-05-30T10:00:57.932354Z"
    }
   },
   "source": [
    "def fit_model(timeseries):\n",
    "    length = len(timeseries)-1\n",
    "    model = DC_CNN_Model(length)\n",
    "    model.summary()\n",
    "    X = timeseries[:-1].reshape(1,length, 1)\n",
    "    y = timeseries[1:].reshape(1,length, 1)\n",
    "    model.fit(X, y, epochs=3000, callbacks=[callback])\n",
    "    return model\n",
    "    \n",
    "def forecast(model, timeseries, horizon: int):\n",
    "    length = len(timeseries)-1\n",
    "    pred_array = np.zeros(horizon).reshape(1, horizon, 1)\n",
    "    X_test_initial = timeseries[1:].reshape(1,length,1)\n",
    "    \n",
    "    pred_array[: ,0, :] = model.predict(X_test_initial)[:, -1:, :]\n",
    "    for i in range(horizon-1):\n",
    "        pred_array[:, i+1:, :] = model.predict(\n",
    "            np.append(\n",
    "                X_test_initial[:, i+1:, :], \n",
    "                pred_array[:, :i+1, :]\n",
    "            ).reshape(1, length, 1))[:, -1:, :]\n",
    "    return pred_array.flatten()\n",
    "    \n",
    "def evaluate_timeseries(series, horizon: int):\n",
    "    model = fit_model(series)\n",
    "    pred_array = forecast(model, series, horizon)\n",
    "    return pred_array, model"
   ],
   "outputs": [],
   "execution_count": 8
  },
  {
   "cell_type": "code",
   "metadata": {
    "id": "LCzxf36xxvri",
    "tags": [],
    "ExecuteTime": {
     "end_time": "2025-05-30T10:00:58.163114Z",
     "start_time": "2025-05-30T10:00:57.979992Z"
    }
   },
   "source": [
    "import pandas as pd\n",
    "import matplotlib.pyplot as plt\n",
    "import seaborn as sns\n",
    "\n",
    "def show_result(y_test, predicted, ylabel=\"Passengers\"):\n",
    "  plt.figure(figsize=(16, 6))\n",
    "  plt.plot(y_test.index, predicted, 'o-', label=\"predicted\")\n",
    "  plt.plot(y_test.index, y_test, '.-', label=\"actual\")\n",
    "\n",
    "  plt.ylabel(ylabel)\n",
    "  plt.legend()"
   ],
   "outputs": [],
   "execution_count": 9
  },
  {
   "cell_type": "code",
   "metadata": {
    "id": "Tu-831LAylwK",
    "tags": [],
    "ExecuteTime": {
     "end_time": "2025-05-30T10:00:58.173866Z",
     "start_time": "2025-05-30T10:00:58.169184Z"
    }
   },
   "source": [
    "import pandas as pd\n",
    "\n",
    "values = [         \n",
    "  112., 118., 132., 129., 121., 135., 148., 148., 136., 119., 104., 118., 115., 126.,\n",
    "  141., 135., 125., 149., 170., 170., 158., 133., 114., 140., 145., 150., 178., 163.,\n",
    "  172., 178., 199., 199., 184., 162., 146., 166., 171., 180., 193., 181., 183., 218.,\n",
    "  230., 242., 209., 191., 172., 194., 196., 196., 236., 235., 229., 243., 264., 272.,\n",
    "  237., 211., 180., 201., 204., 188., 235., 227., 234., 264., 302., 293., 259., 229.,\n",
    "  203., 229., 242., 233., 267., 269., 270., 315., 364., 347., 312., 274., 237., 278.,\n",
    "  284., 277., 317., 313., 318., 374., 413., 405., 355., 306., 271., 306., 315., 301.,\n",
    "  356., 348., 355., 422., 465., 467., 404., 347., 305., 336., 340., 318., 362., 348.,\n",
    "  363., 435., 491., 505., 404., 359., 310., 337., 360., 342., 406., 396., 420., 472.,\n",
    "  548., 559., 463., 407., 362., 405., 417., 391., 419., 461., 472., 535., 622., 606.,\n",
    "  508., 461., 390., 432.,\n",
    " ]\n",
    "idx = pd.date_range(\"1949-01-01\", periods=len(values), freq=\"M\")\n",
    "passengers = pd.Series(values, index=idx, name=\"passengers\").to_frame()"
   ],
   "outputs": [
    {
     "name": "stderr",
     "output_type": "stream",
     "text": [
      "/tmp/ipykernel_238482/3813778322.py:16: FutureWarning: 'M' is deprecated and will be removed in a future version, please use 'ME' instead.\n",
      "  idx = pd.date_range(\"1949-01-01\", periods=len(values), freq=\"M\")\n"
     ]
    }
   ],
   "execution_count": 10
  },
  {
   "cell_type": "code",
   "metadata": {
    "colab": {
     "base_uri": "https://localhost:8080/"
    },
    "id": "boJVi8Jiya4D",
    "outputId": "e4605e96-9198-4ab0-a277-489933daaa0b",
    "tags": [],
    "ExecuteTime": {
     "end_time": "2025-05-30T10:00:58.249524Z",
     "start_time": "2025-05-30T10:00:58.220005Z"
    }
   },
   "source": [
    "from sklearn.model_selection import train_test_split\n",
    "\n",
    "\n",
    "X_train, X_test, y_train, y_test = train_test_split(\n",
    "    passengers.passengers, passengers.passengers.shift(-1), shuffle=False\n",
    ")\n",
    "HORIZON = len(y_test)\n",
    "predictions, model = evaluate_timeseries(X_train.values.reshape(-1, 1), horizon=HORIZON)"
   ],
   "outputs": [
    {
     "ename": "ModuleNotFoundError",
     "evalue": "No module named 'sklearn'",
     "output_type": "error",
     "traceback": [
      "\u001B[31m---------------------------------------------------------------------------\u001B[39m",
      "\u001B[31mModuleNotFoundError\u001B[39m                       Traceback (most recent call last)",
      "\u001B[36mCell\u001B[39m\u001B[36m \u001B[39m\u001B[32mIn[11]\u001B[39m\u001B[32m, line 1\u001B[39m\n\u001B[32m----> \u001B[39m\u001B[32m1\u001B[39m \u001B[38;5;28;01mfrom\u001B[39;00m\u001B[38;5;250m \u001B[39m\u001B[34;01msklearn\u001B[39;00m\u001B[34;01m.\u001B[39;00m\u001B[34;01mmodel_selection\u001B[39;00m\u001B[38;5;250m \u001B[39m\u001B[38;5;28;01mimport\u001B[39;00m train_test_split\n\u001B[32m      4\u001B[39m X_train, X_test, y_train, y_test = train_test_split(\n\u001B[32m      5\u001B[39m     passengers.passengers, passengers.passengers.shift(-\u001B[32m1\u001B[39m), shuffle=\u001B[38;5;28;01mFalse\u001B[39;00m\n\u001B[32m      6\u001B[39m )\n\u001B[32m      7\u001B[39m HORIZON = \u001B[38;5;28mlen\u001B[39m(y_test)\n",
      "\u001B[31mModuleNotFoundError\u001B[39m: No module named 'sklearn'"
     ]
    }
   ],
   "execution_count": 11
  },
  {
   "cell_type": "code",
   "execution_count": 14,
   "metadata": {
    "colab": {
     "base_uri": "https://localhost:8080/",
     "height": 379
    },
    "id": "fxQ1vflLzcmt",
    "outputId": "1dfb65e4-fe34-46e0-879a-a8a095493e05",
    "tags": []
   },
   "outputs": [],
   "source": [
    "show_result(y_test[:HORIZON], predictions[:HORIZON], \"Passengers\")"
   ]
  },
  {
   "cell_type": "code",
   "execution_count": 15,
   "metadata": {
    "id": "yH1hqiySztJ1",
    "tags": []
   },
   "outputs": [],
   "source": []
  }
 ],
 "metadata": {
  "colab": {
   "collapsed_sections": [],
   "name": "Causal CNN",
   "provenance": []
  },
  "kernelspec": {
   "display_name": "Python 3",
   "language": "python",
   "name": "python3"
  },
  "language_info": {
   "codemirror_mode": {
    "name": "ipython",
    "version": 3
   },
   "file_extension": ".py",
   "mimetype": "text/x-python",
   "name": "python",
   "nbconvert_exporter": "python",
   "pygments_lexer": "ipython3",
   "version": "3.8.8"
  }
 },
 "nbformat": 4,
 "nbformat_minor": 4
}

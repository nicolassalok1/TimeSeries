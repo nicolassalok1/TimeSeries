{
 "cells": [
  {
   "cell_type": "markdown",
   "metadata": {},
   "source": [
    "<a href=\"https://colab.research.google.com/github/PacktPublishing/Machine-Learning-for-Time-Series-with-Python/blob/master/chapter10/Time_Series_with_Deep_Learning.ipynb\" target=\"_parent\\\"><img src=\"https://colab.research.google.com/assets/colab-badge.svg\" alt=\"Open In Colab\"/></a>"
   ]
  },
  {
   "cell_type": "code",
   "execution_count": null,
   "metadata": {},
   "outputs": [],
   "source": [
    "# from https://github.com/FinYang/tsdl/blob/56e091544cb81e573ee6db20c6f9cd39c70e6243/data-raw/boxjenk/seriesg.dat"
   ]
  },
  {
   "cell_type": "code",
   "execution_count": null,
   "metadata": {
    "id": "jEiBBpYjLCj3"
   },
   "outputs": [],
   "source": [
    "values = [         \n",
    "  112., 118., 132., 129., 121., 135., 148., 148., 136., 119., 104., 118., 115., 126.,\n",
    "  141., 135., 125., 149., 170., 170., 158., 133., 114., 140., 145., 150., 178., 163.,\n",
    "  172., 178., 199., 199., 184., 162., 146., 166., 171., 180., 193., 181., 183., 218.,\n",
    "  230., 242., 209., 191., 172., 194., 196., 196., 236., 235., 229., 243., 264., 272.,\n",
    "  237., 211., 180., 201., 204., 188., 235., 227., 234., 264., 302., 293., 259., 229.,\n",
    "  203., 229., 242., 233., 267., 269., 270., 315., 364., 347., 312., 274., 237., 278.,\n",
    "  284., 277., 317., 313., 318., 374., 413., 405., 355., 306., 271., 306., 315., 301.,\n",
    "  356., 348., 355., 422., 465., 467., 404., 347., 305., 336., 340., 318., 362., 348.,\n",
    "  363., 435., 491., 505., 404., 359., 310., 337., 360., 342., 406., 396., 420., 472.,\n",
    "  548., 559., 463., 407., 362., 405., 417., 391., 419., 461., 472., 535., 622., 606.,\n",
    "  508., 461., 390., 432.,\n",
    " ]"
   ]
  },
  {
   "cell_type": "code",
   "execution_count": null,
   "metadata": {
    "id": "9bBfTTdMK9AE"
   },
   "outputs": [],
   "source": [
    "import pandas as pd\n",
    "idx = pd.date_range(\"1949-01-01\", periods=len(values), freq=\"M\")"
   ]
  },
  {
   "cell_type": "code",
   "execution_count": null,
   "metadata": {
    "id": "z3sG4R4VKnWT"
   },
   "outputs": [],
   "source": [
    "passengers = pd.Series(values, index=idx, name=\"passengers\").to_frame()"
   ]
  },
  {
   "cell_type": "code",
   "execution_count": null,
   "metadata": {
    "id": "PBlu9I2p8uib"
   },
   "outputs": [],
   "source": [
    "from sklearn.model_selection import train_test_split\n",
    "\n",
    "X_train, X_test, y_train, y_test = train_test_split(passengers, passengers.passengers.shift(-1), shuffle=False)"
   ]
  },
  {
   "cell_type": "code",
   "execution_count": null,
   "metadata": {
    "id": "DkejrcL8aFt1"
   },
   "outputs": [],
   "source": [
    "import tensorflow.keras as keras\n",
    "import tensorflow as tf\n",
    "\n",
    "DROPOUT_RATIO = 0.2\n",
    "HIDDEN_NEURONS = 10\n",
    "\n",
    "callback = tf.keras.callbacks.EarlyStopping(monitor='loss', patience=3)\n",
    "\n",
    "def create_model(passengers):\n",
    "  input_layer = keras.layers.Input(len(passengers.columns))\n",
    "\n",
    "  hiden_layer = keras.layers.Dropout(DROPOUT_RATIO)(input_layer)\n",
    "  hiden_layer = keras.layers.Dense(HIDDEN_NEURONS, activation='relu')(hiden_layer)\n",
    "\n",
    "  output_layer = keras.layers.Dropout(DROPOUT_RATIO)(hiden_layer)\n",
    "  output_layer = keras.layers.Dense(1)(output_layer)\n",
    "\n",
    "  model = keras.models.Model(inputs=input_layer, outputs=output_layer)\n",
    "\n",
    "  model.compile(loss='mse', optimizer=keras.optimizers.Adagrad(),\n",
    "    metrics=[keras.metrics.RootMeanSquaredError(), keras.metrics.MeanAbsoluteError()])\n",
    "  return model\n",
    "\n",
    "model = create_model(passengers)"
   ]
  },
  {
   "cell_type": "code",
   "execution_count": null,
   "metadata": {
    "colab": {
     "base_uri": "https://localhost:8080/"
    },
    "id": "qJCCbRTib8Up",
    "outputId": "63136aae-e096-4ff3-f4fb-2d728054d099"
   },
   "outputs": [],
   "source": [
    "model.fit(X_train, y_train, epochs=1000, callbacks=[callback])"
   ]
  },
  {
   "cell_type": "code",
   "execution_count": null,
   "metadata": {
    "id": "BgHreXsUdc6a"
   },
   "outputs": [],
   "source": [
    "predicted = model.predict(X_test)"
   ]
  },
  {
   "cell_type": "code",
   "execution_count": null,
   "metadata": {
    "id": "mJC6mB74dkh9"
   },
   "outputs": [],
   "source": [
    "import matplotlib.pyplot as plt\n",
    "\n",
    "def show_result(y_test, predicted):\n",
    "  plt.figure(figsize=(16, 6))\n",
    "  plt.plot(y_test.index, predicted, 'o-', label=\"predicted\")\n",
    "  plt.plot(y_test.index, y_test, '.-', label=\"actual\")\n",
    "\n",
    "  plt.ylabel(\"Passengers\")\n",
    "  plt.legend()"
   ]
  },
  {
   "cell_type": "code",
   "execution_count": null,
   "metadata": {
    "colab": {
     "base_uri": "https://localhost:8080/",
     "height": 396
    },
    "id": "4spy29-UdzRS",
    "outputId": "86904074-d6ec-48a2-ab70-d5085ff21535"
   },
   "outputs": [],
   "source": [
    "show_result(y_test, predicted)"
   ]
  },
  {
   "cell_type": "code",
   "execution_count": null,
   "metadata": {
    "colab": {
     "base_uri": "https://localhost:8080/"
    },
    "id": "Mh4E54N_egps",
    "outputId": "3930edda-49da-4ba5-ba5b-2d9c09241a94"
   },
   "outputs": [],
   "source": [
    "passengers[\"month\"] = passengers.index.month.values\n",
    "passengers[\"year\"] = passengers.index.year.values\n",
    "\n",
    "model = create_model(passengers)\n",
    "X_train, X_test, y_train, y_test = train_test_split(passengers, passengers.passengers.shift(-1), shuffle=False)\n",
    "model.fit(X_train, y_train, epochs=100, callbacks=[callback])\n",
    "predicted = model.predict(X_test)"
   ]
  },
  {
   "cell_type": "code",
   "execution_count": null,
   "metadata": {
    "colab": {
     "base_uri": "https://localhost:8080/",
     "height": 379
    },
    "id": "Y9_1dwAofTM7",
    "outputId": "6f8515de-b3d6-4aee-a65b-cde8dc442631"
   },
   "outputs": [],
   "source": [
    "show_result(y_test, predicted)"
   ]
  },
  {
   "cell_type": "code",
   "execution_count": null,
   "metadata": {
    "id": "3eSnjPMYrcbN"
   },
   "outputs": [],
   "source": [
    "from tensorflow.keras.layers.experimental import preprocessing\n",
    "import tensorflow as tf\n",
    "\n",
    "\n",
    "DROPOUT_RATIO = 0.1\n",
    "HIDDEN_NEURONS = 5\n",
    "\n",
    "\n",
    "def create_model(passengers):\n",
    "  scale = tf.constant(passengers.passengers.std())\n",
    "\n",
    "  continuous_input_layer = keras.layers.Input(shape=1)\n",
    "\n",
    "  categorical_input_layer = keras.layers.Input(shape=1)\n",
    "  embedded = keras.layers.Embedding(12, 5)(categorical_input_layer)\n",
    "  embedded_flattened = keras.layers.Flatten()(embedded)\n",
    "\n",
    "  year_input = keras.layers.Input(shape=1)\n",
    "  year_layer = keras.layers.Dense(1)(year_input)\n",
    "\n",
    "  hidden_output = keras.layers.Concatenate(-1)([embedded_flattened, year_layer, continuous_input_layer])\n",
    "  output_layer = keras.layers.Dense(1)(hidden_output)\n",
    "  output = output_layer * scale + continuous_input_layer\n",
    "\n",
    "  model = keras.models.Model(inputs=[\n",
    "    continuous_input_layer, categorical_input_layer, year_input\n",
    "  ], outputs=output)\n",
    "\n",
    "  model.compile(loss='mse', optimizer=keras.optimizers.Adam(),\n",
    "    metrics=[keras.metrics.RootMeanSquaredError(), keras.metrics.MeanAbsoluteError()])\n",
    "  return model"
   ]
  },
  {
   "cell_type": "code",
   "execution_count": null,
   "metadata": {
    "colab": {
     "base_uri": "https://localhost:8080/"
    },
    "id": "zSyGPARMt9zx",
    "outputId": "df8b02fb-fc3a-49da-ac2f-d6e951eca334"
   },
   "outputs": [],
   "source": [
    "passengers = pd.Series(values, index=idx, name=\"passengers\").to_frame()\n",
    "passengers[\"year\"] = passengers.index.year.values - passengers.index.year.values.min()\n",
    "passengers[\"month\"] = passengers.index.month.values - 1\n",
    "\n",
    "X_train, X_test, y_train, y_test = train_test_split(passengers, passengers.passengers.shift(-1), shuffle=False)\n",
    "model = create_model(X_train)\n",
    "model.fit(\n",
    "  (X_train[\"passengers\"], X_train[\"year\"], X_train[\"month\"]),\n",
    "  y_train, epochs=1000,\n",
    "  callbacks=[callback]\n",
    ")\n",
    "predicted = model.predict((X_test[\"passengers\"], X_test[\"year\"], X_test[\"month\"]))"
   ]
  },
  {
   "cell_type": "code",
   "execution_count": null,
   "metadata": {
    "colab": {
     "base_uri": "https://localhost:8080/",
     "height": 379
    },
    "id": "D2fH073LAYYc",
    "outputId": "c3bc19a2-7bf6-47dc-f753-75fdfb215aa2"
   },
   "outputs": [],
   "source": [
    "show_result(y_test, predicted)"
   ]
  },
  {
   "cell_type": "code",
   "execution_count": null,
   "metadata": {
    "id": "SMfFWDb8Vs6x"
   },
   "outputs": [],
   "source": []
  }
 ],
 "metadata": {
  "colab": {
   "collapsed_sections": [],
   "name": "Time-Series with Deep Learning",
   "provenance": []
  },
  "kernelspec": {
   "display_name": "Python 3",
   "language": "python",
   "name": "python3"
  },
  "language_info": {
   "codemirror_mode": {
    "name": "ipython",
    "version": 3
   },
   "file_extension": ".py",
   "mimetype": "text/x-python",
   "name": "python",
   "nbconvert_exporter": "python",
   "pygments_lexer": "ipython3",
   "version": "3.8.8"
  }
 },
 "nbformat": 4,
 "nbformat_minor": 4
}

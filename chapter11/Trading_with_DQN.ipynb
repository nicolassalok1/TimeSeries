{
 "cells": [
  {
   "cell_type": "markdown",
   "metadata": {},
   "source": [
    "<a href=\"https://colab.research.google.com/github/PacktPublishing/Machine-Learning-for-Time-Series-with-Python/blob/master/chapter11/Trading_with_DQN.ipynb\" target=\"_parent\\\"><img src=\"https://colab.research.google.com/assets/colab-badge.svg\" alt=\"Open In Colab\"/></a>"
   ]
  },
  {
   "cell_type": "code",
   "metadata": {
    "id": "P6xXgYonWE8n",
    "ExecuteTime": {
     "end_time": "2025-05-08T10:34:59.708522Z",
     "start_time": "2025-05-08T10:34:59.706470Z"
    }
   },
   "source": "# based on https://github.com/tensortrade-org/tensortrade/blob/master/examples/train_and_evaluate.ipynb",
   "outputs": [],
   "execution_count": 16
  },
  {
   "cell_type": "code",
   "metadata": {
    "colab": {
     "base_uri": "https://localhost:8080/"
    },
    "id": "hp1Fk0dGJXpT",
    "outputId": "c7215ab3-26d0-45a9-8c47-6973f527ace6",
    "ExecuteTime": {
     "end_time": "2025-05-08T10:35:07.326978Z",
     "start_time": "2025-05-08T10:34:59.757775Z"
    }
   },
   "source": [
    "pip install git+https://github.com/tensortrade-org/tensortrade.git"
   ],
   "outputs": [
    {
     "name": "stdout",
     "output_type": "stream",
     "text": [
      "/bin/bash: warning: setlocale: LC_ALL: cannot change locale (en_US.UTF-8)\r\n",
      "Collecting git+https://github.com/tensortrade-org/tensortrade.git\r\n",
      "  Cloning https://github.com/tensortrade-org/tensortrade.git to /tmp/pip-req-build-da1mdkuq\r\n",
      "  Running command git clone --filter=blob:none --quiet https://github.com/tensortrade-org/tensortrade.git /tmp/pip-req-build-da1mdkuq\r\n",
      "  Resolved https://github.com/tensortrade-org/tensortrade.git to commit 72c3be9c15d3ac9dc7783c3ddf79b12a7e0a2fb3\r\n",
      "  Preparing metadata (setup.py) ... \u001B[?25ldone\r\n",
      "\u001B[?25hRequirement already satisfied: numpy>=1.17.0 in /root/miniconda3/envs/TimeSeries/lib/python3.12/site-packages (from tensortrade==1.0.4.dev1) (1.26.4)\r\n",
      "Requirement already satisfied: pandas>=0.25.0 in /root/miniconda3/envs/TimeSeries/lib/python3.12/site-packages (from tensortrade==1.0.4.dev1) (2.2.3)\r\n",
      "Requirement already satisfied: gymnasium>=0.28.1 in /root/miniconda3/envs/TimeSeries/lib/python3.12/site-packages (from tensortrade==1.0.4.dev1) (1.1.1)\r\n",
      "Requirement already satisfied: pyyaml>=5.1.2 in /root/miniconda3/envs/TimeSeries/lib/python3.12/site-packages (from tensortrade==1.0.4.dev1) (6.0.2)\r\n",
      "Requirement already satisfied: stochastic>=0.6.0 in /root/miniconda3/envs/TimeSeries/lib/python3.12/site-packages (from tensortrade==1.0.4.dev1) (0.6.0)\r\n",
      "Requirement already satisfied: tensorflow>=2.7.0 in /root/.local/lib/python3.12/site-packages (from tensortrade==1.0.4.dev1) (2.19.0)\r\n",
      "Requirement already satisfied: ipython>=7.12.0 in /root/miniconda3/envs/TimeSeries/lib/python3.12/site-packages (from tensortrade==1.0.4.dev1) (9.1.0)\r\n",
      "Requirement already satisfied: matplotlib>=3.1.1 in /root/miniconda3/envs/TimeSeries/lib/python3.12/site-packages (from tensortrade==1.0.4.dev1) (3.10.0)\r\n",
      "Requirement already satisfied: plotly>=4.5.0 in /root/miniconda3/envs/TimeSeries/lib/python3.12/site-packages (from tensortrade==1.0.4.dev1) (6.0.1)\r\n",
      "Requirement already satisfied: deprecated>=1.2.13 in /root/miniconda3/envs/TimeSeries/lib/python3.12/site-packages (from tensortrade==1.0.4.dev1) (1.2.18)\r\n",
      "Requirement already satisfied: wrapt<2,>=1.10 in /root/.local/lib/python3.12/site-packages (from deprecated>=1.2.13->tensortrade==1.0.4.dev1) (1.17.2)\r\n",
      "Requirement already satisfied: cloudpickle>=1.2.0 in /root/miniconda3/envs/TimeSeries/lib/python3.12/site-packages (from gymnasium>=0.28.1->tensortrade==1.0.4.dev1) (3.1.1)\r\n",
      "Requirement already satisfied: typing-extensions>=4.3.0 in /root/.local/lib/python3.12/site-packages (from gymnasium>=0.28.1->tensortrade==1.0.4.dev1) (4.13.2)\r\n",
      "Requirement already satisfied: farama-notifications>=0.0.1 in /root/miniconda3/envs/TimeSeries/lib/python3.12/site-packages (from gymnasium>=0.28.1->tensortrade==1.0.4.dev1) (0.0.4)\r\n",
      "Requirement already satisfied: decorator in /root/miniconda3/envs/TimeSeries/lib/python3.12/site-packages (from ipython>=7.12.0->tensortrade==1.0.4.dev1) (5.1.1)\r\n",
      "Requirement already satisfied: ipython-pygments-lexers in /root/miniconda3/envs/TimeSeries/lib/python3.12/site-packages (from ipython>=7.12.0->tensortrade==1.0.4.dev1) (1.1.1)\r\n",
      "Requirement already satisfied: jedi>=0.16 in /root/miniconda3/envs/TimeSeries/lib/python3.12/site-packages (from ipython>=7.12.0->tensortrade==1.0.4.dev1) (0.19.2)\r\n",
      "Requirement already satisfied: matplotlib-inline in /root/miniconda3/envs/TimeSeries/lib/python3.12/site-packages (from ipython>=7.12.0->tensortrade==1.0.4.dev1) (0.1.6)\r\n",
      "Requirement already satisfied: pexpect>4.3 in /root/miniconda3/envs/TimeSeries/lib/python3.12/site-packages (from ipython>=7.12.0->tensortrade==1.0.4.dev1) (4.8.0)\r\n",
      "Requirement already satisfied: prompt_toolkit<3.1.0,>=3.0.41 in /root/miniconda3/envs/TimeSeries/lib/python3.12/site-packages (from ipython>=7.12.0->tensortrade==1.0.4.dev1) (3.0.43)\r\n",
      "Requirement already satisfied: pygments>=2.4.0 in /root/.local/lib/python3.12/site-packages (from ipython>=7.12.0->tensortrade==1.0.4.dev1) (2.19.1)\r\n",
      "Requirement already satisfied: stack_data in /root/miniconda3/envs/TimeSeries/lib/python3.12/site-packages (from ipython>=7.12.0->tensortrade==1.0.4.dev1) (0.2.0)\r\n",
      "Requirement already satisfied: traitlets>=5.13.0 in /root/miniconda3/envs/TimeSeries/lib/python3.12/site-packages (from ipython>=7.12.0->tensortrade==1.0.4.dev1) (5.14.3)\r\n",
      "Requirement already satisfied: wcwidth in /root/miniconda3/envs/TimeSeries/lib/python3.12/site-packages (from prompt_toolkit<3.1.0,>=3.0.41->ipython>=7.12.0->tensortrade==1.0.4.dev1) (0.2.5)\r\n",
      "Requirement already satisfied: parso<0.9.0,>=0.8.4 in /root/miniconda3/envs/TimeSeries/lib/python3.12/site-packages (from jedi>=0.16->ipython>=7.12.0->tensortrade==1.0.4.dev1) (0.8.4)\r\n",
      "Requirement already satisfied: contourpy>=1.0.1 in /root/miniconda3/envs/TimeSeries/lib/python3.12/site-packages (from matplotlib>=3.1.1->tensortrade==1.0.4.dev1) (1.3.1)\r\n",
      "Requirement already satisfied: cycler>=0.10 in /root/miniconda3/envs/TimeSeries/lib/python3.12/site-packages (from matplotlib>=3.1.1->tensortrade==1.0.4.dev1) (0.11.0)\r\n",
      "Requirement already satisfied: fonttools>=4.22.0 in /root/miniconda3/envs/TimeSeries/lib/python3.12/site-packages (from matplotlib>=3.1.1->tensortrade==1.0.4.dev1) (4.55.3)\r\n",
      "Requirement already satisfied: kiwisolver>=1.3.1 in /root/miniconda3/envs/TimeSeries/lib/python3.12/site-packages (from matplotlib>=3.1.1->tensortrade==1.0.4.dev1) (1.4.8)\r\n",
      "Requirement already satisfied: packaging>=20.0 in /root/.local/lib/python3.12/site-packages (from matplotlib>=3.1.1->tensortrade==1.0.4.dev1) (25.0)\r\n",
      "Requirement already satisfied: pillow>=8 in /root/miniconda3/envs/TimeSeries/lib/python3.12/site-packages (from matplotlib>=3.1.1->tensortrade==1.0.4.dev1) (11.1.0)\r\n",
      "Requirement already satisfied: pyparsing>=2.3.1 in /root/miniconda3/envs/TimeSeries/lib/python3.12/site-packages (from matplotlib>=3.1.1->tensortrade==1.0.4.dev1) (3.2.0)\r\n",
      "Requirement already satisfied: python-dateutil>=2.7 in /root/miniconda3/envs/TimeSeries/lib/python3.12/site-packages (from matplotlib>=3.1.1->tensortrade==1.0.4.dev1) (2.9.0.post0)\r\n",
      "Requirement already satisfied: pytz>=2020.1 in /root/miniconda3/envs/TimeSeries/lib/python3.12/site-packages (from pandas>=0.25.0->tensortrade==1.0.4.dev1) (2024.1)\r\n",
      "Requirement already satisfied: tzdata>=2022.7 in /root/miniconda3/envs/TimeSeries/lib/python3.12/site-packages (from pandas>=0.25.0->tensortrade==1.0.4.dev1) (2025.2)\r\n",
      "Requirement already satisfied: ptyprocess>=0.5 in /root/miniconda3/envs/TimeSeries/lib/python3.12/site-packages (from pexpect>4.3->ipython>=7.12.0->tensortrade==1.0.4.dev1) (0.7.0)\r\n",
      "Requirement already satisfied: narwhals>=1.15.1 in /root/miniconda3/envs/TimeSeries/lib/python3.12/site-packages (from plotly>=4.5.0->tensortrade==1.0.4.dev1) (1.38.0)\r\n",
      "Requirement already satisfied: six>=1.5 in /root/.local/lib/python3.12/site-packages (from python-dateutil>=2.7->matplotlib>=3.1.1->tensortrade==1.0.4.dev1) (1.17.0)\r\n",
      "Requirement already satisfied: scipy<2.0,>=1.3 in /root/miniconda3/envs/TimeSeries/lib/python3.12/site-packages (from stochastic>=0.6.0->tensortrade==1.0.4.dev1) (1.15.2)\r\n",
      "Requirement already satisfied: absl-py>=1.0.0 in /root/.local/lib/python3.12/site-packages (from tensorflow>=2.7.0->tensortrade==1.0.4.dev1) (2.2.2)\r\n",
      "Requirement already satisfied: astunparse>=1.6.0 in /root/.local/lib/python3.12/site-packages (from tensorflow>=2.7.0->tensortrade==1.0.4.dev1) (1.6.3)\r\n",
      "Requirement already satisfied: flatbuffers>=24.3.25 in /root/.local/lib/python3.12/site-packages (from tensorflow>=2.7.0->tensortrade==1.0.4.dev1) (25.2.10)\r\n",
      "Requirement already satisfied: gast!=0.5.0,!=0.5.1,!=0.5.2,>=0.2.1 in /root/.local/lib/python3.12/site-packages (from tensorflow>=2.7.0->tensortrade==1.0.4.dev1) (0.6.0)\r\n",
      "Requirement already satisfied: google-pasta>=0.1.1 in /root/.local/lib/python3.12/site-packages (from tensorflow>=2.7.0->tensortrade==1.0.4.dev1) (0.2.0)\r\n",
      "Requirement already satisfied: libclang>=13.0.0 in /root/.local/lib/python3.12/site-packages (from tensorflow>=2.7.0->tensortrade==1.0.4.dev1) (18.1.1)\r\n",
      "Requirement already satisfied: opt-einsum>=2.3.2 in /root/.local/lib/python3.12/site-packages (from tensorflow>=2.7.0->tensortrade==1.0.4.dev1) (3.4.0)\r\n",
      "Requirement already satisfied: protobuf!=4.21.0,!=4.21.1,!=4.21.2,!=4.21.3,!=4.21.4,!=4.21.5,<6.0.0dev,>=3.20.3 in /root/.local/lib/python3.12/site-packages (from tensorflow>=2.7.0->tensortrade==1.0.4.dev1) (5.29.4)\r\n",
      "Requirement already satisfied: requests<3,>=2.21.0 in /root/.local/lib/python3.12/site-packages (from tensorflow>=2.7.0->tensortrade==1.0.4.dev1) (2.32.3)\r\n",
      "Requirement already satisfied: setuptools in /root/.local/lib/python3.12/site-packages (from tensorflow>=2.7.0->tensortrade==1.0.4.dev1) (80.3.1)\r\n",
      "Requirement already satisfied: termcolor>=1.1.0 in /root/.local/lib/python3.12/site-packages (from tensorflow>=2.7.0->tensortrade==1.0.4.dev1) (3.1.0)\r\n",
      "Requirement already satisfied: grpcio<2.0,>=1.24.3 in /root/.local/lib/python3.12/site-packages (from tensorflow>=2.7.0->tensortrade==1.0.4.dev1) (1.71.0)\r\n",
      "Requirement already satisfied: tensorboard~=2.19.0 in /root/.local/lib/python3.12/site-packages (from tensorflow>=2.7.0->tensortrade==1.0.4.dev1) (2.19.0)\r\n",
      "Requirement already satisfied: keras>=3.5.0 in /root/.local/lib/python3.12/site-packages (from tensorflow>=2.7.0->tensortrade==1.0.4.dev1) (3.9.2)\r\n",
      "Requirement already satisfied: h5py>=3.11.0 in /root/.local/lib/python3.12/site-packages (from tensorflow>=2.7.0->tensortrade==1.0.4.dev1) (3.13.0)\r\n",
      "Requirement already satisfied: ml-dtypes<1.0.0,>=0.5.1 in /root/.local/lib/python3.12/site-packages (from tensorflow>=2.7.0->tensortrade==1.0.4.dev1) (0.5.1)\r\n",
      "Requirement already satisfied: charset-normalizer<4,>=2 in /root/.local/lib/python3.12/site-packages (from requests<3,>=2.21.0->tensorflow>=2.7.0->tensortrade==1.0.4.dev1) (3.4.2)\r\n",
      "Requirement already satisfied: idna<4,>=2.5 in /root/.local/lib/python3.12/site-packages (from requests<3,>=2.21.0->tensorflow>=2.7.0->tensortrade==1.0.4.dev1) (3.10)\r\n",
      "Requirement already satisfied: urllib3<3,>=1.21.1 in /root/.local/lib/python3.12/site-packages (from requests<3,>=2.21.0->tensorflow>=2.7.0->tensortrade==1.0.4.dev1) (2.4.0)\r\n",
      "Requirement already satisfied: certifi>=2017.4.17 in /root/.local/lib/python3.12/site-packages (from requests<3,>=2.21.0->tensorflow>=2.7.0->tensortrade==1.0.4.dev1) (2025.4.26)\r\n",
      "Requirement already satisfied: markdown>=2.6.8 in /root/.local/lib/python3.12/site-packages (from tensorboard~=2.19.0->tensorflow>=2.7.0->tensortrade==1.0.4.dev1) (3.8)\r\n",
      "Requirement already satisfied: tensorboard-data-server<0.8.0,>=0.7.0 in /root/.local/lib/python3.12/site-packages (from tensorboard~=2.19.0->tensorflow>=2.7.0->tensortrade==1.0.4.dev1) (0.7.2)\r\n",
      "Requirement already satisfied: werkzeug>=1.0.1 in /root/.local/lib/python3.12/site-packages (from tensorboard~=2.19.0->tensorflow>=2.7.0->tensortrade==1.0.4.dev1) (3.1.3)\r\n",
      "Requirement already satisfied: wheel<1.0,>=0.23.0 in /root/.local/lib/python3.12/site-packages (from astunparse>=1.6.0->tensorflow>=2.7.0->tensortrade==1.0.4.dev1) (0.45.1)\r\n",
      "Requirement already satisfied: rich in /root/.local/lib/python3.12/site-packages (from keras>=3.5.0->tensorflow>=2.7.0->tensortrade==1.0.4.dev1) (14.0.0)\r\n",
      "Requirement already satisfied: namex in /root/.local/lib/python3.12/site-packages (from keras>=3.5.0->tensorflow>=2.7.0->tensortrade==1.0.4.dev1) (0.0.9)\r\n",
      "Requirement already satisfied: optree in /root/.local/lib/python3.12/site-packages (from keras>=3.5.0->tensorflow>=2.7.0->tensortrade==1.0.4.dev1) (0.15.0)\r\n",
      "Requirement already satisfied: MarkupSafe>=2.1.1 in /root/.local/lib/python3.12/site-packages (from werkzeug>=1.0.1->tensorboard~=2.19.0->tensorflow>=2.7.0->tensortrade==1.0.4.dev1) (3.0.2)\r\n",
      "Requirement already satisfied: markdown-it-py>=2.2.0 in /root/.local/lib/python3.12/site-packages (from rich->keras>=3.5.0->tensorflow>=2.7.0->tensortrade==1.0.4.dev1) (3.0.0)\r\n",
      "Requirement already satisfied: mdurl~=0.1 in /root/.local/lib/python3.12/site-packages (from markdown-it-py>=2.2.0->rich->keras>=3.5.0->tensorflow>=2.7.0->tensortrade==1.0.4.dev1) (0.1.2)\r\n",
      "Requirement already satisfied: executing in /root/miniconda3/envs/TimeSeries/lib/python3.12/site-packages (from stack_data->ipython>=7.12.0->tensortrade==1.0.4.dev1) (0.8.3)\r\n",
      "Requirement already satisfied: asttokens in /root/miniconda3/envs/TimeSeries/lib/python3.12/site-packages (from stack_data->ipython>=7.12.0->tensortrade==1.0.4.dev1) (3.0.0)\r\n",
      "Requirement already satisfied: pure-eval in /root/miniconda3/envs/TimeSeries/lib/python3.12/site-packages (from stack_data->ipython>=7.12.0->tensortrade==1.0.4.dev1) (0.2.2)\r\n",
      "\u001B[33mWARNING: Running pip as the 'root' user can result in broken permissions and conflicting behaviour with the system package manager, possibly rendering your system unusable. It is recommended to use a virtual environment instead: https://pip.pypa.io/warnings/venv. Use the --root-user-action option if you know what you are doing and want to suppress this warning.\u001B[0m\u001B[33m\r\n",
      "\u001B[0mNote: you may need to restart the kernel to use updated packages.\n"
     ]
    }
   ],
   "execution_count": 17
  },
  {
   "cell_type": "code",
   "metadata": {
    "id": "UkrQ9KU3JXpU",
    "ExecuteTime": {
     "end_time": "2025-05-08T10:35:07.337353Z",
     "start_time": "2025-05-08T10:35:07.334367Z"
    }
   },
   "source": [
    "# all imports:\n",
    "import pandas as pd\n",
    "import tensortrade.env.default as default\n",
    "\n",
    "from tensortrade.data.cdd import CryptoDataDownload\n",
    "from tensortrade.feed.core import Stream, DataFeed\n",
    "from tensortrade.oms.exchanges import Exchange\n",
    "from tensortrade.oms.services.execution.simulated import execute_order\n",
    "from tensortrade.oms.instruments import USD, BTC, ETH\n",
    "from tensortrade.oms.wallets import Wallet, Portfolio\n",
    "from tensortrade.agents import DQNAgent\n",
    "\n",
    "\n",
    "%matplotlib inline"
   ],
   "outputs": [],
   "execution_count": 18
  },
  {
   "cell_type": "code",
   "metadata": {
    "id": "QpPq3bKwJXpU",
    "ExecuteTime": {
     "end_time": "2025-05-08T10:35:09.877646Z",
     "start_time": "2025-05-08T10:35:07.375754Z"
    }
   },
   "source": [
    "cdd = CryptoDataDownload()\n",
    "\n",
    "data = cdd.fetch(\"Bitstamp\", \"USD\", \"BTC\", \"1h\")"
   ],
   "outputs": [],
   "execution_count": 19
  },
  {
   "cell_type": "code",
   "metadata": {
    "colab": {
     "base_uri": "https://localhost:8080/",
     "height": 204
    },
    "id": "yepqF5x7JXpV",
    "outputId": "166d22d5-e050-4f44-9b27-96d5c4f7b6e1",
    "ExecuteTime": {
     "end_time": "2025-05-08T10:35:09.891021Z",
     "start_time": "2025-05-08T10:35:09.885478Z"
    }
   },
   "source": [
    "data.head()"
   ],
   "outputs": [
    {
     "data": {
      "text/plain": [
       "                 date        unix     open     high      low    close   volume\n",
       "0 2018-05-15 06:00:00  1526364000  8733.86  8796.68  8707.28  8740.99   559.93\n",
       "1 2018-05-15 07:00:00  1526367600  8740.99  8766.00  8721.11  8739.00   273.58\n",
       "2 2018-05-15 08:00:00  1526371200  8739.00  8750.27  8660.53  8728.49   917.79\n",
       "3 2018-05-15 09:00:00  1526374800  8728.49  8754.40  8701.35  8708.32   182.62\n",
       "4 2018-05-15 10:00:00  1526378400  8708.32  8865.00  8695.11  8795.90  1260.69"
      ],
      "text/html": [
       "<div>\n",
       "<style scoped>\n",
       "    .dataframe tbody tr th:only-of-type {\n",
       "        vertical-align: middle;\n",
       "    }\n",
       "\n",
       "    .dataframe tbody tr th {\n",
       "        vertical-align: top;\n",
       "    }\n",
       "\n",
       "    .dataframe thead th {\n",
       "        text-align: right;\n",
       "    }\n",
       "</style>\n",
       "<table border=\"1\" class=\"dataframe\">\n",
       "  <thead>\n",
       "    <tr style=\"text-align: right;\">\n",
       "      <th></th>\n",
       "      <th>date</th>\n",
       "      <th>unix</th>\n",
       "      <th>open</th>\n",
       "      <th>high</th>\n",
       "      <th>low</th>\n",
       "      <th>close</th>\n",
       "      <th>volume</th>\n",
       "    </tr>\n",
       "  </thead>\n",
       "  <tbody>\n",
       "    <tr>\n",
       "      <th>0</th>\n",
       "      <td>2018-05-15 06:00:00</td>\n",
       "      <td>1526364000</td>\n",
       "      <td>8733.86</td>\n",
       "      <td>8796.68</td>\n",
       "      <td>8707.28</td>\n",
       "      <td>8740.99</td>\n",
       "      <td>559.93</td>\n",
       "    </tr>\n",
       "    <tr>\n",
       "      <th>1</th>\n",
       "      <td>2018-05-15 07:00:00</td>\n",
       "      <td>1526367600</td>\n",
       "      <td>8740.99</td>\n",
       "      <td>8766.00</td>\n",
       "      <td>8721.11</td>\n",
       "      <td>8739.00</td>\n",
       "      <td>273.58</td>\n",
       "    </tr>\n",
       "    <tr>\n",
       "      <th>2</th>\n",
       "      <td>2018-05-15 08:00:00</td>\n",
       "      <td>1526371200</td>\n",
       "      <td>8739.00</td>\n",
       "      <td>8750.27</td>\n",
       "      <td>8660.53</td>\n",
       "      <td>8728.49</td>\n",
       "      <td>917.79</td>\n",
       "    </tr>\n",
       "    <tr>\n",
       "      <th>3</th>\n",
       "      <td>2018-05-15 09:00:00</td>\n",
       "      <td>1526374800</td>\n",
       "      <td>8728.49</td>\n",
       "      <td>8754.40</td>\n",
       "      <td>8701.35</td>\n",
       "      <td>8708.32</td>\n",
       "      <td>182.62</td>\n",
       "    </tr>\n",
       "    <tr>\n",
       "      <th>4</th>\n",
       "      <td>2018-05-15 10:00:00</td>\n",
       "      <td>1526378400</td>\n",
       "      <td>8708.32</td>\n",
       "      <td>8865.00</td>\n",
       "      <td>8695.11</td>\n",
       "      <td>8795.90</td>\n",
       "      <td>1260.69</td>\n",
       "    </tr>\n",
       "  </tbody>\n",
       "</table>\n",
       "</div>"
      ]
     },
     "execution_count": 20,
     "metadata": {},
     "output_type": "execute_result"
    }
   ],
   "execution_count": 20
  },
  {
   "cell_type": "code",
   "metadata": {
    "id": "8PVhnDBvJXpW",
    "ExecuteTime": {
     "end_time": "2025-05-08T10:35:09.953636Z",
     "start_time": "2025-05-08T10:35:09.951066Z"
    }
   },
   "source": [
    "# we'll create a couple of indicators:\n",
    "def rsi(price: Stream[float], period: float) -> Stream[float]:\n",
    "    r = price.diff()\n",
    "    upside = r.clamp_min(0).abs()\n",
    "    downside = r.clamp_max(0).abs()\n",
    "    rs = upside.ewm(alpha=1 / period).mean() / downside.ewm(alpha=1 / period).mean()\n",
    "    return 100*(1 - (1 + rs) ** -1)\n",
    "\n",
    "\n",
    "def macd(price: Stream[float], fast: float, slow: float, signal: float) -> Stream[float]:\n",
    "    fm = price.ewm(span=fast, adjust=False).mean()\n",
    "    sm = price.ewm(span=slow, adjust=False).mean()\n",
    "    md = fm - sm\n",
    "    signal = md - md.ewm(span=signal, adjust=False).mean()\n",
    "    return signal## Create features with the feed module"
   ],
   "outputs": [],
   "execution_count": 21
  },
  {
   "cell_type": "code",
   "metadata": {
    "ExecuteTime": {
     "end_time": "2025-05-08T10:35:10.011681Z",
     "start_time": "2025-05-08T10:35:09.996003Z"
    }
   },
   "source": [
    "# choosing the closing price:\n",
    "features = []\n",
    "for c in data.columns[1:]:\n",
    "    s = Stream.source(list(data[c]), dtype=\"float\").rename(data[c].name)\n",
    "    features += [s]\n",
    "\n",
    "cp = Stream.select(features, lambda s: s.name == \"close\")"
   ],
   "outputs": [],
   "execution_count": 22
  },
  {
   "cell_type": "code",
   "metadata": {
    "id": "hYjM8JoJJXpW",
    "ExecuteTime": {
     "end_time": "2025-05-08T10:35:10.062691Z",
     "start_time": "2025-05-08T10:35:10.055088Z"
    }
   },
   "source": [
    "# adding the three features (trend indicator, RSI, MACD):\n",
    "features = [\n",
    "    cp.log().diff().rename(\"lr\"),\n",
    "    rsi(cp, period=20).rename(\"rsi\"),\n",
    "    macd(cp, fast=10, slow=50, signal=5).rename(\"macd\")\n",
    "]\n",
    "\n",
    "feed = DataFeed(features)\n",
    "feed.compile()"
   ],
   "outputs": [],
   "execution_count": 23
  },
  {
   "cell_type": "code",
   "metadata": {
    "colab": {
     "base_uri": "https://localhost:8080/"
    },
    "id": "uqXBeRwrJXpX",
    "outputId": "69b29f71-03e6-4c70-a6e3-3d8aa3b23717",
    "ExecuteTime": {
     "end_time": "2025-05-08T10:35:10.108342Z",
     "start_time": "2025-05-08T10:35:10.105573Z"
    }
   },
   "source": [
    "for i in range(5):\n",
    "    print(feed.next())"
   ],
   "outputs": [
    {
     "name": "stdout",
     "output_type": "stream",
     "text": [
      "{'lr': nan, 'rsi': nan, 'macd': 0.0}\n",
      "{'lr': -0.00022768891842694927, 'rsi': 0.0, 'macd': -0.1891859774210995}\n",
      "{'lr': -0.0012033785355889393, 'rsi': 0.0, 'macd': -1.2726616061000744}\n",
      "{'lr': -0.0023134975946028646, 'rsi': 0.0, 'macd': -3.6577343503541435}\n",
      "{'lr': 0.01000681330867259, 'rsi': 74.26253567956897, 'macd': 3.7087743627464844}\n"
     ]
    }
   ],
   "execution_count": 24
  },
  {
   "cell_type": "code",
   "metadata": {
    "ExecuteTime": {
     "end_time": "2025-05-08T10:35:10.164578Z",
     "start_time": "2025-05-08T10:35:10.158190Z"
    }
   },
   "source": [
    "# setting up broker and the portfolio:\n",
    "bitstamp = Exchange(\"bitstamp\", service=execute_order)(\n",
    "    Stream.source(list(data[\"close\"]), dtype=\"float\").rename(\"USD-BTC\")\n",
    ")\n",
    "\n",
    "portfolio = Portfolio(USD, [\n",
    "    Wallet(bitstamp, 10000 * USD),\n",
    "    Wallet(bitstamp, 10 * BTC)\n",
    "])"
   ],
   "outputs": [],
   "execution_count": 25
  },
  {
   "cell_type": "code",
   "metadata": {
    "ExecuteTime": {
     "end_time": "2025-05-08T10:35:10.249425Z",
     "start_time": "2025-05-08T10:35:10.220022Z"
    }
   },
   "source": [
    "# renderer:\n",
    "renderer_feed = DataFeed([\n",
    "    Stream.source(list(data[\"date\"])).rename(\"date\"),\n",
    "    Stream.source(list(data[\"open\"]), dtype=\"float\").rename(\"open\"),\n",
    "    Stream.source(list(data[\"high\"]), dtype=\"float\").rename(\"high\"),\n",
    "    Stream.source(list(data[\"low\"]), dtype=\"float\").rename(\"low\"),\n",
    "    Stream.source(list(data[\"close\"]), dtype=\"float\").rename(\"close\"), \n",
    "    Stream.source(list(data[\"volume\"]), dtype=\"float\").rename(\"volume\") \n",
    "])"
   ],
   "outputs": [],
   "execution_count": 26
  },
  {
   "cell_type": "code",
   "metadata": {
    "id": "IzWYGEyZJXpY",
    "ExecuteTime": {
     "end_time": "2025-05-08T10:35:10.328569Z",
     "start_time": "2025-05-08T10:35:10.298546Z"
    }
   },
   "source": [
    "# the trading environment:\n",
    "env = default.create(\n",
    "    portfolio=portfolio,\n",
    "    action_scheme=\"managed-risk\",\n",
    "    reward_scheme=\"risk-adjusted\",\n",
    "    feed=feed,\n",
    "    renderer_feed=renderer_feed,\n",
    "    renderer=default.renderers.PlotlyTradingChart(),\n",
    "    window_size=20\n",
    ")"
   ],
   "outputs": [],
   "execution_count": 27
  },
  {
   "cell_type": "code",
   "metadata": {
    "colab": {
     "base_uri": "https://localhost:8080/"
    },
    "id": "hYUd95vjJXpY",
    "outputId": "45d3f699-abe3-49d4-fd87-d7bba3e953f9",
    "ExecuteTime": {
     "end_time": "2025-05-08T10:35:10.379387Z",
     "start_time": "2025-05-08T10:35:10.375931Z"
    }
   },
   "source": [
    "env.observer.feed.next()"
   ],
   "outputs": [
    {
     "data": {
      "text/plain": [
       "{'internal': {'bitstamp:/USD-BTC': 8740.99,\n",
       "  'bitstamp:/USD:/free': 10000.0,\n",
       "  'bitstamp:/USD:/locked': 0.0,\n",
       "  'bitstamp:/USD:/total': 10000.0,\n",
       "  'bitstamp:/BTC:/free': 10.0,\n",
       "  'bitstamp:/BTC:/locked': 0.0,\n",
       "  'bitstamp:/BTC:/total': 10.0,\n",
       "  'bitstamp:/BTC:/worth': 87409.9,\n",
       "  'net_worth': 97409.9},\n",
       " 'external': {'lr': nan, 'rsi': nan, 'macd': 0.0},\n",
       " 'renderer': {'date': Timestamp('2018-05-15 06:00:00'),\n",
       "  'open': 8733.86,\n",
       "  'high': 8796.68,\n",
       "  'low': 8707.28,\n",
       "  'close': 8740.99,\n",
       "  'volume': 559.93}}"
      ]
     },
     "execution_count": 28,
     "metadata": {},
     "output_type": "execute_result"
    }
   ],
   "execution_count": 28
  },
  {
   "cell_type": "code",
   "metadata": {
    "colab": {
     "base_uri": "https://localhost:8080/",
     "height": 1000,
     "referenced_widgets": [
      "9bcf0bbf1c1c49859a2dfa40acce1038"
     ]
    },
    "id": "YoxUET9ZJXpZ",
    "outputId": "a7672ac6-9c9c-42ff-b9d3-8a128fd882ae",
    "ExecuteTime": {
     "end_time": "2025-05-08T10:35:10.645681Z",
     "start_time": "2025-05-08T10:35:10.431181Z"
    }
   },
   "source": [
    "# training a DQN trading agent\n",
    "agent = DQNAgent(env)\n",
    "\n",
    "agent.train(n_steps=200, n_episodes=2, save_path=\"agents/\")"
   ],
   "outputs": [
    {
     "name": "stderr",
     "output_type": "stream",
     "text": [
      "/tmp/ipykernel_219745/500066288.py:2: DeprecationWarning: Call to deprecated class DQNAgent. (Builtin agents are being deprecated in favor of external implementations (ie: Ray)) -- Deprecated since version 1.0.4.\n",
      "  agent = DQNAgent(env)\n"
     ]
    },
    {
     "ename": "TypeError",
     "evalue": "Error when deserializing class 'Conv1D' using config={'name': 'conv1d_11', 'trainable': True, 'dtype': 'float32', 'filters': 64, 'kernel_size': (4,), 'strides': (2,), 'padding': 'causal', 'data_format': 'channels_last', 'dilation_rate': (1,), 'groups': 1, 'activation': {'module': 'keras.layers', 'class_name': 'PReLU', 'config': {'name': 'p_re_lu_12', 'trainable': True, 'dtype': {'module': 'keras', 'class_name': 'DTypePolicy', 'config': {'name': 'float32'}, 'registered_name': None}, 'alpha_initializer': {'module': 'keras.initializers', 'class_name': 'Zeros', 'config': {}, 'registered_name': None}, 'alpha_regularizer': None, 'alpha_constraint': None, 'shared_axes': None}, 'registered_name': None}, 'use_bias': True, 'kernel_initializer': {'module': 'keras.initializers', 'class_name': 'HeUniform', 'config': {'seed': None}, 'registered_name': None}, 'bias_initializer': {'module': 'keras.initializers', 'class_name': 'Zeros', 'config': {}, 'registered_name': None}, 'kernel_regularizer': None, 'bias_regularizer': None, 'activity_regularizer': None, 'kernel_constraint': None, 'bias_constraint': None}.\n\nException encountered: Could not interpret activation function identifier: {'module': 'keras.layers', 'class_name': 'PReLU', 'config': {'name': 'p_re_lu_12', 'trainable': True, 'dtype': {'module': 'keras', 'class_name': 'DTypePolicy', 'config': {'name': 'float32'}, 'registered_name': None}, 'alpha_initializer': {'module': 'keras.initializers', 'class_name': 'Zeros', 'config': {}, 'registered_name': None}, 'alpha_regularizer': None, 'alpha_constraint': None, 'shared_axes': None}, 'registered_name': None}",
     "output_type": "error",
     "traceback": [
      "\u001B[31m---------------------------------------------------------------------------\u001B[39m",
      "\u001B[31mValueError\u001B[39m                                Traceback (most recent call last)",
      "\u001B[36mFile \u001B[39m\u001B[32m~/.local/lib/python3.12/site-packages/keras/src/ops/operation.py:256\u001B[39m, in \u001B[36mOperation.from_config\u001B[39m\u001B[34m(cls, config)\u001B[39m\n\u001B[32m    255\u001B[39m \u001B[38;5;28;01mtry\u001B[39;00m:\n\u001B[32m--> \u001B[39m\u001B[32m256\u001B[39m     \u001B[38;5;28;01mreturn\u001B[39;00m \u001B[38;5;28mcls\u001B[39m(**config)\n\u001B[32m    257\u001B[39m \u001B[38;5;28;01mexcept\u001B[39;00m \u001B[38;5;167;01mException\u001B[39;00m \u001B[38;5;28;01mas\u001B[39;00m e:\n",
      "\u001B[36mFile \u001B[39m\u001B[32m~/.local/lib/python3.12/site-packages/keras/src/layers/convolutional/conv1d.py:115\u001B[39m, in \u001B[36mConv1D.__init__\u001B[39m\u001B[34m(self, filters, kernel_size, strides, padding, data_format, dilation_rate, groups, activation, use_bias, kernel_initializer, bias_initializer, kernel_regularizer, bias_regularizer, activity_regularizer, kernel_constraint, bias_constraint, **kwargs)\u001B[39m\n\u001B[32m     95\u001B[39m \u001B[38;5;28;01mdef\u001B[39;00m\u001B[38;5;250m \u001B[39m\u001B[34m__init__\u001B[39m(\n\u001B[32m     96\u001B[39m     \u001B[38;5;28mself\u001B[39m,\n\u001B[32m     97\u001B[39m     filters,\n\u001B[32m   (...)\u001B[39m\u001B[32m    113\u001B[39m     **kwargs,\n\u001B[32m    114\u001B[39m ):\n\u001B[32m--> \u001B[39m\u001B[32m115\u001B[39m     \u001B[38;5;28msuper\u001B[39m().\u001B[34m__init__\u001B[39m(\n\u001B[32m    116\u001B[39m         rank=\u001B[32m1\u001B[39m,\n\u001B[32m    117\u001B[39m         filters=filters,\n\u001B[32m    118\u001B[39m         kernel_size=kernel_size,\n\u001B[32m    119\u001B[39m         strides=strides,\n\u001B[32m    120\u001B[39m         padding=padding,\n\u001B[32m    121\u001B[39m         data_format=data_format,\n\u001B[32m    122\u001B[39m         dilation_rate=dilation_rate,\n\u001B[32m    123\u001B[39m         groups=groups,\n\u001B[32m    124\u001B[39m         activation=activation,\n\u001B[32m    125\u001B[39m         use_bias=use_bias,\n\u001B[32m    126\u001B[39m         kernel_initializer=kernel_initializer,\n\u001B[32m    127\u001B[39m         bias_initializer=bias_initializer,\n\u001B[32m    128\u001B[39m         kernel_regularizer=kernel_regularizer,\n\u001B[32m    129\u001B[39m         bias_regularizer=bias_regularizer,\n\u001B[32m    130\u001B[39m         activity_regularizer=activity_regularizer,\n\u001B[32m    131\u001B[39m         kernel_constraint=kernel_constraint,\n\u001B[32m    132\u001B[39m         bias_constraint=bias_constraint,\n\u001B[32m    133\u001B[39m         **kwargs,\n\u001B[32m    134\u001B[39m     )\n",
      "\u001B[36mFile \u001B[39m\u001B[32m~/.local/lib/python3.12/site-packages/keras/src/layers/convolutional/base_conv.py:118\u001B[39m, in \u001B[36mBaseConv.__init__\u001B[39m\u001B[34m(self, rank, filters, kernel_size, strides, padding, data_format, dilation_rate, groups, activation, use_bias, kernel_initializer, bias_initializer, kernel_regularizer, bias_regularizer, activity_regularizer, kernel_constraint, bias_constraint, lora_rank, **kwargs)\u001B[39m\n\u001B[32m    117\u001B[39m \u001B[38;5;28mself\u001B[39m.data_format = standardize_data_format(data_format)\n\u001B[32m--> \u001B[39m\u001B[32m118\u001B[39m \u001B[38;5;28mself\u001B[39m.activation = activations.get(activation)\n\u001B[32m    119\u001B[39m \u001B[38;5;28mself\u001B[39m.use_bias = use_bias\n",
      "\u001B[36mFile \u001B[39m\u001B[32m~/.local/lib/python3.12/site-packages/keras/src/activations/__init__.py:126\u001B[39m, in \u001B[36mget\u001B[39m\u001B[34m(identifier)\u001B[39m\n\u001B[32m    125\u001B[39m     \u001B[38;5;28;01mreturn\u001B[39;00m obj\n\u001B[32m--> \u001B[39m\u001B[32m126\u001B[39m \u001B[38;5;28;01mraise\u001B[39;00m \u001B[38;5;167;01mValueError\u001B[39;00m(\n\u001B[32m    127\u001B[39m     \u001B[33mf\u001B[39m\u001B[33m\"\u001B[39m\u001B[33mCould not interpret activation function identifier: \u001B[39m\u001B[38;5;132;01m{\u001B[39;00midentifier\u001B[38;5;132;01m}\u001B[39;00m\u001B[33m\"\u001B[39m\n\u001B[32m    128\u001B[39m )\n",
      "\u001B[31mValueError\u001B[39m: Could not interpret activation function identifier: {'module': 'keras.layers', 'class_name': 'PReLU', 'config': {'name': 'p_re_lu_12', 'trainable': True, 'dtype': {'module': 'keras', 'class_name': 'DTypePolicy', 'config': {'name': 'float32'}, 'registered_name': None}, 'alpha_initializer': {'module': 'keras.initializers', 'class_name': 'Zeros', 'config': {}, 'registered_name': None}, 'alpha_regularizer': None, 'alpha_constraint': None, 'shared_axes': None}, 'registered_name': None}",
      "\nDuring handling of the above exception, another exception occurred:\n",
      "\u001B[31mTypeError\u001B[39m                                 Traceback (most recent call last)",
      "\u001B[36mCell\u001B[39m\u001B[36m \u001B[39m\u001B[32mIn[29]\u001B[39m\u001B[32m, line 2\u001B[39m\n\u001B[32m      1\u001B[39m \u001B[38;5;66;03m# training a DQN trading agent\u001B[39;00m\n\u001B[32m----> \u001B[39m\u001B[32m2\u001B[39m agent = DQNAgent(env)\n\u001B[32m      4\u001B[39m agent.train(n_steps=\u001B[32m200\u001B[39m, n_episodes=\u001B[32m2\u001B[39m, save_path=\u001B[33m\"\u001B[39m\u001B[33magents/\u001B[39m\u001B[33m\"\u001B[39m)\n",
      "\u001B[36mFile \u001B[39m\u001B[32m~/miniconda3/envs/TimeSeries/lib/python3.12/site-packages/tensortrade/agents/dqn_agent.py:48\u001B[39m, in \u001B[36mDQNAgent.__init__\u001B[39m\u001B[34m(self, env, policy_network)\u001B[39m\n\u001B[32m     44\u001B[39m \u001B[38;5;28mself\u001B[39m.observation_shape = env.observation_space.shape\n\u001B[32m     46\u001B[39m \u001B[38;5;28mself\u001B[39m.policy_network = policy_network \u001B[38;5;129;01mor\u001B[39;00m \u001B[38;5;28mself\u001B[39m._build_policy_network()\n\u001B[32m---> \u001B[39m\u001B[32m48\u001B[39m \u001B[38;5;28mself\u001B[39m.target_network = tf.keras.models.clone_model(\u001B[38;5;28mself\u001B[39m.policy_network)\n\u001B[32m     49\u001B[39m \u001B[38;5;28mself\u001B[39m.target_network.trainable = \u001B[38;5;28;01mFalse\u001B[39;00m\n\u001B[32m     51\u001B[39m \u001B[38;5;28mself\u001B[39m.env.agent_id = \u001B[38;5;28mself\u001B[39m.id\n",
      "\u001B[36mFile \u001B[39m\u001B[32m~/.local/lib/python3.12/site-packages/keras/src/models/cloning.py:182\u001B[39m, in \u001B[36mclone_model\u001B[39m\u001B[34m(model, input_tensors, clone_function, call_function, recursive, **kwargs)\u001B[39m\n\u001B[32m    173\u001B[39m     \u001B[38;5;66;03m# If the get_config() method is the same as a regular Functional\u001B[39;00m\n\u001B[32m    174\u001B[39m     \u001B[38;5;66;03m# model, we're safe to use _clone_functional_model (which relies\u001B[39;00m\n\u001B[32m    175\u001B[39m     \u001B[38;5;66;03m# on a Functional constructor). In the case where the get_config\u001B[39;00m\n\u001B[32m    176\u001B[39m     \u001B[38;5;66;03m# is custom, this may not necessarily work, but if clone_function\u001B[39;00m\n\u001B[32m    177\u001B[39m     \u001B[38;5;66;03m# or input_tensors are passed, we attempt it anyway\u001B[39;00m\n\u001B[32m    178\u001B[39m     \u001B[38;5;66;03m# in order to preserve backwards compatibility.\u001B[39;00m\n\u001B[32m    179\u001B[39m     \u001B[38;5;28;01mif\u001B[39;00m utils.is_default(model.get_config) \u001B[38;5;129;01mor\u001B[39;00m (\n\u001B[32m    180\u001B[39m         clone_function \u001B[38;5;129;01mor\u001B[39;00m input_tensors\n\u001B[32m    181\u001B[39m     ):\n\u001B[32m--> \u001B[39m\u001B[32m182\u001B[39m         \u001B[38;5;28;01mreturn\u001B[39;00m _clone_functional_model(\n\u001B[32m    183\u001B[39m             model,\n\u001B[32m    184\u001B[39m             clone_function=clone_function,\n\u001B[32m    185\u001B[39m             call_function=call_function,\n\u001B[32m    186\u001B[39m             input_tensors=input_tensors,\n\u001B[32m    187\u001B[39m         )\n\u001B[32m    189\u001B[39m \u001B[38;5;66;03m# Case of a custom model class\u001B[39;00m\n\u001B[32m    190\u001B[39m \u001B[38;5;28;01mif\u001B[39;00m clone_function \u001B[38;5;129;01mor\u001B[39;00m input_tensors:\n",
      "\u001B[36mFile \u001B[39m\u001B[32m~/.local/lib/python3.12/site-packages/keras/src/models/cloning.py:401\u001B[39m, in \u001B[36m_clone_functional_model\u001B[39m\u001B[34m(model, clone_function, input_tensors, call_function)\u001B[39m\n\u001B[32m    398\u001B[39m     new_layer = clone_function(layer)\n\u001B[32m    399\u001B[39m     \u001B[38;5;28;01mreturn\u001B[39;00m new_layer\n\u001B[32m--> \u001B[39m\u001B[32m401\u001B[39m output_tensors = model._run_through_graph(\n\u001B[32m    402\u001B[39m     input_tensors,\n\u001B[32m    403\u001B[39m     operation_fn=operation_fn,\n\u001B[32m    404\u001B[39m     call_fn=call_function,\n\u001B[32m    405\u001B[39m )\n\u001B[32m    407\u001B[39m \u001B[38;5;28;01mif\u001B[39;00m functional_like_constructor(model.\u001B[34m__class__\u001B[39m):\n\u001B[32m    408\u001B[39m     new_model = model.\u001B[34m__class__\u001B[39m(\n\u001B[32m    409\u001B[39m         input_tensors, output_tensors, name=model.name\n\u001B[32m    410\u001B[39m     )\n",
      "\u001B[36mFile \u001B[39m\u001B[32m~/.local/lib/python3.12/site-packages/keras/src/ops/function.py:167\u001B[39m, in \u001B[36mFunction._run_through_graph\u001B[39m\u001B[34m(self, inputs, operation_fn, call_fn)\u001B[39m\n\u001B[32m    164\u001B[39m     \u001B[38;5;28;01mcontinue\u001B[39;00m  \u001B[38;5;66;03m# Node is not computable, try skipping.\u001B[39;00m\n\u001B[32m    166\u001B[39m args, kwargs = node.arguments.fill_in(tensor_dict)\n\u001B[32m--> \u001B[39m\u001B[32m167\u001B[39m op = operation_fn(node.operation)\n\u001B[32m    168\u001B[39m \u001B[38;5;28;01mif\u001B[39;00m call_fn \u001B[38;5;129;01mis\u001B[39;00m \u001B[38;5;129;01mnot\u001B[39;00m \u001B[38;5;28;01mNone\u001B[39;00m:\n\u001B[32m    169\u001B[39m     outputs = call_fn(op, *args, **kwargs)\n",
      "\u001B[36mFile \u001B[39m\u001B[32m~/.local/lib/python3.12/site-packages/keras/src/models/cloning.py:398\u001B[39m, in \u001B[36m_clone_functional_model.<locals>.operation_fn\u001B[39m\u001B[34m(layer)\u001B[39m\n\u001B[32m    397\u001B[39m \u001B[38;5;28;01mdef\u001B[39;00m\u001B[38;5;250m \u001B[39m\u001B[34moperation_fn\u001B[39m(layer):\n\u001B[32m--> \u001B[39m\u001B[32m398\u001B[39m     new_layer = clone_function(layer)\n\u001B[32m    399\u001B[39m     \u001B[38;5;28;01mreturn\u001B[39;00m new_layer\n",
      "\u001B[36mFile \u001B[39m\u001B[32m~/.local/lib/python3.12/site-packages/keras/src/models/cloning.py:248\u001B[39m, in \u001B[36m_wrap_clone_function.<locals>.wrapped_clone_function\u001B[39m\u001B[34m(layer)\u001B[39m\n\u001B[32m    246\u001B[39m         cache[\u001B[38;5;28mid\u001B[39m(layer)] = clone\n\u001B[32m    247\u001B[39m         \u001B[38;5;28;01mreturn\u001B[39;00m clone\n\u001B[32m--> \u001B[39m\u001B[32m248\u001B[39m clone = clone_function(layer)\n\u001B[32m    249\u001B[39m cache[\u001B[38;5;28mid\u001B[39m(layer)] = clone\n\u001B[32m    250\u001B[39m \u001B[38;5;28;01mreturn\u001B[39;00m clone\n",
      "\u001B[36mFile \u001B[39m\u001B[32m~/.local/lib/python3.12/site-packages/keras/src/models/cloning.py:219\u001B[39m, in \u001B[36m_wrap_clone_function.<locals>._clone_layer\u001B[39m\u001B[34m(layer)\u001B[39m\n\u001B[32m    218\u001B[39m \u001B[38;5;28;01mdef\u001B[39;00m\u001B[38;5;250m \u001B[39m\u001B[34m_clone_layer\u001B[39m(layer):\n\u001B[32m--> \u001B[39m\u001B[32m219\u001B[39m     \u001B[38;5;28;01mreturn\u001B[39;00m layer.\u001B[34m__class__\u001B[39m.from_config(layer.get_config())\n",
      "\u001B[36mFile \u001B[39m\u001B[32m~/.local/lib/python3.12/site-packages/keras/src/ops/operation.py:258\u001B[39m, in \u001B[36mOperation.from_config\u001B[39m\u001B[34m(cls, config)\u001B[39m\n\u001B[32m    256\u001B[39m     \u001B[38;5;28;01mreturn\u001B[39;00m \u001B[38;5;28mcls\u001B[39m(**config)\n\u001B[32m    257\u001B[39m \u001B[38;5;28;01mexcept\u001B[39;00m \u001B[38;5;167;01mException\u001B[39;00m \u001B[38;5;28;01mas\u001B[39;00m e:\n\u001B[32m--> \u001B[39m\u001B[32m258\u001B[39m     \u001B[38;5;28;01mraise\u001B[39;00m \u001B[38;5;167;01mTypeError\u001B[39;00m(\n\u001B[32m    259\u001B[39m         \u001B[33mf\u001B[39m\u001B[33m\"\u001B[39m\u001B[33mError when deserializing class \u001B[39m\u001B[33m'\u001B[39m\u001B[38;5;132;01m{\u001B[39;00m\u001B[38;5;28mcls\u001B[39m.\u001B[34m__name__\u001B[39m\u001B[38;5;132;01m}\u001B[39;00m\u001B[33m'\u001B[39m\u001B[33m using \u001B[39m\u001B[33m\"\u001B[39m\n\u001B[32m    260\u001B[39m         \u001B[33mf\u001B[39m\u001B[33m\"\u001B[39m\u001B[33mconfig=\u001B[39m\u001B[38;5;132;01m{\u001B[39;00mconfig\u001B[38;5;132;01m}\u001B[39;00m\u001B[33m.\u001B[39m\u001B[38;5;130;01m\\n\u001B[39;00m\u001B[38;5;130;01m\\n\u001B[39;00m\u001B[33mException encountered: \u001B[39m\u001B[38;5;132;01m{\u001B[39;00me\u001B[38;5;132;01m}\u001B[39;00m\u001B[33m\"\u001B[39m\n\u001B[32m    261\u001B[39m     )\n",
      "\u001B[31mTypeError\u001B[39m: Error when deserializing class 'Conv1D' using config={'name': 'conv1d_11', 'trainable': True, 'dtype': 'float32', 'filters': 64, 'kernel_size': (4,), 'strides': (2,), 'padding': 'causal', 'data_format': 'channels_last', 'dilation_rate': (1,), 'groups': 1, 'activation': {'module': 'keras.layers', 'class_name': 'PReLU', 'config': {'name': 'p_re_lu_12', 'trainable': True, 'dtype': {'module': 'keras', 'class_name': 'DTypePolicy', 'config': {'name': 'float32'}, 'registered_name': None}, 'alpha_initializer': {'module': 'keras.initializers', 'class_name': 'Zeros', 'config': {}, 'registered_name': None}, 'alpha_regularizer': None, 'alpha_constraint': None, 'shared_axes': None}, 'registered_name': None}, 'use_bias': True, 'kernel_initializer': {'module': 'keras.initializers', 'class_name': 'HeUniform', 'config': {'seed': None}, 'registered_name': None}, 'bias_initializer': {'module': 'keras.initializers', 'class_name': 'Zeros', 'config': {}, 'registered_name': None}, 'kernel_regularizer': None, 'bias_regularizer': None, 'activity_regularizer': None, 'kernel_constraint': None, 'bias_constraint': None}.\n\nException encountered: Could not interpret activation function identifier: {'module': 'keras.layers', 'class_name': 'PReLU', 'config': {'name': 'p_re_lu_12', 'trainable': True, 'dtype': {'module': 'keras', 'class_name': 'DTypePolicy', 'config': {'name': 'float32'}, 'registered_name': None}, 'alpha_initializer': {'module': 'keras.initializers', 'class_name': 'Zeros', 'config': {}, 'registered_name': None}, 'alpha_regularizer': None, 'alpha_constraint': None, 'shared_axes': None}, 'registered_name': None}"
     ]
    }
   ],
   "execution_count": 29
  },
  {
   "cell_type": "code",
   "metadata": {
    "colab": {
     "base_uri": "https://localhost:8080/",
     "height": 282
    },
    "id": "dtoYz5bOKGdo",
    "outputId": "fc4372f2-1d3f-4072-e452-2d91d41a2abe",
    "ExecuteTime": {
     "end_time": "2025-05-08T10:35:38.754101Z",
     "start_time": "2025-05-08T10:35:38.695051Z"
    }
   },
   "source": [
    "%matplotlib inline\n",
    "\n",
    "performance = pd.DataFrame.from_dict(env.action_scheme.portfolio.performance, orient='index')\n",
    "performance.plot()"
   ],
   "outputs": [
    {
     "data": {
      "text/plain": [
       "<Axes: >"
      ]
     },
     "execution_count": 30,
     "metadata": {},
     "output_type": "execute_result"
    }
   ],
   "execution_count": 30
  },
  {
   "cell_type": "code",
   "metadata": {
    "colab": {
     "base_uri": "https://localhost:8080/",
     "height": 282
    },
    "id": "URT6-E9wVtIt",
    "outputId": "0b293bc2-46a6-4031-ea0c-9c8415f60d77",
    "ExecuteTime": {
     "end_time": "2025-05-08T10:35:40.173748Z",
     "start_time": "2025-05-08T10:35:40.145338Z"
    }
   },
   "source": [
    "performance[\"net_worth\"].plot()"
   ],
   "outputs": [
    {
     "data": {
      "text/plain": [
       "<Axes: >"
      ]
     },
     "execution_count": 31,
     "metadata": {},
     "output_type": "execute_result"
    }
   ],
   "execution_count": 31
  },
  {
   "cell_type": "code",
   "execution_count": null,
   "metadata": {
    "id": "GymCxiqfV0VM"
   },
   "outputs": [],
   "source": []
  }
 ],
 "metadata": {
  "colab": {
   "collapsed_sections": [],
   "name": "train_and_evaluate.ipynb",
   "provenance": []
  },
  "kernelspec": {
   "display_name": "Python 3",
   "language": "python",
   "name": "python3"
  },
  "language_info": {
   "codemirror_mode": {
    "name": "ipython",
    "version": 3
   },
   "file_extension": ".py",
   "mimetype": "text/x-python",
   "name": "python",
   "nbconvert_exporter": "python",
   "pygments_lexer": "ipython3",
   "version": "3.8.8"
  }
 },
 "nbformat": 4,
 "nbformat_minor": 4
}

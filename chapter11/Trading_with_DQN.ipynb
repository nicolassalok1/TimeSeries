{
 "cells": [
  {
   "cell_type": "markdown",
   "metadata": {},
   "source": [
    "<a href=\"https://colab.research.google.com/github/PacktPublishing/Machine-Learning-for-Time-Series-with-Python/blob/master/chapter11/Trading_with_DQN.ipynb\" target=\"_parent\\\"><img src=\"https://colab.research.google.com/assets/colab-badge.svg\" alt=\"Open In Colab\"/></a>"
   ]
  },
  {
   "cell_type": "code",
   "metadata": {
    "id": "P6xXgYonWE8n",
    "ExecuteTime": {
     "end_time": "2025-05-31T07:35:40.410549Z",
     "start_time": "2025-05-31T07:35:40.408879Z"
    }
   },
   "source": [
    "# based on https://github.com/tensortrade-org/tensortrade/blob/master/examples/train_and_evaluate.ipynb"
   ],
   "outputs": [],
   "execution_count": 1
  },
  {
   "cell_type": "code",
   "metadata": {
    "colab": {
     "base_uri": "https://localhost:8080/"
    },
    "id": "hp1Fk0dGJXpT",
    "outputId": "c7215ab3-26d0-45a9-8c47-6973f527ace6",
    "ExecuteTime": {
     "end_time": "2025-05-31T07:35:40.475939Z",
     "start_time": "2025-05-31T07:35:40.473616Z"
    }
   },
   "source": "#pip install git+https://github.com/tensortrade-org/tensortrade.git",
   "outputs": [],
   "execution_count": 2
  },
  {
   "cell_type": "code",
   "metadata": {
    "id": "UkrQ9KU3JXpU",
    "ExecuteTime": {
     "end_time": "2025-05-31T07:35:41.935110Z",
     "start_time": "2025-05-31T07:35:40.548471Z"
    }
   },
   "source": [
    "# all imports:\n",
    "import pandas as pd\n",
    "import tensortrade.env.default as default\n",
    "\n",
    "from tensortrade.data.cdd import CryptoDataDownload\n",
    "from tensortrade.feed.core import Stream, DataFeed\n",
    "from tensortrade.oms.exchanges import Exchange\n",
    "from tensortrade.oms.services.execution.simulated import execute_order\n",
    "from tensortrade.oms.instruments import USD, BTC, ETH\n",
    "from tensortrade.oms.wallets import Wallet, Portfolio\n",
    "from tensortrade.agents import DQNAgent\n",
    "\n",
    "\n",
    "#%matplotlib inline"
   ],
   "outputs": [
    {
     "name": "stderr",
     "output_type": "stream",
     "text": [
      "2025-05-31 09:35:40.861494: I tensorflow/core/util/port.cc:153] oneDNN custom operations are on. You may see slightly different numerical results due to floating-point round-off errors from different computation orders. To turn them off, set the environment variable `TF_ENABLE_ONEDNN_OPTS=0`.\n",
      "2025-05-31 09:35:40.878040: E external/local_xla/xla/stream_executor/cuda/cuda_fft.cc:467] Unable to register cuFFT factory: Attempting to register factory for plugin cuFFT when one has already been registered\n",
      "WARNING: All log messages before absl::InitializeLog() is called are written to STDERR\n",
      "E0000 00:00:1748676940.890009   11631 cuda_dnn.cc:8579] Unable to register cuDNN factory: Attempting to register factory for plugin cuDNN when one has already been registered\n",
      "E0000 00:00:1748676940.893767   11631 cuda_blas.cc:1407] Unable to register cuBLAS factory: Attempting to register factory for plugin cuBLAS when one has already been registered\n",
      "W0000 00:00:1748676940.907307   11631 computation_placer.cc:177] computation placer already registered. Please check linkage and avoid linking the same target more than once.\n",
      "W0000 00:00:1748676940.907337   11631 computation_placer.cc:177] computation placer already registered. Please check linkage and avoid linking the same target more than once.\n",
      "W0000 00:00:1748676940.907338   11631 computation_placer.cc:177] computation placer already registered. Please check linkage and avoid linking the same target more than once.\n",
      "W0000 00:00:1748676940.907339   11631 computation_placer.cc:177] computation placer already registered. Please check linkage and avoid linking the same target more than once.\n",
      "2025-05-31 09:35:40.912029: I tensorflow/core/platform/cpu_feature_guard.cc:210] This TensorFlow binary is optimized to use available CPU instructions in performance-critical operations.\n",
      "To enable the following instructions: AVX2 AVX_VNNI FMA, in other operations, rebuild TensorFlow with the appropriate compiler flags.\n"
     ]
    }
   ],
   "execution_count": 3
  },
  {
   "cell_type": "code",
   "metadata": {
    "id": "QpPq3bKwJXpU",
    "ExecuteTime": {
     "end_time": "2025-05-31T07:35:45.435967Z",
     "start_time": "2025-05-31T07:35:41.942036Z"
    }
   },
   "source": [
    "cdd = CryptoDataDownload()\n",
    "\n",
    "data = cdd.fetch(\"Bitstamp\", \"USD\", \"BTC\", \"1h\")"
   ],
   "outputs": [],
   "execution_count": 4
  },
  {
   "cell_type": "code",
   "metadata": {
    "colab": {
     "base_uri": "https://localhost:8080/",
     "height": 204
    },
    "id": "yepqF5x7JXpV",
    "outputId": "166d22d5-e050-4f44-9b27-96d5c4f7b6e1",
    "ExecuteTime": {
     "end_time": "2025-05-31T07:35:45.454118Z",
     "start_time": "2025-05-31T07:35:45.446932Z"
    }
   },
   "source": [
    "data.head()"
   ],
   "outputs": [
    {
     "data": {
      "text/plain": [
       "                 date        unix     open     high      low    close   volume\n",
       "0 2018-05-15 06:00:00  1526364000  8733.86  8796.68  8707.28  8740.99   559.93\n",
       "1 2018-05-15 07:00:00  1526367600  8740.99  8766.00  8721.11  8739.00   273.58\n",
       "2 2018-05-15 08:00:00  1526371200  8739.00  8750.27  8660.53  8728.49   917.79\n",
       "3 2018-05-15 09:00:00  1526374800  8728.49  8754.40  8701.35  8708.32   182.62\n",
       "4 2018-05-15 10:00:00  1526378400  8708.32  8865.00  8695.11  8795.90  1260.69"
      ],
      "text/html": [
       "<div>\n",
       "<style scoped>\n",
       "    .dataframe tbody tr th:only-of-type {\n",
       "        vertical-align: middle;\n",
       "    }\n",
       "\n",
       "    .dataframe tbody tr th {\n",
       "        vertical-align: top;\n",
       "    }\n",
       "\n",
       "    .dataframe thead th {\n",
       "        text-align: right;\n",
       "    }\n",
       "</style>\n",
       "<table border=\"1\" class=\"dataframe\">\n",
       "  <thead>\n",
       "    <tr style=\"text-align: right;\">\n",
       "      <th></th>\n",
       "      <th>date</th>\n",
       "      <th>unix</th>\n",
       "      <th>open</th>\n",
       "      <th>high</th>\n",
       "      <th>low</th>\n",
       "      <th>close</th>\n",
       "      <th>volume</th>\n",
       "    </tr>\n",
       "  </thead>\n",
       "  <tbody>\n",
       "    <tr>\n",
       "      <th>0</th>\n",
       "      <td>2018-05-15 06:00:00</td>\n",
       "      <td>1526364000</td>\n",
       "      <td>8733.86</td>\n",
       "      <td>8796.68</td>\n",
       "      <td>8707.28</td>\n",
       "      <td>8740.99</td>\n",
       "      <td>559.93</td>\n",
       "    </tr>\n",
       "    <tr>\n",
       "      <th>1</th>\n",
       "      <td>2018-05-15 07:00:00</td>\n",
       "      <td>1526367600</td>\n",
       "      <td>8740.99</td>\n",
       "      <td>8766.00</td>\n",
       "      <td>8721.11</td>\n",
       "      <td>8739.00</td>\n",
       "      <td>273.58</td>\n",
       "    </tr>\n",
       "    <tr>\n",
       "      <th>2</th>\n",
       "      <td>2018-05-15 08:00:00</td>\n",
       "      <td>1526371200</td>\n",
       "      <td>8739.00</td>\n",
       "      <td>8750.27</td>\n",
       "      <td>8660.53</td>\n",
       "      <td>8728.49</td>\n",
       "      <td>917.79</td>\n",
       "    </tr>\n",
       "    <tr>\n",
       "      <th>3</th>\n",
       "      <td>2018-05-15 09:00:00</td>\n",
       "      <td>1526374800</td>\n",
       "      <td>8728.49</td>\n",
       "      <td>8754.40</td>\n",
       "      <td>8701.35</td>\n",
       "      <td>8708.32</td>\n",
       "      <td>182.62</td>\n",
       "    </tr>\n",
       "    <tr>\n",
       "      <th>4</th>\n",
       "      <td>2018-05-15 10:00:00</td>\n",
       "      <td>1526378400</td>\n",
       "      <td>8708.32</td>\n",
       "      <td>8865.00</td>\n",
       "      <td>8695.11</td>\n",
       "      <td>8795.90</td>\n",
       "      <td>1260.69</td>\n",
       "    </tr>\n",
       "  </tbody>\n",
       "</table>\n",
       "</div>"
      ]
     },
     "execution_count": 5,
     "metadata": {},
     "output_type": "execute_result"
    }
   ],
   "execution_count": 5
  },
  {
   "cell_type": "code",
   "metadata": {
    "id": "8PVhnDBvJXpW",
    "ExecuteTime": {
     "end_time": "2025-05-31T07:35:45.510597Z",
     "start_time": "2025-05-31T07:35:45.507601Z"
    }
   },
   "source": [
    "# we'll create a couple of indicators:\n",
    "def rsi(price: Stream[float], period: float) -> Stream[float]:\n",
    "    r = price.diff()\n",
    "    upside = r.clamp_min(0).abs()\n",
    "    downside = r.clamp_max(0).abs()\n",
    "    rs = upside.ewm(alpha=1 / period).mean() / downside.ewm(alpha=1 / period).mean()\n",
    "    return 100*(1 - (1 + rs) ** -1)\n",
    "\n",
    "\n",
    "def macd(price: Stream[float], fast: float, slow: float, signal: float) -> Stream[float]:\n",
    "    fm = price.ewm(span=fast, adjust=False).mean()\n",
    "    sm = price.ewm(span=slow, adjust=False).mean()\n",
    "    md = fm - sm\n",
    "    signal = md - md.ewm(span=signal, adjust=False).mean()\n",
    "    return signal## Create features with the feed module"
   ],
   "outputs": [],
   "execution_count": 6
  },
  {
   "cell_type": "code",
   "metadata": {
    "ExecuteTime": {
     "end_time": "2025-05-31T07:35:45.590545Z",
     "start_time": "2025-05-31T07:35:45.575025Z"
    }
   },
   "source": [
    "# choosing the closing price:\n",
    "features = []\n",
    "for c in data.columns[1:]:\n",
    "    s = Stream.source(list(data[c]), dtype=\"float\").rename(data[c].name)\n",
    "    features += [s]\n",
    "\n",
    "cp = Stream.select(features, lambda s: s.name == \"close\")"
   ],
   "outputs": [],
   "execution_count": 7
  },
  {
   "cell_type": "code",
   "metadata": {
    "id": "hYjM8JoJJXpW",
    "ExecuteTime": {
     "end_time": "2025-05-31T07:35:45.682365Z",
     "start_time": "2025-05-31T07:35:45.677825Z"
    }
   },
   "source": [
    "# adding the three features (trend indicator, RSI, MACD):\n",
    "features = [\n",
    "    cp.log().diff().rename(\"lr\"),\n",
    "    rsi(cp, period=20).rename(\"rsi\"),\n",
    "    macd(cp, fast=10, slow=50, signal=5).rename(\"macd\")\n",
    "]\n",
    "\n",
    "feed = DataFeed(features)\n",
    "feed.compile()"
   ],
   "outputs": [],
   "execution_count": 8
  },
  {
   "cell_type": "code",
   "metadata": {
    "colab": {
     "base_uri": "https://localhost:8080/"
    },
    "id": "uqXBeRwrJXpX",
    "outputId": "69b29f71-03e6-4c70-a6e3-3d8aa3b23717",
    "ExecuteTime": {
     "end_time": "2025-05-31T07:35:45.781748Z",
     "start_time": "2025-05-31T07:35:45.779020Z"
    }
   },
   "source": [
    "for i in range(5):\n",
    "    print(feed.next())"
   ],
   "outputs": [
    {
     "name": "stdout",
     "output_type": "stream",
     "text": [
      "{'lr': nan, 'rsi': nan, 'macd': 0.0}\n",
      "{'lr': -0.00022768891842694927, 'rsi': 0.0, 'macd': -0.1891859774210995}\n",
      "{'lr': -0.0012033785355889393, 'rsi': 0.0, 'macd': -1.2726616061000744}\n",
      "{'lr': -0.0023134975946028646, 'rsi': 0.0, 'macd': -3.6577343503541435}\n",
      "{'lr': 0.01000681330867259, 'rsi': 74.26253567956897, 'macd': 3.7087743627464844}\n"
     ]
    }
   ],
   "execution_count": 9
  },
  {
   "cell_type": "code",
   "metadata": {
    "ExecuteTime": {
     "end_time": "2025-05-31T07:35:45.850115Z",
     "start_time": "2025-05-31T07:35:45.844903Z"
    }
   },
   "source": [
    "# setting up broker and the portfolio:\n",
    "bitstamp = Exchange(\"bitstamp\", service=execute_order)(\n",
    "    Stream.source(list(data[\"close\"]), dtype=\"float\").rename(\"USD-BTC\")\n",
    ")\n",
    "\n",
    "portfolio = Portfolio(USD, [\n",
    "    Wallet(bitstamp, 10000 * USD),\n",
    "    Wallet(bitstamp, 10 * BTC)\n",
    "])"
   ],
   "outputs": [],
   "execution_count": 10
  },
  {
   "cell_type": "code",
   "metadata": {
    "ExecuteTime": {
     "end_time": "2025-05-31T07:35:45.930490Z",
     "start_time": "2025-05-31T07:35:45.901407Z"
    }
   },
   "source": [
    "# renderer:\n",
    "renderer_feed = DataFeed([\n",
    "    Stream.source(list(data[\"date\"])).rename(\"date\"),\n",
    "    Stream.source(list(data[\"open\"]), dtype=\"float\").rename(\"open\"),\n",
    "    Stream.source(list(data[\"high\"]), dtype=\"float\").rename(\"high\"),\n",
    "    Stream.source(list(data[\"low\"]), dtype=\"float\").rename(\"low\"),\n",
    "    Stream.source(list(data[\"close\"]), dtype=\"float\").rename(\"close\"), \n",
    "    Stream.source(list(data[\"volume\"]), dtype=\"float\").rename(\"volume\") \n",
    "])"
   ],
   "outputs": [],
   "execution_count": 11
  },
  {
   "cell_type": "code",
   "metadata": {
    "id": "IzWYGEyZJXpY",
    "ExecuteTime": {
     "end_time": "2025-05-31T07:35:45.995312Z",
     "start_time": "2025-05-31T07:35:45.990770Z"
    }
   },
   "source": [
    "# the trading environment:\n",
    "env = default.create(\n",
    "    portfolio=portfolio,\n",
    "    action_scheme=\"managed-risk\",\n",
    "    reward_scheme=\"risk-adjusted\",\n",
    "    feed=feed,\n",
    "    renderer_feed=renderer_feed,\n",
    "    renderer=default.renderers.PlotlyTradingChart(),\n",
    "    window_size=20\n",
    ")"
   ],
   "outputs": [],
   "execution_count": 12
  },
  {
   "cell_type": "code",
   "metadata": {
    "colab": {
     "base_uri": "https://localhost:8080/"
    },
    "id": "hYUd95vjJXpY",
    "outputId": "45d3f699-abe3-49d4-fd87-d7bba3e953f9",
    "ExecuteTime": {
     "end_time": "2025-05-31T07:35:46.047431Z",
     "start_time": "2025-05-31T07:35:46.043839Z"
    }
   },
   "source": [
    "env.observer.feed.next()"
   ],
   "outputs": [
    {
     "data": {
      "text/plain": [
       "{'internal': {'bitstamp:/USD-BTC': 8740.99,\n",
       "  'bitstamp:/USD:/free': 10000.0,\n",
       "  'bitstamp:/USD:/locked': 0.0,\n",
       "  'bitstamp:/USD:/total': 10000.0,\n",
       "  'bitstamp:/BTC:/free': 10.0,\n",
       "  'bitstamp:/BTC:/locked': 0.0,\n",
       "  'bitstamp:/BTC:/total': 10.0,\n",
       "  'bitstamp:/BTC:/worth': 87409.9,\n",
       "  'net_worth': 97409.9},\n",
       " 'external': {'lr': nan, 'rsi': nan, 'macd': 0.0},\n",
       " 'renderer': {'date': Timestamp('2018-05-15 06:00:00'),\n",
       "  'open': 8733.86,\n",
       "  'high': 8796.68,\n",
       "  'low': 8707.28,\n",
       "  'close': 8740.99,\n",
       "  'volume': 559.93}}"
      ]
     },
     "execution_count": 13,
     "metadata": {},
     "output_type": "execute_result"
    }
   ],
   "execution_count": 13
  },
  {
   "cell_type": "code",
   "metadata": {
    "colab": {
     "base_uri": "https://localhost:8080/",
     "height": 1000,
     "referenced_widgets": [
      "9bcf0bbf1c1c49859a2dfa40acce1038"
     ]
    },
    "id": "YoxUET9ZJXpZ",
    "outputId": "a7672ac6-9c9c-42ff-b9d3-8a128fd882ae",
    "ExecuteTime": {
     "end_time": "2025-05-31T07:35:47.113353Z",
     "start_time": "2025-05-31T07:35:46.161833Z"
    }
   },
   "source": [
    "# training a DQN trading agent\n",
    "agent = DQNAgent(env)\n",
    "\n",
    "agent.train(n_steps=200, n_episodes=2, save_path=\"agents/\")"
   ],
   "outputs": [
    {
     "name": "stderr",
     "output_type": "stream",
     "text": [
      "/root/.local/lib/python3.12/site-packages/keras/src/layers/core/input_layer.py:27: UserWarning: Argument `input_shape` is deprecated. Use `shape` instead.\n",
      "  warnings.warn(\n",
      "W0000 00:00:1748676946.286861   11631 gpu_device.cc:2341] Cannot dlopen some GPU libraries. Please make sure the missing libraries mentioned above are installed properly if you would like to use GPU. Follow the guide at https://www.tensorflow.org/install/gpu for how to download and setup the required libraries for your platform.\n",
      "Skipping registering GPU devices...\n"
     ]
    },
    {
     "name": "stdout",
     "output_type": "stream",
     "text": [
      "====      AGENT ID: a9ba35d5-fdd8-42f9-a47a-c83f5748a7df      ====\n"
     ]
    },
    {
     "ename": "ValueError",
     "evalue": "Argument(s) not recognized: {'lr': 0.0001}",
     "output_type": "error",
     "traceback": [
      "\u001B[31m---------------------------------------------------------------------------\u001B[39m",
      "\u001B[31mValueError\u001B[39m                                Traceback (most recent call last)",
      "\u001B[36mCell\u001B[39m\u001B[36m \u001B[39m\u001B[32mIn[14]\u001B[39m\u001B[32m, line 4\u001B[39m\n\u001B[32m      1\u001B[39m \u001B[38;5;66;03m# training a DQN trading agent\u001B[39;00m\n\u001B[32m      2\u001B[39m agent = DQNAgent(env)\n\u001B[32m----> \u001B[39m\u001B[32m4\u001B[39m agent.train(n_steps=\u001B[32m200\u001B[39m, n_episodes=\u001B[32m2\u001B[39m, save_path=\u001B[33m\"\u001B[39m\u001B[33magents/\u001B[39m\u001B[33m\"\u001B[39m)\n",
      "\u001B[36mFile \u001B[39m\u001B[32m~/miniconda3/envs/TimeSeries/lib/python3.12/site-packages/tensortrade/agents/dqn_agent.py:169\u001B[39m, in \u001B[36mDQNAgent.train\u001B[39m\u001B[34m(self, n_steps, n_episodes, save_every, save_path, callback, **kwargs)\u001B[39m\n\u001B[32m    166\u001B[39m \u001B[38;5;28;01mif\u001B[39;00m \u001B[38;5;28mlen\u001B[39m(memory) < batch_size:\n\u001B[32m    167\u001B[39m     \u001B[38;5;28;01mcontinue\u001B[39;00m\n\u001B[32m--> \u001B[39m\u001B[32m169\u001B[39m \u001B[38;5;28mself\u001B[39m._apply_gradient_descent(memory, batch_size, learning_rate, discount_factor)\n\u001B[32m    171\u001B[39m \u001B[38;5;28;01mif\u001B[39;00m n_steps \u001B[38;5;129;01mand\u001B[39;00m steps_done >= n_steps:\n\u001B[32m    172\u001B[39m     done = \u001B[38;5;28;01mTrue\u001B[39;00m\n",
      "\u001B[36mFile \u001B[39m\u001B[32m~/miniconda3/envs/TimeSeries/lib/python3.12/site-packages/tensortrade/agents/dqn_agent.py:90\u001B[39m, in \u001B[36mDQNAgent._apply_gradient_descent\u001B[39m\u001B[34m(self, memory, batch_size, learning_rate, discount_factor)\u001B[39m\n\u001B[32m     89\u001B[39m \u001B[38;5;28;01mdef\u001B[39;00m\u001B[38;5;250m \u001B[39m\u001B[34m_apply_gradient_descent\u001B[39m(\u001B[38;5;28mself\u001B[39m, memory: ReplayMemory, batch_size: \u001B[38;5;28mint\u001B[39m, learning_rate: \u001B[38;5;28mfloat\u001B[39m, discount_factor: \u001B[38;5;28mfloat\u001B[39m):\n\u001B[32m---> \u001B[39m\u001B[32m90\u001B[39m     optimizer = tf.keras.optimizers.Adam(lr=learning_rate)\n\u001B[32m     91\u001B[39m     loss = tf.keras.losses.Huber()\n\u001B[32m     93\u001B[39m     transitions = memory.sample(batch_size)\n",
      "\u001B[36mFile \u001B[39m\u001B[32m~/.local/lib/python3.12/site-packages/keras/src/optimizers/adam.py:62\u001B[39m, in \u001B[36mAdam.__init__\u001B[39m\u001B[34m(self, learning_rate, beta_1, beta_2, epsilon, amsgrad, weight_decay, clipnorm, clipvalue, global_clipnorm, use_ema, ema_momentum, ema_overwrite_frequency, loss_scale_factor, gradient_accumulation_steps, name, **kwargs)\u001B[39m\n\u001B[32m     43\u001B[39m \u001B[38;5;28;01mdef\u001B[39;00m\u001B[38;5;250m \u001B[39m\u001B[34m__init__\u001B[39m(\n\u001B[32m     44\u001B[39m     \u001B[38;5;28mself\u001B[39m,\n\u001B[32m     45\u001B[39m     learning_rate=\u001B[32m0.001\u001B[39m,\n\u001B[32m   (...)\u001B[39m\u001B[32m     60\u001B[39m     **kwargs,\n\u001B[32m     61\u001B[39m ):\n\u001B[32m---> \u001B[39m\u001B[32m62\u001B[39m     \u001B[38;5;28msuper\u001B[39m().\u001B[34m__init__\u001B[39m(\n\u001B[32m     63\u001B[39m         learning_rate=learning_rate,\n\u001B[32m     64\u001B[39m         name=name,\n\u001B[32m     65\u001B[39m         weight_decay=weight_decay,\n\u001B[32m     66\u001B[39m         clipnorm=clipnorm,\n\u001B[32m     67\u001B[39m         clipvalue=clipvalue,\n\u001B[32m     68\u001B[39m         global_clipnorm=global_clipnorm,\n\u001B[32m     69\u001B[39m         use_ema=use_ema,\n\u001B[32m     70\u001B[39m         ema_momentum=ema_momentum,\n\u001B[32m     71\u001B[39m         ema_overwrite_frequency=ema_overwrite_frequency,\n\u001B[32m     72\u001B[39m         loss_scale_factor=loss_scale_factor,\n\u001B[32m     73\u001B[39m         gradient_accumulation_steps=gradient_accumulation_steps,\n\u001B[32m     74\u001B[39m         **kwargs,\n\u001B[32m     75\u001B[39m     )\n\u001B[32m     76\u001B[39m     \u001B[38;5;28mself\u001B[39m.beta_1 = beta_1\n\u001B[32m     77\u001B[39m     \u001B[38;5;28mself\u001B[39m.beta_2 = beta_2\n",
      "\u001B[36mFile \u001B[39m\u001B[32m~/.local/lib/python3.12/site-packages/keras/src/backend/tensorflow/optimizer.py:21\u001B[39m, in \u001B[36mTFOptimizer.__init__\u001B[39m\u001B[34m(self, *args, **kwargs)\u001B[39m\n\u001B[32m     20\u001B[39m \u001B[38;5;28;01mdef\u001B[39;00m\u001B[38;5;250m \u001B[39m\u001B[34m__init__\u001B[39m(\u001B[38;5;28mself\u001B[39m, *args, **kwargs):\n\u001B[32m---> \u001B[39m\u001B[32m21\u001B[39m     \u001B[38;5;28msuper\u001B[39m().\u001B[34m__init__\u001B[39m(*args, **kwargs)\n\u001B[32m     22\u001B[39m     \u001B[38;5;28mself\u001B[39m._distribution_strategy = tf.distribute.get_strategy()\n",
      "\u001B[36mFile \u001B[39m\u001B[32m~/.local/lib/python3.12/site-packages/keras/src/optimizers/base_optimizer.py:90\u001B[39m, in \u001B[36mBaseOptimizer.__init__\u001B[39m\u001B[34m(self, learning_rate, weight_decay, clipnorm, clipvalue, global_clipnorm, use_ema, ema_momentum, ema_overwrite_frequency, loss_scale_factor, gradient_accumulation_steps, name, **kwargs)\u001B[39m\n\u001B[32m     86\u001B[39m     warnings.warn(\n\u001B[32m     87\u001B[39m         \u001B[33m\"\u001B[39m\u001B[33mArgument `decay` is no longer supported and will be ignored.\u001B[39m\u001B[33m\"\u001B[39m\n\u001B[32m     88\u001B[39m     )\n\u001B[32m     89\u001B[39m \u001B[38;5;28;01mif\u001B[39;00m kwargs:\n\u001B[32m---> \u001B[39m\u001B[32m90\u001B[39m     \u001B[38;5;28;01mraise\u001B[39;00m \u001B[38;5;167;01mValueError\u001B[39;00m(\u001B[33mf\u001B[39m\u001B[33m\"\u001B[39m\u001B[33mArgument(s) not recognized: \u001B[39m\u001B[38;5;132;01m{\u001B[39;00mkwargs\u001B[38;5;132;01m}\u001B[39;00m\u001B[33m\"\u001B[39m)\n\u001B[32m     92\u001B[39m \u001B[38;5;28;01mif\u001B[39;00m name \u001B[38;5;129;01mis\u001B[39;00m \u001B[38;5;28;01mNone\u001B[39;00m:\n\u001B[32m     93\u001B[39m     name = auto_name(\u001B[38;5;28mself\u001B[39m.\u001B[34m__class__\u001B[39m.\u001B[34m__name__\u001B[39m)\n",
      "\u001B[31mValueError\u001B[39m: Argument(s) not recognized: {'lr': 0.0001}"
     ]
    }
   ],
   "execution_count": 14
  },
  {
   "cell_type": "code",
   "execution_count": null,
   "metadata": {
    "colab": {
     "base_uri": "https://localhost:8080/",
     "height": 282
    },
    "id": "dtoYz5bOKGdo",
    "outputId": "fc4372f2-1d3f-4072-e452-2d91d41a2abe"
   },
   "outputs": [],
   "source": [
    "%matplotlib inline\n",
    "\n",
    "performance = pd.DataFrame.from_dict(env.action_scheme.portfolio.performance, orient='index')\n",
    "performance.plot()"
   ]
  },
  {
   "cell_type": "code",
   "execution_count": null,
   "metadata": {
    "colab": {
     "base_uri": "https://localhost:8080/",
     "height": 282
    },
    "id": "URT6-E9wVtIt",
    "outputId": "0b293bc2-46a6-4031-ea0c-9c8415f60d77"
   },
   "outputs": [],
   "source": [
    "performance[\"net_worth\"].plot()"
   ]
  },
  {
   "cell_type": "code",
   "execution_count": null,
   "metadata": {
    "id": "GymCxiqfV0VM"
   },
   "outputs": [],
   "source": []
  }
 ],
 "metadata": {
  "colab": {
   "collapsed_sections": [],
   "name": "train_and_evaluate.ipynb",
   "provenance": []
  },
  "kernelspec": {
   "display_name": "Python 3",
   "language": "python",
   "name": "python3"
  },
  "language_info": {
   "codemirror_mode": {
    "name": "ipython",
    "version": 3
   },
   "file_extension": ".py",
   "mimetype": "text/x-python",
   "name": "python",
   "nbconvert_exporter": "python",
   "pygments_lexer": "ipython3",
   "version": "3.8.8"
  }
 },
 "nbformat": 4,
 "nbformat_minor": 4
}

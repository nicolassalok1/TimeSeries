{
 "cells": [
  {
   "cell_type": "markdown",
   "id": "708ef2ed-176f-42e3-a47a-bcc324221daa",
   "metadata": {},
   "source": [
    "<a href=\"https://colab.research.google.com/github/PacktPublishing/Machine-Learning-for-Time-Series-with-Python/blob/master/chapter11/Ranking_with_Bandits.ipynb\" target=\"_parent\\\"><img src=\"https://colab.research.google.com/assets/colab-badge.svg\" alt=\"Open In Colab\"/></a>"
   ]
  },
  {
   "cell_type": "markdown",
   "id": "55093d0c-238e-4ac3-ad08-2fe7ff52ca13",
   "metadata": {},
   "source": [
    "After https://github.com/Kenza-AI/mab-ranking/blob/master/examples/jester/example.ipynb"
   ]
  },
  {
   "cell_type": "code",
   "execution_count": 3,
   "id": "c5fcc1c0-2e0c-48b3-9f10-5263e1f7ae33",
   "metadata": {},
   "outputs": [],
   "source": [
    "URL = 'https://raw.githubusercontent.com/PacktPublishing/Machine-Learning-for-Time-Series-with-Python/main/chapter11/jesterfinal151cols.csv'"
   ]
  },
  {
   "cell_type": "code",
   "execution_count": 4,
   "id": "533e06c6-62dd-48f7-be50-3356666d364b",
   "metadata": {},
   "outputs": [],
   "source": [
    "import pandas as pd\n",
    "jester_data = pd.read_csv(URL, header=None)"
   ]
  },
  {
   "cell_type": "code",
   "execution_count": null,
   "id": "a9a7e5a7-bdfa-4a11-ad83-f319735b44cc",
   "metadata": {},
   "outputs": [],
   "source": [
    "# jester_data.columns = [f\"joke_{col}\" for col in jester_data.columns]\n",
    "jester_data.index.name = \"users\""
   ]
  },
  {
   "cell_type": "code",
   "execution_count": null,
   "id": "7490c980-6f0f-453f-8b02-8ca5f101aecb",
   "metadata": {},
   "outputs": [],
   "source": [
    "jester_data.head()"
   ]
  },
  {
   "cell_type": "code",
   "execution_count": null,
   "id": "5990c5cc-66ce-482c-b7f4-1f4911470d6e",
   "metadata": {},
   "outputs": [],
   "source": [
    "for col in jester_data.columns:\n",
    "    jester_data[col] = jester_data[col].apply(lambda x: 0.0 if x>=99 or x<7.0 else 1.0)"
   ]
  },
  {
   "cell_type": "code",
   "execution_count": null,
   "id": "f4b220de-0657-4e4f-a01f-33c879a20aa5",
   "metadata": {},
   "outputs": [],
   "source": [
    "jester_data"
   ]
  },
  {
   "cell_type": "code",
   "execution_count": null,
   "id": "578d30fa-7e4f-41a9-bbdd-86c1f3898fbe",
   "metadata": {},
   "outputs": [],
   "source": [
    "# keep users with at least one rating for a joke\n",
    "jester_data = jester_data[jester_data.sum(axis=1) > 0]"
   ]
  },
  {
   "cell_type": "code",
   "execution_count": null,
   "id": "9432df2f-4500-46c7-a47c-1a1f0e592b38",
   "metadata": {},
   "outputs": [],
   "source": [
    "jester_data"
   ]
  },
  {
   "cell_type": "code",
   "execution_count": null,
   "id": "85cf3f6c-c823-4883-b250-8bf7a7c2cf3e",
   "metadata": {},
   "outputs": [],
   "source": [
    "pip install git+https://github.com/benman1/mab-ranking"
   ]
  },
  {
   "cell_type": "code",
   "execution_count": null,
   "id": "f5302c81-3478-4ac3-b1f9-96f721f75515",
   "metadata": {},
   "outputs": [],
   "source": [
    "# setting up the bandits:\n",
    "from mab_ranking.bandits.rank_bandits import IndependentBandits\n",
    "from mab_ranking.bandits.bandits import BetaThompsonSampling, DirichletThompsonSampling\n",
    "\n",
    "independent_bandits = IndependentBandits(\n",
    "    num_arms=jester_data.shape[1],\n",
    "    num_ranks=10,\n",
    "    bandit_class=DirichletThompsonSampling\n",
    ")"
   ]
  },
  {
   "cell_type": "code",
   "execution_count": null,
   "id": "329ba955-7490-402a-a007-428121d130f4",
   "metadata": {},
   "outputs": [],
   "source": [
    "from tqdm import trange\n",
    "\n",
    "num_steps = 7000\n",
    "hit_rates = []\n",
    "for _ in trange(1, num_steps + 1):\n",
    "    selected_items = set(independent_bandits.choose())\n",
    "    # Pick a users choices at random\n",
    "    random_user = jester_data.sample().iloc[0, :]\n",
    "    ground_truth = set(random_user[random_user == 1].index)\n",
    "    hit_rate = len(ground_truth.intersection(selected_items)) / len(ground_truth)\n",
    "    feedback_list = [1.0 if item in ground_truth else 0.0 for item in selected_items]\n",
    "    independent_bandits.update(selected_items, feedback_list)\n",
    "    hit_rates.append(hit_rate)"
   ]
  },
  {
   "cell_type": "code",
   "execution_count": null,
   "id": "6c1acf3d-b2ca-4f00-9b22-3d703c22713a",
   "metadata": {},
   "outputs": [],
   "source": [
    "import matplotlib.pyplot as plt\n",
    "\n",
    "stats = pd.Series(hit_rates)\n",
    "plt.figure(figsize=(12, 6))\n",
    "plt.plot(stats.index, stats.rolling(200).mean(), \"--\")\n",
    "plt.xlabel('Iteration')\n",
    "plt.ylabel('Hit rate')"
   ]
  },
  {
   "cell_type": "code",
   "execution_count": null,
   "id": "d1535111-fa30-45b1-b723-5bfaa24eba8e",
   "metadata": {},
   "outputs": [],
   "source": [
    "from sklearn.cluster import KMeans\n",
    "from sklearn.preprocessing import StandardScaler\n",
    "\n",
    "scaler = StandardScaler().fit(jester_data)\n",
    "kmeans = KMeans(n_clusters=5, random_state=0).fit(scaler.transform(jester_data))\n",
    "contexts = pd.Series(kmeans.labels_, index=jester_data.index)"
   ]
  },
  {
   "cell_type": "code",
   "execution_count": null,
   "id": "ac755bbe-306e-4086-a24f-a8ef55792287",
   "metadata": {},
   "outputs": [],
   "source": [
    "contexts.value_counts()"
   ]
  },
  {
   "cell_type": "code",
   "execution_count": null,
   "id": "128d0fe1-5edb-47e1-aeab-62531a620a56",
   "metadata": {},
   "outputs": [],
   "source": [
    "independent_bandits = IndependentBandits(\n",
    "    num_arms=jester_data.shape[1],\n",
    "    num_ranks=10,\n",
    "    bandit_class=DirichletThompsonSampling\n",
    ")\n",
    "\n",
    "num_steps = 7000\n",
    "hit_rates = []\n",
    "for _ in trange(1, num_steps + 1):\n",
    "    # Pick a users choices at random\n",
    "    random_user = jester_data.sample().iloc[0, :]\n",
    "    context = {\"previous_action\": contexts.loc[random_user.name]}\n",
    "    selected_items = set(independent_bandits.choose(\n",
    "        context=context\n",
    "    ))\n",
    "    ground_truth = set(random_user[random_user == 1].index)\n",
    "    hit_rate = len(ground_truth.intersection(selected_items)) / len(ground_truth)\n",
    "    feedback_list = [1.0 if item in ground_truth else 0.0 for item in selected_items]\n",
    "    independent_bandits.update(selected_items, feedback_list, context=context)\n",
    "    hit_rates.append(hit_rate)"
   ]
  },
  {
   "cell_type": "code",
   "execution_count": null,
   "id": "daefac60-eba6-4429-8a33-067c26483402",
   "metadata": {},
   "outputs": [],
   "source": [
    "import matplotlib.pyplot as plt\n",
    "\n",
    "stats = pd.Series(hit_rates)\n",
    "plt.figure(figsize=(12, 6))\n",
    "plt.plot(stats.index, stats.rolling(200).mean(), \"--\")\n",
    "plt.xlabel('Iteration')\n",
    "plt.ylabel('Hit rate')"
   ]
  },
  {
   "cell_type": "code",
   "execution_count": null,
   "id": "016e11fb-b2e7-4705-8aae-251468762bc4",
   "metadata": {},
   "outputs": [],
   "source": []
  }
 ],
 "metadata": {
  "kernelspec": {
   "display_name": "Python 3",
   "language": "python",
   "name": "python3"
  },
  "language_info": {
   "codemirror_mode": {
    "name": "ipython",
    "version": 3
   },
   "file_extension": ".py",
   "mimetype": "text/x-python",
   "name": "python",
   "nbconvert_exporter": "python",
   "pygments_lexer": "ipython3",
   "version": "3.8.8"
  }
 },
 "nbformat": 4,
 "nbformat_minor": 5
}

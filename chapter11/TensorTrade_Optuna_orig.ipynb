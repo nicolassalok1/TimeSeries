{
 "nbformat": 4,
 "nbformat_minor": 0,
 "metadata": {
  "colab": {
   "provenance": [],
   "collapsed_sections": [
    "vjj0GRLPR9Lz",
    "-3Rs5BbX2hHR",
    "nmiyFJCAVNwp",
    "FL0fBjAgYy9F"
   ]
  },
  "kernelspec": {
   "name": "python3",
   "display_name": "Python 3 (ipykernel)",
   "language": "python"
  },
  "accelerator": "GPU"
 },
 "cells": [
  {
   "cell_type": "markdown",
   "metadata": {
    "id": "9WaaB1mI5URu"
   },
   "source": [
    "## Install Tensortrade"
   ]
  },
  {
   "cell_type": "code",
   "metadata": {
    "id": "9oBTuCzR5LMD",
    "ExecuteTime": {
     "end_time": "2025-05-31T10:57:23.627164Z",
     "start_time": "2025-05-31T10:57:23.624725Z"
    }
   },
   "source": [
    "#!pip install git+https://github.com/kodiakcrypto/tensortrade.git#egg=tensortrade[data1]\n",
    "#!pip install git+https://github.com/kodiakcrypto/tensortrade.git#egg=tensortrade[data2]"
   ],
   "outputs": [],
   "execution_count": 104
  },
  {
   "cell_type": "code",
   "source": "#!pip install ta newtulipy",
   "metadata": {
    "id": "snuo57qod9pO",
    "ExecuteTime": {
     "end_time": "2025-05-31T10:57:23.683316Z",
     "start_time": "2025-05-31T10:57:23.677062Z"
    }
   },
   "outputs": [],
   "execution_count": 105
  },
  {
   "cell_type": "code",
   "source": [
    "import tulipy as _ta\n",
    "import ta"
   ],
   "metadata": {
    "id": "-oAmWw_zeD5H",
    "ExecuteTime": {
     "end_time": "2025-05-31T10:57:23.742921Z",
     "start_time": "2025-05-31T10:57:23.736552Z"
    }
   },
   "outputs": [],
   "execution_count": 106
  },
  {
   "cell_type": "markdown",
   "source": [
    "## Get TA Data Columns"
   ],
   "metadata": {
    "id": "tJW_4vNbExw1"
   }
  },
  {
   "cell_type": "code",
   "source": [
    "def XcrossY(candles, sma, sma_length):\n",
    "    arr = []\n",
    "    for i in range(len(sma) -1 ):\n",
    "        if i <= sma_length: arr.append(0)\n",
    "        else:\n",
    "            if candles['high'].iloc[i-1] <= sma[i-1] and candles['high'].iloc[i] > sma[i]:\n",
    "                arr.append(1)\n",
    "            elif candles['low'].iloc[i-1] >= sma[i-1] and candles['low'].iloc[i] < sma[i]:\n",
    "                arr.append(-1)\n",
    "            else:\n",
    "                arr.append(0)\n",
    "    return arr\n",
    "\n",
    "def slopeOfSeries(values, lookback):\n",
    "    \"\"\"get rise over run\"\"\"\n",
    "    arr = []\n",
    "    for i in range(len(values)-1):\n",
    "        if i <= lookback: arr.append(0)\n",
    "        else:\n",
    "            slope = (values[i] - values[i-lookback]) / lookback\n",
    "            if   slope > 0: arr.append(1)\n",
    "            elif slope < 0: arr.append(-1)\n",
    "            else:           arr.append(0)\n",
    "    return arr\n",
    "\n",
    "def checkForConsecutiveCandles(candles):\n",
    "    \"\"\" 3 green and not 4\"\"\"\n",
    "    arr = []\n",
    "    for i in range(len(candles)-1):\n",
    "        if i <= 3: arr.append(0)\n",
    "        else:\n",
    "            if (candles['close'].iloc[i] > candles['open'].iloc[i] and\n",
    "                candles['close'].iloc[i-1] > candles['open'].iloc[i-1] and\n",
    "                candles['close'].iloc[i-2] > candles['open'].iloc[i-2] and\n",
    "                candles['close'].iloc[i-3] <= candles['open'].iloc[i-3]):\n",
    "                arr.append(1)\n",
    "            #3 red not 4\n",
    "            elif (candles['close'].iloc[i] < candles['open'].iloc[i] and\n",
    "                candles['close'].iloc[i-1] < candles['open'].iloc[i-1] and\n",
    "                candles['close'].iloc[i-2] < candles['open'].iloc[i-2] and\n",
    "                candles['close'].iloc[i-3] >= candles['open'].iloc[i-3]):\n",
    "                arr.append(-1)\n",
    "            else:\n",
    "                arr.append(0)\n",
    "    return arr\n",
    "\n",
    "def getBBvsPrice(close_array, candles, stddev):\n",
    "    arr = []\n",
    "    period=20\n",
    "    (bbands_lower, _, bbands_upper) = _ta.bbands(close_array, period=period, stddev=stddev)\n",
    "    for i in range(len(bbands_upper)-1):\n",
    "        if i <= period:\n",
    "            arr.append(0)\n",
    "        if candles['high'].iloc[i] > bbands_upper[i] and candles['low'].iloc[i] < bbands_lower[i]:\n",
    "            arr.append(0)\n",
    "        elif candles['high'].iloc[i] > bbands_upper[i]:\n",
    "            arr.append(1)\n",
    "        elif candles['low'].iloc[i] < bbands_lower[i]:\n",
    "            arr.append(-1)\n",
    "        else:\n",
    "            arr.append(0)\n",
    "    return arr\n",
    "\n",
    "def getSMACrosses(sma_fast, sma_slow):\n",
    "    arr = []\n",
    "    for i in range(len(sma_slow)-2):\n",
    "        if sma_fast[i] <= sma_slow[i] and sma_fast[i+1] > sma_slow[i+1]:\n",
    "            arr.append(1)\n",
    "        elif sma_fast[i] >= sma_slow[i] and sma_fast[i+1] < sma_slow[i+1]:\n",
    "            arr.append(-1)\n",
    "        else:\n",
    "            arr.append(0)\n",
    "    return arr\n",
    "\n",
    "def sauceCity(candles, date_col_name='date',\n",
    "                       open_col_name='open',\n",
    "                       high_col_name='high',\n",
    "                       low_col_name='low',\n",
    "                       close_col_name='close'):\n",
    "    lookback          = 20\n",
    "    fast_sma_length   = 36\n",
    "    slow_sma_length   = 85\n",
    "    filter_sma_length = 200\n",
    "\n",
    "    timestamps = candles[date_col_name].to_numpy()\n",
    "    close_array = candles[close_col_name].to_numpy()\n",
    "\n",
    "    # BBANDS\n",
    "    price_vs_bbands_2x = getBBvsPrice(close_array, candles, stddev=2)\n",
    "    price_vs_bbands_3x = getBBvsPrice(close_array, candles, stddev=3)\n",
    "\n",
    "    # Get price vs SMAs and SMA crosses\n",
    "    sma_fast = _ta.sma(close_array, period=fast_sma_length)\n",
    "    sma_slow = _ta.sma(close_array, period=slow_sma_length)\n",
    "    price_vs_fastSMA = XcrossY(candles, sma_fast, fast_sma_length)\n",
    "    price_vs_slowSMA = XcrossY(candles, sma_slow, slow_sma_length)\n",
    "    sma_crosses = getSMACrosses(sma_fast, sma_slow)\n",
    "\n",
    "    # get SMA 200 vals + slope\n",
    "    sma_filter = _ta.sma(close_array, filter_sma_length)\n",
    "    sma_filter_slope = slopeOfSeries(sma_filter, lookback)\n",
    "    price_vs_filterSMA = XcrossY(candles, sma_filter, filter_sma_length)\n",
    "\n",
    "    # check for 3 consecutive same color candles\n",
    "    consecutive_candles = checkForConsecutiveCandles(candles)\n",
    "\n",
    "    #trendline crosses\n",
    "    #lookbacks\n",
    "\n",
    "    print(\n",
    "        len(timestamps),\n",
    "        len(price_vs_bbands_2x),\n",
    "        len(price_vs_bbands_3x),\n",
    "        len(price_vs_fastSMA),\n",
    "        len(price_vs_slowSMA),\n",
    "        len(sma_crosses),\n",
    "        len(sma_filter_slope),\n",
    "        len(price_vs_filterSMA),\n",
    "        len(consecutive_candles)\n",
    "    )\n",
    "\n",
    "    copy_arr = [price_vs_bbands_2x.copy(),price_vs_bbands_3x.copy(),\n",
    "                price_vs_fastSMA.copy(),price_vs_slowSMA.copy(),sma_crosses.copy(),\n",
    "                sma_filter_slope.copy(),price_vs_filterSMA.copy(),consecutive_candles.copy()]\n",
    "\n",
    "    for i in range(len(copy_arr)):\n",
    "        while len(copy_arr[i]) != len(timestamps):\n",
    "            if len(copy_arr[i]) < len(timestamps):\n",
    "                copy_arr[i] = np.insert(copy_arr[i], 0, 0)\n",
    "            elif len(copy_arr[i]) > len(timestamps):\n",
    "                copy_arr[i] = copy_arr[i][1:]\n",
    "\n",
    "    price_vs_bbands_2x = copy_arr[0]\n",
    "    price_vs_bbands_3x = copy_arr[1]\n",
    "    price_vs_fastSMA = copy_arr[2]\n",
    "    price_vs_slowSMA = copy_arr[3]\n",
    "    sma_crosses = copy_arr[4]\n",
    "    sma_filter_slope = copy_arr[5]\n",
    "    price_vs_filterSMA = copy_arr[6]\n",
    "    consecutive_candles = copy_arr[7]\n",
    "\n",
    "    print(\n",
    "        len(timestamps),\n",
    "        len(price_vs_bbands_2x),\n",
    "        len(price_vs_bbands_3x),\n",
    "        len(price_vs_fastSMA),\n",
    "        len(price_vs_slowSMA),\n",
    "        len(sma_crosses),\n",
    "        len(sma_filter_slope),\n",
    "        len(price_vs_filterSMA),\n",
    "        len(consecutive_candles)\n",
    "    )\n",
    "    all_data = list(zip(\n",
    "        timestamps,\n",
    "        price_vs_bbands_2x,price_vs_bbands_3x,\n",
    "        price_vs_fastSMA,price_vs_slowSMA,sma_crosses,\n",
    "        sma_filter_slope,price_vs_filterSMA,consecutive_candles,\n",
    "    ))\n",
    "\n",
    "    all_data = pd.DataFrame(all_data, columns=[\n",
    "        'date','price_vs_bbands_2x','price_vs_bbands_3x',\n",
    "        'price_vs_fastSMA','price_vs_slowSMA','sma_crosses',\n",
    "        'sma_filter_slope','price_vs_filterSMA','consecutive_candles'])\n",
    "\n",
    "    return all_data"
   ],
   "metadata": {
    "id": "k2RY5kX4dk1I",
    "ExecuteTime": {
     "end_time": "2025-05-31T10:57:23.815611Z",
     "start_time": "2025-05-31T10:57:23.796895Z"
    }
   },
   "outputs": [],
   "execution_count": 107
  },
  {
   "cell_type": "markdown",
   "metadata": {
    "id": "yfr_In2i5b68"
   },
   "source": [
    "## Import Needed Tensortrade modules"
   ]
  },
  {
   "cell_type": "code",
   "metadata": {
    "id": "Uj5SyqHp5cAj",
    "ExecuteTime": {
     "end_time": "2025-05-31T10:57:23.877092Z",
     "start_time": "2025-05-31T10:57:23.869708Z"
    }
   },
   "source": [
    "# À installer si ce n’est pas encore fait :\n",
    "# !pip install git+https://github.com/kodiakcrypto/tensortrade.git#egg=tensortrade[data]\n",
    "\n",
    "from tensortrade.oms.exchanges import Exchange\n",
    "from tensortrade.oms.wallets import Wallet, Portfolio\n",
    "from tensortrade.oms.instruments import USD, BTC, ETH\n",
    "from tensortrade.oms.services.execution.simulated import execute_order\n",
    "\n",
    "from tensortrade.feed.core import Stream, DataFeed  # ✅ Pas besoin de Module\n",
    "\n",
    "from tensortrade.env.default import create as create_environment\n",
    "#from tensortrade.env.default.render import PlotlyTradingChart\n",
    "\n",
    "from tensortrade.agents import DQNAgent\n"
   ],
   "outputs": [],
   "execution_count": 108
  },
  {
   "cell_type": "markdown",
   "source": [
    "## Fetch Candle data"
   ],
   "metadata": {
    "id": "UC1dPhcWE3Rs"
   }
  },
  {
   "cell_type": "code",
   "metadata": {
    "ExecuteTime": {
     "end_time": "2025-05-31T10:59:20.306330Z",
     "start_time": "2025-05-31T10:59:18.193167Z"
    }
   },
   "source": [
    "import ccxt\n",
    "import pandas as pd\n",
    "\n",
    "# Paramètres\n",
    "exchange = ccxt.binance()\n",
    "symbol = 'BTC/USDT'\n",
    "timeframe = '1d'\n",
    "\n",
    "# Télécharger les bougies OHLCV\n",
    "ohlcv = exchange.fetch_ohlcv(symbol=symbol, timeframe=timeframe)\n",
    "\n",
    "# Construire un DataFrame\n",
    "df_BTC = pd.DataFrame(ohlcv, columns=[\"Date\", \"BTC:open\", \"BTC:high\", \"BTC:low\", \"BTC:close\", \"BTC:volume\"])\n",
    "\n",
    "# Convertir l'horodatage en datetime\n",
    "df_BTC[\"Date\"] = pd.to_datetime(df_BTC[\"Date\"], unit=\"ms\")\n",
    "\n",
    "# Fixer la colonne Date comme index (facultatif)\n",
    "df_BTC.set_index(\"Date\", inplace=False).head()\n"
   ],
   "outputs": [
    {
     "data": {
      "text/plain": [
       "            BTC:open  BTC:high   BTC:low  BTC:close   BTC:volume\n",
       "Date                                                            \n",
       "2024-01-18  42776.09  42930.00  40683.28   41327.50  43907.51641\n",
       "2024-01-19  41327.51  42196.86  40280.00   41659.03  48342.74559\n",
       "2024-01-20  41659.03  41872.56  41456.30   41696.04  15923.99493\n",
       "2024-01-21  41696.05  41881.39  41500.98   41580.33  11730.16301\n",
       "2024-01-22  41580.32  41689.65  39431.58   39568.02  55426.19911"
      ],
      "text/html": [
       "<div>\n",
       "<style scoped>\n",
       "    .dataframe tbody tr th:only-of-type {\n",
       "        vertical-align: middle;\n",
       "    }\n",
       "\n",
       "    .dataframe tbody tr th {\n",
       "        vertical-align: top;\n",
       "    }\n",
       "\n",
       "    .dataframe thead th {\n",
       "        text-align: right;\n",
       "    }\n",
       "</style>\n",
       "<table border=\"1\" class=\"dataframe\">\n",
       "  <thead>\n",
       "    <tr style=\"text-align: right;\">\n",
       "      <th></th>\n",
       "      <th>BTC:open</th>\n",
       "      <th>BTC:high</th>\n",
       "      <th>BTC:low</th>\n",
       "      <th>BTC:close</th>\n",
       "      <th>BTC:volume</th>\n",
       "    </tr>\n",
       "    <tr>\n",
       "      <th>Date</th>\n",
       "      <th></th>\n",
       "      <th></th>\n",
       "      <th></th>\n",
       "      <th></th>\n",
       "      <th></th>\n",
       "    </tr>\n",
       "  </thead>\n",
       "  <tbody>\n",
       "    <tr>\n",
       "      <th>2024-01-18</th>\n",
       "      <td>42776.09</td>\n",
       "      <td>42930.00</td>\n",
       "      <td>40683.28</td>\n",
       "      <td>41327.50</td>\n",
       "      <td>43907.51641</td>\n",
       "    </tr>\n",
       "    <tr>\n",
       "      <th>2024-01-19</th>\n",
       "      <td>41327.51</td>\n",
       "      <td>42196.86</td>\n",
       "      <td>40280.00</td>\n",
       "      <td>41659.03</td>\n",
       "      <td>48342.74559</td>\n",
       "    </tr>\n",
       "    <tr>\n",
       "      <th>2024-01-20</th>\n",
       "      <td>41659.03</td>\n",
       "      <td>41872.56</td>\n",
       "      <td>41456.30</td>\n",
       "      <td>41696.04</td>\n",
       "      <td>15923.99493</td>\n",
       "    </tr>\n",
       "    <tr>\n",
       "      <th>2024-01-21</th>\n",
       "      <td>41696.05</td>\n",
       "      <td>41881.39</td>\n",
       "      <td>41500.98</td>\n",
       "      <td>41580.33</td>\n",
       "      <td>11730.16301</td>\n",
       "    </tr>\n",
       "    <tr>\n",
       "      <th>2024-01-22</th>\n",
       "      <td>41580.32</td>\n",
       "      <td>41689.65</td>\n",
       "      <td>39431.58</td>\n",
       "      <td>39568.02</td>\n",
       "      <td>55426.19911</td>\n",
       "    </tr>\n",
       "  </tbody>\n",
       "</table>\n",
       "</div>"
      ]
     },
     "execution_count": 110,
     "metadata": {},
     "output_type": "execute_result"
    }
   ],
   "execution_count": 110
  },
  {
   "metadata": {
    "id": "lM1nb88amcG_",
    "outputId": "b1640a1a-36b3-4aef-c383-b82090539532",
    "colab": {
     "base_uri": "https://localhost:8080/"
    },
    "ExecuteTime": {
     "end_time": "2025-05-31T11:02:39.502057Z",
     "start_time": "2025-05-31T11:02:37.192263Z"
    }
   },
   "cell_type": "code",
   "source": [
    "import ccxt\n",
    "import pandas as pd\n",
    "\n",
    "exchange = ccxt.binance()\n",
    "symbol = 'BTC/USDT'\n",
    "timeframe = '1d'\n",
    "\n",
    "# Téléchargement brut via CCXT\n",
    "ohlcv = exchange.fetch_ohlcv(symbol=symbol, timeframe=timeframe)\n",
    "\n",
    "# Conversion en DataFrame\n",
    "df = pd.DataFrame(ohlcv, columns=[\"timestamp\", \"open\", \"high\", \"low\", \"close\", \"volume\"])\n",
    "df[\"timestamp\"] = pd.to_datetime(df[\"timestamp\"], unit=\"ms\")\n",
    "df.set_index(\"timestamp\", inplace=True)\n",
    "\n",
    "df.head()"
   ],
   "outputs": [
    {
     "data": {
      "text/plain": [
       "                open      high       low     close       volume\n",
       "timestamp                                                      \n",
       "2024-01-18  42776.09  42930.00  40683.28  41327.50  43907.51641\n",
       "2024-01-19  41327.51  42196.86  40280.00  41659.03  48342.74559\n",
       "2024-01-20  41659.03  41872.56  41456.30  41696.04  15923.99493\n",
       "2024-01-21  41696.05  41881.39  41500.98  41580.33  11730.16301\n",
       "2024-01-22  41580.32  41689.65  39431.58  39568.02  55426.19911"
      ],
      "text/html": [
       "<div>\n",
       "<style scoped>\n",
       "    .dataframe tbody tr th:only-of-type {\n",
       "        vertical-align: middle;\n",
       "    }\n",
       "\n",
       "    .dataframe tbody tr th {\n",
       "        vertical-align: top;\n",
       "    }\n",
       "\n",
       "    .dataframe thead th {\n",
       "        text-align: right;\n",
       "    }\n",
       "</style>\n",
       "<table border=\"1\" class=\"dataframe\">\n",
       "  <thead>\n",
       "    <tr style=\"text-align: right;\">\n",
       "      <th></th>\n",
       "      <th>open</th>\n",
       "      <th>high</th>\n",
       "      <th>low</th>\n",
       "      <th>close</th>\n",
       "      <th>volume</th>\n",
       "    </tr>\n",
       "    <tr>\n",
       "      <th>timestamp</th>\n",
       "      <th></th>\n",
       "      <th></th>\n",
       "      <th></th>\n",
       "      <th></th>\n",
       "      <th></th>\n",
       "    </tr>\n",
       "  </thead>\n",
       "  <tbody>\n",
       "    <tr>\n",
       "      <th>2024-01-18</th>\n",
       "      <td>42776.09</td>\n",
       "      <td>42930.00</td>\n",
       "      <td>40683.28</td>\n",
       "      <td>41327.50</td>\n",
       "      <td>43907.51641</td>\n",
       "    </tr>\n",
       "    <tr>\n",
       "      <th>2024-01-19</th>\n",
       "      <td>41327.51</td>\n",
       "      <td>42196.86</td>\n",
       "      <td>40280.00</td>\n",
       "      <td>41659.03</td>\n",
       "      <td>48342.74559</td>\n",
       "    </tr>\n",
       "    <tr>\n",
       "      <th>2024-01-20</th>\n",
       "      <td>41659.03</td>\n",
       "      <td>41872.56</td>\n",
       "      <td>41456.30</td>\n",
       "      <td>41696.04</td>\n",
       "      <td>15923.99493</td>\n",
       "    </tr>\n",
       "    <tr>\n",
       "      <th>2024-01-21</th>\n",
       "      <td>41696.05</td>\n",
       "      <td>41881.39</td>\n",
       "      <td>41500.98</td>\n",
       "      <td>41580.33</td>\n",
       "      <td>11730.16301</td>\n",
       "    </tr>\n",
       "    <tr>\n",
       "      <th>2024-01-22</th>\n",
       "      <td>41580.32</td>\n",
       "      <td>41689.65</td>\n",
       "      <td>39431.58</td>\n",
       "      <td>39568.02</td>\n",
       "      <td>55426.19911</td>\n",
       "    </tr>\n",
       "  </tbody>\n",
       "</table>\n",
       "</div>"
      ]
     },
     "execution_count": 111,
     "metadata": {},
     "output_type": "execute_result"
    }
   ],
   "execution_count": 111
  },
  {
   "cell_type": "markdown",
   "source": [
    "## Get Ta Vals"
   ],
   "metadata": {
    "id": "OJTQmS8oE74w"
   }
  },
  {
   "cell_type": "code",
   "source": [
    "#OHCLV dataframe for plotly chart w.o indicators\n",
    "ohlcv_df = df_BTC.reset_index().rename({\"Date\": \"datetime\"}, axis='columns')"
   ],
   "metadata": {
    "id": "WShnDihQeV_-",
    "ExecuteTime": {
     "end_time": "2025-05-31T11:02:39.524061Z",
     "start_time": "2025-05-31T11:02:39.521700Z"
    }
   },
   "outputs": [],
   "execution_count": 112
  },
  {
   "cell_type": "code",
   "source": [
    "import numpy as np\n",
    "\n",
    "ta_df = df_BTC.copy()\n",
    "ta_df.columns = [name.lower().split(':')[1] for name in df.columns]\n",
    "\n",
    "ta_df = sauceCity(ta_df.reset_index().rename({\"Date\": \"date\"}, axis='columns'))\n",
    "\n",
    "ta_df['close'] = df['BTC:close'].to_numpy()\n",
    "ta_df['open_minus_close'] = np.log(ta_df['open']) - np.log(ta_df['close'])\n",
    "ta_df['high_minus_low'] = np.log(ta_df['high']) - np.log(ta_df['low'])\n",
    "\n",
    "ta_df = ta_df.set_index('date')\n",
    "ta_df"
   ],
   "metadata": {
    "id": "rE4SiHWjeUj0",
    "ExecuteTime": {
     "end_time": "2025-05-31T11:03:07.534379Z",
     "start_time": "2025-05-31T11:03:07.511372Z"
    }
   },
   "outputs": [
    {
     "ename": "IndexError",
     "evalue": "list index out of range",
     "output_type": "error",
     "traceback": [
      "\u001B[31m---------------------------------------------------------------------------\u001B[39m",
      "\u001B[31mIndexError\u001B[39m                                Traceback (most recent call last)",
      "\u001B[36mCell\u001B[39m\u001B[36m \u001B[39m\u001B[32mIn[114]\u001B[39m\u001B[32m, line 4\u001B[39m\n\u001B[32m      1\u001B[39m \u001B[38;5;28;01mimport\u001B[39;00m\u001B[38;5;250m \u001B[39m\u001B[34;01mnumpy\u001B[39;00m\u001B[38;5;250m \u001B[39m\u001B[38;5;28;01mas\u001B[39;00m\u001B[38;5;250m \u001B[39m\u001B[34;01mnp\u001B[39;00m\n\u001B[32m      3\u001B[39m ta_df = df_BTC.copy()\n\u001B[32m----> \u001B[39m\u001B[32m4\u001B[39m ta_df.columns = [name.lower().split(\u001B[33m'\u001B[39m\u001B[33m:\u001B[39m\u001B[33m'\u001B[39m)[\u001B[32m1\u001B[39m] \u001B[38;5;28;01mfor\u001B[39;00m name \u001B[38;5;129;01min\u001B[39;00m df.columns]\n\u001B[32m      6\u001B[39m ta_df = sauceCity(ta_df.reset_index().rename({\u001B[33m\"\u001B[39m\u001B[33mDate\u001B[39m\u001B[33m\"\u001B[39m: \u001B[33m\"\u001B[39m\u001B[33mdate\u001B[39m\u001B[33m\"\u001B[39m}, axis=\u001B[33m'\u001B[39m\u001B[33mcolumns\u001B[39m\u001B[33m'\u001B[39m))\n\u001B[32m      8\u001B[39m ta_df[\u001B[33m'\u001B[39m\u001B[33mclose\u001B[39m\u001B[33m'\u001B[39m] = df[\u001B[33m'\u001B[39m\u001B[33mBTC:close\u001B[39m\u001B[33m'\u001B[39m].to_numpy()\n",
      "\u001B[31mIndexError\u001B[39m: list index out of range"
     ]
    }
   ],
   "execution_count": 114
  },
  {
   "cell_type": "code",
   "source": [
    "df = ta_df"
   ],
   "metadata": {
    "id": "C_d2Ndo7zDy2"
   },
   "execution_count": null,
   "outputs": []
  },
  {
   "cell_type": "code",
   "source": [
    "\n",
    "df['obv'] = ta.volume.OnBalanceVolumeIndicator(df['close'], df['volume']).on_balance_volume()\n",
    "df['atr'] = ta.volatility.AverageTrueRange(df['high'], df['low'], df['close']).average_true_range()\n",
    "df['bb_upper_cross'] = ta.volatility.BollingerBands(df['close']).bollinger_hband_indicator()\n",
    "df['bb_lower_cross'] = ta.volatility.BollingerBands(df['close']).bollinger_lband_indicator()\n",
    "df['macd'] = ta.trend.MACD(df['close']).macd()\n",
    "df['macd_signal'] = ta.trend.MACD(df['close']).macd_signal()"
   ],
   "metadata": {
    "id": "eJtSZZ3lVHf6"
   },
   "execution_count": null,
   "outputs": []
  },
  {
   "cell_type": "code",
   "source": [
    "# MACD > or < 0.0\n",
    "i = 0\n",
    "test = []\n",
    "for y in df.macd.values:\n",
    "    if y > 0.0:\n",
    "        if df.macd_signal.values[i] > 0.0 or i != 0:\n",
    "            test.append(1)\n",
    "        else:\n",
    "            test.append(test[-1])\n",
    "    elif y < 0.0:\n",
    "        if df.macd_signal.values[i] < 0.0 or i != 0:\n",
    "            test.append(-1)\n",
    "        else:\n",
    "            test.append(test[-1])\n",
    "    i += 1"
   ],
   "metadata": {
    "id": "ehMsAqlmVHMo"
   },
   "execution_count": null,
   "outputs": []
  },
  {
   "cell_type": "code",
   "source": [
    "df['macd_above_zero'] = pd.Series(test)\n",
    "df['pre_macd_above_zero'] = df['macd_above_zero'].shift(1)\n",
    "df['macd_cross_zero'] = np.where(df['macd_above_zero'] == df['pre_macd_above_zero'], 0, 1)\n",
    "df = df.drop(['macd', 'macd_signal', 'pre_macd_above_zero', 'macd_above_zero'], axis=1)\n",
    "df['macd_cross_zero'][0] = 0\n",
    "\n",
    "df = df.set_index(\"date\")\n",
    "\n",
    "base, quote = symbol.split('_')\n",
    "df.columns = [base + \":\" + name.lower() for name in df.columns]"
   ],
   "metadata": {
    "id": "9feGlMoOMp7q"
   },
   "execution_count": null,
   "outputs": []
  },
  {
   "cell_type": "markdown",
   "metadata": {
    "id": "vjj0GRLPR9Lz"
   },
   "source": [
    "## Feature correlation analysis\n",
    "\n"
   ]
  },
  {
   "cell_type": "markdown",
   "metadata": {
    "id": "YApq-GPhaqSt"
   },
   "source": [
    "### Create correlation matrix\n"
   ]
  },
  {
   "cell_type": "code",
   "metadata": {
    "id": "vnzHrVnNrjwe"
   },
   "source": [
    "import seaborn as sns\n",
    "import matplotlib.pyplot as plt"
   ],
   "execution_count": null,
   "outputs": []
  },
  {
   "cell_type": "markdown",
   "metadata": {
    "id": "jxk805Girj13"
   },
   "source": [
    "### Display correlation heatmap"
   ]
  },
  {
   "cell_type": "code",
   "metadata": {
    "id": "zi4qOLMWR8fs"
   },
   "source": [
    "plt.figure(figsize=(17,17))\n",
    "corr_matrix = ta.add_all_ta_features(df, 'BTC:open', 'BTC:high', 'BTC:low', 'BTC:close', 'BTC:volume').corr().abs()\n",
    "sns.heatmap(corr_matrix, annot=False, linewidth=0.3, center=0, cmap='Blues', vmin=-1)"
   ],
   "execution_count": null,
   "outputs": []
  },
  {
   "cell_type": "code",
   "metadata": {
    "id": "kNQaB7AOhZ85"
   },
   "source": [
    "corr_matrix"
   ],
   "execution_count": null,
   "outputs": []
  },
  {
   "cell_type": "markdown",
   "metadata": {
    "id": "sr-IsaIZUNFB"
   },
   "source": [
    "### Identify Highly Correlated Features"
   ]
  },
  {
   "cell_type": "code",
   "metadata": {
    "id": "GdhDkq4pULrw"
   },
   "source": [
    "import numpy as np\n",
    "\n",
    "#apply log diff pricing to OHLC columns\n",
    "for column in ['BTC:open','BTC:high','BTC:low','BTC:close']:\n",
    "  if column in df.columns:\n",
    "      df[column] = np.log(df[column]).diff()\n",
    "\n",
    "print(df) # Before dropping columns for comparison\n",
    "\n",
    "# Slice upper triangle of correlation matrix\n",
    "upper = corr_matrix.where(np.triu(np.ones(corr_matrix.shape), k=1).astype(np.bool))\n",
    "\n",
    "# Find column names of features with correlation greater than 0.95\n",
    "# < 0.0 gets rid of data that has negative value despite .abs()\n",
    "to_drop = []\n",
    "for column in upper.columns:\n",
    "    if ((not column[-4:].lower() == 'open' and\n",
    "         not column[-4:].lower() == 'high' and\n",
    "         not column[-3:].lower() == 'low' and\n",
    "         not column[-5:].lower() == 'close') and\n",
    "        any(upper[column] > 0.95) or\n",
    "        any(upper[column] < 0.0)):\n",
    "        to_drop.append(column)\n",
    "\n",
    "# Drop those columns\n",
    "#df = df.drop(df[to_drop], axis=1)\n",
    "#print(df)\n",
    "\n",
    "# Idea\n",
    "# Add in MA's of the rejected types with new periods and correlate again\n",
    "# TA_Features.add_moving_avgs(indicators: list = 'all'):\n",
    "#    list of MA funcs = []\n",
    "# for func in MA_func_list:\n",
    "#    func(data['BTC:close'])"
   ],
   "execution_count": null,
   "outputs": []
  },
  {
   "cell_type": "markdown",
   "metadata": {
    "id": "-3Rs5BbX2hHR"
   },
   "source": [
    "## Correlation Work"
   ]
  },
  {
   "cell_type": "code",
   "metadata": {
    "id": "FF-VTy4PzWzo"
   },
   "source": [
    "c1 = corr_matrix[[x for x in corr_matrix.columns if x.startswith('volume')]].drop(\n",
    "                [x for x in corr_matrix.index if not x.startswith('volume')])\n",
    "c1 = c1.drop(\n",
    "                ['volume_nvi', 'volume_adi', 'volume_fi', 'volume_vwap',\n",
    "                 'volume_cmf', 'volume_em', 'volume_sma_em', 'volume_vpt']\n",
    "            ).drop(\n",
    "                ['volume_nvi', 'volume_adi', 'volume_fi', 'volume_vwap',\n",
    "                 'volume_cmf', 'volume_em', 'volume_sma_em', 'volume_vpt'],\n",
    "            axis=1)\n",
    "c1"
   ],
   "execution_count": null,
   "outputs": []
  },
  {
   "cell_type": "code",
   "metadata": {
    "id": "UPZjVxZfzW_r"
   },
   "source": [
    "c2 = corr_matrix[[x for x in corr_matrix.columns if x.startswith('momentum')]].drop(\n",
    "                [x for x in corr_matrix.index if not x.startswith('momentum')],axis=0)\n",
    "c2 = c2.drop(\n",
    "                ['momentum_rsi', 'momentum_stoch', 'momentum_wr', 'momentum_roc',\n",
    "                 'momentum_ao', 'momentum_uo', 'momentum_stoch_signal', 'momentum_tsi',\n",
    "                 'momentum_kama', 'momentum_mfi']\n",
    "            ).drop(\n",
    "                ['momentum_rsi', 'momentum_stoch', 'momentum_wr', 'momentum_roc',\n",
    "                 'momentum_ao', 'momentum_uo', 'momentum_stoch_signal', 'momentum_tsi',\n",
    "                 'momentum_kama', 'momentum_mfi'],\n",
    "            axis=1)\n",
    "c2"
   ],
   "execution_count": null,
   "outputs": []
  },
  {
   "cell_type": "code",
   "metadata": {
    "id": "XEwGCtEizXJy"
   },
   "source": [
    "c3 = corr_matrix[[x for x in corr_matrix.columns if x.startswith('other')]].drop(\n",
    "                [x for x in corr_matrix.index if not x.startswith('other')],axis=0)\n",
    "c3\n",
    "# self._dr = np.log(self._close).diff()\n",
    "# self._dr *= 100"
   ],
   "execution_count": null,
   "outputs": []
  },
  {
   "cell_type": "code",
   "metadata": {
    "id": "cEy44x6zzXS0"
   },
   "source": [
    "c4 = corr_matrix[[x for x in corr_matrix.columns if x.startswith('vola')]].drop(\n",
    "                [x for x in corr_matrix.index if not x.startswith('vola')],axis=0)\n",
    "c4 = c4.drop(\n",
    "                ['volatility_bbm', 'volatility_bbh', 'volatility_bbl', 'volatility_bbp',\n",
    "                 'volatility_kcc', 'volatility_kch', 'volatility_kcl', 'volatility_kcw',\n",
    "                 'volatility_kcp', 'volatility_kchi', 'volatility_kcli', 'volatility_dcl',\n",
    "                 'volatility_dch', 'volatility_bbw']\n",
    "             ).drop(\n",
    "                ['volatility_bbm', 'volatility_bbh', 'volatility_bbl', 'volatility_bbp',\n",
    "                 'volatility_kcc', 'volatility_kch', 'volatility_kcl', 'volatility_kcw',\n",
    "                 'volatility_kcp', 'volatility_kchi', 'volatility_kcli', 'volatility_dcl',\n",
    "                 'volatility_dch', 'volatility_bbw'],\n",
    "             axis=1)\n",
    "c4"
   ],
   "execution_count": null,
   "outputs": []
  },
  {
   "cell_type": "code",
   "metadata": {
    "id": "uJHPqht0zXjv"
   },
   "source": [
    "c5 = corr_matrix[[x for x in corr_matrix.columns if x.startswith('trend')]].drop(\n",
    "                [x for x in corr_matrix.index if not x.startswith('trend')],axis=0)\n",
    "c5 = c5.drop(\n",
    "                ['trend_sma_fast', 'trend_sma_slow', 'trend_ema_fast', 'trend_ema_slow',\n",
    "                 'trend_adx', 'trend_adx_pos', 'trend_adx_neg', 'trend_vortex_ind_pos',\n",
    "                 'trend_vortex_ind_neg', 'trend_vortex_ind_diff', 'trend_trix',\n",
    "                 'trend_mass_index', 'trend_cci', 'trend_dpo', 'trend_kst', 'trend_kst_sig',\n",
    "                 'trend_kst_diff', 'trend_visual_ichimoku_a', 'trend_visual_ichimoku_b',\n",
    "                 'trend_aroon_up', 'trend_aroon_down', 'trend_aroon_ind', 'trend_psar_up',\n",
    "                 'trend_psar_down', 'trend_psar_up_indicator', 'trend_psar_down_indicator',\n",
    "                 'trend_ichimoku_conv', 'trend_ichimoku_base', 'trend_ichimoku_a',\n",
    "                 'trend_ichimoku_b', 'trend_macd_diff']\n",
    "             ).drop(\n",
    "                ['trend_sma_fast', 'trend_sma_slow', 'trend_ema_fast', 'trend_ema_slow',\n",
    "                 'trend_adx', 'trend_adx_pos', 'trend_adx_neg', 'trend_vortex_ind_pos',\n",
    "                 'trend_vortex_ind_neg', 'trend_vortex_ind_diff', 'trend_trix',\n",
    "                 'trend_mass_index', 'trend_cci', 'trend_dpo', 'trend_kst', 'trend_kst_sig',\n",
    "                 'trend_kst_diff', 'trend_visual_ichimoku_a', 'trend_visual_ichimoku_b',\n",
    "                 'trend_aroon_up', 'trend_aroon_down', 'trend_aroon_ind', 'trend_psar_up',\n",
    "                 'trend_psar_down', 'trend_psar_up_indicator', 'trend_psar_down_indicator',\n",
    "                 'trend_ichimoku_conv', 'trend_ichimoku_base', 'trend_ichimoku_a',\n",
    "                 'trend_ichimoku_b', 'trend_macd_diff'],\n",
    "             axis=1)\n",
    "c5\n",
    "# trend_macd > 0\n",
    "# and trend_macd_signal > 0\n",
    "# and trend_macd_signal > trend_macd"
   ],
   "execution_count": null,
   "outputs": []
  },
  {
   "cell_type": "code",
   "metadata": {
    "id": "-0reJrO1-67X"
   },
   "source": [
    "d = []\n",
    "d.extend(c1.columns)\n",
    "d.extend(c2.columns)\n",
    "d.extend(c4.columns)\n",
    "d.extend(c5.columns)\n",
    "\n",
    "corr_matrix = df[d].corr().abs()\n",
    "corr_matrix\n",
    "\n",
    "#get a bbgrid going on many timedrames so actions\n",
    "#can be taken on lower ones and the higher ones be the data"
   ],
   "execution_count": null,
   "outputs": []
  },
  {
   "cell_type": "code",
   "metadata": {
    "id": "Puha3IyFmXml"
   },
   "source": [
    "upper = corr_matrix.where(np.triu(np.ones(corr_matrix.shape), k=1).astype(np.bool))\n",
    "\n",
    "upper[[x for x in upper.columns if any(upper[x] > 0.5)]]"
   ],
   "execution_count": null,
   "outputs": []
  },
  {
   "cell_type": "markdown",
   "metadata": {
    "id": "DEYRmmD4hl_i"
   },
   "source": [
    "## Enable Plotly Chart"
   ]
  },
  {
   "cell_type": "code",
   "metadata": {
    "id": "xzWKnCUWyE8_",
    "colab": {
     "base_uri": "https://localhost:8080/"
    },
    "outputId": "d8536a38-364f-4b29-f9e7-36d46261050f"
   },
   "source": [
    "# ipywidgets is required to run Plotly in Jupyter Notebook.\n",
    "!pip install ipywidgets\n",
    "import ipywidgets\n",
    "\n",
    "from tensortrade.environments.render import PlotlyTradingChart\n",
    "# from tensortrade.environments.render import FileLogger\n",
    "\n",
    "import plotly.io as pio\n",
    "pio.renderers\n",
    "pio.renderers.default = \"colab\"\n",
    "\n",
    "chart_renderer = PlotlyTradingChart(\n",
    "    display=True,  # show the chart on screen (default)\n",
    "    height=800,  # affects both displayed and saved file height. None for 100% height.\n",
    "    save_format='html',  # save the chart to an HTML file\n",
    "    # auto_open_html=True,  # open the saved HTML chart in a new browser tab\n",
    ")\n",
    "\n",
    "# file_logger = FileLogger(\n",
    "#     filename='example.log',  # omit or None for automatic file name\n",
    "#     path=None  # create a new directory if doesn't exist, None for no directory\n",
    "# )"
   ],
   "execution_count": null,
   "outputs": [
    {
     "output_type": "stream",
     "name": "stdout",
     "text": [
      "Looking in indexes: https://pypi.org/simple, https://us-python.pkg.dev/colab-wheels/public/simple/\n",
      "Requirement already satisfied: ipywidgets in /usr/local/lib/python3.7/dist-packages (7.7.1)\n",
      "Requirement already satisfied: widgetsnbextension~=3.6.0 in /usr/local/lib/python3.7/dist-packages (from ipywidgets) (3.6.1)\n",
      "Requirement already satisfied: traitlets>=4.3.1 in /usr/local/lib/python3.7/dist-packages (from ipywidgets) (5.1.1)\n",
      "Requirement already satisfied: ipython-genutils~=0.2.0 in /usr/local/lib/python3.7/dist-packages (from ipywidgets) (0.2.0)\n",
      "Requirement already satisfied: jupyterlab-widgets>=1.0.0 in /usr/local/lib/python3.7/dist-packages (from ipywidgets) (3.0.2)\n",
      "Requirement already satisfied: ipykernel>=4.5.1 in /usr/local/lib/python3.7/dist-packages (from ipywidgets) (5.3.4)\n",
      "Requirement already satisfied: ipython>=4.0.0 in /usr/local/lib/python3.7/dist-packages (from ipywidgets) (7.9.0)\n",
      "Requirement already satisfied: tornado>=4.2 in /usr/local/lib/python3.7/dist-packages (from ipykernel>=4.5.1->ipywidgets) (5.1.1)\n",
      "Requirement already satisfied: jupyter-client in /usr/local/lib/python3.7/dist-packages (from ipykernel>=4.5.1->ipywidgets) (6.1.12)\n",
      "Requirement already satisfied: decorator in /usr/local/lib/python3.7/dist-packages (from ipython>=4.0.0->ipywidgets) (4.4.2)\n",
      "Requirement already satisfied: backcall in /usr/local/lib/python3.7/dist-packages (from ipython>=4.0.0->ipywidgets) (0.2.0)\n",
      "Requirement already satisfied: pexpect in /usr/local/lib/python3.7/dist-packages (from ipython>=4.0.0->ipywidgets) (4.8.0)\n",
      "Requirement already satisfied: pygments in /usr/local/lib/python3.7/dist-packages (from ipython>=4.0.0->ipywidgets) (2.6.1)\n",
      "Collecting jedi>=0.10\n",
      "  Downloading jedi-0.18.1-py2.py3-none-any.whl (1.6 MB)\n",
      "\u001B[K     |████████████████████████████████| 1.6 MB 10.5 MB/s \n",
      "\u001B[?25hRequirement already satisfied: pickleshare in /usr/local/lib/python3.7/dist-packages (from ipython>=4.0.0->ipywidgets) (0.7.5)\n",
      "Requirement already satisfied: setuptools>=18.5 in /usr/local/lib/python3.7/dist-packages (from ipython>=4.0.0->ipywidgets) (65.3.0)\n",
      "Requirement already satisfied: prompt-toolkit<2.1.0,>=2.0.0 in /usr/local/lib/python3.7/dist-packages (from ipython>=4.0.0->ipywidgets) (2.0.10)\n",
      "Requirement already satisfied: parso<0.9.0,>=0.8.0 in /usr/local/lib/python3.7/dist-packages (from jedi>=0.10->ipython>=4.0.0->ipywidgets) (0.8.3)\n",
      "Requirement already satisfied: six>=1.9.0 in /usr/local/lib/python3.7/dist-packages (from prompt-toolkit<2.1.0,>=2.0.0->ipython>=4.0.0->ipywidgets) (1.15.0)\n",
      "Requirement already satisfied: wcwidth in /usr/local/lib/python3.7/dist-packages (from prompt-toolkit<2.1.0,>=2.0.0->ipython>=4.0.0->ipywidgets) (0.2.5)\n",
      "Requirement already satisfied: notebook>=4.4.1 in /usr/local/lib/python3.7/dist-packages (from widgetsnbextension~=3.6.0->ipywidgets) (5.3.1)\n",
      "Requirement already satisfied: jupyter-core>=4.4.0 in /usr/local/lib/python3.7/dist-packages (from notebook>=4.4.1->widgetsnbextension~=3.6.0->ipywidgets) (4.11.1)\n",
      "Requirement already satisfied: Send2Trash in /usr/local/lib/python3.7/dist-packages (from notebook>=4.4.1->widgetsnbextension~=3.6.0->ipywidgets) (1.8.0)\n",
      "Requirement already satisfied: nbformat in /usr/local/lib/python3.7/dist-packages (from notebook>=4.4.1->widgetsnbextension~=3.6.0->ipywidgets) (5.4.0)\n",
      "Requirement already satisfied: terminado>=0.8.1 in /usr/local/lib/python3.7/dist-packages (from notebook>=4.4.1->widgetsnbextension~=3.6.0->ipywidgets) (0.13.3)\n",
      "Requirement already satisfied: nbconvert in /usr/local/lib/python3.7/dist-packages (from notebook>=4.4.1->widgetsnbextension~=3.6.0->ipywidgets) (5.6.1)\n",
      "Requirement already satisfied: jinja2 in /usr/local/lib/python3.7/dist-packages (from notebook>=4.4.1->widgetsnbextension~=3.6.0->ipywidgets) (2.11.3)\n",
      "Requirement already satisfied: python-dateutil>=2.1 in /usr/local/lib/python3.7/dist-packages (from jupyter-client->ipykernel>=4.5.1->ipywidgets) (2.8.2)\n",
      "Requirement already satisfied: pyzmq>=13 in /usr/local/lib/python3.7/dist-packages (from jupyter-client->ipykernel>=4.5.1->ipywidgets) (23.2.1)\n",
      "Requirement already satisfied: ptyprocess in /usr/local/lib/python3.7/dist-packages (from terminado>=0.8.1->notebook>=4.4.1->widgetsnbextension~=3.6.0->ipywidgets) (0.7.0)\n",
      "Requirement already satisfied: MarkupSafe>=0.23 in /usr/local/lib/python3.7/dist-packages (from jinja2->notebook>=4.4.1->widgetsnbextension~=3.6.0->ipywidgets) (2.0.1)\n",
      "Requirement already satisfied: testpath in /usr/local/lib/python3.7/dist-packages (from nbconvert->notebook>=4.4.1->widgetsnbextension~=3.6.0->ipywidgets) (0.6.0)\n",
      "Requirement already satisfied: entrypoints>=0.2.2 in /usr/local/lib/python3.7/dist-packages (from nbconvert->notebook>=4.4.1->widgetsnbextension~=3.6.0->ipywidgets) (0.4)\n",
      "Requirement already satisfied: pandocfilters>=1.4.1 in /usr/local/lib/python3.7/dist-packages (from nbconvert->notebook>=4.4.1->widgetsnbextension~=3.6.0->ipywidgets) (1.5.0)\n",
      "Requirement already satisfied: mistune<2,>=0.8.1 in /usr/local/lib/python3.7/dist-packages (from nbconvert->notebook>=4.4.1->widgetsnbextension~=3.6.0->ipywidgets) (0.8.4)\n",
      "Requirement already satisfied: defusedxml in /usr/local/lib/python3.7/dist-packages (from nbconvert->notebook>=4.4.1->widgetsnbextension~=3.6.0->ipywidgets) (0.7.1)\n",
      "Requirement already satisfied: bleach in /usr/local/lib/python3.7/dist-packages (from nbconvert->notebook>=4.4.1->widgetsnbextension~=3.6.0->ipywidgets) (5.0.1)\n",
      "Requirement already satisfied: fastjsonschema in /usr/local/lib/python3.7/dist-packages (from nbformat->notebook>=4.4.1->widgetsnbextension~=3.6.0->ipywidgets) (2.16.1)\n",
      "Requirement already satisfied: jsonschema>=2.6 in /usr/local/lib/python3.7/dist-packages (from nbformat->notebook>=4.4.1->widgetsnbextension~=3.6.0->ipywidgets) (4.3.3)\n",
      "Requirement already satisfied: importlib-resources>=1.4.0 in /usr/local/lib/python3.7/dist-packages (from jsonschema>=2.6->nbformat->notebook>=4.4.1->widgetsnbextension~=3.6.0->ipywidgets) (5.9.0)\n",
      "Requirement already satisfied: pyrsistent!=0.17.0,!=0.17.1,!=0.17.2,>=0.14.0 in /usr/local/lib/python3.7/dist-packages (from jsonschema>=2.6->nbformat->notebook>=4.4.1->widgetsnbextension~=3.6.0->ipywidgets) (0.18.1)\n",
      "Requirement already satisfied: typing-extensions in /usr/local/lib/python3.7/dist-packages (from jsonschema>=2.6->nbformat->notebook>=4.4.1->widgetsnbextension~=3.6.0->ipywidgets) (4.1.1)\n",
      "Requirement already satisfied: attrs>=17.4.0 in /usr/local/lib/python3.7/dist-packages (from jsonschema>=2.6->nbformat->notebook>=4.4.1->widgetsnbextension~=3.6.0->ipywidgets) (22.1.0)\n",
      "Requirement already satisfied: importlib-metadata in /usr/local/lib/python3.7/dist-packages (from jsonschema>=2.6->nbformat->notebook>=4.4.1->widgetsnbextension~=3.6.0->ipywidgets) (4.12.0)\n",
      "Requirement already satisfied: zipp>=3.1.0 in /usr/local/lib/python3.7/dist-packages (from importlib-resources>=1.4.0->jsonschema>=2.6->nbformat->notebook>=4.4.1->widgetsnbextension~=3.6.0->ipywidgets) (3.8.1)\n",
      "Requirement already satisfied: webencodings in /usr/local/lib/python3.7/dist-packages (from bleach->nbconvert->notebook>=4.4.1->widgetsnbextension~=3.6.0->ipywidgets) (0.5.1)\n",
      "Installing collected packages: jedi\n",
      "Successfully installed jedi-0.18.1\n"
     ]
    }
   ]
  },
  {
   "cell_type": "markdown",
   "metadata": {
    "id": "XgUAp4WVI_lO"
   },
   "source": [
    "##Optuna"
   ]
  },
  {
   "cell_type": "code",
   "metadata": {
    "id": "MYGy04EaMNoE"
   },
   "source": [
    "!pip install optuna==1.2.0 # DB was created in 1.2, 1.4 dont like that\n",
    "import optuna"
   ],
   "execution_count": null,
   "outputs": []
  },
  {
   "cell_type": "code",
   "source": [
    "from google.colab import drive\n",
    "drive.mount('/content/drive/')"
   ],
   "metadata": {
    "colab": {
     "base_uri": "https://localhost:8080/"
    },
    "id": "1VBoqynz-_-K",
    "outputId": "ccbdefbf-cd61-41f9-bf67-844b676dab74"
   },
   "execution_count": null,
   "outputs": [
    {
     "output_type": "stream",
     "name": "stdout",
     "text": [
      "Mounted at /content/drive/\n"
     ]
    }
   ]
  },
  {
   "cell_type": "code",
   "source": [
    "from tensortrade.agents import DQNAgent\n",
    "\n",
    "def Train_DQN_Agent():\n",
    "    n_episodes =  10000\n",
    "    window_size = 1\n",
    "    learning_rate = 0.001\n",
    "    discount_factor = 0.9999\n",
    "\n",
    "    # Random slice of data for training\n",
    "    # start_bound = len(df['close']) / 100\n",
    "    # start_slice = 0\n",
    "\n",
    "    # end_bound_2 = start_slice + 100#len(df['BTC:close'])\n",
    "    # end_bound_1 = start_slice + window_size * 2\n",
    "    # if end_bound_1 >= end_bound_2:\n",
    "    #     end_bound_1 = end_bound_2 - window_size\n",
    "    # end_slice = start_slice + 100\n",
    "\n",
    "\n",
    "    batch_size = 128\n",
    "    memory_capacity = 1000\n",
    "    eps_start = 0.9\n",
    "    eps_end = 0.05\n",
    "    eps_decay_steps = 200\n",
    "\n",
    "    save_path = \"/content/drive/MyDrive/agents/\"\n",
    "    n_steps = len(df['close']-1)#end_slice - start_slice + 1 .iloc[start_slice:end_slice]\n",
    "    render_interval = 1\n",
    "    # print('steps', end_slice - start_slice)\n",
    "\n",
    "    save_every = 500\n",
    "    update_target_every = 1000\n",
    "\n",
    "    print(df.columns)\n",
    "    with Module(\"TEST1\") as moduleNodes:\n",
    "        nodes = [Stream(name, list(df[name])) for name in df.columns]\n",
    "\n",
    "    print(len(moduleNodes.inputs))\n",
    "    feed = DataFeed([moduleNodes])\n",
    "    print(feed._repr_())\n",
    "\n",
    "    exchange = Exchange(\"TEST1\", service=execute_order)(\n",
    "            Stream(\"USD-BTC\", list(df['close']))\n",
    "    )\n",
    "    portfolio = Portfolio(USD, [\n",
    "        Wallet(exchange, 1000000 * USD),\n",
    "        Wallet(exchange, 0 * BTC)\n",
    "    ])\n",
    "\n",
    "    env = TradingEnvironment(\n",
    "        feed = feed,\n",
    "        portfolio = portfolio,\n",
    "        action_scheme = 'simple',\n",
    "        window_size = window_size,\n",
    "        reward_scheme = 'simple',\n",
    "        enable_logger = True,\n",
    "        renderers = [chart_renderer, 'screenlog'],\n",
    "        price_history = ohlcv_df\n",
    "    )\n",
    "    print(env)\n",
    "\n",
    "    agent = DQNAgent(env)\n",
    "\n",
    "    mean_reward = agent.train(\n",
    "        n_steps = n_steps,\n",
    "        n_episodes = n_episodes,\n",
    "        learning_rate = learning_rate,\n",
    "        save_path = save_path,\n",
    "\n",
    "        batch_size = batch_size,\n",
    "        discount_factor = discount_factor,\n",
    "\n",
    "        #save_every = save_every,\n",
    "        update_target_every = update_target_every,\n",
    "        memory_capacity = memory_capacity,\n",
    "        render_interval = render_interval,\n",
    "\n",
    "        eps_start = eps_start,\n",
    "        eps_end = eps_end,\n",
    "        eps_decay_steps = eps_decay_steps\n",
    "    )\n",
    "\n",
    "    chart_renderer.fig.show()\n",
    "\n",
    "    return mean_reward"
   ],
   "metadata": {
    "id": "IsACL4se-UJh"
   },
   "execution_count": null,
   "outputs": []
  },
  {
   "cell_type": "code",
   "source": [
    "Train_DQN_Agent()"
   ],
   "metadata": {
    "colab": {
     "base_uri": "https://localhost:8080/",
     "height": 454
    },
    "id": "kTLekZM9_UT3",
    "outputId": "29bb7a80-5601-4c5c-b1f7-ad8bcbf0e949"
   },
   "execution_count": null,
   "outputs": [
    {
     "output_type": "stream",
     "name": "stdout",
     "text": [
      "Index(['price_vs_bbands_2x', 'price_vs_bbands_3x', 'price_vs_fastSMA',\n",
      "       'price_vs_slowSMA', 'sma_crosses', 'sma_filter_slope',\n",
      "       'price_vs_filterSMA', 'consecutive_candles', 'close'],\n",
      "      dtype='object')\n",
      "0\n",
      "<Node: name=node:72, type=datafeed>\n"
     ]
    },
    {
     "output_type": "error",
     "ename": "IndexError",
     "evalue": "ignored",
     "traceback": [
      "\u001B[0;31m---------------------------------------------------------------------------\u001B[0m",
      "\u001B[0;31mIndexError\u001B[0m                                Traceback (most recent call last)",
      "\u001B[0;32m<ipython-input-93-b41af2c17999>\u001B[0m in \u001B[0;36m<module>\u001B[0;34m\u001B[0m\n\u001B[0;32m----> 1\u001B[0;31m \u001B[0mTrain_DQN_Agent\u001B[0m\u001B[0;34m(\u001B[0m\u001B[0;34m)\u001B[0m\u001B[0;34m\u001B[0m\u001B[0;34m\u001B[0m\u001B[0m\n\u001B[0m",
      "\u001B[0;32m<ipython-input-92-dbc1465de7a0>\u001B[0m in \u001B[0;36mTrain_DQN_Agent\u001B[0;34m()\u001B[0m\n\u001B[1;32m     56\u001B[0m         \u001B[0menable_logger\u001B[0m \u001B[0;34m=\u001B[0m \u001B[0;32mTrue\u001B[0m\u001B[0;34m,\u001B[0m\u001B[0;34m\u001B[0m\u001B[0;34m\u001B[0m\u001B[0m\n\u001B[1;32m     57\u001B[0m         \u001B[0mrenderers\u001B[0m \u001B[0;34m=\u001B[0m \u001B[0;34m[\u001B[0m\u001B[0mchart_renderer\u001B[0m\u001B[0;34m,\u001B[0m \u001B[0;34m'screenlog'\u001B[0m\u001B[0;34m]\u001B[0m\u001B[0;34m,\u001B[0m\u001B[0;34m\u001B[0m\u001B[0;34m\u001B[0m\u001B[0m\n\u001B[0;32m---> 58\u001B[0;31m         \u001B[0mprice_history\u001B[0m \u001B[0;34m=\u001B[0m \u001B[0mohlcv_df\u001B[0m\u001B[0;34m\u001B[0m\u001B[0;34m\u001B[0m\u001B[0m\n\u001B[0m\u001B[1;32m     59\u001B[0m     )\n\u001B[1;32m     60\u001B[0m     \u001B[0mprint\u001B[0m\u001B[0;34m(\u001B[0m\u001B[0menv\u001B[0m\u001B[0;34m)\u001B[0m\u001B[0;34m\u001B[0m\u001B[0;34m\u001B[0m\u001B[0m\n",
      "\u001B[0;32m/usr/local/lib/python3.7/dist-packages/tensortrade/environments/trading_environment.py\u001B[0m in \u001B[0;36m__init__\u001B[0;34m(self, portfolio, action_scheme, reward_scheme, feed, window_size, use_internal, renderers, **kwargs)\u001B[0m\n\u001B[1;32m    112\u001B[0m         \u001B[0mlogging\u001B[0m\u001B[0;34m.\u001B[0m\u001B[0mgetLogger\u001B[0m\u001B[0;34m(\u001B[0m\u001B[0;34m'tensorflow'\u001B[0m\u001B[0;34m)\u001B[0m\u001B[0;34m.\u001B[0m\u001B[0mdisabled\u001B[0m \u001B[0;34m=\u001B[0m \u001B[0mkwargs\u001B[0m\u001B[0;34m.\u001B[0m\u001B[0mget\u001B[0m\u001B[0;34m(\u001B[0m\u001B[0;34m'disable_tensorflow_logger'\u001B[0m\u001B[0;34m,\u001B[0m \u001B[0;32mTrue\u001B[0m\u001B[0;34m)\u001B[0m\u001B[0;34m\u001B[0m\u001B[0;34m\u001B[0m\u001B[0m\n\u001B[1;32m    113\u001B[0m \u001B[0;34m\u001B[0m\u001B[0m\n\u001B[0;32m--> 114\u001B[0;31m         \u001B[0mself\u001B[0m\u001B[0;34m.\u001B[0m\u001B[0mcompile\u001B[0m\u001B[0;34m(\u001B[0m\u001B[0;34m)\u001B[0m\u001B[0;34m\u001B[0m\u001B[0;34m\u001B[0m\u001B[0m\n\u001B[0m\u001B[1;32m    115\u001B[0m \u001B[0;34m\u001B[0m\u001B[0m\n\u001B[1;32m    116\u001B[0m     \u001B[0;34m@\u001B[0m\u001B[0mproperty\u001B[0m\u001B[0;34m\u001B[0m\u001B[0;34m\u001B[0m\u001B[0m\n",
      "\u001B[0;32m/usr/local/lib/python3.7/dist-packages/tensortrade/environments/trading_environment.py\u001B[0m in \u001B[0;36mcompile\u001B[0;34m(self)\u001B[0m\n\u001B[1;32m    150\u001B[0m             \u001B[0mself\u001B[0m\u001B[0;34m.\u001B[0m\u001B[0mfeed\u001B[0m \u001B[0;34m=\u001B[0m \u001B[0mself\u001B[0m\u001B[0;34m.\u001B[0m\u001B[0mfeed\u001B[0m \u001B[0;34m+\u001B[0m \u001B[0mcreate_internal_feed\u001B[0m\u001B[0;34m(\u001B[0m\u001B[0mself\u001B[0m\u001B[0;34m.\u001B[0m\u001B[0mportfolio\u001B[0m\u001B[0;34m)\u001B[0m\u001B[0;34m\u001B[0m\u001B[0;34m\u001B[0m\u001B[0m\n\u001B[1;32m    151\u001B[0m \u001B[0;34m\u001B[0m\u001B[0m\n\u001B[0;32m--> 152\u001B[0;31m         \u001B[0minitial_obs\u001B[0m \u001B[0;34m=\u001B[0m \u001B[0mself\u001B[0m\u001B[0;34m.\u001B[0m\u001B[0mfeed\u001B[0m\u001B[0;34m.\u001B[0m\u001B[0mnext\u001B[0m\u001B[0;34m(\u001B[0m\u001B[0;34m)\u001B[0m\u001B[0;34m\u001B[0m\u001B[0;34m\u001B[0m\u001B[0m\n\u001B[0m\u001B[1;32m    153\u001B[0m         \u001B[0mn_features\u001B[0m \u001B[0;34m=\u001B[0m \u001B[0mlen\u001B[0m\u001B[0;34m(\u001B[0m\u001B[0minitial_obs\u001B[0m\u001B[0;34m.\u001B[0m\u001B[0mkeys\u001B[0m\u001B[0;34m(\u001B[0m\u001B[0;34m)\u001B[0m\u001B[0;34m)\u001B[0m \u001B[0;32mif\u001B[0m \u001B[0mself\u001B[0m\u001B[0;34m.\u001B[0m\u001B[0muse_internal\u001B[0m \u001B[0;32melse\u001B[0m \u001B[0mlen\u001B[0m\u001B[0;34m(\u001B[0m\u001B[0mself\u001B[0m\u001B[0;34m.\u001B[0m\u001B[0m_external_keys\u001B[0m\u001B[0;34m)\u001B[0m\u001B[0;34m\u001B[0m\u001B[0;34m\u001B[0m\u001B[0m\n\u001B[1;32m    154\u001B[0m \u001B[0;34m\u001B[0m\u001B[0m\n",
      "\u001B[0;32m/usr/local/lib/python3.7/dist-packages/tensortrade/data/stream/feed.py\u001B[0m in \u001B[0;36mnext\u001B[0;34m(self)\u001B[0m\n\u001B[1;32m     89\u001B[0m \u001B[0;34m\u001B[0m\u001B[0m\n\u001B[1;32m     90\u001B[0m     \u001B[0;32mdef\u001B[0m \u001B[0mnext\u001B[0m\u001B[0;34m(\u001B[0m\u001B[0mself\u001B[0m\u001B[0;34m)\u001B[0m\u001B[0;34m:\u001B[0m\u001B[0;34m\u001B[0m\u001B[0;34m\u001B[0m\u001B[0m\n\u001B[0;32m---> 91\u001B[0;31m         \u001B[0mself\u001B[0m\u001B[0;34m.\u001B[0m\u001B[0mrun\u001B[0m\u001B[0;34m(\u001B[0m\u001B[0;34m)\u001B[0m\u001B[0;34m\u001B[0m\u001B[0;34m\u001B[0m\u001B[0m\n\u001B[0m\u001B[1;32m     92\u001B[0m \u001B[0;34m\u001B[0m\u001B[0m\n\u001B[1;32m     93\u001B[0m         \u001B[0;32mreturn\u001B[0m \u001B[0mself\u001B[0m\u001B[0;34m.\u001B[0m\u001B[0mvalue\u001B[0m\u001B[0;34m\u001B[0m\u001B[0;34m\u001B[0m\u001B[0m\n",
      "\u001B[0;32m/usr/local/lib/python3.7/dist-packages/tensortrade/data/stream/feed.py\u001B[0m in \u001B[0;36mrun\u001B[0;34m(self)\u001B[0m\n\u001B[1;32m     81\u001B[0m \u001B[0;34m\u001B[0m\u001B[0m\n\u001B[1;32m     82\u001B[0m         \u001B[0;32mfor\u001B[0m \u001B[0mnode\u001B[0m \u001B[0;32min\u001B[0m \u001B[0mself\u001B[0m\u001B[0;34m.\u001B[0m\u001B[0mprocess\u001B[0m\u001B[0;34m:\u001B[0m\u001B[0;34m\u001B[0m\u001B[0;34m\u001B[0m\u001B[0m\n\u001B[0;32m---> 83\u001B[0;31m             \u001B[0mnode\u001B[0m\u001B[0;34m.\u001B[0m\u001B[0mrun\u001B[0m\u001B[0;34m(\u001B[0m\u001B[0;34m)\u001B[0m\u001B[0;34m\u001B[0m\u001B[0;34m\u001B[0m\u001B[0m\n\u001B[0m\u001B[1;32m     84\u001B[0m \u001B[0;34m\u001B[0m\u001B[0m\n\u001B[1;32m     85\u001B[0m         \u001B[0msuper\u001B[0m\u001B[0;34m(\u001B[0m\u001B[0;34m)\u001B[0m\u001B[0;34m.\u001B[0m\u001B[0mrun\u001B[0m\u001B[0;34m(\u001B[0m\u001B[0;34m)\u001B[0m\u001B[0;34m\u001B[0m\u001B[0;34m\u001B[0m\u001B[0m\n",
      "\u001B[0;32m/usr/local/lib/python3.7/dist-packages/tensortrade/data/stream/node.py\u001B[0m in \u001B[0;36mrun\u001B[0;34m(self)\u001B[0m\n\u001B[1;32m     98\u001B[0m \u001B[0;34m\u001B[0m\u001B[0m\n\u001B[1;32m     99\u001B[0m     \u001B[0;32mdef\u001B[0m \u001B[0mrun\u001B[0m\u001B[0;34m(\u001B[0m\u001B[0mself\u001B[0m\u001B[0;34m)\u001B[0m\u001B[0;34m:\u001B[0m\u001B[0;34m\u001B[0m\u001B[0;34m\u001B[0m\u001B[0m\n\u001B[0;32m--> 100\u001B[0;31m         \u001B[0mself\u001B[0m\u001B[0;34m.\u001B[0m\u001B[0mvalue\u001B[0m \u001B[0;34m=\u001B[0m \u001B[0mself\u001B[0m\u001B[0;34m.\u001B[0m\u001B[0mforward\u001B[0m\u001B[0;34m(\u001B[0m\u001B[0;34m)\u001B[0m\u001B[0;34m\u001B[0m\u001B[0;34m\u001B[0m\u001B[0m\n\u001B[0m\u001B[1;32m    101\u001B[0m \u001B[0;34m\u001B[0m\u001B[0m\n\u001B[1;32m    102\u001B[0m         \u001B[0;32mfor\u001B[0m \u001B[0mlistener\u001B[0m \u001B[0;32min\u001B[0m \u001B[0mself\u001B[0m\u001B[0;34m.\u001B[0m\u001B[0mlisteners\u001B[0m\u001B[0;34m:\u001B[0m\u001B[0;34m\u001B[0m\u001B[0;34m\u001B[0m\u001B[0m\n",
      "\u001B[0;32m/usr/local/lib/python3.7/dist-packages/tensortrade/data/stream/node.py\u001B[0m in \u001B[0;36mforward\u001B[0;34m(self)\u001B[0m\n\u001B[1;32m    456\u001B[0m     \u001B[0;32mdef\u001B[0m \u001B[0mforward\u001B[0m\u001B[0;34m(\u001B[0m\u001B[0mself\u001B[0m\u001B[0;34m)\u001B[0m\u001B[0;34m:\u001B[0m\u001B[0;34m\u001B[0m\u001B[0;34m\u001B[0m\u001B[0m\n\u001B[1;32m    457\u001B[0m         \u001B[0;32mif\u001B[0m \u001B[0;32mnot\u001B[0m \u001B[0mself\u001B[0m\u001B[0;34m.\u001B[0m\u001B[0m_node\u001B[0m\u001B[0;34m:\u001B[0m\u001B[0;34m\u001B[0m\u001B[0;34m\u001B[0m\u001B[0m\n\u001B[0;32m--> 458\u001B[0;31m \u001B[0;34m\u001B[0m\u001B[0m\n\u001B[0m\u001B[1;32m    459\u001B[0m             \u001B[0mself\u001B[0m\u001B[0;34m.\u001B[0m\u001B[0mname\u001B[0m \u001B[0;34m=\u001B[0m \u001B[0mself\u001B[0m\u001B[0;34m.\u001B[0m\u001B[0m_node\u001B[0m\u001B[0;34m.\u001B[0m\u001B[0mname\u001B[0m            \u001B[0mself\u001B[0m\u001B[0;34m.\u001B[0m\u001B[0m_node\u001B[0m \u001B[0;34m=\u001B[0m \u001B[0mlist\u001B[0m\u001B[0;34m(\u001B[0m\u001B[0mfilter\u001B[0m\u001B[0;34m(\u001B[0m\u001B[0mself\u001B[0m\u001B[0;34m.\u001B[0m\u001B[0mselector\u001B[0m\u001B[0;34m,\u001B[0m \u001B[0mself\u001B[0m\u001B[0;34m.\u001B[0m\u001B[0minputs\u001B[0m\u001B[0;34m)\u001B[0m\u001B[0;34m)\u001B[0m\u001B[0;34m[\u001B[0m\u001B[0;36m0\u001B[0m\u001B[0;34m]\u001B[0m\u001B[0;34m\u001B[0m\u001B[0;34m\u001B[0m\u001B[0m\n\u001B[1;32m    460\u001B[0m \u001B[0;34m\u001B[0m\u001B[0m\n",
      "\u001B[0;31mIndexError\u001B[0m: list index out of range"
     ]
    }
   ]
  },
  {
   "cell_type": "code",
   "source": [
    "\n",
    "    # from tensortrade.actions import ManagedRiskOrders\n",
    "    # action_scheme = ManagedRiskOrders(\n",
    "    #     #durations=[6],\n",
    "    #     stop_loss_percentages=[0.01, 0.02, 0.03, 0.04, 0.05, 0.06, 0.07, 0.08, 0.09, 0.1,\n",
    "    #                            0.005, 0.0075, 0.015, 0.025, 0.035, 0.045, 0.055, 0.065],\n",
    "    #     take_profit_percentages=[0.01, 0.02, 0.03, 0.04, 0.05, 0.06, 0.07, 0.08, 0.09, 0.1,\n",
    "    #                            0.005, 0.0075, 0.015, 0.025, 0.035, 0.045, 0.055, 0.065],\n",
    "    #     trade_sizes = [1/30, 1/25, 1/20, 1/15])\n",
    "    # \"\"\"\n",
    "    # Args:\n",
    "    #     pairs: A list of trading pairs to select from when submitting an order.\n",
    "    #            e.g. TradingPair(BTC, USD)\n",
    "    #     stop_loss_percentages: A list of possible stop loss percentages for each order.\n",
    "    #     take_profit_percentages: A list of possible take profit percentages for each order.\n",
    "    #     trade_sizes: A list of trade sizes to select from when submitting an order.\n",
    "    #                  e.g. '[1, 1/3]' = 100% or 33% of balance is tradable.\n",
    "    #                       '4' = 25%, 50%, 75%, or 100% of balance is tradable.\n",
    "\n",
    "    #     order_listener (optional): An optional listener for order events executed by this action scheme.\n",
    "    # \"\"\"\n",
    "\n",
    "    # from tensortrade.rewards import RiskAdjustedReturns\n",
    "    # reward_scheme = RiskAdjustedReturns(\n",
    "    #     return_algorithm='sortino',\n",
    "    #     minimize_trades = True,\n",
    "    #     window_size = window_size\n",
    "    #     )\n",
    "    # \"\"\"\n",
    "    #     Args:\n",
    "    #         return_algorithm (optional): The risk-adjusted return metric to use.\n",
    "    #                                      Options are 'sharpe' and 'sortino'. Defaults to 'sharpe'.\n",
    "    #         risk_free_rate (optional): The risk free rate of returns to use for calculating metrics.\n",
    "    #                                    Defaults to 0.\n",
    "    #         target_returns (optional): The target returns per period for use in calculating the\n",
    "    #                                    sortino ratio. Default to 0.\n",
    "    # \"\"\"\n"
   ],
   "metadata": {
    "id": "sllSDOBMD8P_"
   },
   "execution_count": null,
   "outputs": []
  },
  {
   "cell_type": "markdown",
   "metadata": {
    "id": "NoXJ2lSXiulM"
   },
   "source": [
    "### Train DQN Agent with Optuna"
   ]
  },
  {
   "cell_type": "code",
   "metadata": {
    "id": "HNo8fWLdI-tQ"
   },
   "source": [
    "from tensortrade.agents import DQNAgent\n",
    "\n",
    "def Train_DQN_Agent(trial):\n",
    "\n",
    "    # OPTUNA PARAMETER TYPES\n",
    "    # optimizer = trial.suggest_categorical('optimizer', ['MomentumSGD', 'Adam'])\n",
    "    # num_layers = trial.suggest_int('num_layers', 1, 3)\n",
    "    # dropout_rate = trial.suggest_uniform('dropout_rate', 0.0, 1.0)\n",
    "    # learning_rate = trial.suggest_loguniform('learning_rate', 1e-5, 1e-2)\n",
    "    # drop_path_rate = trial.suggest_discrete_uniform('drop_path_rate', 0.0, 1.0, 0.1) #0.1 increments\n",
    "\n",
    "    #set optunable vars\n",
    "    #n_steps = trial.suggest_int('n_steps', 16, 100)\n",
    "    n_episodes = trial.suggest_int('n_episodes', 1000, 10000)\n",
    "    window_size = trial.suggest_int('window_size', 2, 100)\n",
    "    learning_rate = trial.suggest_uniform('learning_rate', 0.0001, 1.00)\n",
    "    discount_factor = trial.suggest_uniform('discount_factor', 0.5000, 0.9999)\n",
    "\n",
    "    # Random slice of data for training\n",
    "    start_bound = len(df['close']) / 100\n",
    "    start_slice = trial.suggest_int('start_slice', 0, start_bound)\n",
    "\n",
    "    end_bound_2 = start_slice + 100#len(df['BTC:close'])\n",
    "    end_bound_1 = start_slice + window_size * 2\n",
    "    if end_bound_1 >= end_bound_2:\n",
    "        end_bound_1 = end_bound_2 - window_size\n",
    "    end_slice = trial.suggest_int('end_slice', end_bound_1, end_bound_2)\n",
    "\n",
    "\n",
    "    batch_size = 128\n",
    "    memory_capacity = 1000\n",
    "    eps_start = 0.9\n",
    "    eps_end = 0.05\n",
    "    eps_decay_steps = 200\n",
    "    save_path = \"agents/\"\n",
    "    n_steps = end_slice - start_slice + 1\n",
    "    render_interval = 10#int(n_steps / 5)\n",
    "    print('steps', end_slice - start_slice)\n",
    "    #save_every = int(n_episodes / 10)\n",
    "    update_target_every = 1000\n",
    "\n",
    "\n",
    "    with Module(\"coinbase\") as coinbase_ns:\n",
    "        nodes = [Stream(name, list(df[name][start_slice:end_slice])) for name in df.columns]\n",
    "\n",
    "    feed = DataFeed([coinbase_ns])\n",
    "\n",
    "    exchange = Exchange(\"coinbase\", service=execute_order)(\n",
    "            Stream(\"USD-BTC\", list(df['close'][start_slice:end_slice]))\n",
    "    )\n",
    "    portfolio_list.append(Portfolio(USD, [\n",
    "        Wallet(exchange, 1000000 * USD),\n",
    "        Wallet(exchange, 0 * BTC)\n",
    "    ]))\n",
    "\n",
    "\n",
    "    from tensortrade.actions import ManagedRiskOrders\n",
    "    action_scheme = ManagedRiskOrders(\n",
    "        #durations=[6],\n",
    "        stop_loss_percentages=[0.01, 0.02, 0.03, 0.04, 0.05, 0.06, 0.07, 0.08, 0.09, 0.1,\n",
    "                               0.005, 0.0075, 0.015, 0.025, 0.035, 0.045, 0.055, 0.065],\n",
    "        take_profit_percentages=[0.01, 0.02, 0.03, 0.04, 0.05, 0.06, 0.07, 0.08, 0.09, 0.1,\n",
    "                               0.005, 0.0075, 0.015, 0.025, 0.035, 0.045, 0.055, 0.065],\n",
    "        trade_sizes = [1/30, 1/25, 1/20, 1/15])\n",
    "    \"\"\"\n",
    "    Args:\n",
    "        pairs: A list of trading pairs to select from when submitting an order.\n",
    "               e.g. TradingPair(BTC, USD)\n",
    "        stop_loss_percentages: A list of possible stop loss percentages for each order.\n",
    "        take_profit_percentages: A list of possible take profit percentages for each order.\n",
    "        trade_sizes: A list of trade sizes to select from when submitting an order.\n",
    "                     e.g. '[1, 1/3]' = 100% or 33% of balance is tradable.\n",
    "                          '4' = 25%, 50%, 75%, or 100% of balance is tradable.\n",
    "\n",
    "        order_listener (optional): An optional listener for order events executed by this action scheme.\n",
    "    \"\"\"\n",
    "\n",
    "    from tensortrade.rewards import RiskAdjustedReturns\n",
    "    reward_scheme = RiskAdjustedReturns(\n",
    "        return_algorithm='sortino',\n",
    "        minimize_trades = True,\n",
    "        window_size = window_size\n",
    "        )\n",
    "    \"\"\"\n",
    "        Args:\n",
    "            return_algorithm (optional): The risk-adjusted return metric to use.\n",
    "                                         Options are 'sharpe' and 'sortino'. Defaults to 'sharpe'.\n",
    "            risk_free_rate (optional): The risk free rate of returns to use for calculating metrics.\n",
    "                                       Defaults to 0.\n",
    "            target_returns (optional): The target returns per period for use in calculating the\n",
    "                                       sortino ratio. Default to 0.\n",
    "    \"\"\"\n",
    "\n",
    "\n",
    "    env = TradingEnvironment(\n",
    "        feed = feed,\n",
    "        portfolio = portfolio_list[-1],\n",
    "        action_scheme = action_scheme,\n",
    "        window_size = window_size,\n",
    "        reward_scheme = reward_scheme,\n",
    "        # enable_logger = True,\n",
    "        renderers = [chart_renderer, 'screenlog'],\n",
    "        price_history = ohlcv_df\n",
    "    )\n",
    "    env_list.append(env)\n",
    "\n",
    "    agent = DQNAgent(env_list[-1])\n",
    "\n",
    "    mean_reward = agent.train(\n",
    "        n_steps = n_steps,\n",
    "        n_episodes = n_episodes,\n",
    "        learning_rate = learning_rate,\n",
    "        save_path = save_path,\n",
    "\n",
    "        batch_size = batch_size,\n",
    "        discount_factor = discount_factor,\n",
    "\n",
    "        #save_every = save_every,\n",
    "        update_target_every = update_target_every,\n",
    "        memory_capacity = memory_capacity,\n",
    "        render_interval = render_interval,\n",
    "\n",
    "        eps_start = eps_start,\n",
    "        eps_end = eps_end,\n",
    "        eps_decay_steps = eps_decay_steps\n",
    "    )\n",
    "\n",
    "    chart_renderer.fig.show()\n",
    "\n",
    "    return mean_reward"
   ],
   "execution_count": null,
   "outputs": []
  },
  {
   "cell_type": "markdown",
   "metadata": {
    "id": "nmiyFJCAVNwp"
   },
   "source": [
    "### Shap - WORK IN PROGRESS"
   ]
  },
  {
   "cell_type": "code",
   "metadata": {
    "id": "9npq3HIIVN2L"
   },
   "source": [
    "!pip install shap\n",
    "import shap"
   ],
   "execution_count": null,
   "outputs": []
  },
  {
   "cell_type": "code",
   "metadata": {
    "id": "z7VWU7ZXVWE7"
   },
   "source": [
    "from tensortrade.agents import DQNAgent\n",
    "from tensortrade.actions import ManagedRiskOrders\n",
    "from tensortrade.rewards import RiskAdjustedReturns\n",
    "\n",
    "import tensorflow as tf\n",
    "\n",
    "\n",
    "with Module(\"coinbase\") as coinbase_ns:\n",
    "    nodes = [Stream(name, list(df['BTC:close'])) for name in df.columns]\n",
    "\n",
    "feed = DataFeed([coinbase_ns])\n",
    "\n",
    "exchange = Exchange(\"coinbase\", service=execute_order)(\n",
    "        Stream(\"USD-BTC\", list(df['BTC:close']))\n",
    ")\n",
    "\n",
    "portfolio = Portfolio(USD, [\n",
    "    Wallet(exchange, 1000000 * USD),\n",
    "    Wallet(exchange, 0 * BTC)\n",
    "])\n",
    "\n",
    "action_scheme = ManagedRiskOrders(\n",
    "    stop_loss_percentages=[0.01, 0.02, 0.03, 0.04, 0.05, 0.06, 0.07, 0.08, 0.09, 0.1,\n",
    "                            0.005, 0.0075, 0.015, 0.025, 0.035, 0.045, 0.055, 0.065],\n",
    "    take_profit_percentages=[0.01, 0.02, 0.03, 0.04, 0.05, 0.06, 0.07, 0.08, 0.09, 0.1,\n",
    "                            0.005, 0.0075, 0.015, 0.025, 0.035, 0.045, 0.055, 0.065],\n",
    "    trade_sizes = [1/30, 1/25, 1/20, 1/15])\n",
    "\n",
    "reward_scheme = RiskAdjustedReturns(\n",
    "    return_algorithm='sortino',\n",
    "    minimize_trades = True,\n",
    "    window_size = 48\n",
    "    )\n",
    "\n",
    "env = TradingEnvironment(\n",
    "    feed = feed,\n",
    "    portfolio = portfolio,\n",
    "    action_scheme = action_scheme,\n",
    "    window_size = 48,\n",
    "    reward_scheme = reward_scheme,\n",
    ")\n",
    "\n",
    "policy_network = None\n",
    "try:\n",
    "  policy_network = tf.keras.models.load_model(\n",
    "      'agents/policy_network__4f977c8a-aefe-46db-9df1-15444dae5418__465.hdf5'\n",
    "  )\n",
    "except Exception as e:\n",
    "  print(e)\n",
    "\n",
    "agent = DQNAgent(env, policy_network=policy_network)\n",
    "\n",
    "background = np.resize(np.array(df[['BTC:close']].sample(n=100)), (100, 1, 0))\n",
    "print(background.shape)"
   ],
   "execution_count": null,
   "outputs": []
  },
  {
   "cell_type": "code",
   "metadata": {
    "id": "QdQLESOIZKhg"
   },
   "source": [
    "e = shap.DeepExplainer(agent.policy_network, background)\n",
    "shap_values = e.shap_values(data[1:5])"
   ],
   "execution_count": null,
   "outputs": []
  },
  {
   "cell_type": "code",
   "metadata": {
    "id": "AtODgM75ZN9Z"
   },
   "source": [
    "shap.image_plot(shap_values, -data[1:5])"
   ],
   "execution_count": null,
   "outputs": []
  },
  {
   "cell_type": "markdown",
   "metadata": {
    "id": "tUh_iTjIQlhU"
   },
   "source": [
    "###Run Optuna Trials\n",
    "- each trial trains a network\n",
    "- then at the end it tells us what one did best"
   ]
  },
  {
   "cell_type": "code",
   "metadata": {
    "id": "dqAnDp7RR6J6"
   },
   "source": [
    "# Initiate Optuna trials\n",
    "env_list = []\n",
    "portfolio_list = []\n",
    "n_trials = 1\n",
    "\n",
    "# example callback (unused but passes out the 'portfolio'\n",
    "# callbacks = [\n",
    "#     lambda study_, frozen_trial_ : portfolio_chart(study_, frozen_trial_, portfolio)\n",
    "# ]\n",
    "\n",
    "study_name = 'new_921'\n",
    "\n",
    "study = optuna.create_study(study_name=study_name,\n",
    "                            storage=f'sqlite:///{study_name}.db',\n",
    "                            load_if_exists=True,\n",
    "                            direction='maximize')\n",
    "\n",
    "study.optimize(Train_DQN_Agent,\n",
    "               n_trials=n_trials)\n",
    "               #callbacks=callbacks)"
   ],
   "execution_count": null,
   "outputs": []
  },
  {
   "cell_type": "markdown",
   "metadata": {
    "id": "j9OYCB2NF6RW"
   },
   "source": [
    "### Print results"
   ]
  },
  {
   "cell_type": "code",
   "metadata": {
    "id": "3NLG2uiKdHHZ"
   },
   "source": [
    "study.trials"
   ],
   "execution_count": null,
   "outputs": []
  },
  {
   "cell_type": "code",
   "metadata": {
    "id": "2YOVcegBW570"
   },
   "source": [
    "study.best_trial"
   ],
   "execution_count": null,
   "outputs": []
  },
  {
   "cell_type": "code",
   "metadata": {
    "id": "JbooL7YBW8UH"
   },
   "source": [
    "study.best_params"
   ],
   "execution_count": null,
   "outputs": []
  },
  {
   "cell_type": "code",
   "metadata": {
    "id": "o6LOTbk9W90q"
   },
   "source": [
    "study.best_value"
   ],
   "execution_count": null,
   "outputs": []
  },
  {
   "cell_type": "code",
   "metadata": {
    "id": "e54mAxy_Xs1h"
   },
   "source": [
    "for portfolio in portfolio_list:\n",
    "    portfolio.performance.plot(legend='reverse')"
   ],
   "execution_count": null,
   "outputs": []
  },
  {
   "cell_type": "code",
   "metadata": {
    "id": "-saEwl68cPXJ"
   },
   "source": [
    "for portfolio in portfolio_list:\n",
    "    portfolio.performance.net_worth.plot()"
   ],
   "execution_count": null,
   "outputs": []
  },
  {
   "cell_type": "code",
   "metadata": {
    "id": "hygWLMClWHy8"
   },
   "source": [
    "study_name = '1h_bb_macd_atr_obv_7'\n",
    "study = optuna.load_study(study_name=study_name,\n",
    "                          storage=f'sqlite:///{study_name}.db')\n",
    "\n",
    "#Show all trials in DB\n",
    "df = study.trials_dataframe(attrs=('value', 'params'))\n",
    "df2 = pd.concat([df['value'],\n",
    "                 df['params_learning_rate'],\n",
    "                 df['params_n_episodes'],\n",
    "                 df['params_window_size']\n",
    "                 ],\n",
    "                axis=1)\n",
    "df2 = df2.sort_values('value', ascending=True)\n",
    "print(df2.tail(20))"
   ],
   "execution_count": null,
   "outputs": []
  },
  {
   "cell_type": "markdown",
   "metadata": {
    "id": "FL0fBjAgYy9F"
   },
   "source": [
    "### Delete SQL entries for incomplete trials"
   ]
  },
  {
   "cell_type": "code",
   "metadata": {
    "id": "M4g7lwCvOGis"
   },
   "source": [
    "import sqlite3\n",
    "con = sqlite3.connect(f'{study_name}.db')\n",
    "cursor = con.cursor()\n",
    "\n",
    "cursor.execute(\"SELECT * FROM trials\") #show all values in trials table\n",
    "print(cursor.fetchall())\n",
    "\n",
    "cursor.execute(\"DELETE from trials WHERE value is null\")\n",
    "cursor.execute(\"SELECT value FROM trials\") #prove u removed the None values\n",
    "print(cursor.fetchall())\n",
    "\n",
    "con.commit() #save changes\n",
    "cursor.close() #close connecton"
   ],
   "execution_count": null,
   "outputs": []
  }
 ]
}

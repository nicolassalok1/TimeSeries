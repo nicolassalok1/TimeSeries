{
 "cells": [
  {
   "cell_type": "markdown",
   "id": "6a06a10a-ee82-40ce-8821-3da680af4b95",
   "metadata": {},
   "source": [
    "<a href=\"https://colab.research.google.com/github/PacktPublishing/Machine-Learning-for-Time-Series-with-Python/blob/master/chapter5/Forecasting.ipynb\" target=\"_parent\\\"><img src=\"https://colab.research.google.com/assets/colab-badge.svg\" alt=\"Open In Colab\"/></a>"
   ]
  },
  {
   "cell_type": "code",
   "id": "614a3348-214c-4472-969d-e7db10664075",
   "metadata": {
    "ExecuteTime": {
     "end_time": "2025-05-30T08:29:01.537163Z",
     "start_time": "2025-05-30T08:28:59.869288Z"
    }
   },
   "source": "#!pip install statsmodels yfinance pmdarima arch",
   "outputs": [
    {
     "name": "stdout",
     "output_type": "stream",
     "text": [
      "/bin/bash: warning: setlocale: LC_ALL: cannot change locale (en_US.UTF-8)\r\n",
      "Requirement already satisfied: statsmodels in /root/miniconda3/envs/TimeSeries/lib/python3.12/site-packages (0.14.4)\r\n",
      "Requirement already satisfied: yfinance in /root/miniconda3/envs/TimeSeries/lib/python3.12/site-packages (0.2.59)\r\n",
      "Requirement already satisfied: pmdarima in /root/miniconda3/envs/TimeSeries/lib/python3.12/site-packages (2.0.4)\r\n",
      "Requirement already satisfied: arch in /root/miniconda3/envs/TimeSeries/lib/python3.12/site-packages (7.2.0)\r\n",
      "Requirement already satisfied: numpy<3,>=1.22.3 in /root/miniconda3/envs/TimeSeries/lib/python3.12/site-packages (from statsmodels) (1.26.0)\r\n",
      "Requirement already satisfied: scipy!=1.9.2,>=1.8 in /root/miniconda3/envs/TimeSeries/lib/python3.12/site-packages (from statsmodels) (1.15.1)\r\n",
      "Requirement already satisfied: pandas!=2.1.0,>=1.4 in /root/.local/lib/python3.12/site-packages (from statsmodels) (2.2.3)\r\n",
      "Requirement already satisfied: patsy>=0.5.6 in /root/miniconda3/envs/TimeSeries/lib/python3.12/site-packages (from statsmodels) (1.0.1)\r\n",
      "Requirement already satisfied: packaging>=21.3 in /root/.local/lib/python3.12/site-packages (from statsmodels) (25.0)\r\n",
      "Requirement already satisfied: requests>=2.31 in /root/.local/lib/python3.12/site-packages (from yfinance) (2.32.3)\r\n",
      "Requirement already satisfied: multitasking>=0.0.7 in /root/miniconda3/envs/TimeSeries/lib/python3.12/site-packages (from yfinance) (0.0.11)\r\n",
      "Requirement already satisfied: platformdirs>=2.0.0 in /root/miniconda3/envs/TimeSeries/lib/python3.12/site-packages (from yfinance) (4.3.7)\r\n",
      "Requirement already satisfied: pytz>=2022.5 in /root/.local/lib/python3.12/site-packages (from yfinance) (2025.2)\r\n",
      "Requirement already satisfied: frozendict>=2.3.4 in /root/miniconda3/envs/TimeSeries/lib/python3.12/site-packages (from yfinance) (2.4.6)\r\n",
      "Requirement already satisfied: peewee>=3.16.2 in /root/miniconda3/envs/TimeSeries/lib/python3.12/site-packages (from yfinance) (3.18.1)\r\n",
      "Requirement already satisfied: beautifulsoup4>=4.11.1 in /root/miniconda3/envs/TimeSeries/lib/python3.12/site-packages (from yfinance) (4.12.3)\r\n",
      "Requirement already satisfied: curl_cffi>=0.7 in /root/miniconda3/envs/TimeSeries/lib/python3.12/site-packages (from yfinance) (0.10.0)\r\n",
      "Collecting protobuf<6,>=5.29.0 (from yfinance)\r\n",
      "  Downloading protobuf-5.29.5-cp38-abi3-manylinux2014_x86_64.whl.metadata (592 bytes)\r\n",
      "Requirement already satisfied: websockets>=11.0 in /root/miniconda3/envs/TimeSeries/lib/python3.12/site-packages (from yfinance) (15.0.1)\r\n",
      "Requirement already satisfied: joblib>=0.11 in /root/miniconda3/envs/TimeSeries/lib/python3.12/site-packages (from pmdarima) (1.4.2)\r\n",
      "Requirement already satisfied: Cython!=0.29.18,!=0.29.31,>=0.29 in /root/miniconda3/envs/TimeSeries/lib/python3.12/site-packages (from pmdarima) (3.0.12)\r\n",
      "Requirement already satisfied: scikit-learn>=0.22 in /root/miniconda3/envs/TimeSeries/lib/python3.12/site-packages (from pmdarima) (1.3.1)\r\n",
      "Requirement already satisfied: urllib3 in /root/.local/lib/python3.12/site-packages (from pmdarima) (2.4.0)\r\n",
      "Requirement already satisfied: setuptools!=50.0.0,>=38.6.0 in /root/.local/lib/python3.12/site-packages (from pmdarima) (80.3.1)\r\n",
      "Requirement already satisfied: soupsieve>1.2 in /root/miniconda3/envs/TimeSeries/lib/python3.12/site-packages (from beautifulsoup4>=4.11.1->yfinance) (2.5)\r\n",
      "Requirement already satisfied: cffi>=1.12.0 in /root/miniconda3/envs/TimeSeries/lib/python3.12/site-packages (from curl_cffi>=0.7->yfinance) (1.17.1)\r\n",
      "Requirement already satisfied: certifi>=2024.2.2 in /root/.local/lib/python3.12/site-packages (from curl_cffi>=0.7->yfinance) (2025.4.26)\r\n",
      "Requirement already satisfied: pycparser in /root/miniconda3/envs/TimeSeries/lib/python3.12/site-packages (from cffi>=1.12.0->curl_cffi>=0.7->yfinance) (2.21)\r\n",
      "Requirement already satisfied: python-dateutil>=2.8.2 in /root/miniconda3/envs/TimeSeries/lib/python3.12/site-packages (from pandas!=2.1.0,>=1.4->statsmodels) (2.9.0.post0)\r\n",
      "Requirement already satisfied: tzdata>=2022.7 in /root/.local/lib/python3.12/site-packages (from pandas!=2.1.0,>=1.4->statsmodels) (2025.2)\r\n",
      "Requirement already satisfied: six>=1.5 in /root/.local/lib/python3.12/site-packages (from python-dateutil>=2.8.2->pandas!=2.1.0,>=1.4->statsmodels) (1.17.0)\r\n",
      "Requirement already satisfied: charset-normalizer<4,>=2 in /root/.local/lib/python3.12/site-packages (from requests>=2.31->yfinance) (3.4.2)\r\n",
      "Requirement already satisfied: idna<4,>=2.5 in /root/.local/lib/python3.12/site-packages (from requests>=2.31->yfinance) (3.10)\r\n",
      "Requirement already satisfied: threadpoolctl>=2.0.0 in /root/miniconda3/envs/TimeSeries/lib/python3.12/site-packages (from scikit-learn>=0.22->pmdarima) (3.5.0)\r\n",
      "Downloading protobuf-5.29.5-cp38-abi3-manylinux2014_x86_64.whl (319 kB)\r\n",
      "Installing collected packages: protobuf\r\n",
      "  Attempting uninstall: protobuf\r\n",
      "    Found existing installation: protobuf 6.30.2\r\n",
      "    Uninstalling protobuf-6.30.2:\r\n",
      "      Successfully uninstalled protobuf-6.30.2\r\n",
      "\u001B[31mERROR: pip's dependency resolver does not currently take into account all the packages that are installed. This behaviour is the source of the following dependency conflicts.\r\n",
      "grpcio-status 1.72.0rc1 requires protobuf<7.0dev,>=6.30.0, but you have protobuf 5.29.5 which is incompatible.\r\n",
      "tfcausalimpact 0.0.18 requires pandas<=2.2,>=1.3.5, but you have pandas 2.2.3 which is incompatible.\u001B[0m\u001B[31m\r\n",
      "\u001B[0mSuccessfully installed protobuf-5.29.5\r\n",
      "\u001B[33mWARNING: Running pip as the 'root' user can result in broken permissions and conflicting behaviour with the system package manager, possibly rendering your system unusable. It is recommended to use a virtual environment instead: https://pip.pypa.io/warnings/venv. Use the --root-user-action option if you know what you are doing and want to suppress this warning.\u001B[0m\u001B[33m\r\n",
      "\u001B[0m"
     ]
    }
   ],
   "execution_count": 1
  },
  {
   "cell_type": "code",
   "id": "cb11cb6d-0e34-418b-9085-2b5d88ed343d",
   "metadata": {
    "ExecuteTime": {
     "end_time": "2025-05-30T08:32:00.504068Z",
     "start_time": "2025-05-30T08:32:00.501263Z"
    }
   },
   "source": [
    "import matplotlib.pyplot as plt\n",
    "import seaborn as sns\n",
    "import matplotlib as mpl\n",
    "import pandas as pd\n",
    "\n",
    "plt.style.use('seaborn-v0_8-whitegrid')\n",
    "\n",
    "plt.rcParams[\"font.family\"] = \"Times New Roman\"\n",
    "plt.rcParams[\"font.size\"] = \"17\"\n",
    "mpl.rcParams['lines.linewidth'] = 2\n",
    "mpl.rcParams['lines.markersize'] = 1\n",
    "# plt.style.use('.matplotlibrc')"
   ],
   "outputs": [],
   "execution_count": 5
  },
  {
   "cell_type": "code",
   "id": "d90f30a7-9ad6-4773-bf95-d6a07298757d",
   "metadata": {
    "ExecuteTime": {
     "end_time": "2025-05-30T08:32:02.808973Z",
     "start_time": "2025-05-30T08:32:00.507759Z"
    }
   },
   "source": [
    "from datetime import datetime\n",
    "import yfinance as yf\n",
    "  \n",
    "start_date = datetime(2005, 1, 1)\n",
    "end_date = datetime(2021, 1, 1)\n",
    "\n",
    "df = yf.download(\n",
    "    'SPY',\n",
    "    start=start_date,\n",
    "    end = end_date\n",
    ")"
   ],
   "outputs": [
    {
     "name": "stdout",
     "output_type": "stream",
     "text": [
      "YF.download() has changed argument auto_adjust default to True\n"
     ]
    },
    {
     "name": "stderr",
     "output_type": "stream",
     "text": [
      "[*********************100%***********************]  1 of 1 completed\n"
     ]
    }
   ],
   "execution_count": 6
  },
  {
   "cell_type": "code",
   "id": "f11d3381-2b1c-400a-98d9-b41d53061e8b",
   "metadata": {
    "ExecuteTime": {
     "end_time": "2025-05-30T08:34:09.990459Z",
     "start_time": "2025-05-30T08:34:09.904260Z"
    }
   },
   "source": [
    "import matplotlib.pyplot as plt\n",
    "\n",
    "# Optionnel : définir une police générique pour éviter les erreurs\n",
    "plt.rcParams[\"font.family\"] = [\"serif\"]\n",
    "\n",
    "plt.figure(figsize=(12, 6))\n",
    "plt.title(f\"Opening Prices between {start_date.date().isoformat()} and {end_date.date().isoformat()}\")\n",
    "df['Open'].plot()\n",
    "plt.ylabel('Price')\n",
    "plt.xlabel('Date')\n",
    "plt.grid(True)\n",
    "plt.tight_layout()\n",
    "plt.show()\n"
   ],
   "outputs": [
    {
     "ename": "ImportError",
     "evalue": "matplotlib is required for plotting when the default backend \"matplotlib\" is selected.",
     "output_type": "error",
     "traceback": [
      "\u001B[31m---------------------------------------------------------------------------\u001B[39m",
      "\u001B[31mImportError\u001B[39m                               Traceback (most recent call last)",
      "\u001B[36mCell\u001B[39m\u001B[36m \u001B[39m\u001B[32mIn[8]\u001B[39m\u001B[32m, line 8\u001B[39m\n\u001B[32m      6\u001B[39m plt.figure(figsize=(\u001B[32m12\u001B[39m, \u001B[32m6\u001B[39m))\n\u001B[32m      7\u001B[39m plt.title(\u001B[33mf\u001B[39m\u001B[33m\"\u001B[39m\u001B[33mOpening Prices between \u001B[39m\u001B[38;5;132;01m{\u001B[39;00mstart_date.date().isoformat()\u001B[38;5;132;01m}\u001B[39;00m\u001B[33m and \u001B[39m\u001B[38;5;132;01m{\u001B[39;00mend_date.date().isoformat()\u001B[38;5;132;01m}\u001B[39;00m\u001B[33m\"\u001B[39m)\n\u001B[32m----> \u001B[39m\u001B[32m8\u001B[39m df[\u001B[33m'\u001B[39m\u001B[33mOpen\u001B[39m\u001B[33m'\u001B[39m].plot()\n\u001B[32m      9\u001B[39m plt.ylabel(\u001B[33m'\u001B[39m\u001B[33mPrice\u001B[39m\u001B[33m'\u001B[39m)\n\u001B[32m     10\u001B[39m plt.xlabel(\u001B[33m'\u001B[39m\u001B[33mDate\u001B[39m\u001B[33m'\u001B[39m)\n",
      "\u001B[36mFile \u001B[39m\u001B[32m~/.local/lib/python3.12/site-packages/pandas/plotting/_core.py:947\u001B[39m, in \u001B[36m__call__\u001B[39m\u001B[34m(self, *args, **kwargs)\u001B[39m\n",
      "\u001B[36mFile \u001B[39m\u001B[32m~/.local/lib/python3.12/site-packages/pandas/plotting/_core.py:1944\u001B[39m, in \u001B[36m_get_plot_backend\u001B[39m\u001B[34m(backend)\u001B[39m\n",
      "\u001B[36mFile \u001B[39m\u001B[32m~/.local/lib/python3.12/site-packages/pandas/plotting/_core.py:1874\u001B[39m, in \u001B[36m_load_backend\u001B[39m\u001B[34m(backend)\u001B[39m\n",
      "\u001B[31mImportError\u001B[39m: matplotlib is required for plotting when the default backend \"matplotlib\" is selected."
     ]
    },
    {
     "data": {
      "text/plain": [
       "<Figure size 1200x600 with 1 Axes>"
      ],
      "image/png": "[encoded data removed]"
     },
     "metadata": {},
     "output_type": "display_data"
    }
   ],
   "execution_count": 8
  },
  {
   "cell_type": "code",
   "execution_count": null,
   "id": "c6b1629a-92eb-4c52-a523-24427d120786",
   "metadata": {},
   "outputs": [],
   "source": [
    "df.head()"
   ]
  },
  {
   "cell_type": "code",
   "execution_count": null,
   "id": "6289d877-f934-4543-9849-87bc3ef8a3c5",
   "metadata": {},
   "outputs": [],
   "source": [
    "df1 = df.reset_index().resample('W', on=\"Date\")['Open'].mean()"
   ]
  },
  {
   "cell_type": "code",
   "execution_count": null,
   "id": "6db93897-2993-4490-9558-dec619e30f85",
   "metadata": {},
   "outputs": [],
   "source": [
    "# some years have 53 weeks. We can't handle that, so we'll get rid of the 53rd week.\n",
    "df1 = df1[df1.index.week < 53]"
   ]
  },
  {
   "cell_type": "code",
   "execution_count": null,
   "id": "567145da-61fc-4bc2-859c-3e36ad5c7421",
   "metadata": {},
   "outputs": [],
   "source": [
    "# final check: \n",
    "df1.index.week.value_counts().plot.bar()"
   ]
  },
  {
   "cell_type": "code",
   "execution_count": null,
   "id": "3df5304c-7c73-45bb-8d4d-94af87ac8dc3",
   "metadata": {},
   "outputs": [],
   "source": [
    "df1 = df1[~df1.isnull()]"
   ]
  },
  {
   "cell_type": "code",
   "execution_count": null,
   "id": "171c9318-b8cd-46d0-8018-0cac48888d96",
   "metadata": {},
   "outputs": [],
   "source": [
    "# let's fix the frequency:\n",
    "df1 = df1.asfreq('W').fillna(method='ffill')"
   ]
  },
  {
   "cell_type": "code",
   "execution_count": null,
   "id": "38a4ba79-453a-4e18-bbb5-652838270b90",
   "metadata": {},
   "outputs": [],
   "source": [
    "df1.index.freq"
   ]
  },
  {
   "cell_type": "code",
   "execution_count": null,
   "id": "c70e30be-4481-4aa4-9142-b3614dfb39e9",
   "metadata": {},
   "outputs": [],
   "source": [
    "import statsmodels.api as sm\n",
    "\n",
    "fig, axs = plt.subplots(2)\n",
    "sm.graphics.tsa.plot_pacf(df1, lags=20, ax=axs[0])\n",
    "axs[0].set_ylabel('R')\n",
    "axs[0].set_xlabel('Lag')\n",
    "sm.graphics.tsa.plot_acf(df1, lags=20, ax=axs[1]);\n",
    "axs[1].set_ylabel('R')\n",
    "axs[1].set_xlabel('Lag')\n",
    "fig.tight_layout()"
   ]
  },
  {
   "cell_type": "code",
   "execution_count": null,
   "id": "e88633cd-5542-4366-84bd-ef59e46f253a",
   "metadata": {},
   "outputs": [],
   "source": [
    "from statsmodels.tsa.seasonal import seasonal_decompose\n",
    "result = seasonal_decompose(df1, model='additive', period=52)\n",
    "result.plot();"
   ]
  },
  {
   "cell_type": "markdown",
   "id": "da2aa62a-fe40-49e2-b2d9-ebcb1a91cda8",
   "metadata": {},
   "source": [
    "# Finding a value for d"
   ]
  },
  {
   "cell_type": "markdown",
   "id": "fbeefe1e-67ce-403d-a990-a7cf19aa9318",
   "metadata": {},
   "source": [
    "We are using the ARCH package which has more convenient versions of both the ADF and the KPSS tests."
   ]
  },
  {
   "cell_type": "code",
   "execution_count": null,
   "id": "18eb1bc7-85a8-4380-8346-4c28aeb16116",
   "metadata": {},
   "outputs": [],
   "source": [
    "from arch.unitroot import KPSS, ADF\n",
    "\n",
    "ADF(df1)"
   ]
  },
  {
   "cell_type": "code",
   "execution_count": null,
   "id": "40bddaee-38d3-4d40-9773-e6a4721e4b62",
   "metadata": {},
   "outputs": [],
   "source": [
    "from pmdarima.arima.utils import ndiffs\n",
    "\n",
    "# ADF Test:\n",
    "ndiffs(df1, test='adf')  # 1; same values for the KPSS and the PP test"
   ]
  },
  {
   "cell_type": "code",
   "execution_count": null,
   "id": "6d3410b6-a2ab-40fb-a942-b1fcfd423512",
   "metadata": {},
   "outputs": [],
   "source": [
    "# what happens if we forget differencing?\n",
    "# We get a helful warning: 'Non-stationary starting autoregressive parameters'\n",
    "mod = sm.tsa.arima.ARIMA(endog=df1, order=(1, 0, 0))\n",
    "res = mod.fit()\n",
    "print(res.summary())"
   ]
  },
  {
   "cell_type": "code",
   "execution_count": null,
   "id": "12cf8ad9-bcd8-42c0-ad6f-164ff81d7dec",
   "metadata": {},
   "outputs": [],
   "source": [
    "# let's try again and this time, we'll take into account the seasonality:\n",
    "from statsmodels.tsa.forecasting.stl import STLForecast\n",
    "\n",
    "mod = STLForecast(df1, sm.tsa.arima.ARIMA, model_kwargs=dict(order=(1, 1, 0), trend=\"t\"))\n",
    "res = mod.fit().model_result\n",
    "print(res.summary())"
   ]
  },
  {
   "cell_type": "code",
   "execution_count": null,
   "id": "454a5679-45ac-45b5-860a-8a4685d7e9eb",
   "metadata": {},
   "outputs": [],
   "source": [
    "# doing a forecast:\n",
    "STEPS = 20\n",
    "forecasts_df = res.get_forecast(steps=STEPS).summary_frame() \n",
    "ax = df1.plot(figsize=(12, 6))\n",
    "plt.ylabel('SPY')\n",
    "forecasts_df['mean'].plot(style='k--')\n",
    "ax.fill_between(\n",
    "    forecasts_df.index,\n",
    "    forecasts_df['mean_ci_lower'],\n",
    "    forecasts_df['mean_ci_upper'],\n",
    "    color='k',\n",
    "    alpha=0.1\n",
    ")"
   ]
  },
  {
   "cell_type": "code",
   "execution_count": null,
   "id": "90cc47f4-1444-40af-9d84-e64e4518e0e0",
   "metadata": {},
   "outputs": [],
   "source": [
    "forecasts = []\n",
    "qs = []\n",
    "for q in range(0, 30, 10):\n",
    "    mod = STLForecast(df1, sm.tsa.arima.ARIMA, model_kwargs=dict(order=(0, 1, q), trend=\"t\"))\n",
    "    res = mod.fit().model_result\n",
    "    print(f\"aic ({q}): {res.aic}\")\n",
    "    forecasts.append(\n",
    "            res.get_forecast(steps=STEPS).summary_frame()['mean']\n",
    "        )\n",
    "    qs.append(q)\n",
    "\n",
    "forecasts_df = pd.concat(forecasts, axis=1)\n",
    "forecasts_df.columns = qs"
   ]
  },
  {
   "cell_type": "code",
   "execution_count": null,
   "id": "1afc0557-d41d-4540-95c5-9244b1ceca24",
   "metadata": {},
   "outputs": [],
   "source": [
    "# plotting the three forecasts:\n",
    "ax = df1.plot(figsize=(12, 6))\n",
    "plt.ylabel('SPY')\n",
    "forecasts_df.plot(ax=ax)"
   ]
  },
  {
   "cell_type": "code",
   "execution_count": null,
   "id": "f9b65061-b5ca-453f-92a9-b5c7341f8932",
   "metadata": {},
   "outputs": [],
   "source": [
    "mod = sm.tsa.ExponentialSmoothing(\n",
    "        endog=df1, trend='add', seasonal_periods=52, use_boxcox=True, initialization_method=\"heuristic\"\n",
    "    )\n",
    "res = mod.fit()\n",
    "print(res.summary())"
   ]
  },
  {
   "cell_type": "code",
   "execution_count": null,
   "id": "92209cc0-b046-4c5b-a9ee-4a3afb5d615a",
   "metadata": {},
   "outputs": [],
   "source": [
    "forecasts = pd.Series(res.forecast(steps=STEPS))\n",
    "ax = df1.plot(figsize=(12, 6))\n",
    "plt.ylabel('SPY')\n",
    "forecasts.plot(style='k--')"
   ]
  },
  {
   "cell_type": "code",
   "execution_count": null,
   "id": "c79a4000-663b-4264-a0f2-c00427ccfc11",
   "metadata": {},
   "outputs": [],
   "source": [
    "from statsmodels.tsa.forecasting.theta import ThetaModel\n",
    "\n",
    "train_length = int(len(df1) * 0.8)\n",
    "tm = ThetaModel(df1[:train_length], method=\"auto\", deseasonalize=True)\n",
    "res = tm.fit()\n",
    "forecasts = res.forecast(steps=len(df1)-train_length)\n",
    "ax = df1.plot(figsize=(12, 6))\n",
    "plt.ylabel('SPY')\n",
    "forecasts.plot(style='k--')"
   ]
  },
  {
   "cell_type": "code",
   "execution_count": null,
   "id": "949b7c6c-1326-44a6-8e5d-c58d0f4191e7",
   "metadata": {},
   "outputs": [],
   "source": [
    "from sklearn import metrics\n",
    "\n",
    "metrics.mean_squared_error(forecasts, df1[train_length:], squared=False)"
   ]
  },
  {
   "cell_type": "code",
   "execution_count": null,
   "id": "9733e78f-ee79-44c4-a26e-496670a68cad",
   "metadata": {},
   "outputs": [],
   "source": []
  }
 ],
 "metadata": {
  "kernelspec": {
   "display_name": "Python 3",
   "language": "python",
   "name": "python3"
  },
  "language_info": {
   "codemirror_mode": {
    "name": "ipython",
    "version": 3
   },
   "file_extension": ".py",
   "mimetype": "text/x-python",
   "name": "python",
   "nbconvert_exporter": "python",
   "pygments_lexer": "ipython3",
   "version": "3.8.8"
  }
 },
 "nbformat": 4,
 "nbformat_minor": 5
}

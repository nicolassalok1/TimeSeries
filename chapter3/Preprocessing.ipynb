{
 "cells": [
  {
   "cell_type": "markdown",
   "id": "6a06a10a-ee82-40ce-8821-3da680af4b95",
   "metadata": {},
   "source": [
    "<a href=\"https://colab.research.google.com/github/PacktPublishing/Machine-Learning-for-Time-Series-with-Python/blob/master/chapter3/Preprocessing.ipynb\" target=\"_parent\\\"><img src=\"https://colab.research.google.com/assets/colab-badge.svg\" alt=\"Open In Colab\"/></a>"
   ]
  },
  {
   "cell_type": "code",
   "id": "614a3348-214c-4472-969d-e7db10664075",
   "metadata": {
    "ExecuteTime": {
     "end_time": "2025-05-08T11:22:16.718487Z",
     "start_time": "2025-05-08T11:22:13.543092Z"
    }
   },
   "source": [
    "pip install -U tsfresh workalendar astral \"featuretools[tsfresh]\" sktime"
   ],
   "outputs": [
    {
     "name": "stdout",
     "output_type": "stream",
     "text": [
      "/bin/bash: warning: setlocale: LC_ALL: cannot change locale (en_US.UTF-8)\r\n",
      "Requirement already satisfied: tsfresh in /root/miniconda3/envs/TimeSeries/lib/python3.12/site-packages (0.21.0)\r\n",
      "Collecting workalendar\r\n",
      "  Using cached workalendar-17.0.0-py3-none-any.whl.metadata (8.4 kB)\r\n",
      "Collecting astral\r\n",
      "  Using cached astral-3.2-py3-none-any.whl.metadata (1.7 kB)\r\n",
      "Collecting sktime\r\n",
      "  Using cached sktime-0.37.0-py3-none-any.whl.metadata (34 kB)\r\n",
      "Collecting featuretools[tsfresh]\r\n",
      "  Using cached featuretools-1.31.0-py3-none-any.whl.metadata (15 kB)\r\n",
      "Requirement already satisfied: requests>=2.9.1 in /root/.local/lib/python3.12/site-packages (from tsfresh) (2.32.3)\r\n",
      "Requirement already satisfied: numpy>=1.15.1 in /root/miniconda3/envs/TimeSeries/lib/python3.12/site-packages (from tsfresh) (1.26.0)\r\n",
      "Requirement already satisfied: pandas>=0.25.0 in /root/miniconda3/envs/TimeSeries/lib/python3.12/site-packages (from tsfresh) (1.5.3)\r\n",
      "Requirement already satisfied: statsmodels>=0.13 in /root/miniconda3/envs/TimeSeries/lib/python3.12/site-packages (from tsfresh) (0.14.4)\r\n",
      "Requirement already satisfied: patsy>=0.4.1 in /root/miniconda3/envs/TimeSeries/lib/python3.12/site-packages (from tsfresh) (1.0.1)\r\n",
      "Requirement already satisfied: pywavelets in /root/miniconda3/envs/TimeSeries/lib/python3.12/site-packages (from tsfresh) (1.8.0)\r\n",
      "Requirement already satisfied: scikit-learn>=0.22.0 in /root/miniconda3/envs/TimeSeries/lib/python3.12/site-packages (from tsfresh) (1.3.1)\r\n",
      "Requirement already satisfied: tqdm>=4.10.0 in /root/miniconda3/envs/TimeSeries/lib/python3.12/site-packages (from tsfresh) (4.67.1)\r\n",
      "Requirement already satisfied: stumpy>=1.7.2 in /root/miniconda3/envs/TimeSeries/lib/python3.12/site-packages (from tsfresh) (1.13.0)\r\n",
      "Requirement already satisfied: cloudpickle in /root/miniconda3/envs/TimeSeries/lib/python3.12/site-packages (from tsfresh) (3.1.1)\r\n",
      "Requirement already satisfied: scipy>=1.14.0 in /root/miniconda3/envs/TimeSeries/lib/python3.12/site-packages (from tsfresh) (1.15.1)\r\n",
      "Requirement already satisfied: python-dateutil in /root/miniconda3/envs/TimeSeries/lib/python3.12/site-packages (from workalendar) (2.9.0.post0)\r\n",
      "Collecting lunardate (from workalendar)\r\n",
      "  Using cached lunardate-0.2.2-py3-none-any.whl.metadata (3.6 kB)\r\n",
      "Requirement already satisfied: convertdate in /root/miniconda3/envs/TimeSeries/lib/python3.12/site-packages (from workalendar) (2.4.0)\r\n",
      "Collecting pyluach (from workalendar)\r\n",
      "  Using cached pyluach-2.2.0-py3-none-any.whl.metadata (4.3 kB)\r\n",
      "Collecting holidays>=0.17 (from featuretools[tsfresh])\r\n",
      "  Using cached holidays-0.72-py3-none-any.whl.metadata (37 kB)\r\n",
      "Requirement already satisfied: packaging>=20.0 in /root/.local/lib/python3.12/site-packages (from featuretools[tsfresh]) (25.0)\r\n",
      "Collecting pandas>=0.25.0 (from tsfresh)\r\n",
      "  Using cached pandas-2.2.3-cp312-cp312-manylinux_2_17_x86_64.manylinux2014_x86_64.whl.metadata (89 kB)\r\n",
      "Requirement already satisfied: psutil>=5.7.0 in /root/miniconda3/envs/TimeSeries/lib/python3.12/site-packages (from featuretools[tsfresh]) (5.9.0)\r\n",
      "Collecting woodwork>=0.28.0 (from featuretools[tsfresh])\r\n",
      "  Using cached woodwork-0.31.0-py3-none-any.whl.metadata (10 kB)\r\n",
      "Collecting featuretools-tsfresh-primitives>=1.0.0 (from featuretools[tsfresh])\r\n",
      "  Using cached featuretools_tsfresh_primitives-1.0.2-py3-none-any.whl.metadata (4.5 kB)\r\n",
      "Requirement already satisfied: joblib<1.5,>=1.2.0 in /root/miniconda3/envs/TimeSeries/lib/python3.12/site-packages (from sktime) (1.4.2)\r\n",
      "Collecting scikit-base<0.13.0,>=0.6.1 (from sktime)\r\n",
      "  Using cached scikit_base-0.12.2-py3-none-any.whl.metadata (8.8 kB)\r\n",
      "Requirement already satisfied: pytz>=2020.1 in /root/miniconda3/envs/TimeSeries/lib/python3.12/site-packages (from pandas>=0.25.0->tsfresh) (2024.1)\r\n",
      "Requirement already satisfied: tzdata>=2022.7 in /root/miniconda3/envs/TimeSeries/lib/python3.12/site-packages (from pandas>=0.25.0->tsfresh) (2025.2)\r\n",
      "Requirement already satisfied: threadpoolctl>=2.0.0 in /root/miniconda3/envs/TimeSeries/lib/python3.12/site-packages (from scikit-learn>=0.22.0->tsfresh) (3.5.0)\r\n",
      "INFO: pip is looking at multiple versions of featuretools-tsfresh-primitives to determine which version is compatible with other requirements. This could take a while.\r\n",
      "Collecting featuretools-tsfresh-primitives>=1.0.0 (from featuretools[tsfresh])\r\n",
      "  Using cached featuretools_tsfresh_primitives-1.0.1-py3-none-any.whl.metadata (4.5 kB)\r\n",
      "  Using cached featuretools_tsfresh_primitives-1.0.0-py3-none-any.whl.metadata (3.5 kB)\r\n",
      "Collecting cloudpickle (from tsfresh)\r\n",
      "  Using cached cloudpickle-3.1.1-py3-none-any.whl.metadata (7.1 kB)\r\n",
      "Collecting scipy>=1.14.0 (from tsfresh)\r\n",
      "  Using cached scipy-1.15.2-cp312-cp312-manylinux_2_17_x86_64.manylinux2014_x86_64.whl.metadata (61 kB)\r\n",
      "INFO: pip is still looking at multiple versions of featuretools-tsfresh-primitives to determine which version is compatible with other requirements. This could take a while.\r\n",
      "Collecting scikit-learn>=0.22.0 (from tsfresh)\r\n",
      "  Using cached scikit_learn-1.6.1-cp312-cp312-manylinux_2_17_x86_64.manylinux2014_x86_64.whl.metadata (18 kB)\r\n",
      "Collecting scikit-base<0.13.0,>=0.6.1 (from sktime)\r\n",
      "  Using cached scikit_base-0.12.0-py3-none-any.whl.metadata (8.5 kB)\r\n",
      "INFO: This is taking longer than usual. You might need to provide the dependency resolver with stricter constraints to reduce runtime. See https://pip.pypa.io/warnings/backtracking for guidance. If you want to abort this run, press Ctrl + C.\r\n",
      "Collecting numpy>=1.15.1 (from tsfresh)\r\n",
      "  Using cached numpy-2.2.5-cp312-cp312-manylinux_2_17_x86_64.manylinux2014_x86_64.whl.metadata (62 kB)\r\n",
      "Collecting joblib<1.5,>=1.2.0 (from sktime)\r\n",
      "  Using cached joblib-1.4.2-py3-none-any.whl.metadata (5.4 kB)\r\n",
      "Collecting sktime\r\n",
      "  Using cached sktime-0.36.1-py3-none-any.whl.metadata (34 kB)\r\n",
      "  Using cached sktime-0.36.0-py3-none-any.whl.metadata (34 kB)\r\n",
      "  Using cached sktime-0.35.1-py3-none-any.whl.metadata (34 kB)\r\n",
      "  Using cached sktime-0.35.0-py3-none-any.whl.metadata (33 kB)\r\n",
      "  Using cached sktime-0.34.1-py3-none-any.whl.metadata (33 kB)\r\n",
      "Collecting scikit-base<0.12.0,>=0.6.1 (from sktime)\r\n",
      "  Using cached scikit_base-0.11.0-py3-none-any.whl.metadata (8.5 kB)\r\n",
      "Collecting sktime\r\n",
      "  Using cached sktime-0.34.0-py3-none-any.whl.metadata (34 kB)\r\n",
      "  Using cached sktime-0.33.2-py3-none-any.whl.metadata (32 kB)\r\n",
      "Collecting scikit-base<0.9.0,>=0.6.1 (from sktime)\r\n",
      "  Using cached scikit_base-0.8.3-py3-none-any.whl.metadata (8.5 kB)\r\n",
      "Collecting sktime\r\n",
      "  Using cached sktime-0.33.1-py3-none-any.whl.metadata (32 kB)\r\n",
      "  Using cached sktime-0.33.0-py3-none-any.whl.metadata (31 kB)\r\n",
      "Collecting scikit-base<0.10.0,>=0.6.1 (from sktime)\r\n",
      "  Using cached scikit_base-0.9.0-py3-none-any.whl.metadata (8.5 kB)\r\n",
      "Collecting sktime\r\n",
      "  Using cached sktime-0.32.4-py3-none-any.whl.metadata (31 kB)\r\n",
      "  Using cached sktime-0.32.3-py3-none-any.whl.metadata (31 kB)\r\n",
      "  Using cached sktime-0.32.2-py3-none-any.whl.metadata (31 kB)\r\n",
      "  Using cached sktime-0.32.1-py3-none-any.whl.metadata (31 kB)\r\n",
      "  Using cached sktime-0.32.0-py3-none-any.whl.metadata (31 kB)\r\n",
      "  Using cached sktime-0.31.2-py3-none-any.whl.metadata (31 kB)\r\n",
      "  Using cached sktime-0.31.1-py3-none-any.whl.metadata (31 kB)\r\n",
      "  Using cached sktime-0.31.0-py3-none-any.whl.metadata (31 kB)\r\n",
      "  Using cached sktime-0.30.2-py3-none-any.whl.metadata (31 kB)\r\n",
      "  Using cached sktime-0.30.1-py3-none-any.whl.metadata (30 kB)\r\n",
      "  Using cached sktime-0.30.0-py3-none-any.whl.metadata (30 kB)\r\n",
      "  Using cached sktime-0.29.1-py3-none-any.whl.metadata (30 kB)\r\n",
      "Collecting scikit-base<0.8.0,>=0.6.1 (from sktime)\r\n",
      "  Using cached scikit_base-0.7.8-py3-none-any.whl.metadata (8.8 kB)\r\n",
      "Collecting sktime\r\n",
      "  Using cached sktime-0.29.0-py3-none-any.whl.metadata (31 kB)\r\n",
      "  Using cached sktime-0.28.1-py3-none-any.whl.metadata (30 kB)\r\n",
      "  Using cached sktime-0.28.0-py3-none-any.whl.metadata (30 kB)\r\n",
      "  Using cached sktime-0.27.1-py3-none-any.whl.metadata (30 kB)\r\n",
      "Collecting pandas>=0.25.0 (from tsfresh)\r\n",
      "  Using cached pandas-2.1.4-cp312-cp312-manylinux_2_17_x86_64.manylinux2014_x86_64.whl.metadata (18 kB)\r\n",
      "Collecting sktime\r\n",
      "  Using cached sktime-0.27.0-py3-none-any.whl.metadata (29 kB)\r\n",
      "  Using cached sktime-0.26.1-py3-none-any.whl.metadata (30 kB)\r\n",
      "  Using cached sktime-0.26.0-py3-none-any.whl.metadata (29 kB)\r\n",
      "  Using cached sktime-0.25.1-py3-none-any.whl.metadata (29 kB)\r\n",
      "  Using cached sktime-0.25.0-py3-none-any.whl.metadata (29 kB)\r\n",
      "Collecting scikit-base<0.7.0 (from sktime)\r\n",
      "  Using cached scikit_base-0.6.2-py3-none-any.whl.metadata (8.7 kB)\r\n",
      "Collecting sktime\r\n",
      "  Using cached sktime-0.24.2-py3-none-any.whl.metadata (29 kB)\r\n",
      "  Using cached sktime-0.24.1-py3-none-any.whl.metadata (29 kB)\r\n",
      "  Using cached sktime-0.24.0-py3-none-any.whl.metadata (29 kB)\r\n",
      "  Using cached sktime-0.9.0.tar.gz (12.8 MB)\r\n",
      "  Preparing metadata (setup.py) ... \u001B[?25lerror\r\n",
      "  \u001B[1;31merror\u001B[0m: \u001B[1msubprocess-exited-with-error\u001B[0m\r\n",
      "  \r\n",
      "  \u001B[31m×\u001B[0m \u001B[32mpython setup.py egg_info\u001B[0m did not run successfully.\r\n",
      "  \u001B[31m│\u001B[0m exit code: \u001B[1;36m1\u001B[0m\r\n",
      "  \u001B[31m╰─>\u001B[0m \u001B[31m[39 lines of output]\u001B[0m\r\n",
      "  \u001B[31m   \u001B[0m /tmp/pip-install-vyyzby_w/sktime_52c3598e3adc4b258369cb1829d2845b/setup.py:20: DeprecationWarning: pkg_resources is deprecated as an API. See https://setuptools.pypa.io/en/latest/pkg_resources.html\r\n",
      "  \u001B[31m   \u001B[0m   from pkg_resources import parse_version\r\n",
      "  \u001B[31m   \u001B[0m /root/.local/lib/python3.12/site-packages/setuptools/__init__.py:94: _DeprecatedInstaller: setuptools.installer and fetch_build_eggs are deprecated.\r\n",
      "  \u001B[31m   \u001B[0m !!\r\n",
      "  \u001B[31m   \u001B[0m \r\n",
      "  \u001B[31m   \u001B[0m         ********************************************************************************\r\n",
      "  \u001B[31m   \u001B[0m         Requirements should be satisfied by a PEP 517 installer.\r\n",
      "  \u001B[31m   \u001B[0m         If you are using pip, you can try `pip install --use-pep517`.\r\n",
      "  \u001B[31m   \u001B[0m         ********************************************************************************\r\n",
      "  \u001B[31m   \u001B[0m \r\n",
      "  \u001B[31m   \u001B[0m !!\r\n",
      "  \u001B[31m   \u001B[0m   dist.fetch_build_eggs(dist.setup_requires)\r\n",
      "  \u001B[31m   \u001B[0m /root/.local/lib/python3.12/site-packages/setuptools/dist.py:761: SetuptoolsDeprecationWarning: License classifiers are deprecated.\r\n",
      "  \u001B[31m   \u001B[0m !!\r\n",
      "  \u001B[31m   \u001B[0m \r\n",
      "  \u001B[31m   \u001B[0m         ********************************************************************************\r\n",
      "  \u001B[31m   \u001B[0m         Please consider removing the following classifiers in favor of a SPDX license expression:\r\n",
      "  \u001B[31m   \u001B[0m \r\n",
      "  \u001B[31m   \u001B[0m         License :: OSI Approved\r\n",
      "  \u001B[31m   \u001B[0m \r\n",
      "  \u001B[31m   \u001B[0m         See https://packaging.python.org/en/latest/guides/writing-pyproject-toml/#license for details.\r\n",
      "  \u001B[31m   \u001B[0m         ********************************************************************************\r\n",
      "  \u001B[31m   \u001B[0m \r\n",
      "  \u001B[31m   \u001B[0m !!\r\n",
      "  \u001B[31m   \u001B[0m   self._finalize_license_expression()\r\n",
      "  \u001B[31m   \u001B[0m error: Multiple top-level packages discovered in a flat-layout: ['sktime', 'build_tools', 'extension_templates'].\r\n",
      "  \u001B[31m   \u001B[0m \r\n",
      "  \u001B[31m   \u001B[0m To avoid accidental inclusion of unwanted files or directories,\r\n",
      "  \u001B[31m   \u001B[0m setuptools will not proceed with this build.\r\n",
      "  \u001B[31m   \u001B[0m \r\n",
      "  \u001B[31m   \u001B[0m If you are trying to create a single distribution with multiple packages\r\n",
      "  \u001B[31m   \u001B[0m on purpose, you should not rely on automatic discovery.\r\n",
      "  \u001B[31m   \u001B[0m Instead, consider the following options:\r\n",
      "  \u001B[31m   \u001B[0m \r\n",
      "  \u001B[31m   \u001B[0m 1. set up custom discovery (`find` directive with `include` or `exclude`)\r\n",
      "  \u001B[31m   \u001B[0m 2. use a `src-layout`\r\n",
      "  \u001B[31m   \u001B[0m 3. explicitly set `py_modules` or `packages` with a list of names\r\n",
      "  \u001B[31m   \u001B[0m \r\n",
      "  \u001B[31m   \u001B[0m To find more information, look for \"package discovery\" on setuptools docs.\r\n",
      "  \u001B[31m   \u001B[0m \u001B[31m[end of output]\u001B[0m\r\n",
      "  \r\n",
      "  \u001B[1;35mnote\u001B[0m: This error originates from a subprocess, and is likely not a problem with pip.\r\n",
      "\u001B[1;31merror\u001B[0m: \u001B[1mmetadata-generation-failed\u001B[0m\r\n",
      "\r\n",
      "\u001B[31m×\u001B[0m Encountered error while generating package metadata.\r\n",
      "\u001B[31m╰─>\u001B[0m See above for output.\r\n",
      "\r\n",
      "\u001B[1;35mnote\u001B[0m: This is an issue with the package mentioned above, not pip.\r\n",
      "\u001B[1;36mhint\u001B[0m: See above for details.\r\n",
      "\u001B[?25hNote: you may need to restart the kernel to use updated packages.\n"
     ]
    }
   ],
   "execution_count": 1
  },
  {
   "cell_type": "code",
   "id": "9a82dfb1-f90b-4f38-91fb-34756dece1e5",
   "metadata": {
    "ExecuteTime": {
     "end_time": "2025-05-08T11:22:16.732569Z",
     "start_time": "2025-05-08T11:22:16.730246Z"
    }
   },
   "source": [
    "import datetime\n",
    "import pandas as pd\n",
    "import matplotlib.pyplot as plt\n",
    "import seaborn as sns"
   ],
   "outputs": [],
   "execution_count": 2
  },
  {
   "cell_type": "markdown",
   "id": "96db671d-bfdb-48f2-b572-f1d35e2b14a1",
   "metadata": {},
   "source": [
    "# Transformations"
   ]
  },
  {
   "cell_type": "code",
   "id": "0bd9698d-3905-42a6-92b4-1d3d6c80f79f",
   "metadata": {
    "ExecuteTime": {
     "end_time": "2025-05-08T11:22:16.794762Z",
     "start_time": "2025-05-08T11:22:16.792525Z"
    }
   },
   "source": [
    "import numpy as np\n",
    "\n",
    "np.random.seed(0)\n",
    "pts = 10000\n",
    "vals = np.random.lognormal(0, 1.0, pts)"
   ],
   "outputs": [],
   "execution_count": 3
  },
  {
   "cell_type": "code",
   "id": "55097e4a-c0d8-4cd9-a7e5-5e59738c0475",
   "metadata": {
    "ExecuteTime": {
     "end_time": "2025-05-08T11:22:17.027857Z",
     "start_time": "2025-05-08T11:22:16.838151Z"
    }
   },
   "source": [
    "plt.hist(vals, bins=20, density=True)\n",
    "plt.yscale(\"log\")\n",
    "plt.ylabel(\"frequency\")\n",
    "plt.xlabel(\"value range\");"
   ],
   "outputs": [
    {
     "data": {
      "text/plain": [
       "<Figure size 640x480 with 1 Axes>"
      ],
      "image/png": "[encoded data removed]"
     },
     "metadata": {},
     "output_type": "display_data"
    }
   ],
   "execution_count": 4
  },
  {
   "cell_type": "code",
   "id": "1a0306b4-c03d-46e4-9ed1-1c8e30c3f7bb",
   "metadata": {
    "ExecuteTime": {
     "end_time": "2025-05-08T11:22:17.112281Z",
     "start_time": "2025-05-08T11:22:17.033015Z"
    }
   },
   "source": [
    "from sklearn.preprocessing import minmax_scale\n",
    "from sklearn.preprocessing import StandardScaler\n",
    "from scipy.stats import normaltest\n",
    "\n",
    "vals_mm = minmax_scale(vals)\n",
    "scaler = StandardScaler()\n",
    "vals_ss = scaler.fit_transform(vals.reshape(-1, 1))\n",
    "_, p = normaltest(vals_ss.squeeze())\n",
    "print(f\"significance: {p:.2f}\")"
   ],
   "outputs": [
    {
     "name": "stdout",
     "output_type": "stream",
     "text": [
      "significance: 0.00\n"
     ]
    }
   ],
   "execution_count": 5
  },
  {
   "cell_type": "code",
   "id": "f32df59b-5443-48b2-b2ef-07a4f79bb869",
   "metadata": {
    "ExecuteTime": {
     "end_time": "2025-05-08T11:22:17.122236Z",
     "start_time": "2025-05-08T11:22:17.119143Z"
    }
   },
   "source": [
    "_, p = normaltest(vals_mm.squeeze())\n",
    "print(f\"significance: {p:.2f}\")"
   ],
   "outputs": [
    {
     "name": "stdout",
     "output_type": "stream",
     "text": [
      "significance: 0.00\n"
     ]
    }
   ],
   "execution_count": 6
  },
  {
   "cell_type": "code",
   "id": "9fc25e7e-8bca-44ad-8d14-100cd62ee1ec",
   "metadata": {
    "ExecuteTime": {
     "end_time": "2025-05-08T11:22:17.255263Z",
     "start_time": "2025-05-08T11:22:17.186117Z"
    }
   },
   "source": [
    "plt.scatter(vals, vals_ss, alpha=0.3)\n",
    "plt.ylabel(\"standard scaled\")\n",
    "plt.xlabel(\"original\");"
   ],
   "outputs": [
    {
     "data": {
      "text/plain": [
       "<Figure size 640x480 with 1 Axes>"
      ],
      "image/png": "[encoded data removed]"
     },
     "metadata": {},
     "output_type": "display_data"
    }
   ],
   "execution_count": 7
  },
  {
   "cell_type": "code",
   "id": "e88633cd-5542-4366-84bd-ef59e46f253a",
   "metadata": {
    "ExecuteTime": {
     "end_time": "2025-05-08T11:22:17.269255Z",
     "start_time": "2025-05-08T11:22:17.257671Z"
    }
   },
   "source": [
    "from statsmodels.stats.diagnostic import kstest_normal\n",
    "\n",
    "log_transformed = np.log(vals)\n",
    "_, p = kstest_normal(log_transformed)  # stats.normaltest\n",
    "print(f\"significance: {p:.2f}\")"
   ],
   "outputs": [
    {
     "name": "stdout",
     "output_type": "stream",
     "text": [
      "significance: 0.31\n"
     ]
    }
   ],
   "execution_count": 8
  },
  {
   "cell_type": "code",
   "id": "8ed96d42-2023-463d-82cf-250b5bb69733",
   "metadata": {
    "ExecuteTime": {
     "end_time": "2025-05-08T11:22:17.308609Z",
     "start_time": "2025-05-08T11:22:17.305238Z"
    }
   },
   "source": [
    "np.std(log_transformed)"
   ],
   "outputs": [
    {
     "data": {
      "text/plain": [
       "0.9875565681761207"
      ]
     },
     "execution_count": 9,
     "metadata": {},
     "output_type": "execute_result"
    }
   ],
   "execution_count": 9
  },
  {
   "cell_type": "code",
   "id": "0f9faf67-1496-4383-a93e-abfb67e4dc9c",
   "metadata": {
    "ExecuteTime": {
     "end_time": "2025-05-08T11:22:17.359038Z",
     "start_time": "2025-05-08T11:22:17.355932Z"
    }
   },
   "source": [
    "np.mean(log_transformed)"
   ],
   "outputs": [
    {
     "data": {
      "text/plain": [
       "-0.01843372015826582"
      ]
     },
     "execution_count": 10,
     "metadata": {},
     "output_type": "execute_result"
    }
   ],
   "execution_count": 10
  },
  {
   "cell_type": "code",
   "id": "ae3a9a4b-f856-468e-8f7a-07178544f52d",
   "metadata": {
    "ExecuteTime": {
     "end_time": "2025-05-08T11:22:17.469047Z",
     "start_time": "2025-05-08T11:22:17.405922Z"
    }
   },
   "source": [
    "plt.hist(log_transformed, bins=20, density=True)\n",
    "#plt.yscale(\"log\")\n",
    "plt.ylabel(\"frequency\")\n",
    "plt.xlabel(\"value range\");"
   ],
   "outputs": [
    {
     "data": {
      "text/plain": [
       "<Figure size 640x480 with 1 Axes>"
      ],
      "image/png": "[encoded data removed]"
     },
     "metadata": {},
     "output_type": "display_data"
    }
   ],
   "execution_count": 11
  },
  {
   "cell_type": "code",
   "id": "89f9f296-456d-4789-88c0-2e2eb35bc8a8",
   "metadata": {
    "ExecuteTime": {
     "end_time": "2025-05-08T11:22:17.479025Z",
     "start_time": "2025-05-08T11:22:17.475627Z"
    }
   },
   "source": [
    "from scipy.stats import boxcox\n",
    "vals_bc = boxcox(vals, 0.0)\n",
    "_, p = normaltest(vals_bc)\n",
    "print(f\"significance: {p:.2f}\")"
   ],
   "outputs": [
    {
     "name": "stdout",
     "output_type": "stream",
     "text": [
      "significance: 0.46\n"
     ]
    }
   ],
   "execution_count": 12
  },
  {
   "cell_type": "code",
   "id": "40697ad8-fbc7-4c62-ab4a-64f813c13ec6",
   "metadata": {
    "ExecuteTime": {
     "end_time": "2025-05-08T11:22:17.596463Z",
     "start_time": "2025-05-08T11:22:17.525530Z"
    }
   },
   "source": [
    "plt.hist(vals_bc, bins=20, density=True)\n",
    "plt.ylabel(\"frequency\")\n",
    "plt.xlabel(\"value range\");"
   ],
   "outputs": [
    {
     "data": {
      "text/plain": [
       "<Figure size 640x480 with 1 Axes>"
      ],
      "image/png": "[encoded data removed]"
     },
     "metadata": {},
     "output_type": "display_data"
    }
   ],
   "execution_count": 13
  },
  {
   "cell_type": "markdown",
   "id": "da2aa62a-fe40-49e2-b2d9-ebcb1a91cda8",
   "metadata": {},
   "source": [
    "# Imputation"
   ]
  },
  {
   "cell_type": "code",
   "id": "40bddaee-38d3-4d40-9773-e6a4721e4b62",
   "metadata": {
    "ExecuteTime": {
     "end_time": "2025-05-08T11:22:17.637864Z",
     "start_time": "2025-05-08T11:22:17.603835Z"
    }
   },
   "source": [
    "import numpy as np\n",
    "from sklearn.impute import SimpleImputer\n",
    "imp_mean = SimpleImputer(missing_values=np.nan, strategy='mean')\n",
    "imp_mean.fit([[7, 2, 3], [4, np.nan, 6], [10, 5, 9]])\n",
    "SimpleImputer()\n",
    "df = [[np.nan, 2, 3], [4, np.nan, 6], [10, np.nan, 9]]\n",
    "print(imp_mean.transform(df))\n"
   ],
   "outputs": [
    {
     "name": "stdout",
     "output_type": "stream",
     "text": [
      "[[ 7.   2.   3. ]\n",
      " [ 4.   3.5  6. ]\n",
      " [10.   3.5  9. ]]\n"
     ]
    }
   ],
   "execution_count": 14
  },
  {
   "cell_type": "markdown",
   "id": "503b0b9a-71a9-475c-9906-e59fb9853932",
   "metadata": {},
   "source": [
    "# Derived Date Features"
   ]
  },
  {
   "cell_type": "markdown",
   "id": "5aa0e489-638d-46e7-8850-518c616e22e5",
   "metadata": {},
   "source": [
    "## Holidays"
   ]
  },
  {
   "cell_type": "code",
   "id": "9efee10c-2d3d-4265-886a-50e87e380a97",
   "metadata": {
    "ExecuteTime": {
     "end_time": "2025-05-08T11:27:57.663466Z",
     "start_time": "2025-05-08T11:27:57.638960Z"
    }
   },
   "source": [
    "from workalendar.europe.united_kingdom import UnitedKingdom\n",
    "UnitedKingdom().holidays()"
   ],
   "outputs": [
    {
     "data": {
      "text/plain": [
       "[(datetime.date(2025, 1, 1), 'New year'),\n",
       " (datetime.date(2025, 4, 18), 'Good Friday'),\n",
       " (datetime.date(2025, 4, 20), 'Easter Sunday'),\n",
       " (datetime.date(2025, 4, 21), 'Easter Monday'),\n",
       " (datetime.date(2025, 5, 5), 'Early May Bank Holiday'),\n",
       " (datetime.date(2025, 5, 26), 'Spring Bank Holiday'),\n",
       " (datetime.date(2025, 8, 25), 'Late Summer Bank Holiday'),\n",
       " (datetime.date(2025, 12, 25), 'Christmas Day'),\n",
       " (datetime.date(2025, 12, 26), 'Boxing Day')]"
      ]
     },
     "execution_count": 17,
     "metadata": {},
     "output_type": "execute_result"
    }
   ],
   "execution_count": 17
  },
  {
   "cell_type": "code",
   "id": "1539b652-a1f8-41a6-8410-cccad3d5edb6",
   "metadata": {
    "ExecuteTime": {
     "end_time": "2025-05-08T11:27:57.704936Z",
     "start_time": "2025-05-08T11:27:57.696510Z"
    }
   },
   "source": [
    "from typing import List\n",
    "from dateutil.relativedelta import relativedelta, TH\n",
    "import datetime\n",
    "from workalendar.usa import California\n",
    "\n",
    "def create_custom_holidays(year) -> List:\n",
    "      custom_holidays = California().holidays()\n",
    "      custom_holidays.append((\n",
    "        (datetime.datetime(year, 11, 1) + relativedelta(weekday=TH(+4)) + datetime.timedelta(days=1)).date(),\n",
    "        \"Black Friday\"\n",
    "      ))\n",
    "      return {k: v for (k, v) in custom_holidays}\n",
    "\n",
    "custom_holidays = create_custom_holidays(2021)"
   ],
   "outputs": [],
   "execution_count": 18
  },
  {
   "cell_type": "code",
   "id": "bec50434-e7b4-409b-8f37-9b400ce0a2bf",
   "metadata": {
    "ExecuteTime": {
     "end_time": "2025-05-08T11:27:57.753645Z",
     "start_time": "2025-05-08T11:27:57.749883Z"
    }
   },
   "source": [
    "custom_holidays"
   ],
   "outputs": [
    {
     "data": {
      "text/plain": [
       "{datetime.date(2025, 1, 1): 'New year',\n",
       " datetime.date(2025, 1, 20): 'Birthday of Martin Luther King, Jr.',\n",
       " datetime.date(2025, 2, 17): \"Washington's Birthday\",\n",
       " datetime.date(2025, 3, 31): 'Cesar Chavez Day',\n",
       " datetime.date(2025, 5, 26): 'Memorial Day',\n",
       " datetime.date(2025, 7, 4): 'Independence Day',\n",
       " datetime.date(2025, 9, 1): 'Labor Day',\n",
       " datetime.date(2025, 11, 11): 'Veterans Day',\n",
       " datetime.date(2025, 11, 27): 'Thanksgiving Day',\n",
       " datetime.date(2025, 11, 28): 'Thanksgiving Friday',\n",
       " datetime.date(2025, 12, 25): 'Christmas Day',\n",
       " datetime.date(2021, 11, 26): 'Black Friday'}"
      ]
     },
     "execution_count": 19,
     "metadata": {},
     "output_type": "execute_result"
    }
   ],
   "execution_count": 19
  },
  {
   "cell_type": "code",
   "id": "3e8c9a76-0ec7-40c8-8eda-e7e480281501",
   "metadata": {
    "ExecuteTime": {
     "end_time": "2025-05-08T11:27:57.799540Z",
     "start_time": "2025-05-08T11:27:57.796399Z"
    }
   },
   "source": [
    "def is_holiday(current_date: datetime.date):\n",
    "    \"\"\"Determine if we have a holiday.\"\"\"\n",
    "    return custom_holidays.get(current_date, False)\n",
    "\n",
    "today = datetime.date(2021, 4, 11)\n",
    "is_holiday(today)"
   ],
   "outputs": [
    {
     "data": {
      "text/plain": [
       "False"
      ]
     },
     "execution_count": 20,
     "metadata": {},
     "output_type": "execute_result"
    }
   ],
   "execution_count": 20
  },
  {
   "cell_type": "markdown",
   "id": "ddb63805-b782-4944-a88b-4996783177f7",
   "metadata": {},
   "source": [
    "## Date Annotations"
   ]
  },
  {
   "cell_type": "code",
   "id": "eab731b5-fa14-4c8a-bd39-0a805c36aa80",
   "metadata": {
    "ExecuteTime": {
     "end_time": "2025-05-08T11:27:57.882289Z",
     "start_time": "2025-05-08T11:27:57.878921Z"
    }
   },
   "source": [
    "import calendar\n",
    "\n",
    "calendar.monthrange(2021, 1)"
   ],
   "outputs": [
    {
     "data": {
      "text/plain": [
       "(calendar.FRIDAY, 31)"
      ]
     },
     "execution_count": 21,
     "metadata": {},
     "output_type": "execute_result"
    }
   ],
   "execution_count": 21
  },
  {
   "cell_type": "code",
   "id": "f9d4a8b3-fea7-4e75-86e4-fff5cc3ffa9e",
   "metadata": {
    "ExecuteTime": {
     "end_time": "2025-05-08T11:27:57.931383Z",
     "start_time": "2025-05-08T11:27:57.927288Z"
    }
   },
   "source": [
    "from datetime import date\n",
    "def year_anchor(current_date: datetime.date):\n",
    "      return (\n",
    "        (current_date - date(current_date.year, 1, 1)).days,\n",
    "        (date(current_date.year, 12, 31) - current_date).days,\n",
    "      )\n",
    "\n",
    "year_anchor(today)\n"
   ],
   "outputs": [
    {
     "data": {
      "text/plain": [
       "(100, 264)"
      ]
     },
     "execution_count": 22,
     "metadata": {},
     "output_type": "execute_result"
    }
   ],
   "execution_count": 22
  },
  {
   "cell_type": "code",
   "id": "d6a4e6d4-3a68-48a5-b564-29e9f7b0b72d",
   "metadata": {
    "ExecuteTime": {
     "end_time": "2025-05-08T11:27:57.989749Z",
     "start_time": "2025-05-08T11:27:57.986355Z"
    }
   },
   "source": [
    "def month_anchor(current_date: datetime.date):\n",
    "      last_day = calendar.monthrange(current_date.year, current_date.month)[0]\n",
    "    \n",
    "      return (\n",
    "        (current_date - datetime.date(current_date.year, current_date.month, 1)).days,\n",
    "        (current_date - datetime.date(current_date.year, current_date.month, last_day)).days,\n",
    "      )\n",
    "\n",
    "month_anchor(today)\n"
   ],
   "outputs": [
    {
     "data": {
      "text/plain": [
       "(10, 8)"
      ]
     },
     "execution_count": 23,
     "metadata": {},
     "output_type": "execute_result"
    }
   ],
   "execution_count": 23
  },
  {
   "cell_type": "markdown",
   "id": "5453766c-e8d5-4fd8-88a8-4b87602c506f",
   "metadata": {},
   "source": [
    "## Paydays"
   ]
  },
  {
   "cell_type": "code",
   "id": "5fa16210-e016-4cb6-85b9-84f964255f81",
   "metadata": {
    "ExecuteTime": {
     "end_time": "2025-05-08T11:27:58.041800Z",
     "start_time": "2025-05-08T11:27:58.036222Z"
    }
   },
   "source": [
    "def get_last_friday(current_date: datetime.date, weekday=calendar.FRIDAY):\n",
    "      return max(week[weekday]\n",
    "        for week in calendar.monthcalendar(\n",
    "            current_date.year, current_date.month\n",
    "        ))\n",
    "\n",
    "get_last_friday(today)\n"
   ],
   "outputs": [
    {
     "data": {
      "text/plain": [
       "30"
      ]
     },
     "execution_count": 24,
     "metadata": {},
     "output_type": "execute_result"
    }
   ],
   "execution_count": 24
  },
  {
   "cell_type": "markdown",
   "id": "2a2cca85-1e9f-4e3c-ad34-a6b1122e217a",
   "metadata": {},
   "source": [
    "## Seasons"
   ]
  },
  {
   "cell_type": "code",
   "id": "6abd71ed-2478-4c8a-a578-1b961e8a1de4",
   "metadata": {
    "ExecuteTime": {
     "end_time": "2025-05-08T11:27:58.091677Z",
     "start_time": "2025-05-08T11:27:58.087116Z"
    }
   },
   "source": [
    "YEAR = 2021\n",
    "seasons = [\n",
    "    ('winter', (date(YEAR,  1,  1),  date(YEAR,  3, 20))),\n",
    "    ('spring', (date(YEAR,  3, 21),  date(YEAR,  6, 20))),\n",
    "    ('summer', (date(YEAR,  6, 21),  date(YEAR,  9, 22))),\n",
    "    ('autumn', (date(YEAR,  9, 23),  date(YEAR, 12, 20))),\n",
    "    ('winter', (date(YEAR, 12, 21),  date(YEAR, 12, 31)))\n",
    "]\n",
    "\n",
    "def is_in_interval(current_date: datetime.date, seasons):\n",
    "      return next(season for season, (start, end) in seasons\n",
    "                if start <= current_date.replace(year=YEAR) <= end)\n",
    "    \n",
    "is_in_interval(today, seasons)\n"
   ],
   "outputs": [
    {
     "data": {
      "text/plain": [
       "'spring'"
      ]
     },
     "execution_count": 25,
     "metadata": {},
     "output_type": "execute_result"
    }
   ],
   "execution_count": 25
  },
  {
   "cell_type": "markdown",
   "id": "bff1e4f1-03a6-4710-8fcc-93ca10e529c1",
   "metadata": {},
   "source": [
    "## Sun and Moon"
   ]
  },
  {
   "cell_type": "code",
   "id": "2e79e8c5-a2c9-4ce0-bc55-b15c8564a877",
   "metadata": {
    "ExecuteTime": {
     "end_time": "2025-05-08T11:27:58.921027Z",
     "start_time": "2025-05-08T11:27:58.146498Z"
    }
   },
   "source": [
    "!pip install astral"
   ],
   "outputs": [
    {
     "name": "stdout",
     "output_type": "stream",
     "text": [
      "/bin/bash: warning: setlocale: LC_ALL: cannot change locale (en_US.UTF-8)\r\n",
      "Collecting astral\r\n",
      "  Using cached astral-3.2-py3-none-any.whl.metadata (1.7 kB)\r\n",
      "Downloading astral-3.2-py3-none-any.whl (38 kB)\r\n",
      "Installing collected packages: astral\r\n",
      "Successfully installed astral-3.2\r\n",
      "\u001B[33mWARNING: Running pip as the 'root' user can result in broken permissions and conflicting behaviour with the system package manager, possibly rendering your system unusable. It is recommended to use a virtual environment instead: https://pip.pypa.io/warnings/venv. Use the --root-user-action option if you know what you are doing and want to suppress this warning.\u001B[0m\u001B[33m\r\n",
      "\u001B[0m"
     ]
    }
   ],
   "execution_count": 26
  },
  {
   "cell_type": "code",
   "id": "92c55bb2-caf3-4a70-b51a-84bfc073b2ce",
   "metadata": {
    "ExecuteTime": {
     "end_time": "2025-05-08T11:27:58.936294Z",
     "start_time": "2025-05-08T11:27:58.929808Z"
    }
   },
   "source": [
    "from astral.sun import sun\n",
    "from astral import LocationInfo\n",
    "CITY = LocationInfo(\"London\", \"England\", \"Europe/London\", 51.5, -0.116)\n",
    "def get_sunrise_dusk(current_date: datetime.date, city_name='London'):\n",
    "      s = sun(CITY.observer, date=current_date)\n",
    "      sunrise = s['sunrise']\n",
    "      dusk = s['dusk']\n",
    "      return (sunrise - dusk).seconds / 3600\n",
    "\n",
    "get_sunrise_dusk(today)\n"
   ],
   "outputs": [
    {
     "data": {
      "text/plain": [
       "9.788055555555555"
      ]
     },
     "execution_count": 27,
     "metadata": {},
     "output_type": "execute_result"
    }
   ],
   "execution_count": 27
  },
  {
   "cell_type": "markdown",
   "id": "98f041ac-5c80-408e-909a-3364975f6be0",
   "metadata": {},
   "source": [
    "## Business Days"
   ]
  },
  {
   "cell_type": "code",
   "id": "aac6eeef-2d1b-4bf2-a2cb-75a9c4648a93",
   "metadata": {
    "ExecuteTime": {
     "end_time": "2025-05-08T11:27:58.990268Z",
     "start_time": "2025-05-08T11:27:58.983912Z"
    }
   },
   "source": [
    "def get_business_days(current_date: datetime.date):\n",
    "      last_day = calendar.monthrange(current_date.year, current_date.month)[1]\n",
    "      rng = pd.date_range(current_date.replace(day=1), periods=last_day, freq='D')\n",
    "      business_days = pd.bdate_range(rng[0], rng[-1])\n",
    "      return len(business_days), last_day - len(business_days)\n",
    "\n",
    "get_business_days(date.today())\n"
   ],
   "outputs": [
    {
     "data": {
      "text/plain": [
       "(22, 9)"
      ]
     },
     "execution_count": 28,
     "metadata": {},
     "output_type": "execute_result"
    }
   ],
   "execution_count": 28
  },
  {
   "cell_type": "markdown",
   "id": "91f21e9b-c326-472b-a59a-85a908502fe4",
   "metadata": {},
   "source": [
    "# Automated Feature Extraction"
   ]
  },
  {
   "cell_type": "code",
   "id": "7df98e51-5f84-49fd-b13c-a7a488bcc4ea",
   "metadata": {
    "ExecuteTime": {
     "end_time": "2025-05-08T11:33:22.362517Z",
     "start_time": "2025-05-08T11:33:22.321012Z"
    }
   },
   "source": [
    "import featuretools as ft\n",
    "from featuretools.primitives import Minute, Hour, Day, Month, Year, Weekday\n",
    "\n",
    "data = pd.DataFrame(\n",
    "    {'Time': ['2014-01-01 01:41:50',\n",
    "              '2014-01-01 02:06:50',\n",
    "              '2014-01-01 02:31:50',\n",
    "              '2014-01-01 02:56:50',\n",
    "              '2014-01-01 03:21:50'],\n",
    "     'Target': [0, 0, 0, 0, 1]}\n",
    ")        \n",
    "data['index'] = data.index\n",
    "es = ft.EntitySet('My EntitySet')\n",
    "\n",
    "\n",
    "\n",
    "es.add_dataframe(\n",
    "    dataframe_name='main_data_table',  # Remplacé entity_id par dataframe_name\n",
    "    index='index',\n",
    "    dataframe=data,\n",
    "    time_index='Time'\n",
    ")\n",
    "fm, features = ft.dfs(\n",
    "    entityset=es,\n",
    "    target_dataframe_name='main_data_table',  # Remplacé target_entity par target_dataframe_name\n",
    "    trans_primitives=[Minute, Hour, Day, Month, Year, Weekday]\n",
    ")\n",
    "\n",
    "\n"
   ],
   "outputs": [
    {
     "name": "stderr",
     "output_type": "stream",
     "text": [
      "/root/miniconda3/envs/TimeSeries/lib/python3.12/site-packages/featuretools/synthesis/deep_feature_synthesis.py:169: UserWarning: Only one dataframe in entityset, changing max_depth to 1 since deeper features cannot be created\n",
      "  warnings.warn(\n"
     ]
    }
   ],
   "execution_count": 36
  },
  {
   "cell_type": "code",
   "execution_count": null,
   "id": "39b85175-58d9-44bc-8374-09af58f245d3",
   "metadata": {},
   "outputs": [],
   "source": [
    "fm"
   ]
  },
  {
   "cell_type": "code",
   "id": "11f5581e-0ce2-4a90-9f0c-5aeefbaa2096",
   "metadata": {
    "ExecuteTime": {
     "end_time": "2025-05-08T11:33:30.103561Z",
     "start_time": "2025-05-08T11:33:28.189507Z"
    }
   },
   "source": [
    "from tsfresh.feature_extraction import extract_features\n",
    "from tsfresh.feature_extraction import ComprehensiveFCParameters\n",
    "\n",
    "settings = ComprehensiveFCParameters()\n",
    "extract_features(data, column_id='Time', default_fc_parameters=settings)\n"
   ],
   "outputs": [
    {
     "name": "stderr",
     "output_type": "stream",
     "text": [
      "Feature Extraction: 100%|██████████| 10/10 [00:00<00:00, 298.03it/s]\n"
     ]
    },
    {
     "ename": "AttributeError",
     "evalue": "'Index' object has no attribute '_format_flat'",
     "output_type": "error",
     "traceback": [
      "\u001B[31m---------------------------------------------------------------------------\u001B[39m",
      "\u001B[31mAttributeError\u001B[39m                            Traceback (most recent call last)",
      "\u001B[36mFile \u001B[39m\u001B[32m~/miniconda3/envs/TimeSeries/lib/python3.12/site-packages/IPython/core/formatters.py:406\u001B[39m, in \u001B[36mBaseFormatter.__call__\u001B[39m\u001B[34m(self, obj)\u001B[39m\n\u001B[32m    404\u001B[39m     method = get_real_method(obj, \u001B[38;5;28mself\u001B[39m.print_method)\n\u001B[32m    405\u001B[39m     \u001B[38;5;28;01mif\u001B[39;00m method \u001B[38;5;129;01mis\u001B[39;00m \u001B[38;5;129;01mnot\u001B[39;00m \u001B[38;5;28;01mNone\u001B[39;00m:\n\u001B[32m--> \u001B[39m\u001B[32m406\u001B[39m         \u001B[38;5;28;01mreturn\u001B[39;00m method()\n\u001B[32m    407\u001B[39m     \u001B[38;5;28;01mreturn\u001B[39;00m \u001B[38;5;28;01mNone\u001B[39;00m\n\u001B[32m    408\u001B[39m \u001B[38;5;28;01melse\u001B[39;00m:\n",
      "\u001B[36mFile \u001B[39m\u001B[32m~/miniconda3/envs/TimeSeries/lib/python3.12/site-packages/pandas/core/frame.py:1106\u001B[39m, in \u001B[36m_repr_html_\u001B[39m\u001B[34m(self)\u001B[39m\n\u001B[32m      0\u001B[39m <Error retrieving source code with stack_data see ipython/ipython#13598>\n",
      "\u001B[36mFile \u001B[39m\u001B[32m~/miniconda3/envs/TimeSeries/lib/python3.12/site-packages/pandas/io/formats/format.py:1110\u001B[39m, in \u001B[36mto_html\u001B[39m\u001B[34m(self, buf, encoding, classes, notebook, border, table_id, render_links)\u001B[39m\n\u001B[32m   1079\u001B[39m \u001B[38;5;28;01mdef\u001B[39;00m\u001B[38;5;250m \u001B[39m\u001B[34mformat_array\u001B[39m(\n\u001B[32m   1080\u001B[39m     values: ArrayLike,\n\u001B[32m   1081\u001B[39m     formatter: Callable | \u001B[38;5;28;01mNone\u001B[39;00m,\n\u001B[32m   (...)\u001B[39m\u001B[32m   1090\u001B[39m     fallback_formatter: Callable | \u001B[38;5;28;01mNone\u001B[39;00m = \u001B[38;5;28;01mNone\u001B[39;00m,\n\u001B[32m   1091\u001B[39m ) -> \u001B[38;5;28mlist\u001B[39m[\u001B[38;5;28mstr\u001B[39m]:\n\u001B[32m   1092\u001B[39m \u001B[38;5;250m    \u001B[39m\u001B[33;03m\"\"\"\u001B[39;00m\n\u001B[32m   1093\u001B[39m \u001B[33;03m    Format an array for printing.\u001B[39;00m\n\u001B[32m   1094\u001B[39m \n\u001B[32m   1095\u001B[39m \u001B[33;03m    Parameters\u001B[39;00m\n\u001B[32m   1096\u001B[39m \u001B[33;03m    ----------\u001B[39;00m\n\u001B[32m   1097\u001B[39m \u001B[33;03m    values : np.ndarray or ExtensionArray\u001B[39;00m\n\u001B[32m   1098\u001B[39m \u001B[33;03m    formatter\u001B[39;00m\n\u001B[32m   1099\u001B[39m \u001B[33;03m    float_format\u001B[39;00m\n\u001B[32m   1100\u001B[39m \u001B[33;03m    na_rep\u001B[39;00m\n\u001B[32m   1101\u001B[39m \u001B[33;03m    digits\u001B[39;00m\n\u001B[32m   1102\u001B[39m \u001B[33;03m    space\u001B[39;00m\n\u001B[32m   1103\u001B[39m \u001B[33;03m    justify\u001B[39;00m\n\u001B[32m   1104\u001B[39m \u001B[33;03m    decimal\u001B[39;00m\n\u001B[32m   1105\u001B[39m \u001B[33;03m    leading_space : bool, optional, default True\u001B[39;00m\n\u001B[32m   1106\u001B[39m \u001B[33;03m        Whether the array should be formatted with a leading space.\u001B[39;00m\n\u001B[32m   1107\u001B[39m \u001B[33;03m        When an array as a column of a Series or DataFrame, we do want\u001B[39;00m\n\u001B[32m   1108\u001B[39m \u001B[33;03m        the leading space to pad between columns.\u001B[39;00m\n\u001B[32m   1109\u001B[39m \n\u001B[32m-> \u001B[39m\u001B[32m1110\u001B[39m \u001B[33;03m        When formatting an Index subclass\u001B[39;00m\n\u001B[32m   1111\u001B[39m \u001B[33;03m        (e.g. IntervalIndex._get_values_for_csv), we don't want the\u001B[39;00m\n\u001B[32m   1112\u001B[39m \u001B[33;03m        leading space since it should be left-aligned.\u001B[39;00m\n\u001B[32m   1113\u001B[39m \u001B[33;03m    fallback_formatter\u001B[39;00m\n\u001B[32m   1114\u001B[39m \n\u001B[32m   1115\u001B[39m \u001B[33;03m    Returns\u001B[39;00m\n\u001B[32m   1116\u001B[39m \u001B[33;03m    -------\u001B[39;00m\n\u001B[32m   1117\u001B[39m \u001B[33;03m    List[str]\u001B[39;00m\n\u001B[32m   1118\u001B[39m \u001B[33;03m    \"\"\"\u001B[39;00m\n\u001B[32m   1119\u001B[39m     fmt_klass: \u001B[38;5;28mtype\u001B[39m[_GenericArrayFormatter]\n\u001B[32m   1120\u001B[39m     \u001B[38;5;28;01mif\u001B[39;00m lib.is_np_dtype(values.dtype, \u001B[33m\"\u001B[39m\u001B[33mM\u001B[39m\u001B[33m\"\u001B[39m):\n",
      "\u001B[36mFile \u001B[39m\u001B[32m~/miniconda3/envs/TimeSeries/lib/python3.12/site-packages/pandas/io/formats/html.py:88\u001B[39m, in \u001B[36mHTMLFormatter.to_string\u001B[39m\u001B[34m(self)\u001B[39m\n\u001B[32m     87\u001B[39m \u001B[38;5;28;01mdef\u001B[39;00m\u001B[38;5;250m \u001B[39m\u001B[34mto_string\u001B[39m(\u001B[38;5;28mself\u001B[39m) -> \u001B[38;5;28mstr\u001B[39m:\n\u001B[32m---> \u001B[39m\u001B[32m88\u001B[39m     lines = \u001B[38;5;28mself\u001B[39m.render()\n\u001B[32m     89\u001B[39m     \u001B[38;5;28;01mif\u001B[39;00m \u001B[38;5;28many\u001B[39m(\u001B[38;5;28misinstance\u001B[39m(x, \u001B[38;5;28mstr\u001B[39m) \u001B[38;5;28;01mfor\u001B[39;00m x \u001B[38;5;129;01min\u001B[39;00m lines):\n\u001B[32m     90\u001B[39m         lines = [\u001B[38;5;28mstr\u001B[39m(x) \u001B[38;5;28;01mfor\u001B[39;00m x \u001B[38;5;129;01min\u001B[39;00m lines]\n",
      "\u001B[36mFile \u001B[39m\u001B[32m~/miniconda3/envs/TimeSeries/lib/python3.12/site-packages/pandas/io/formats/html.py:644\u001B[39m, in \u001B[36mNotebookFormatter.render\u001B[39m\u001B[34m(self)\u001B[39m\n\u001B[32m    642\u001B[39m \u001B[38;5;28mself\u001B[39m.write(\u001B[33m\"\u001B[39m\u001B[33m<div>\u001B[39m\u001B[33m\"\u001B[39m)\n\u001B[32m    643\u001B[39m \u001B[38;5;28mself\u001B[39m.write_style()\n\u001B[32m--> \u001B[39m\u001B[32m644\u001B[39m \u001B[38;5;28msuper\u001B[39m().render()\n\u001B[32m    645\u001B[39m \u001B[38;5;28mself\u001B[39m.write(\u001B[33m\"\u001B[39m\u001B[33m</div>\u001B[39m\u001B[33m\"\u001B[39m)\n\u001B[32m    646\u001B[39m \u001B[38;5;28;01mreturn\u001B[39;00m \u001B[38;5;28mself\u001B[39m.elements\n",
      "\u001B[36mFile \u001B[39m\u001B[32m~/miniconda3/envs/TimeSeries/lib/python3.12/site-packages/pandas/io/formats/html.py:94\u001B[39m, in \u001B[36mHTMLFormatter.render\u001B[39m\u001B[34m(self)\u001B[39m\n\u001B[32m     93\u001B[39m \u001B[38;5;28;01mdef\u001B[39;00m\u001B[38;5;250m \u001B[39m\u001B[34mrender\u001B[39m(\u001B[38;5;28mself\u001B[39m) -> \u001B[38;5;28mlist\u001B[39m[\u001B[38;5;28mstr\u001B[39m]:\n\u001B[32m---> \u001B[39m\u001B[32m94\u001B[39m     \u001B[38;5;28mself\u001B[39m._write_table()\n\u001B[32m     96\u001B[39m     \u001B[38;5;28;01mif\u001B[39;00m \u001B[38;5;28mself\u001B[39m.should_show_dimensions:\n\u001B[32m     97\u001B[39m         by = \u001B[38;5;28mchr\u001B[39m(\u001B[32m215\u001B[39m)  \u001B[38;5;66;03m# ×  # noqa: RUF003\u001B[39;00m\n",
      "\u001B[36mFile \u001B[39m\u001B[32m~/miniconda3/envs/TimeSeries/lib/python3.12/site-packages/pandas/io/formats/html.py:267\u001B[39m, in \u001B[36mHTMLFormatter._write_table\u001B[39m\u001B[34m(self, indent)\u001B[39m\n\u001B[32m    261\u001B[39m \u001B[38;5;28mself\u001B[39m.write(\n\u001B[32m    262\u001B[39m     \u001B[33mf\u001B[39m\u001B[33m'\u001B[39m\u001B[33m<table\u001B[39m\u001B[38;5;132;01m{\u001B[39;00mborder_attr\u001B[38;5;132;01m}\u001B[39;00m\u001B[33m class=\u001B[39m\u001B[33m\"\u001B[39m\u001B[38;5;132;01m{\u001B[39;00m\u001B[33m\"\u001B[39m\u001B[33m \u001B[39m\u001B[33m\"\u001B[39m.join(_classes)\u001B[38;5;132;01m}\u001B[39;00m\u001B[33m\"\u001B[39m\u001B[38;5;132;01m{\u001B[39;00mid_section\u001B[38;5;132;01m}\u001B[39;00m\u001B[33m>\u001B[39m\u001B[33m'\u001B[39m,\n\u001B[32m    263\u001B[39m     indent,\n\u001B[32m    264\u001B[39m )\n\u001B[32m    266\u001B[39m \u001B[38;5;28;01mif\u001B[39;00m \u001B[38;5;28mself\u001B[39m.fmt.header \u001B[38;5;129;01mor\u001B[39;00m \u001B[38;5;28mself\u001B[39m.show_row_idx_names:\n\u001B[32m--> \u001B[39m\u001B[32m267\u001B[39m     \u001B[38;5;28mself\u001B[39m._write_header(indent + \u001B[38;5;28mself\u001B[39m.indent_delta)\n\u001B[32m    269\u001B[39m \u001B[38;5;28mself\u001B[39m._write_body(indent + \u001B[38;5;28mself\u001B[39m.indent_delta)\n\u001B[32m    271\u001B[39m \u001B[38;5;28mself\u001B[39m.write(\u001B[33m\"\u001B[39m\u001B[33m</table>\u001B[39m\u001B[33m\"\u001B[39m, indent)\n",
      "\u001B[36mFile \u001B[39m\u001B[32m~/miniconda3/envs/TimeSeries/lib/python3.12/site-packages/pandas/io/formats/html.py:403\u001B[39m, in \u001B[36mHTMLFormatter._write_header\u001B[39m\u001B[34m(self, indent)\u001B[39m\n\u001B[32m    400\u001B[39m \u001B[38;5;28mself\u001B[39m.write(\u001B[33m\"\u001B[39m\u001B[33m<thead>\u001B[39m\u001B[33m\"\u001B[39m, indent)\n\u001B[32m    402\u001B[39m \u001B[38;5;28;01mif\u001B[39;00m \u001B[38;5;28mself\u001B[39m.fmt.header:\n\u001B[32m--> \u001B[39m\u001B[32m403\u001B[39m     \u001B[38;5;28mself\u001B[39m._write_col_header(indent + \u001B[38;5;28mself\u001B[39m.indent_delta)\n\u001B[32m    405\u001B[39m \u001B[38;5;28;01mif\u001B[39;00m \u001B[38;5;28mself\u001B[39m.show_row_idx_names:\n\u001B[32m    406\u001B[39m     \u001B[38;5;28mself\u001B[39m._write_row_header(indent + \u001B[38;5;28mself\u001B[39m.indent_delta)\n",
      "\u001B[36mFile \u001B[39m\u001B[32m~/miniconda3/envs/TimeSeries/lib/python3.12/site-packages/pandas/io/formats/html.py:383\u001B[39m, in \u001B[36mHTMLFormatter._write_col_header\u001B[39m\u001B[34m(self, indent)\u001B[39m\n\u001B[32m    381\u001B[39m     \u001B[38;5;28;01melse\u001B[39;00m:\n\u001B[32m    382\u001B[39m         row.append(\u001B[33m\"\u001B[39m\u001B[33m\"\u001B[39m)\n\u001B[32m--> \u001B[39m\u001B[32m383\u001B[39m row.extend(\u001B[38;5;28mself\u001B[39m._get_columns_formatted_values())\n\u001B[32m    384\u001B[39m align = \u001B[38;5;28mself\u001B[39m.fmt.justify\n\u001B[32m    386\u001B[39m \u001B[38;5;28;01mif\u001B[39;00m is_truncated_horizontally:\n",
      "\u001B[36mFile \u001B[39m\u001B[32m~/miniconda3/envs/TimeSeries/lib/python3.12/site-packages/pandas/io/formats/html.py:611\u001B[39m, in \u001B[36mNotebookFormatter._get_columns_formatted_values\u001B[39m\u001B[34m(self)\u001B[39m\n\u001B[32m    609\u001B[39m \u001B[38;5;28;01mdef\u001B[39;00m\u001B[38;5;250m \u001B[39m\u001B[34m_get_columns_formatted_values\u001B[39m(\u001B[38;5;28mself\u001B[39m) -> \u001B[38;5;28mlist\u001B[39m[\u001B[38;5;28mstr\u001B[39m]:\n\u001B[32m    610\u001B[39m     \u001B[38;5;66;03m# only reached with non-Multi Index\u001B[39;00m\n\u001B[32m--> \u001B[39m\u001B[32m611\u001B[39m     \u001B[38;5;28;01mreturn\u001B[39;00m \u001B[38;5;28mself\u001B[39m.columns._format_flat(include_name=\u001B[38;5;28;01mFalse\u001B[39;00m)\n",
      "\u001B[31mAttributeError\u001B[39m: 'Index' object has no attribute '_format_flat'"
     ]
    },
    {
     "data": {
      "text/plain": [
       "                     Target__variance_larger_than_standard_deviation  \\\n",
       "2014-01-01 01:41:50                                              0.0   \n",
       "2014-01-01 02:06:50                                              0.0   \n",
       "2014-01-01 02:31:50                                              0.0   \n",
       "2014-01-01 02:56:50                                              0.0   \n",
       "2014-01-01 03:21:50                                              0.0   \n",
       "\n",
       "                     Target__has_duplicate_max  Target__has_duplicate_min  \\\n",
       "2014-01-01 01:41:50                        0.0                        0.0   \n",
       "2014-01-01 02:06:50                        0.0                        0.0   \n",
       "2014-01-01 02:31:50                        0.0                        0.0   \n",
       "2014-01-01 02:56:50                        0.0                        0.0   \n",
       "2014-01-01 03:21:50                        0.0                        0.0   \n",
       "\n",
       "                     Target__has_duplicate  Target__sum_values  \\\n",
       "2014-01-01 01:41:50                    0.0                 0.0   \n",
       "2014-01-01 02:06:50                    0.0                 0.0   \n",
       "2014-01-01 02:31:50                    0.0                 0.0   \n",
       "2014-01-01 02:56:50                    0.0                 0.0   \n",
       "2014-01-01 03:21:50                    0.0                 1.0   \n",
       "\n",
       "                     Target__abs_energy  Target__mean_abs_change  \\\n",
       "2014-01-01 01:41:50                 0.0                      NaN   \n",
       "2014-01-01 02:06:50                 0.0                      NaN   \n",
       "2014-01-01 02:31:50                 0.0                      NaN   \n",
       "2014-01-01 02:56:50                 0.0                      NaN   \n",
       "2014-01-01 03:21:50                 1.0                      NaN   \n",
       "\n",
       "                     Target__mean_change  \\\n",
       "2014-01-01 01:41:50                  NaN   \n",
       "2014-01-01 02:06:50                  NaN   \n",
       "2014-01-01 02:31:50                  NaN   \n",
       "2014-01-01 02:56:50                  NaN   \n",
       "2014-01-01 03:21:50                  NaN   \n",
       "\n",
       "                     Target__mean_second_derivative_central  Target__median  \\\n",
       "2014-01-01 01:41:50                                     NaN             0.0   \n",
       "2014-01-01 02:06:50                                     NaN             0.0   \n",
       "2014-01-01 02:31:50                                     NaN             0.0   \n",
       "2014-01-01 02:56:50                                     NaN             0.0   \n",
       "2014-01-01 03:21:50                                     NaN             1.0   \n",
       "\n",
       "                     ...  index__fourier_entropy__bins_5  \\\n",
       "2014-01-01 01:41:50  ...                             NaN   \n",
       "2014-01-01 02:06:50  ...                             NaN   \n",
       "2014-01-01 02:31:50  ...                             NaN   \n",
       "2014-01-01 02:56:50  ...                             NaN   \n",
       "2014-01-01 03:21:50  ...                             NaN   \n",
       "\n",
       "                     index__fourier_entropy__bins_10  \\\n",
       "2014-01-01 01:41:50                              NaN   \n",
       "2014-01-01 02:06:50                              NaN   \n",
       "2014-01-01 02:31:50                              NaN   \n",
       "2014-01-01 02:56:50                              NaN   \n",
       "2014-01-01 03:21:50                              NaN   \n",
       "\n",
       "                     index__fourier_entropy__bins_100  \\\n",
       "2014-01-01 01:41:50                               NaN   \n",
       "2014-01-01 02:06:50                               NaN   \n",
       "2014-01-01 02:31:50                               NaN   \n",
       "2014-01-01 02:56:50                               NaN   \n",
       "2014-01-01 03:21:50                               NaN   \n",
       "\n",
       "                     index__permutation_entropy__dimension_3__tau_1  \\\n",
       "2014-01-01 01:41:50                                             NaN   \n",
       "2014-01-01 02:06:50                                             NaN   \n",
       "2014-01-01 02:31:50                                             NaN   \n",
       "2014-01-01 02:56:50                                             NaN   \n",
       "2014-01-01 03:21:50                                             NaN   \n",
       "\n",
       "                     index__permutation_entropy__dimension_4__tau_1  \\\n",
       "2014-01-01 01:41:50                                             NaN   \n",
       "2014-01-01 02:06:50                                             NaN   \n",
       "2014-01-01 02:31:50                                             NaN   \n",
       "2014-01-01 02:56:50                                             NaN   \n",
       "2014-01-01 03:21:50                                             NaN   \n",
       "\n",
       "                     index__permutation_entropy__dimension_5__tau_1  \\\n",
       "2014-01-01 01:41:50                                             NaN   \n",
       "2014-01-01 02:06:50                                             NaN   \n",
       "2014-01-01 02:31:50                                             NaN   \n",
       "2014-01-01 02:56:50                                             NaN   \n",
       "2014-01-01 03:21:50                                             NaN   \n",
       "\n",
       "                     index__permutation_entropy__dimension_6__tau_1  \\\n",
       "2014-01-01 01:41:50                                             NaN   \n",
       "2014-01-01 02:06:50                                             NaN   \n",
       "2014-01-01 02:31:50                                             NaN   \n",
       "2014-01-01 02:56:50                                             NaN   \n",
       "2014-01-01 03:21:50                                             NaN   \n",
       "\n",
       "                     index__permutation_entropy__dimension_7__tau_1  \\\n",
       "2014-01-01 01:41:50                                             NaN   \n",
       "2014-01-01 02:06:50                                             NaN   \n",
       "2014-01-01 02:31:50                                             NaN   \n",
       "2014-01-01 02:56:50                                             NaN   \n",
       "2014-01-01 03:21:50                                             NaN   \n",
       "\n",
       "                     index__query_similarity_count__query_None__threshold_0.0  \\\n",
       "2014-01-01 01:41:50                                                NaN          \n",
       "2014-01-01 02:06:50                                                NaN          \n",
       "2014-01-01 02:31:50                                                NaN          \n",
       "2014-01-01 02:56:50                                                NaN          \n",
       "2014-01-01 03:21:50                                                NaN          \n",
       "\n",
       "                     index__mean_n_absolute_max__number_of_maxima_7  \n",
       "2014-01-01 01:41:50                                             NaN  \n",
       "2014-01-01 02:06:50                                             NaN  \n",
       "2014-01-01 02:31:50                                             NaN  \n",
       "2014-01-01 02:56:50                                             NaN  \n",
       "2014-01-01 03:21:50                                             NaN  \n",
       "\n",
       "[5 rows x 1566 columns]"
      ]
     },
     "execution_count": 37,
     "metadata": {},
     "output_type": "execute_result"
    }
   ],
   "execution_count": 37
  },
  {
   "cell_type": "markdown",
   "id": "d78b955f-04a1-4751-8142-e3b7c8002278",
   "metadata": {},
   "source": [
    "## ROCKET"
   ]
  },
  {
   "cell_type": "code",
   "id": "cc173b6d-be20-424a-b8b9-3ae617cf5f39",
   "metadata": {
    "ExecuteTime": {
     "end_time": "2025-05-08T11:43:19.250096Z",
     "start_time": "2025-05-08T11:43:19.212379Z"
    }
   },
   "source": [
    "from sktime.datasets import load_arrow_head\n",
    "# Utiliser le nouvel emplacement de la fonction from_nested_to_2d_array\n",
    "from sktime.datatypes._panel._convert import from_nested_to_2d_array\n",
    "\n",
    "X_train, y_train = load_arrow_head(split=\"train\", return_X_y=True)\n",
    "\n",
    "from_nested_to_2d_array(X_train).head()"
   ],
   "outputs": [
    {
     "ename": "AttributeError",
     "evalue": "'Index' object has no attribute '_format_flat'",
     "output_type": "error",
     "traceback": [
      "\u001B[31m---------------------------------------------------------------------------\u001B[39m",
      "\u001B[31mAttributeError\u001B[39m                            Traceback (most recent call last)",
      "\u001B[36mFile \u001B[39m\u001B[32m~/miniconda3/envs/TimeSeries/lib/python3.12/site-packages/IPython/core/formatters.py:406\u001B[39m, in \u001B[36mBaseFormatter.__call__\u001B[39m\u001B[34m(self, obj)\u001B[39m\n\u001B[32m    404\u001B[39m     method = get_real_method(obj, \u001B[38;5;28mself\u001B[39m.print_method)\n\u001B[32m    405\u001B[39m     \u001B[38;5;28;01mif\u001B[39;00m method \u001B[38;5;129;01mis\u001B[39;00m \u001B[38;5;129;01mnot\u001B[39;00m \u001B[38;5;28;01mNone\u001B[39;00m:\n\u001B[32m--> \u001B[39m\u001B[32m406\u001B[39m         \u001B[38;5;28;01mreturn\u001B[39;00m method()\n\u001B[32m    407\u001B[39m     \u001B[38;5;28;01mreturn\u001B[39;00m \u001B[38;5;28;01mNone\u001B[39;00m\n\u001B[32m    408\u001B[39m \u001B[38;5;28;01melse\u001B[39;00m:\n",
      "\u001B[36mFile \u001B[39m\u001B[32m~/miniconda3/envs/TimeSeries/lib/python3.12/site-packages/pandas/core/frame.py:1106\u001B[39m, in \u001B[36m_repr_html_\u001B[39m\u001B[34m(self)\u001B[39m\n\u001B[32m      0\u001B[39m <Error retrieving source code with stack_data see ipython/ipython#13598>\n",
      "\u001B[36mFile \u001B[39m\u001B[32m~/miniconda3/envs/TimeSeries/lib/python3.12/site-packages/pandas/io/formats/format.py:1110\u001B[39m, in \u001B[36mto_html\u001B[39m\u001B[34m(self, buf, encoding, classes, notebook, border, table_id, render_links)\u001B[39m\n\u001B[32m   1079\u001B[39m \u001B[38;5;28;01mdef\u001B[39;00m\u001B[38;5;250m \u001B[39m\u001B[34mformat_array\u001B[39m(\n\u001B[32m   1080\u001B[39m     values: ArrayLike,\n\u001B[32m   1081\u001B[39m     formatter: Callable | \u001B[38;5;28;01mNone\u001B[39;00m,\n\u001B[32m   (...)\u001B[39m\u001B[32m   1090\u001B[39m     fallback_formatter: Callable | \u001B[38;5;28;01mNone\u001B[39;00m = \u001B[38;5;28;01mNone\u001B[39;00m,\n\u001B[32m   1091\u001B[39m ) -> \u001B[38;5;28mlist\u001B[39m[\u001B[38;5;28mstr\u001B[39m]:\n\u001B[32m   1092\u001B[39m \u001B[38;5;250m    \u001B[39m\u001B[33;03m\"\"\"\u001B[39;00m\n\u001B[32m   1093\u001B[39m \u001B[33;03m    Format an array for printing.\u001B[39;00m\n\u001B[32m   1094\u001B[39m \n\u001B[32m   1095\u001B[39m \u001B[33;03m    Parameters\u001B[39;00m\n\u001B[32m   1096\u001B[39m \u001B[33;03m    ----------\u001B[39;00m\n\u001B[32m   1097\u001B[39m \u001B[33;03m    values : np.ndarray or ExtensionArray\u001B[39;00m\n\u001B[32m   1098\u001B[39m \u001B[33;03m    formatter\u001B[39;00m\n\u001B[32m   1099\u001B[39m \u001B[33;03m    float_format\u001B[39;00m\n\u001B[32m   1100\u001B[39m \u001B[33;03m    na_rep\u001B[39;00m\n\u001B[32m   1101\u001B[39m \u001B[33;03m    digits\u001B[39;00m\n\u001B[32m   1102\u001B[39m \u001B[33;03m    space\u001B[39;00m\n\u001B[32m   1103\u001B[39m \u001B[33;03m    justify\u001B[39;00m\n\u001B[32m   1104\u001B[39m \u001B[33;03m    decimal\u001B[39;00m\n\u001B[32m   1105\u001B[39m \u001B[33;03m    leading_space : bool, optional, default True\u001B[39;00m\n\u001B[32m   1106\u001B[39m \u001B[33;03m        Whether the array should be formatted with a leading space.\u001B[39;00m\n\u001B[32m   1107\u001B[39m \u001B[33;03m        When an array as a column of a Series or DataFrame, we do want\u001B[39;00m\n\u001B[32m   1108\u001B[39m \u001B[33;03m        the leading space to pad between columns.\u001B[39;00m\n\u001B[32m   1109\u001B[39m \n\u001B[32m-> \u001B[39m\u001B[32m1110\u001B[39m \u001B[33;03m        When formatting an Index subclass\u001B[39;00m\n\u001B[32m   1111\u001B[39m \u001B[33;03m        (e.g. IntervalIndex._get_values_for_csv), we don't want the\u001B[39;00m\n\u001B[32m   1112\u001B[39m \u001B[33;03m        leading space since it should be left-aligned.\u001B[39;00m\n\u001B[32m   1113\u001B[39m \u001B[33;03m    fallback_formatter\u001B[39;00m\n\u001B[32m   1114\u001B[39m \n\u001B[32m   1115\u001B[39m \u001B[33;03m    Returns\u001B[39;00m\n\u001B[32m   1116\u001B[39m \u001B[33;03m    -------\u001B[39;00m\n\u001B[32m   1117\u001B[39m \u001B[33;03m    List[str]\u001B[39;00m\n\u001B[32m   1118\u001B[39m \u001B[33;03m    \"\"\"\u001B[39;00m\n\u001B[32m   1119\u001B[39m     fmt_klass: \u001B[38;5;28mtype\u001B[39m[_GenericArrayFormatter]\n\u001B[32m   1120\u001B[39m     \u001B[38;5;28;01mif\u001B[39;00m lib.is_np_dtype(values.dtype, \u001B[33m\"\u001B[39m\u001B[33mM\u001B[39m\u001B[33m\"\u001B[39m):\n",
      "\u001B[36mFile \u001B[39m\u001B[32m~/miniconda3/envs/TimeSeries/lib/python3.12/site-packages/pandas/io/formats/html.py:88\u001B[39m, in \u001B[36mHTMLFormatter.to_string\u001B[39m\u001B[34m(self)\u001B[39m\n\u001B[32m     87\u001B[39m \u001B[38;5;28;01mdef\u001B[39;00m\u001B[38;5;250m \u001B[39m\u001B[34mto_string\u001B[39m(\u001B[38;5;28mself\u001B[39m) -> \u001B[38;5;28mstr\u001B[39m:\n\u001B[32m---> \u001B[39m\u001B[32m88\u001B[39m     lines = \u001B[38;5;28mself\u001B[39m.render()\n\u001B[32m     89\u001B[39m     \u001B[38;5;28;01mif\u001B[39;00m \u001B[38;5;28many\u001B[39m(\u001B[38;5;28misinstance\u001B[39m(x, \u001B[38;5;28mstr\u001B[39m) \u001B[38;5;28;01mfor\u001B[39;00m x \u001B[38;5;129;01min\u001B[39;00m lines):\n\u001B[32m     90\u001B[39m         lines = [\u001B[38;5;28mstr\u001B[39m(x) \u001B[38;5;28;01mfor\u001B[39;00m x \u001B[38;5;129;01min\u001B[39;00m lines]\n",
      "\u001B[36mFile \u001B[39m\u001B[32m~/miniconda3/envs/TimeSeries/lib/python3.12/site-packages/pandas/io/formats/html.py:644\u001B[39m, in \u001B[36mNotebookFormatter.render\u001B[39m\u001B[34m(self)\u001B[39m\n\u001B[32m    642\u001B[39m \u001B[38;5;28mself\u001B[39m.write(\u001B[33m\"\u001B[39m\u001B[33m<div>\u001B[39m\u001B[33m\"\u001B[39m)\n\u001B[32m    643\u001B[39m \u001B[38;5;28mself\u001B[39m.write_style()\n\u001B[32m--> \u001B[39m\u001B[32m644\u001B[39m \u001B[38;5;28msuper\u001B[39m().render()\n\u001B[32m    645\u001B[39m \u001B[38;5;28mself\u001B[39m.write(\u001B[33m\"\u001B[39m\u001B[33m</div>\u001B[39m\u001B[33m\"\u001B[39m)\n\u001B[32m    646\u001B[39m \u001B[38;5;28;01mreturn\u001B[39;00m \u001B[38;5;28mself\u001B[39m.elements\n",
      "\u001B[36mFile \u001B[39m\u001B[32m~/miniconda3/envs/TimeSeries/lib/python3.12/site-packages/pandas/io/formats/html.py:94\u001B[39m, in \u001B[36mHTMLFormatter.render\u001B[39m\u001B[34m(self)\u001B[39m\n\u001B[32m     93\u001B[39m \u001B[38;5;28;01mdef\u001B[39;00m\u001B[38;5;250m \u001B[39m\u001B[34mrender\u001B[39m(\u001B[38;5;28mself\u001B[39m) -> \u001B[38;5;28mlist\u001B[39m[\u001B[38;5;28mstr\u001B[39m]:\n\u001B[32m---> \u001B[39m\u001B[32m94\u001B[39m     \u001B[38;5;28mself\u001B[39m._write_table()\n\u001B[32m     96\u001B[39m     \u001B[38;5;28;01mif\u001B[39;00m \u001B[38;5;28mself\u001B[39m.should_show_dimensions:\n\u001B[32m     97\u001B[39m         by = \u001B[38;5;28mchr\u001B[39m(\u001B[32m215\u001B[39m)  \u001B[38;5;66;03m# ×  # noqa: RUF003\u001B[39;00m\n",
      "\u001B[36mFile \u001B[39m\u001B[32m~/miniconda3/envs/TimeSeries/lib/python3.12/site-packages/pandas/io/formats/html.py:267\u001B[39m, in \u001B[36mHTMLFormatter._write_table\u001B[39m\u001B[34m(self, indent)\u001B[39m\n\u001B[32m    261\u001B[39m \u001B[38;5;28mself\u001B[39m.write(\n\u001B[32m    262\u001B[39m     \u001B[33mf\u001B[39m\u001B[33m'\u001B[39m\u001B[33m<table\u001B[39m\u001B[38;5;132;01m{\u001B[39;00mborder_attr\u001B[38;5;132;01m}\u001B[39;00m\u001B[33m class=\u001B[39m\u001B[33m\"\u001B[39m\u001B[38;5;132;01m{\u001B[39;00m\u001B[33m\"\u001B[39m\u001B[33m \u001B[39m\u001B[33m\"\u001B[39m.join(_classes)\u001B[38;5;132;01m}\u001B[39;00m\u001B[33m\"\u001B[39m\u001B[38;5;132;01m{\u001B[39;00mid_section\u001B[38;5;132;01m}\u001B[39;00m\u001B[33m>\u001B[39m\u001B[33m'\u001B[39m,\n\u001B[32m    263\u001B[39m     indent,\n\u001B[32m    264\u001B[39m )\n\u001B[32m    266\u001B[39m \u001B[38;5;28;01mif\u001B[39;00m \u001B[38;5;28mself\u001B[39m.fmt.header \u001B[38;5;129;01mor\u001B[39;00m \u001B[38;5;28mself\u001B[39m.show_row_idx_names:\n\u001B[32m--> \u001B[39m\u001B[32m267\u001B[39m     \u001B[38;5;28mself\u001B[39m._write_header(indent + \u001B[38;5;28mself\u001B[39m.indent_delta)\n\u001B[32m    269\u001B[39m \u001B[38;5;28mself\u001B[39m._write_body(indent + \u001B[38;5;28mself\u001B[39m.indent_delta)\n\u001B[32m    271\u001B[39m \u001B[38;5;28mself\u001B[39m.write(\u001B[33m\"\u001B[39m\u001B[33m</table>\u001B[39m\u001B[33m\"\u001B[39m, indent)\n",
      "\u001B[36mFile \u001B[39m\u001B[32m~/miniconda3/envs/TimeSeries/lib/python3.12/site-packages/pandas/io/formats/html.py:403\u001B[39m, in \u001B[36mHTMLFormatter._write_header\u001B[39m\u001B[34m(self, indent)\u001B[39m\n\u001B[32m    400\u001B[39m \u001B[38;5;28mself\u001B[39m.write(\u001B[33m\"\u001B[39m\u001B[33m<thead>\u001B[39m\u001B[33m\"\u001B[39m, indent)\n\u001B[32m    402\u001B[39m \u001B[38;5;28;01mif\u001B[39;00m \u001B[38;5;28mself\u001B[39m.fmt.header:\n\u001B[32m--> \u001B[39m\u001B[32m403\u001B[39m     \u001B[38;5;28mself\u001B[39m._write_col_header(indent + \u001B[38;5;28mself\u001B[39m.indent_delta)\n\u001B[32m    405\u001B[39m \u001B[38;5;28;01mif\u001B[39;00m \u001B[38;5;28mself\u001B[39m.show_row_idx_names:\n\u001B[32m    406\u001B[39m     \u001B[38;5;28mself\u001B[39m._write_row_header(indent + \u001B[38;5;28mself\u001B[39m.indent_delta)\n",
      "\u001B[36mFile \u001B[39m\u001B[32m~/miniconda3/envs/TimeSeries/lib/python3.12/site-packages/pandas/io/formats/html.py:383\u001B[39m, in \u001B[36mHTMLFormatter._write_col_header\u001B[39m\u001B[34m(self, indent)\u001B[39m\n\u001B[32m    381\u001B[39m     \u001B[38;5;28;01melse\u001B[39;00m:\n\u001B[32m    382\u001B[39m         row.append(\u001B[33m\"\u001B[39m\u001B[33m\"\u001B[39m)\n\u001B[32m--> \u001B[39m\u001B[32m383\u001B[39m row.extend(\u001B[38;5;28mself\u001B[39m._get_columns_formatted_values())\n\u001B[32m    384\u001B[39m align = \u001B[38;5;28mself\u001B[39m.fmt.justify\n\u001B[32m    386\u001B[39m \u001B[38;5;28;01mif\u001B[39;00m is_truncated_horizontally:\n",
      "\u001B[36mFile \u001B[39m\u001B[32m~/miniconda3/envs/TimeSeries/lib/python3.12/site-packages/pandas/io/formats/html.py:611\u001B[39m, in \u001B[36mNotebookFormatter._get_columns_formatted_values\u001B[39m\u001B[34m(self)\u001B[39m\n\u001B[32m    609\u001B[39m \u001B[38;5;28;01mdef\u001B[39;00m\u001B[38;5;250m \u001B[39m\u001B[34m_get_columns_formatted_values\u001B[39m(\u001B[38;5;28mself\u001B[39m) -> \u001B[38;5;28mlist\u001B[39m[\u001B[38;5;28mstr\u001B[39m]:\n\u001B[32m    610\u001B[39m     \u001B[38;5;66;03m# only reached with non-Multi Index\u001B[39;00m\n\u001B[32m--> \u001B[39m\u001B[32m611\u001B[39m     \u001B[38;5;28;01mreturn\u001B[39;00m \u001B[38;5;28mself\u001B[39m.columns._format_flat(include_name=\u001B[38;5;28;01mFalse\u001B[39;00m)\n",
      "\u001B[31mAttributeError\u001B[39m: 'Index' object has no attribute '_format_flat'"
     ]
    },
    {
     "data": {
      "text/plain": [
       "   dim_0__0  dim_0__1  dim_0__2  dim_0__3  dim_0__4  dim_0__5  dim_0__6  \\\n",
       "0 -1.963009 -1.957825 -1.956145 -1.938289 -1.896657 -1.869857 -1.838705   \n",
       "1 -1.774571 -1.774036 -1.776586 -1.730749 -1.696268 -1.657377 -1.636227   \n",
       "2 -1.866021 -1.841991 -1.835025 -1.811902 -1.764390 -1.707687 -1.648280   \n",
       "3 -2.073758 -2.073301 -2.044607 -2.038346 -1.959043 -1.874494 -1.805619   \n",
       "4 -1.746255 -1.741263 -1.722741 -1.698640 -1.677223 -1.630356 -1.579440   \n",
       "\n",
       "   dim_0__7  dim_0__8  dim_0__9  ...  dim_0__241  dim_0__242  dim_0__243  \\\n",
       "0 -1.812289 -1.736433 -1.673329  ...   -1.583857   -1.655329   -1.719153   \n",
       "1 -1.609807 -1.543439 -1.486174  ...   -1.471688   -1.484666   -1.539972   \n",
       "2 -1.582643 -1.531502 -1.493609  ...   -1.584132   -1.652337   -1.684565   \n",
       "3 -1.731043 -1.712653 -1.628022  ...   -1.678942   -1.743732   -1.819801   \n",
       "4 -1.551225 -1.473980 -1.459377  ...   -1.547111   -1.607101   -1.635137   \n",
       "\n",
       "   dim_0__244  dim_0__245  dim_0__246  dim_0__247  dim_0__248  dim_0__249  \\\n",
       "0   -1.750881   -1.796273   -1.841345   -1.884289   -1.905393   -1.923905   \n",
       "1   -1.590150   -1.635663   -1.639989   -1.678683   -1.729227   -1.775670   \n",
       "2   -1.743972   -1.799117   -1.829069   -1.875828   -1.862512   -1.863368   \n",
       "3   -1.858136   -1.886146   -1.951247   -2.012927   -2.026963   -2.073405   \n",
       "4   -1.686346   -1.691274   -1.716886   -1.740726   -1.743442   -1.762729   \n",
       "\n",
       "   dim_0__250  \n",
       "0   -1.909153  \n",
       "1   -1.789324  \n",
       "2   -1.846493  \n",
       "3   -2.075292  \n",
       "4   -1.763428  \n",
       "\n",
       "[5 rows x 251 columns]"
      ]
     },
     "execution_count": 42,
     "metadata": {},
     "output_type": "execute_result"
    }
   ],
   "execution_count": 42
  },
  {
   "cell_type": "code",
   "id": "b865bd92-8ba9-46f7-a15d-4745ad8bf5ea",
   "metadata": {
    "ExecuteTime": {
     "end_time": "2025-05-08T11:43:22.353481Z",
     "start_time": "2025-05-08T11:43:19.252974Z"
    }
   },
   "source": [
    "from sktime.transformations.panel.rocket import Rocket\n",
    "rocket = Rocket(num_kernels=1000)\n",
    "rocket.fit(X_train)\n",
    "X_train_transform = rocket.transform(X_train)\n"
   ],
   "outputs": [],
   "execution_count": 43
  },
  {
   "cell_type": "markdown",
   "id": "474f4e40-d2b1-43da-98d9-767d922c6f91",
   "metadata": {},
   "source": [
    "## Shapelets"
   ]
  },
  {
   "cell_type": "code",
   "id": "0d99e98f-17ec-4b01-b8e0-01b062e1dfbb",
   "metadata": {
    "ExecuteTime": {
     "end_time": "2025-05-08T11:52:08.176542Z",
     "start_time": "2025-05-08T11:52:08.169139Z"
    }
   },
   "source": [
    "import numpy as np\n",
    "from sklearn.base import BaseEstimator, TransformerMixin\n",
    "from sklearn.metrics import pairwise_distances\n",
    "import time\n",
    "\n",
    "class SimpleShapeletTransform:\n",
    "    def __init__(self, time_contract_in_mins=1, num_candidates_to_sample_per_case=10, verbose=0):\n",
    "        self.time_contract_in_mins = time_contract_in_mins\n",
    "        self.num_candidates_to_sample_per_case = num_candidates_to_sample_per_case\n",
    "        self.verbose = verbose\n",
    "        self.shapelets_ = None\n",
    "        self.shapelet_lengths_ = None\n",
    "\n",
    "    def _extract_shapelets(self, X, y):\n",
    "        \"\"\"Extrait des shapelets candidates à partir des séries temporelles.\"\"\"\n",
    "        # Gestion des données 2D ou 3D\n",
    "        if len(X.shape) == 2:\n",
    "            n_samples, series_length = X.shape\n",
    "            n_series = 1\n",
    "            # Restructurer X pour avoir la forme (n_samples, n_series, series_length)\n",
    "            X_reshaped = np.array(X).reshape(n_samples, n_series, series_length)\n",
    "\n",
    "        else:\n",
    "            n_samples, n_series, series_length = X.shape\n",
    "            X_reshaped = X\n",
    "\n",
    "        shapelets = []\n",
    "        shapelet_lengths = [int(series_length * 0.1), int(series_length * 0.3), int(series_length * 0.5)]\n",
    "\n",
    "        # Temps maximum alloué pour l'extraction des shapelets\n",
    "        start_time = time.time()\n",
    "        max_time_in_seconds = self.time_contract_in_mins * 60\n",
    "\n",
    "        # Pour chaque série temporelle, extraire des shapelets\n",
    "        for i in range(min(n_samples, self.num_candidates_to_sample_per_case)):\n",
    "            if time.time() - start_time > max_time_in_seconds:\n",
    "                if self.verbose > 0:\n",
    "                    print(\"Temps écoulé, arrêt de l'extraction des shapelets\")\n",
    "                break\n",
    "\n",
    "            # Pour chaque longueur de shapelet possible\n",
    "            for length in shapelet_lengths:\n",
    "                if length < 3 or length >= series_length:\n",
    "                    continue\n",
    "\n",
    "                # Pour chaque position de départ possible dans la série\n",
    "                for start_pos in range(series_length - length + 1):\n",
    "                    if time.time() - start_time > max_time_in_seconds:\n",
    "                        break\n",
    "\n",
    "                    # Extraire la shapelet candidate\n",
    "                    for s in range(n_series):\n",
    "                        shapelet = X_reshaped[i, s, start_pos:start_pos + length]\n",
    "                        shapelet_class = y[i]\n",
    "                        shapelets.append((shapelet, shapelet_class, length, i, start_pos))\n",
    "\n",
    "        self.shapelet_lengths_ = shapelet_lengths\n",
    "        return shapelets\n",
    "\n",
    "    def fit(self, X, y):\n",
    "        \"\"\"Ajuster le transformateur aux données d'entraînement.\"\"\"\n",
    "        if self.verbose > 0:\n",
    "            print(\"Extraction des shapelets...\")\n",
    "\n",
    "        self.shapelets_ = self._extract_shapelets(X, y)\n",
    "\n",
    "        if self.verbose > 0:\n",
    "            print(f\"Nombre de shapelets extraites: {len(self.shapelets_)}\")\n",
    "\n",
    "        return self\n",
    "\n",
    "    def transform(self, X):\n",
    "        \"\"\"Transformer X en utilisant les shapelets extraites.\"\"\"\n",
    "        if self.shapelets_ is None:\n",
    "            raise ValueError(\"SimpleShapeletTransform n'est pas encore ajusté. Appelez fit d'abord.\")\n",
    "\n",
    "        if self.verbose > 0:\n",
    "            print(\"Transformation des données en utilisant les shapelets...\")\n",
    "\n",
    "        # Gestion des données 2D ou 3D\n",
    "        if len(X.shape) == 2:\n",
    "            n_samples, series_length = X.shape\n",
    "            n_series = 1\n",
    "            X_reshaped = np.array(X).reshape(n_samples, n_series, series_length)\n",
    "\n",
    "        else:\n",
    "            n_samples, n_series, series_length = X.shape\n",
    "            X_reshaped = X\n",
    "\n",
    "        # Créer une matrice de caractéristiques, une pour chaque shapelet\n",
    "        X_transformed = np.zeros((n_samples, len(self.shapelets_)))\n",
    "\n",
    "        # Pour chaque série temporelle dans X\n",
    "        for i in range(n_samples):\n",
    "            # Pour chaque shapelet\n",
    "            for j, (shapelet, _, length, _, _) in enumerate(self.shapelets_):\n",
    "                min_dist = float('inf')\n",
    "\n",
    "                # Pour chaque série dans l'échantillon\n",
    "                for s in range(n_series):\n",
    "                    # Pour chaque position possible dans la série\n",
    "                    for start_pos in range(series_length - length + 1):\n",
    "                        # Calculer la distance entre la shapelet et la sous-séquence\n",
    "                        subsequence = X_reshaped[i, s, start_pos:start_pos + length]\n",
    "                        dist = np.sqrt(np.sum((shapelet - subsequence) ** 2))\n",
    "                        min_dist = min(min_dist, dist)\n",
    "\n",
    "                X_transformed[i, j] = min_dist\n",
    "\n",
    "        if self.verbose > 0:\n",
    "            print(\"Transformation terminée.\")\n",
    "\n",
    "        return X_transformed\n",
    "\n",
    "    def fit_transform(self, X, y):\n",
    "        \"\"\"Ajuster le transformateur puis transformer X.\"\"\"\n",
    "        return self.fit(X, y).transform(X)\n",
    "\n",
    "\n",
    "# Utilisation\n",
    "shapelets_transform = SimpleShapeletTransform(\n",
    "    time_contract_in_mins=1,\n",
    "    num_candidates_to_sample_per_case=10,\n",
    "    verbose=0\n",
    ")\n",
    "\n",
    "# Maintenant vous pouvez utiliser:\n",
    "shapelets_transform.fit(X_train, y_train)\n",
    "\n"
   ],
   "outputs": [
    {
     "data": {
      "text/plain": [
       "<__main__.SimpleShapeletTransform at 0x7fe14c081790>"
      ]
     },
     "execution_count": 56,
     "metadata": {},
     "output_type": "execute_result"
    }
   ],
   "execution_count": 56
  },
  {
   "cell_type": "code",
   "id": "a5468a48-7669-49e9-87e3-827f25cc8b2b",
   "metadata": {
    "ExecuteTime": {
     "end_time": "2025-05-08T11:52:08.193444Z",
     "start_time": "2025-05-08T11:52:08.191254Z"
    }
   },
   "source": [
    "X_train_transform = shapelets_transform.transform(X_train)"
   ],
   "outputs": [],
   "execution_count": 57
  },
  {
   "cell_type": "code",
   "id": "6812d1d2-7de2-48ee-91c5-70741ff8a320",
   "metadata": {
    "ExecuteTime": {
     "end_time": "2025-05-08T11:52:08.253596Z",
     "start_time": "2025-05-08T11:52:08.247362Z"
    }
   },
   "source": [
    "X_train_transform"
   ],
   "outputs": [
    {
     "data": {
      "text/plain": [
       "array([], shape=(36, 0), dtype=float64)"
      ]
     },
     "execution_count": 58,
     "metadata": {},
     "output_type": "execute_result"
    }
   ],
   "execution_count": 58
  },
  {
   "cell_type": "code",
   "id": "6d3410b6-a2ab-40fb-a942-b1fcfd423512",
   "metadata": {
    "ExecuteTime": {
     "end_time": "2025-05-08T11:52:08.303897Z",
     "start_time": "2025-05-08T11:52:08.300014Z"
    }
   },
   "source": [],
   "outputs": [],
   "execution_count": null
  }
 ],
 "metadata": {
  "kernelspec": {
   "display_name": "Python 3",
   "language": "python",
   "name": "python3"
  },
  "language_info": {
   "codemirror_mode": {
    "name": "ipython",
    "version": 3
   },
   "file_extension": ".py",
   "mimetype": "text/x-python",
   "name": "python",
   "nbconvert_exporter": "python",
   "pygments_lexer": "ipython3",
   "version": "3.8.8"
  }
 },
 "nbformat": 4,
 "nbformat_minor": 5
}
